{
 "cells": [
  {
   "cell_type": "markdown",
   "metadata": {},
   "source": [
    "# Implementando um algoritmo de otimização genérico\n",
    "\n",
    "O objetivo deste tutorial é ilustrar a criação de estruturas para implementar um algoritmo de otimização, que usa modelos `JuMP` como parte de um algoritmo maior.\n",
    "Vamos continuar o exemplo de otimização estocástica do tutorial anterior.\n",
    "\n",
    "Algumas ideias apresentadas neste notebook são inspiradas do pacote [SDDP.jl](https://github.com/odow/SDDP.jl)."
   ]
  },
  {
   "cell_type": "markdown",
   "metadata": {},
   "source": [
    "Vamos continuar usando os mesmos pacotes do notebook anterior."
   ]
  },
  {
   "cell_type": "code",
   "execution_count": 1,
   "metadata": {},
   "outputs": [],
   "source": [
    "using JuMP\n",
    "import Distributions\n",
    "import HiGHS\n",
    "import Ipopt"
   ]
  },
  {
   "cell_type": "markdown",
   "metadata": {},
   "source": [
    "## Dados\n",
    "Os dados para o problema de venda de tortas são:"
   ]
  },
  {
   "cell_type": "code",
   "execution_count": 2,
   "metadata": {},
   "outputs": [],
   "source": [
    "using Random\n",
    "Random.seed!(5);"
   ]
  },
  {
   "cell_type": "code",
   "execution_count": 3,
   "metadata": {},
   "outputs": [],
   "source": [
    "D = Distributions.TriangularDist(150.0, 250.0, 200.0) # Distribuição da demanda\n",
    "N = 100 # Número de cenários\n",
    "Ω = 1:N # Conjunto de cenários\n",
    "P = fill(1 / N, N); # Probabilidade de cada cenário\n",
    "d = sort!(rand(D, N)); # Demanda em cada cenário"
   ]
  },
  {
   "cell_type": "markdown",
   "metadata": {},
   "source": [
    "## Organização\n",
    "\n",
    "O algoritmo de planos cortantes é genérico: ele pode ser usado para resolver qualquer problema de otimização estocástica em que o segundo estágio é um problema de otimização linear (ou convexo) e onde a decisão de primeiro estágio aparece no segundo por uma restrição do tipo $x_1 = \\bar{x}$.\n",
    "\n",
    "A ideia é, em vez de escrevermos o algoritmo de otimização estocástica para cada problema, escrevermos um algoritmo genérico que possa ser aplicado a qualquer problema de otimização estocástica que se encaixe nesse molde.\n",
    "Desta forma, um usuário (nós mesmos no futuro!) irá\n",
    "1. Escrever o modelo de primeiro estágio\n",
    "2. Escrever o modelo de segundo estágio\n",
    "3. Indicar como o modelo de primeiro estágio aparece no segundo estágio\n",
    "e daí passar estas informações para o algoritmo genérico."
   ]
  },
  {
   "cell_type": "markdown",
   "metadata": {},
   "source": [
    "## Uma primeira versão"
   ]
  },
  {
   "cell_type": "code",
   "execution_count": 4,
   "metadata": {},
   "outputs": [
    {
     "data": {
      "text/plain": [
       "cutting_planes"
      ]
     },
     "metadata": {},
     "output_type": "display_data"
    }
   ],
   "source": [
    "\"\"\"\n",
    "    cutting_planes(first_stage, second_stage, scenarios::Vector, initial_bound;\n",
    "        P=ones(length(scenarios))/length(scenarios), max_iterations=100, tol=1e-4)\n",
    "\n",
    "Solves a two-stage stochastic program using Kelley's cutting planes algorithm.\n",
    "\n",
    "first_stage: a JuMP model for the first stage\n",
    "second_stage: a JuMP model for the second stage\n",
    "scenarios: Vector of realizations for each scenario\n",
    "initial_bound: initial bound on the optimal value\n",
    "\n",
    "Optional arguments:\n",
    "P: probability of each scenario\n",
    "max_iterations: maximum number of cutting planes iterations to perform\n",
    "tol: absolute and relative tolerance for the optimality gap\n",
    "\n",
    "returns: lower and upper bounds on the optimal value, the optimal solution of the first stage\n",
    "\"\"\"\n",
    "function cutting_planes(first_stage, second_stage, scenarios::Vector, initial_bound;\n",
    "    P=ones(length(scenarios))/length(scenarios), max_iterations=100, tol=1e-4)\n",
    "\n",
    "    # Steps 1 and 2: Add extra variable to the first stage, with initial bound, and add it to the objective\n",
    "    @variable(first_stage, θ <= initial_bound)\n",
    "    @objective(first_stage, Max, -first_stage[:cost] + θ)\n",
    "    for k in 1:max_iterations # Steps 3 and 11\n",
    "        # Step 4: Solve the first stage and get new trial point\n",
    "        optimize!(first_stage)\n",
    "        xᵏ = value.(first_stage[:x])\n",
    "        # Step 5: Update upper bound        \n",
    "        ub = objective_value(first_stage)\n",
    "        # Step 6: Solve the second stage for each scenario\n",
    "        ret = [solve_second_stage(second_stage, scenario, xᵏ) for scenario in scenarios]\n",
    "        # Step 7: average\n",
    "        vᵏ = sum(p * r.v for (p, r) in zip(P, ret))\n",
    "        λᵏ = sum(p * r.λ for (p, r) in zip(P, ret))\n",
    "        # Step 8: lower bound\n",
    "        lb = -value(first_stage[:cost]) + vᵏ\n",
    "        # Step 9: convergence check\n",
    "        # println(\"$k, $lb, $ub, $(ub - lb); x = $xᵏ\")\n",
    "        if isapprox(lb, ub; atol = tol, rtol = tol)\n",
    "            return (lb, ub, xᵏ)\n",
    "        end\n",
    "\n",
    "        # Step 10: new cut\n",
    "        c = @constraint(first_stage, first_stage[:θ] <= vᵏ + λᵏ' * (first_stage[:x] .- xᵏ)  )\n",
    "    end\n",
    "end"
   ]
  },
  {
   "cell_type": "code",
   "execution_count": 5,
   "metadata": {},
   "outputs": [
    {
     "data": {
      "text/plain": [
       "solve_second_stage (generic function with 1 method)"
      ]
     },
     "metadata": {},
     "output_type": "display_data"
    }
   ],
   "source": [
    "function solve_second_stage(second_stage, scenario, x̄)\n",
    "    # Set the scenario\n",
    "    fix.(second_stage[:s], scenario)\n",
    "    # Fix the first stage solution\n",
    "    fix.(second_stage[:x_1], x̄)\n",
    "    # Solve the second stage\n",
    "    optimize!(second_stage)\n",
    "    # Get the optimal value of the second stage\n",
    "    v = objective_value(second_stage)\n",
    "    λ = reduced_cost.(second_stage[:x_1])\n",
    "    return (v=v, λ=λ)\n",
    "end"
   ]
  },
  {
   "cell_type": "markdown",
   "metadata": {},
   "source": [
    "O que isso exige dos modelos `first_stage` e `second_stage`?\n",
    "- Ambos já devem possuir um _solver_ associado;\n",
    "- O modelo de primeiro estágio\n",
    "    * deve possuir uma variável de decisão `x`,\n",
    "    * uma expressão `cost` que é o custo apenas do primeiro estágio (ou seja, sem o $V_2(x) = \\theta$)\n",
    "    * e não pode possuir uma variável chamada `theta`.\n",
    "- O modelo de segundo estágio\n",
    "    * deve possuir uma variável de decisão `x_1`,\n",
    "    * e outra variável `s`, que representa os valores possíveis da incerteza a cada cenário."
   ]
  },
  {
   "cell_type": "markdown",
   "metadata": {},
   "source": [
    "## Primeiro teste"
   ]
  },
  {
   "cell_type": "code",
   "execution_count": 6,
   "metadata": {},
   "outputs": [],
   "source": [
    "first_stage = Model(HiGHS.Optimizer)\n",
    "set_silent(first_stage)\n",
    "@variable(first_stage, x >= 0)\n",
    "@expression(first_stage, cost, 2 * x)\n",
    "@objective(first_stage, Max, -cost);"
   ]
  },
  {
   "cell_type": "code",
   "execution_count": 7,
   "metadata": {},
   "outputs": [],
   "source": [
    "second_stage = Model(HiGHS.Optimizer)\n",
    "set_silent(second_stage)\n",
    "@variable(second_stage, x_1)\n",
    "@variable(second_stage, 0 <= y_ω) # Não temos d_ω aqui, pois muda a cada cenário!\n",
    "@variable(second_stage, s) # Variável extra para representar a demanda\n",
    "@constraint(second_stage, y_ω <= x_1)\n",
    "@constraint(second_stage, y_ω <= s)\n",
    "@objective(second_stage, Max, 5 * y_ω - 0.1 * (x_1 - y_ω) );"
   ]
  },
  {
   "cell_type": "code",
   "execution_count": 8,
   "metadata": {},
   "outputs": [
    {
     "data": {
      "text/plain": [
       "(550.6972822537107, 550.7353579603821, 200.0996078873452)"
      ]
     },
     "metadata": {},
     "output_type": "display_data"
    }
   ],
   "source": [
    "cutting_planes(first_stage, second_stage, d, 5*maximum(d); P=P)"
   ]
  },
  {
   "cell_type": "markdown",
   "metadata": {},
   "source": [
    "## Melhorando o primeiro estágio\n",
    "\n",
    "Várias das exigências acima quanto aos modelos podem ser resolvidas, ou, pelo menos, reduzidas.\n",
    "Vamos tratar, inicialmente, os casos mais fáceis:\n",
    "- A expressão `cost` do primeiro estágio pode ser obtida diretamente a partir do modelo;\n",
    "- A variável $\\theta$ do primeiro estágio não precisa ter um nome **dentro do modelo** (o que evita conflito);\n",
    "- O problema poderia ser de minimização."
   ]
  },
  {
   "cell_type": "code",
   "execution_count": 9,
   "metadata": {},
   "outputs": [
    {
     "data": {
      "text/plain": [
       "cutting_planes2 (generic function with 1 method)"
      ]
     },
     "metadata": {},
     "output_type": "display_data"
    }
   ],
   "source": [
    "function cutting_planes2(first_stage, second_stage, scenarios::Vector, initial_bound;\n",
    "    P=ones(length(scenarios))/length(scenarios), max_iterations=100, tol=1e-4,\n",
    "    verbose=false)\n",
    "    # Steps 1 and 2: Add extra variable to the first stage, with initial bound, and add it to the objective\n",
    "    θ₁ = @variable(first_stage)\n",
    "    sense = objective_sense(first_stage)\n",
    "    if sense == JuMP.MAX_SENSE\n",
    "        set_upper_bound(θ₁, initial_bound)\n",
    "    else\n",
    "        set_lower_bound(θ₁, initial_bound)\n",
    "    end\n",
    "    obj₁ = JuMP.objective_function(first_stage)\n",
    "    @objective(first_stage, sense, obj₁ + θ₁)\n",
    "    for k in 1:max_iterations # Steps 3 and 11\n",
    "        # Step 4: Solve the first stage and get new trial point\n",
    "        optimize!(first_stage)\n",
    "        xᵏ = value.(first_stage[:x])\n",
    "        # Step 5: Update outer bound        \n",
    "        outer_bound = objective_value(first_stage)\n",
    "        # Step 6: Solve the second stage for each scenario\n",
    "        ret = [solve_second_stage(second_stage, scenario, xᵏ) for scenario in scenarios]\n",
    "        # Step 7: average\n",
    "        vᵏ = sum(p * r.v for (p, r) in zip(P, ret))\n",
    "        λᵏ = sum(p * r.λ for (p, r) in zip(P, ret))\n",
    "        # Step 8: Inner bound\n",
    "        inner_bound = value(obj₁) + vᵏ\n",
    "        # Step 9: convergence check\n",
    "        verbose && println(\"Iteration $k: $inner_bound, $outer_bound, $(outer_bound - inner_bound); x = $xᵏ\")\n",
    "        if isapprox(inner_bound, outer_bound; atol = tol, rtol = tol)\n",
    "            return (inner_bound, outer_bound, xᵏ)\n",
    "        end\n",
    "\n",
    "        # Step 10: new cut\n",
    "        if sense == JuMP.MAX_SENSE\n",
    "            @constraint(first_stage, θ₁ <= vᵏ + λᵏ' * (first_stage[:x] .- xᵏ) )\n",
    "        else\n",
    "            @constraint(first_stage, θ₁ >= vᵏ + λᵏ' * (first_stage[:x] .- xᵏ) )\n",
    "        end\n",
    "    end\n",
    "end"
   ]
  },
  {
   "cell_type": "code",
   "execution_count": 10,
   "metadata": {},
   "outputs": [],
   "source": [
    "# Temos que criar novamente o modelo do primeiro estágio, pois ele foi alterado pela função `cutting_planes`\n",
    "first_stage = Model(HiGHS.Optimizer)\n",
    "set_silent(first_stage)\n",
    "@variable(first_stage, x >= 0)\n",
    "@objective(first_stage, Max, -2*x);"
   ]
  },
  {
   "cell_type": "code",
   "execution_count": 11,
   "metadata": {},
   "outputs": [
    {
     "data": {
      "text/plain": [
       "(550.6972822537107, 550.7353579603821, 200.0996078873452)"
      ]
     },
     "metadata": {},
     "output_type": "display_data"
    }
   ],
   "source": [
    "cutting_planes2(first_stage, second_stage, d, 5*maximum(d); P=P)"
   ]
  },
  {
   "cell_type": "markdown",
   "metadata": {},
   "source": [
    "## Um exemplo mais complicado: duas variáveis aleatórias\n",
    "\n",
    "Suponha que você tem que fornecer energia elétrica para uma cidade.\n",
    "A demanda é aleatória, e você pode comprar energia de duas fontes diferentes.\n",
    "Uma delas exige que você compre antecipadamente a energia, e a outra permite que você compre energia no momento em que a demanda ocorre.\n",
    "Enquanto o preço da primeira é dado, a segunda cobra um preço _dinâmico_ pela energia.\n",
    "\n",
    "O modelo de otimização é\n",
    "\n",
    "$$ \\begin{array}{rl}\n",
    "\\min_{x_1, x_2} &  c_1 x_1^2 + \\mathbb{E}\\left[ c_2 x_2^2 \\right] \\\\[0.5ex]\n",
    "\\text{s.a.} & x_1 + x_2 \\geq d \\\\\n",
    "& x_1, x_2 \\geq 0\n",
    "\\end{array} $$\n"
   ]
  },
  {
   "cell_type": "code",
   "execution_count": 12,
   "metadata": {},
   "outputs": [
    {
     "data": {
      "text/plain": [
       "100-element Vector{Tuple{Float64, Float64}}:\n",
       " (85.71298746006389, 4.58794857211512)\n",
       " (99.71726233515668, 4.004828288044029)\n",
       " (101.07323576257558, 3.988730049086219)\n",
       " (113.14997170531423, 3.3584943246063337)\n",
       " (113.37175648950021, 3.060332885678811)\n",
       " (104.9461539711795, 3.949391143256375)\n",
       " (82.54644618836011, 4.041514882000625)\n",
       " (95.37816147627852, 4.1766782135897245)\n",
       " (105.64454607127982, 3.889831192700104)\n",
       " (91.1224571533337, 3.969798355683531)\n",
       " ⋮\n",
       " (96.55385266139284, 4.076329100911172)\n",
       " (112.99948459345805, 3.233341371801422)\n",
       " (106.37307626316371, 3.4823030464269498)\n",
       " (89.61453909291626, 3.7610764464187456)\n",
       " (124.02571220218391, 2.99104199670204)\n",
       " (96.48144076083325, 4.321783944011804)\n",
       " (122.63903171375604, 4.301880371708172)\n",
       " (86.55640130775564, 4.928905165504547)\n",
       " (94.4326446308811, 3.290662987500371)"
      ]
     },
     "metadata": {},
     "output_type": "display_data"
    }
   ],
   "source": [
    "# Dados\n",
    "c1 = 3\n",
    "\n",
    "μd = 100\n",
    "σd = 10\n",
    "μc = 4\n",
    "σc = 0.5\n",
    "\n",
    "# Incerteza\n",
    "NScen = 100\n",
    "# Demanda e custos\n",
    "demand = μd .+ σd*randn(NScen)\n",
    "costs  = μc .+ σc*randn(NScen)\n",
    "scenarios = collect(zip(demand, costs))"
   ]
  },
  {
   "cell_type": "markdown",
   "metadata": {},
   "source": [
    "Se tentássemos a mesma abordagem do exemplo anterior, a função objetivo do segundo estágio ficaria com um termo **cúbico**, que não é quadrático, e portanto não é aceito pelo HiGHS (mas ainda poderia funcionar com outro solver)."
   ]
  },
  {
   "cell_type": "code",
   "execution_count": 13,
   "metadata": {},
   "outputs": [],
   "source": [
    "first_stage_energy = Model(Ipopt.Optimizer)\n",
    "set_silent(first_stage_energy)\n",
    "@variable(first_stage_energy, x >= 0)\n",
    "@objective(first_stage_energy, Min, c1*x^2)\n",
    "\n",
    "second_stage_energy = Model(Ipopt.Optimizer)\n",
    "set_silent(second_stage_energy)\n",
    "# Variáveis de decisão\n",
    "@variable(second_stage_energy, x_1)\n",
    "@variable(second_stage_energy, 0 <= x_2)\n",
    "# Variáveis de incerteza: Demanda e custo\n",
    "@variable(second_stage_energy, s[1:2])\n",
    "d, c_2 = s\n",
    "# Restrição e Fobj\n",
    "@constraint(second_stage_energy, x_1 + x_2 >= d)\n",
    "@objective(second_stage_energy, Min, c_2 * x_2^2);"
   ]
  },
  {
   "cell_type": "code",
   "execution_count": 14,
   "metadata": {},
   "outputs": [
    {
     "name": "stdout",
     "output_type": "stream",
     "text": [
      "\n",
      "******************************************************************************\n",
      "This program contains Ipopt, a library for large-scale nonlinear optimization.\n",
      " Ipopt is released as open source code under the Eclipse Public License (EPL).\n",
      "         For more information visit https://github.com/coin-or/Ipopt\n",
      "******************************************************************************\n",
      "\n"
     ]
    },
    {
     "data": {
      "text/plain": [
       "(16924.295061756333, 16923.748180415136, 56.18175192245918)"
      ]
     },
     "metadata": {},
     "output_type": "display_data"
    }
   ],
   "source": [
    "cutting_planes2(first_stage_energy, second_stage_energy, scenarios, 0)"
   ]
  },
  {
   "cell_type": "markdown",
   "metadata": {},
   "source": [
    "## Generalizando os cenários\n",
    "\n",
    "Para resolver o problema acima, vamos generalizar o tratamento dos cenários no algoritmo:\n",
    "- O usuário irá definir uma função que modifica o problema para adaptar aos dados do cenário;\n",
    "- O algoritmo irá chamar esta função, que estará registrada em um local específico."
   ]
  },
  {
   "cell_type": "code",
   "execution_count": 15,
   "metadata": {},
   "outputs": [],
   "source": [
    "second_stage_energy = Model(HiGHS.Optimizer)\n",
    "set_silent(second_stage_energy)\n",
    "# Variáveis de decisão\n",
    "@variable(second_stage_energy, x_1)\n",
    "@variable(second_stage_energy, 0 <= x_2)\n",
    "# Restrição \"incompleta\"\n",
    "@constraint(second_stage_energy, demand_eq, x_1 + x_2 >= 0)\n",
    "\n",
    "function set_demand_and_cost(scenario)\n",
    "    set_normalized_rhs(demand_eq, scenario.d)\n",
    "    @objective(second_stage_energy, Min, scenario.cost * x_2^2)\n",
    "end\n",
    "\n",
    "second_stage_energy.ext[:set_scenario] = set_demand_and_cost\n",
    "scenarios3 = [(d=d, cost=cost) for (d, cost) in zip(demand, costs)];"
   ]
  },
  {
   "cell_type": "code",
   "execution_count": 16,
   "metadata": {},
   "outputs": [
    {
     "name": "stdout",
     "output_type": "stream",
     "text": [
      "Feasibility\n",
      "Subject to\n",
      " demand_eq : x_1 + x_2 >= 0\n",
      " x_2 >= 0\n"
     ]
    }
   ],
   "source": [
    "print(second_stage_energy)"
   ]
  },
  {
   "cell_type": "code",
   "execution_count": 17,
   "metadata": {},
   "outputs": [
    {
     "name": "stdout",
     "output_type": "stream",
     "text": [
      "Min 3.521331708535423 x_2²\n",
      "Subject to\n",
      " demand_eq : x_1 + x_2 >= 114.6618630138033\n",
      " x_2 >= 0\n"
     ]
    }
   ],
   "source": [
    "set_demand_and_cost(scenarios3[32])\n",
    "print(second_stage_energy)"
   ]
  },
  {
   "cell_type": "markdown",
   "metadata": {},
   "source": [
    "Isto exige modificar a função que resolve cada cenário do problema de segundo estágio."
   ]
  },
  {
   "cell_type": "code",
   "execution_count": 18,
   "metadata": {},
   "outputs": [
    {
     "data": {
      "text/plain": [
       "solve_second_stage (generic function with 1 method)"
      ]
     },
     "metadata": {},
     "output_type": "display_data"
    }
   ],
   "source": [
    "function solve_second_stage(second_stage, scenario, x̄)\n",
    "    # Set the scenario\n",
    "    second_stage.ext[:set_scenario](scenario)\n",
    "    # Fix the first stage solution\n",
    "    fix.(second_stage[:x_1], x̄)\n",
    "    # Solve the second stage\n",
    "    optimize!(second_stage)\n",
    "    # Get the optimal value of the second stage\n",
    "    v = objective_value(second_stage)\n",
    "    λ = reduced_cost.(second_stage[:x_1])\n",
    "    return (v=v, λ=λ)\n",
    "end"
   ]
  },
  {
   "cell_type": "code",
   "execution_count": 19,
   "metadata": {},
   "outputs": [],
   "source": [
    "first_stage_energy = Model(Ipopt.Optimizer)\n",
    "set_silent(first_stage_energy)\n",
    "@variable(first_stage_energy, x >= 0)\n",
    "@objective(first_stage_energy, Min, c1*x^2);"
   ]
  },
  {
   "cell_type": "code",
   "execution_count": 20,
   "metadata": {},
   "outputs": [
    {
     "name": "stdout",
     "output_type": "stream",
     "text": [
      "Iteration 1: 38726.27889451072, -5.59402998579499e-9, -38726.27889451631; x = 3.414127074921731e-5\n",
      "Iteration 2: 17196.866851621737, 7412.833724658, -9784.033126963735; x = 49.708596589402724\n",
      "Iteration 3: 17399.369470646918, 16563.81091999618, -835.5585506507377; x = 64.23507622288952\n",
      "Iteration 4: 16930.964592968434, 16722.074869463017, -208.88972350541735; x = 56.971836599864666\n",
      "Iteration 5: 16936.144816245192, 16914.770291150984, -21.374525094208366; x = 54.64846248618314\n",
      "Iteration 6: 16924.162548402855, 16918.81884275528, -5.343705647574097; x = 55.81014970756685\n",
      "Iteration 7: 16924.29506279614, 16923.74818552548, -0.5468772706590244; x = 56.18175114118037\n"
     ]
    },
    {
     "data": {
      "text/plain": [
       "(16924.29506279614, 16923.74818552548, 56.18175114118037)"
      ]
     },
     "metadata": {},
     "output_type": "display_data"
    }
   ],
   "source": [
    "cutting_planes2(first_stage_energy, second_stage_energy, scenarios3, 0; verbose=true)"
   ]
  },
  {
   "cell_type": "code",
   "execution_count": 21,
   "metadata": {},
   "outputs": [
    {
     "name": "stdout",
     "output_type": "stream",
     "text": [
      "Min 3 x² + _[2]\n",
      "Subject to\n",
      " 779.0665609155031 x + _[2] >= 38726.305492829604\n",
      " 385.41045733745693 x + _[2] >= 28942.246072082653\n",
      " 270.3710955618862 x + _[2] >= 22388.242350449542\n",
      " 327.8907749155587 x + _[2] >= 25874.13374737561\n",
      " 346.2902414034795 x + _[2] >= 26901.01072660325\n",
      " 337.0905068564564 x + _[2] >= 26392.915769918203\n",
      " x >= 0\n",
      " _[2] >= 0\n"
     ]
    }
   ],
   "source": [
    "print(first_stage_energy)"
   ]
  },
  {
   "cell_type": "markdown",
   "metadata": {},
   "source": [
    "## Generalizando as decisões de primeiro estágio\n",
    "\n",
    "Até agora, a decisão de primeiro estágio era unidimensional.\n",
    "Se fosse um vetor, com nome `x`, o algoritmo que programamos também funcionaria, graças ao _broadcasting_.\n",
    "Porém, se houver várias variáveis de decisão, ou simplesmente se o vetor de decisão tiver um nome diferente, o algoritmo não funcionará.\n",
    "Para isso, o ideal seria também aproveitar o mecanismo do dicionário de extensão para que o usuário indique quais variáveis de decisão do primeiro estágio devem ser usadas no segundo estágio.\n",
    "\n",
    "Aqui, mais uma vez, estamos generalizando o algoritmo para que ele possa ser usado em uma classe maior de problemas, mas a contrapartida é que o usuário (do algoritmo) será responsável por garantir a compatibilidade.\n",
    "Ou seja, a ordem em que ele irá declarar as variáveis de decisão no dicionário de extensão do primeiro estágio deve ser a mesma em que elas aparecem no `.ext` do segundo estágio."
   ]
  },
  {
   "cell_type": "code",
   "execution_count": 22,
   "metadata": {},
   "outputs": [
    {
     "data": {
      "text/plain": [
       "solve_second_stage (generic function with 1 method)"
      ]
     },
     "metadata": {},
     "output_type": "display_data"
    }
   ],
   "source": [
    "function solve_second_stage(second_stage, scenario, x̄)\n",
    "    # Set the scenario\n",
    "    second_stage.ext[:set_scenario](scenario)\n",
    "    # Fix the first stage solution\n",
    "    fix.(second_stage.ext[:x_1], x̄)\n",
    "    # Solve the second stage\n",
    "    optimize!(second_stage)\n",
    "    # Get the optimal value of the second stage\n",
    "    v = objective_value(second_stage)\n",
    "    λ = reduced_cost.(second_stage.ext[:x_1])\n",
    "    return (v=v, λ=λ)\n",
    "end"
   ]
  },
  {
   "cell_type": "code",
   "execution_count": 23,
   "metadata": {},
   "outputs": [
    {
     "data": {
      "text/plain": [
       "cutting_planes3 (generic function with 1 method)"
      ]
     },
     "metadata": {},
     "output_type": "display_data"
    }
   ],
   "source": [
    "function cutting_planes3(first_stage, second_stage, scenarios::Vector, initial_bound;\n",
    "    P=ones(length(scenarios))/length(scenarios), max_iterations=100, tol=1e-4,\n",
    "    verbose=false, full_output=false)\n",
    "    # Steps 1 and 2: Add extra variable to the first stage, with initial bound, and add it to the objective\n",
    "    θ₁ = @variable(first_stage)\n",
    "    sense = objective_sense(first_stage)\n",
    "    if sense == JuMP.MAX_SENSE\n",
    "        set_upper_bound(θ₁, initial_bound)\n",
    "    else\n",
    "        set_lower_bound(θ₁, initial_bound)\n",
    "    end\n",
    "    obj₁ = JuMP.objective_function(first_stage)\n",
    "    @objective(first_stage, sense, obj₁ + θ₁)\n",
    "\n",
    "    if full_output\n",
    "        info = []\n",
    "        cuts = []\n",
    "    end\n",
    "    for k in 1:max_iterations # Steps 3 and 11\n",
    "        # Step 4: Solve the first stage and get new trial point\n",
    "        optimize!(first_stage)\n",
    "        xᵏ = value.(first_stage.ext[:x])\n",
    "        # Step 5: Update outer bound        \n",
    "        outer_bound = objective_value(first_stage)\n",
    "        # Step 6: Solve the second stage for each scenario\n",
    "        ret = [solve_second_stage(second_stage, scenario, xᵏ) for scenario in scenarios]\n",
    "        # Step 7: average\n",
    "        vᵏ = sum(p * r.v for (p, r) in zip(P, ret))\n",
    "        λᵏ = sum(p * r.λ for (p, r) in zip(P, ret))\n",
    "        # Step 8: Inner bound\n",
    "        inner_bound = value(obj₁) + vᵏ\n",
    "        # Step 9: convergence check\n",
    "        verbose && println(\"$k, $inner_bound, $outer_bound, $(outer_bound - inner_bound); x = $xᵏ\")\n",
    "        push!(info, (inner_bound=inner_bound, outer_bound=outer_bound, x=xᵏ))\n",
    "        if isapprox(inner_bound, outer_bound; atol = tol, rtol = tol)\n",
    "            if full_output\n",
    "                return (inner_bound, outer_bound, xᵏ, info, cuts)\n",
    "            else\n",
    "                return (inner_bound, outer_bound, xᵏ)\n",
    "            end\n",
    "        end\n",
    "\n",
    "        # Step 10: new cut\n",
    "        if sense == JuMP.MAX_SENSE\n",
    "            c = @constraint(first_stage, θ₁ <= vᵏ + λᵏ * (first_stage.ext[:x] .- xᵏ)  )\n",
    "        else\n",
    "            c = @constraint(first_stage, θ₁ >= vᵏ + λᵏ * (first_stage.ext[:x] .- xᵏ)  )\n",
    "        end\n",
    "        push!(cuts, (v=vᵏ, λ=λᵏ, x=xᵏ))\n",
    "    end\n",
    "end"
   ]
  },
  {
   "cell_type": "markdown",
   "metadata": {},
   "source": [
    "## Exercício:\n",
    "\n",
    "Adapte os modelos de tortas / energia para esta função de planos cortantes, e faça o gráfico de convergência do algoritmo."
   ]
  }
 ],
 "metadata": {
  "kernelspec": {
   "display_name": "Julia 1.10.5",
   "language": "julia",
   "name": "julia-1.10"
  },
  "language_info": {
   "file_extension": ".jl",
   "mimetype": "application/julia",
   "name": "julia",
   "version": "1.10.5"
  }
 },
 "nbformat": 4,
 "nbformat_minor": 3
}
