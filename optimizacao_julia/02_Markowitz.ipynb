{
 "cells": [
  {
   "cell_type": "markdown",
   "metadata": {},
   "source": [
    "# O Problema de Portfólio de Markowitz\n",
    "\n",
    "O objetivo deste tutorial é dar alguns detalhes a mais sobre a representação dos problemas de otimização em JuMP, e introduzir variáveis duais."
   ]
  },
  {
   "cell_type": "markdown",
   "metadata": {},
   "source": [
    "## Pacotes necessários\n",
    "\n",
    "Este tutorial requer os seguintes pacotes:"
   ]
  },
  {
   "cell_type": "code",
   "execution_count": 1,
   "metadata": {},
   "outputs": [],
   "source": [
    "using JuMP\n",
    "import Ipopt"
   ]
  },
  {
   "cell_type": "markdown",
   "metadata": {},
   "source": [
    "## Formulação"
   ]
  },
  {
   "cell_type": "markdown",
   "metadata": {},
   "source": [
    "O [problema de portfólio de Markowitz](https://en.wikipedia.org/wiki/Markowitz_model)\n",
    "é outro problema clássico de otimização: dado um conjunto de ativos financeiros,\n",
    "com retorno médio $\\mu_i$ e matriz de covariância $\\Sigma_{i,j}$, queremos determinar\n",
    "as proporções $w_i$ a serem investidas em cada ativo, maximizando o retorno\n",
    "e minimizando a variância do portfólio."
   ]
  },
  {
   "cell_type": "markdown",
   "metadata": {},
   "source": [
    "Este problema possui 3 (!) formulações distintas.\n",
    "\n",
    "1. Podemos minimizar a variância do portfólio, sujeito a um retorno mínimo:\n",
    "$$\n",
    "\\begin{aligned}\n",
    "\\min \\; & w^\\top \\Sigma w \\\\\n",
    "\\text{s.t.} \\; & \\sum_{i=1}^n w_i = 1, \\\\\n",
    "        & \\mu^\\top w \\geq R\n",
    "\\end{aligned}\n",
    "$$\n",
    "\n",
    "2. Podemos maximizar o retorno, contanto que o portfólio tenha variância limitada:\n",
    "$$\n",
    "\\begin{aligned}\n",
    "\\max \\; & \\mu^\\top w \\\\\n",
    "\\text{s.t.} \\; & \\sum_{i=1}^n w_i = 1, \\\\\n",
    "        & w^\\top \\Sigma w \\leq \\sigma^2\n",
    "\\end{aligned}\n",
    "$$\n",
    "\n",
    "3. Podemos maximizar o retorno, **penalizando** a variância do portfólio:\n",
    "$$\n",
    "\\begin{aligned}\n",
    "\\max \\; & \\mu^\\top w - \\lambda w^\\top \\Sigma w\\\\\n",
    "\\text{s.t.} \\; & \\sum_{i=1}^n w_i = 1,\n",
    "\\end{aligned}\n",
    "$$"
   ]
  },
  {
   "cell_type": "markdown",
   "metadata": {},
   "source": [
    "## Dados\n",
    "\n",
    "Precisamos, apenas, do vetor de retornos médios $\\mu$ e da matriz de covariância $\\Sigma$.\n",
    "Vamos usar dados sintéticos para ilustrar o problema, mas na prática eles são estimados\n",
    "a partir de dados históricos."
   ]
  },
  {
   "cell_type": "code",
   "execution_count": 2,
   "metadata": {},
   "outputs": [],
   "source": [
    "μ = [0.05, 0.12, 0.09, 0.05, 0.15];\n",
    "Σ = [\n",
    "    0.01     0.004    0.006     0.002    0.0065\n",
    "    0.004    0.04    -0.006     0.0064   0.0156\n",
    "    0.006   -0.006    0.0225   -0.0012   0.00585\n",
    "    0.002    0.0064  -0.0012    0.0064   0.00312\n",
    "    0.0065   0.0156   0.00585   0.00312  0.0169\n",
    "];"
   ]
  },
  {
   "cell_type": "code",
   "execution_count": 3,
   "metadata": {},
   "outputs": [],
   "source": [
    "# Número de ativos\n",
    "n = length(μ);"
   ]
  },
  {
   "cell_type": "markdown",
   "metadata": {},
   "source": [
    "## Formulação JuMP"
   ]
  },
  {
   "cell_type": "code",
   "execution_count": 4,
   "metadata": {},
   "outputs": [
    {
     "data": {
      "text/plain": [
       "A JuMP Model\n",
       "├ solver: Ipopt\n",
       "├ objective_sense: MIN_SENSE\n",
       "│ └ objective_function_type: QuadExpr\n",
       "├ num_variables: 5\n",
       "├ num_constraints: 7\n",
       "│ ├ AffExpr in MOI.EqualTo{Float64}: 1\n",
       "│ ├ AffExpr in MOI.GreaterThan{Float64}: 1\n",
       "│ └ VariableRef in MOI.GreaterThan{Float64}: 5\n",
       "└ Names registered in the model\n",
       "  └ :w"
      ]
     },
     "execution_count": 4,
     "metadata": {},
     "output_type": "execute_result"
    }
   ],
   "source": [
    "m = Model(Ipopt.Optimizer);\n",
    "@variable(m, w[1:n] >= 0);\n",
    "@constraint(m, sum(w) == 1);\n",
    "@constraint(m, sum(w.*μ) >= 0.1);\n",
    "@objective(m, Min, w'*Σ*w);\n",
    "m"
   ]
  },
  {
   "cell_type": "code",
   "execution_count": 5,
   "metadata": {},
   "outputs": [
    {
     "name": "stdout",
     "output_type": "stream",
     "text": [
      "\n",
      "******************************************************************************\n",
      "This program contains Ipopt, a library for large-scale nonlinear optimization.\n",
      " Ipopt is released as open source code under the Eclipse Public License (EPL).\n",
      "         For more information visit https://github.com/coin-or/Ipopt\n",
      "******************************************************************************\n",
      "\n"
     ]
    }
   ],
   "source": [
    "set_silent(m)\n",
    "optimize!(m)"
   ]
  },
  {
   "cell_type": "code",
   "execution_count": 6,
   "metadata": {},
   "outputs": [
    {
     "data": {
      "text/plain": [
       "* Solver : Ipopt\n",
       "\n",
       "* Status\n",
       "  Result count       : 1\n",
       "  Termination status : LOCALLY_SOLVED\n",
       "  Message from the solver:\n",
       "  \"Solve_Succeeded\"\n",
       "\n",
       "* Candidate solution (result #1)\n",
       "  Primal status      : FEASIBLE_POINT\n",
       "  Dual status        : FEASIBLE_POINT\n",
       "  Objective value    : 6.58680e-03\n",
       "  Dual objective value : 1.31736e-02\n",
       "\n",
       "* Work counters\n",
       "  Solve time (sec)   : 1.39999e-02\n",
       "  Barrier iterations : 11\n"
      ]
     },
     "execution_count": 6,
     "metadata": {},
     "output_type": "execute_result"
    }
   ],
   "source": [
    "solution_summary(m)"
   ]
  },
  {
   "cell_type": "markdown",
   "metadata": {},
   "source": [
    "Note que\n",
    "* não investimos nada no segundo ativo, apesar de ele ter um retorno médio maior do que $0.1$;\n",
    "* investimos no terceiro e quartos ativos, apesar deles terem retornos médios menores do que $0.1$."
   ]
  },
  {
   "cell_type": "code",
   "execution_count": 7,
   "metadata": {},
   "outputs": [
    {
     "data": {
      "text/plain": [
       "5×2 Matrix{Float64}:\n",
       " 1.26334e-6  0.05\n",
       " 3.34419e-6  0.12\n",
       " 0.176011    0.09\n",
       " 0.394391    0.05\n",
       " 0.429593    0.15"
      ]
     },
     "execution_count": 7,
     "metadata": {},
     "output_type": "execute_result"
    }
   ],
   "source": [
    "[value.(w) μ]"
   ]
  },
  {
   "cell_type": "markdown",
   "metadata": {},
   "source": [
    "A variância do portfólio é, também, relativamente baixa, se comparada às variâncias de cada ativo (que estão na diagonal de $\\Sigma$):"
   ]
  },
  {
   "cell_type": "code",
   "execution_count": 8,
   "metadata": {},
   "outputs": [
    {
     "name": "stdout",
     "output_type": "stream",
     "text": [
      "[0.01, 0.04, 0.0225, 0.0064, 0.0169]"
     ]
    },
    {
     "data": {
      "text/plain": [
       "0.006586801781185453"
      ]
     },
     "execution_count": 8,
     "metadata": {},
     "output_type": "execute_result"
    }
   ],
   "source": [
    "print([Σ[i,i] for i in 1:n])\n",
    "objective_value(m)"
   ]
  },
  {
   "cell_type": "markdown",
   "metadata": {},
   "source": [
    "## Exercícios\n",
    "\n",
    "- Altere a constante de normalização para 100, em vez de 1.\n",
    "  * O que acontece com os valores da solução?\n",
    "  * E com os valores das variáveis duais?\n",
    "  * Como interpretar os números obtidos?\n",
    "- Se você tiver R\\$ 1500,00 para investir, você pode tanto calcular as proporções $w_i$,\n",
    "  quanto calcular os valores absolutos $x_i$ a serem investidos em cada ativo.\n",
    "  Qual a relação entre $w_i$ e $x_i$?"
   ]
  },
  {
   "cell_type": "markdown",
   "metadata": {},
   "source": [
    "## Terminologia\n",
    "\n",
    "Até agora, temos duas noções diferentes de \"variável\" quando fazemos otimização:\n",
    "- A primeira, é a **variável de decisão** do problema, que é o que estamos tentando encontrar.\n",
    "  No caso do problema de portfólio, são as proporções $w_i$ a serem investidas em cada ativo.\n",
    "  Estas variáveis existem \"na matemática\".\n",
    "- A segunda, é a variável `w` que criamos no código.\n",
    "  Ela é uma representação computacional da variável de decisão, e é usada para comunicar\n",
    "  com o _solver_.\n",
    "  Por isto, ao resolver o problema, o JuMP modifica **estruturas internas** de forma que,\n",
    "  ao chamar a função `value()` em uma variável, ela retorna o valor encontrado pelo solver."
   ]
  },
  {
   "cell_type": "markdown",
   "metadata": {},
   "source": [
    "## Análise de sensibilidade\n",
    "\n",
    "Uma questão importante, para a prática, é a **análise de sensibilidade**, que estuda como a solução muda quando mudamos os dados do problema, como por exemplo o vetor de retornos médios $\\mu$, a matriz de covariância $\\Sigma$ ou o valor do retorno mínimo esperado."
   ]
  },
  {
   "cell_type": "code",
   "execution_count": 9,
   "metadata": {},
   "outputs": [
    {
     "data": {
      "text/plain": [
       "0.006586801781185453"
      ]
     },
     "execution_count": 9,
     "metadata": {},
     "output_type": "execute_result"
    }
   ],
   "source": [
    "risco = objective_value(m)"
   ]
  },
  {
   "cell_type": "markdown",
   "metadata": {},
   "source": [
    "Vejamos o que acontece se modificamos o lado direito da restrição de retorno esperado para 0.11:"
   ]
  },
  {
   "cell_type": "code",
   "execution_count": 10,
   "metadata": {},
   "outputs": [
    {
     "name": "stdout",
     "output_type": "stream",
     "text": [
      "This is Ipopt version 3.14.17, running with linear solver MUMPS 5.7.3.\n",
      "\n",
      "Number of nonzeros in equality constraint Jacobian...:        5\n",
      "Number of nonzeros in inequality constraint Jacobian.:        5\n",
      "Number of nonzeros in Lagrangian Hessian.............:       15\n",
      "\n",
      "Total number of variables............................:        5\n",
      "                     variables with only lower bounds:        5\n",
      "                variables with lower and upper bounds:        0\n",
      "                     variables with only upper bounds:        0\n",
      "Total number of equality constraints.................:        1\n",
      "Total number of inequality constraints...............:        1\n",
      "        inequality constraints with only lower bounds:        1\n",
      "   inequality constraints with lower and upper bounds:        0\n",
      "        inequality constraints with only upper bounds:        0\n",
      "\n",
      "iter    objective    inf_pr   inf_du lg(mu)  ||d||  lg(rg) alpha_du alpha_pr  ls\n",
      "   0  1.8033964e-05 9.50e-01 5.73e-02  -1.0 0.00e+00    -  0.00e+00 0.00e+00   0\n",
      "   1  1.1048358e-03 6.10e-01 5.59e+00  -1.7 1.93e-01    -  5.42e-02 3.58e-01f  1\n",
      "   2  1.2434113e-02 0.00e+00 2.00e-07  -1.7 4.89e-01    -  1.00e+00 1.00e+00f  1\n",
      "   3  1.2019079e-02 1.11e-16 2.83e-08  -2.5 1.38e-02    -  1.00e+00 1.00e+00f  1\n",
      "   4  1.0311824e-02 0.00e+00 4.18e-02  -3.8 5.96e-02    -  7.20e-01 1.00e+00f  1\n",
      "   5  8.3469851e-03 0.00e+00 1.50e-09  -3.8 1.43e-01    -  1.00e+00 1.00e+00f  1\n",
      "   6  8.0643828e-03 0.00e+00 2.34e-03  -5.7 4.13e-02    -  8.75e-01 1.00e+00f  1\n",
      "   7  7.9599144e-03 0.00e+00 1.84e-11  -5.7 2.62e-02    -  1.00e+00 1.00e+00f  1\n",
      "   8  7.9365861e-03 0.00e+00 1.84e-11  -5.7 1.22e-02    -  1.00e+00 1.00e+00f  1\n",
      "   9  7.9268143e-03 0.00e+00 3.25e-06  -8.6 4.46e-03    -  9.91e-01 1.00e+00f  1\n",
      "iter    objective    inf_pr   inf_du lg(mu)  ||d||  lg(rg) alpha_du alpha_pr  ls\n",
      "  10  7.9260619e-03 0.00e+00 2.51e-14  -8.6 5.77e-04    -  1.00e+00 1.00e+00f  1\n",
      "  11  7.9260438e-03 0.00e+00 9.10e-15  -9.0 1.18e-05    -  1.00e+00 1.00e+00f  1\n",
      "\n",
      "Number of Iterations....: 11\n",
      "\n",
      "                                   (scaled)                 (unscaled)\n",
      "Objective...............:   7.9260438123844069e-03    7.9260438123844069e-03\n",
      "Dual infeasibility......:   9.0951551845463996e-15    9.0951551845463996e-15\n",
      "Constraint violation....:   0.0000000000000000e+00    0.0000000000000000e+00\n",
      "Variable bound violation:   0.0000000000000000e+00    0.0000000000000000e+00\n",
      "Complementarity.........:   9.1431464224167157e-10    9.1431464224167157e-10\n",
      "Overall NLP error.......:   9.1431464224167157e-10    9.1431464224167157e-10\n",
      "\n",
      "\n",
      "Number of objective function evaluations             = 12\n",
      "Number of objective gradient evaluations             = 12\n",
      "Number of equality constraint evaluations            = 12\n",
      "Number of inequality constraint evaluations          = 12\n",
      "Number of equality constraint Jacobian evaluations   = 1\n",
      "Number of inequality constraint Jacobian evaluations = 1\n",
      "Number of Lagrangian Hessian evaluations             = 1\n",
      "Total seconds in IPOPT                               = 0.005\n",
      "\n",
      "EXIT: Optimal Solution Found.\n"
     ]
    },
    {
     "data": {
      "text/plain": [
       "0.007926043812384407"
      ]
     },
     "execution_count": 10,
     "metadata": {},
     "output_type": "execute_result"
    }
   ],
   "source": [
    "m2 = Model(Ipopt.Optimizer);\n",
    "@variable(m2, w[1:n] >= 0);\n",
    "@constraint(m2, sum(w) == 1);\n",
    "@constraint(m2, sum(w.*μ) >= 0.11);\n",
    "@objective(m2, Min, w'*Σ*w);\n",
    "optimize!(m2)\n",
    "novo_risco = objective_value(m2)"
   ]
  },
  {
   "cell_type": "markdown",
   "metadata": {},
   "source": [
    "Vejamos o quanto o risco aumentou (ao exigir mais retorno):"
   ]
  },
  {
   "cell_type": "code",
   "execution_count": 11,
   "metadata": {},
   "outputs": [
    {
     "data": {
      "text/plain": [
       "0.001339242031198954"
      ]
     },
     "execution_count": 11,
     "metadata": {},
     "output_type": "execute_result"
    }
   ],
   "source": [
    "novo_risco - risco"
   ]
  },
  {
   "cell_type": "markdown",
   "metadata": {},
   "source": [
    "## Alterando um problema de otimização\n",
    "\n",
    "Em geral, não é uma boa ideia construir um problema inteiro do zero para mudar um parâmetro.\n",
    "O `JuMP` permite que você altere um problema existente, e resolva-o novamente, sem precisar recriar toda a estrutura.\n",
    "Para isso, entretanto, é necessário ter referências não apenas às variáveis do problema, mas também às _restrições_.\n",
    "\n",
    "Vamos começar de novo:"
   ]
  },
  {
   "cell_type": "code",
   "execution_count": 12,
   "metadata": {},
   "outputs": [],
   "source": [
    "m = Model(Ipopt.Optimizer);\n",
    "@variable(m, w[1:n] >= 0);\n",
    "@constraint(m, normalização, sum(w) == 1);\n",
    "@constraint(m, min_ret, sum(w.*μ) >= 0.1);\n",
    "@objective(m, Min, w'*Σ*w);"
   ]
  },
  {
   "cell_type": "markdown",
   "metadata": {},
   "source": [
    "Observe que demos \"nomes\" para as restrições.\n",
    "Agora, a macro `@constraint` também cria uma variável (do tipo `ConstraintRef`),\n",
    "com o nome indicado, e que podemos usar para acessar a restrição."
   ]
  },
  {
   "cell_type": "code",
   "execution_count": 13,
   "metadata": {},
   "outputs": [
    {
     "name": "stdout",
     "output_type": "stream",
     "text": [
      "ConstraintRef{Model, MathOptInterface.ConstraintIndex{MathOptInterface.ScalarAffineFunction{Float64}, MathOptInterface.GreaterThan{Float64}}, ScalarShape}"
     ]
    },
    {
     "data": {
      "text/latex": [
       "$$ 0.05 w_{1} + 0.12 w_{2} + 0.09 w_{3} + 0.05 w_{4} + 0.15 w_{5} \\geq 0.1 $$"
      ],
      "text/plain": [
       "min_ret : 0.05 w[1] + 0.12 w[2] + 0.09 w[3] + 0.05 w[4] + 0.15 w[5] >= 0.1"
      ]
     },
     "execution_count": 13,
     "metadata": {},
     "output_type": "execute_result"
    }
   ],
   "source": [
    "print(typeof(min_ret))\n",
    "min_ret"
   ]
  },
  {
   "cell_type": "markdown",
   "metadata": {},
   "source": [
    "Note, também, que temos novos \"nomes\" registrados no modelo:"
   ]
  },
  {
   "cell_type": "code",
   "execution_count": 14,
   "metadata": {},
   "outputs": [
    {
     "data": {
      "text/plain": [
       "A JuMP Model\n",
       "├ solver: Ipopt\n",
       "├ objective_sense: MIN_SENSE\n",
       "│ └ objective_function_type: QuadExpr\n",
       "├ num_variables: 5\n",
       "├ num_constraints: 7\n",
       "│ ├ AffExpr in MOI.EqualTo{Float64}: 1\n",
       "│ ├ AffExpr in MOI.GreaterThan{Float64}: 1\n",
       "│ └ VariableRef in MOI.GreaterThan{Float64}: 5\n",
       "└ Names registered in the model\n",
       "  └ :min_ret, :normalização, :w"
      ]
     },
     "execution_count": 14,
     "metadata": {},
     "output_type": "execute_result"
    }
   ],
   "source": [
    "m"
   ]
  },
  {
   "cell_type": "code",
   "execution_count": 15,
   "metadata": {},
   "outputs": [
    {
     "data": {
      "text/plain": [
       "0.006586801781185453"
      ]
     },
     "execution_count": 15,
     "metadata": {},
     "output_type": "execute_result"
    }
   ],
   "source": [
    "set_silent(m)\n",
    "optimize!(m)\n",
    "objective_value(m)"
   ]
  },
  {
   "cell_type": "markdown",
   "metadata": {},
   "source": [
    "Agora, podemos modificar, diretamente, uma restrição do problema:"
   ]
  },
  {
   "cell_type": "code",
   "execution_count": 16,
   "metadata": {},
   "outputs": [
    {
     "data": {
      "text/latex": [
       "$$ \\begin{aligned}\n",
       "\\min\\quad & 0.01 w_{1}^2 + 0.008 w_{2}\\times w_{1} + 0.012 w_{3}\\times w_{1} + 0.004 w_{4}\\times w_{1} + 0.013 w_{5}\\times w_{1} + 0.04 w_{2}^2 - 0.012 w_{3}\\times w_{2} + 0.0128 w_{4}\\times w_{2} + 0.0312 w_{5}\\times w_{2} + 0.0225 w_{3}^2 - 0.0024 w_{4}\\times w_{3} + 0.0117 w_{5}\\times w_{3} + 0.0064 w_{4}^2 + 0.00624 w_{5}\\times w_{4} + 0.0169 w_{5}^2\\\\\n",
       "\\text{Subject to} \\quad & w_{1} + w_{2} + w_{3} + w_{4} + w_{5} = 1\\\\\n",
       " & 0.05 w_{1} + 0.12 w_{2} + 0.09 w_{3} + 0.05 w_{4} + 0.15 w_{5} \\geq 0.11\\\\\n",
       " & w_{1} \\geq 0\\\\\n",
       " & w_{2} \\geq 0\\\\\n",
       " & w_{3} \\geq 0\\\\\n",
       " & w_{4} \\geq 0\\\\\n",
       " & w_{5} \\geq 0\\\\\n",
       "\\end{aligned} $$"
      ]
     },
     "metadata": {},
     "output_type": "display_data"
    }
   ],
   "source": [
    "set_normalized_rhs(min_ret, 0.11)\n",
    "print(m)"
   ]
  },
  {
   "cell_type": "code",
   "execution_count": 17,
   "metadata": {},
   "outputs": [
    {
     "data": {
      "text/plain": [
       "0.007926043812384407"
      ]
     },
     "execution_count": 17,
     "metadata": {},
     "output_type": "execute_result"
    }
   ],
   "source": [
    "optimize!(m)\n",
    "objective_value(m)"
   ]
  },
  {
   "cell_type": "markdown",
   "metadata": {},
   "source": [
    "## Variáveis duais e multiplicadores de Lagrange\n",
    "\n",
    "Uma terceira noção de variável é a **variável dual**.\n",
    "Elas estão associadas a **restrições** do problema de otimização,\n",
    "e têm este nome porque aparecem no \"problema dual\" (cenas dos próximos capítulos!)."
   ]
  },
  {
   "cell_type": "markdown",
   "metadata": {},
   "source": [
    "No nosso exemplo, temos três restrições:\n",
    "- a restrição de não-negatividade (uma para cada variável);\n",
    "- a restrição de que a soma dos pesos seja igual a 1; e\n",
    "- a restrição de que o retorno esperado seja maior ou igual a 10%."
   ]
  },
  {
   "cell_type": "markdown",
   "metadata": {},
   "source": [
    "O **valor** das variáveis duais (quando existem) é retornado pelo solver,\n",
    "e corresponde aos multiplicadores de Lagrange das restrições do problema.\n",
    "Ele pode ser acessado através da função `dual()`."
   ]
  },
  {
   "cell_type": "code",
   "execution_count": 18,
   "metadata": {},
   "outputs": [
    {
     "data": {
      "text/plain": [
       "0.15050774010819945"
      ]
     },
     "execution_count": 18,
     "metadata": {},
     "output_type": "execute_result"
    }
   ],
   "source": [
    "min_ret_dual = dual(min_ret)"
   ]
  },
  {
   "cell_type": "markdown",
   "metadata": {},
   "source": [
    "Existe uma noção similar, conhecida como \"preço sombra\".\n",
    "Dependendo do problema (e da restrição), ela pode ter o sinal oposto ao da variável dual."
   ]
  },
  {
   "cell_type": "code",
   "execution_count": 19,
   "metadata": {},
   "outputs": [
    {
     "data": {
      "text/plain": [
       "-0.15050774010819945"
      ]
     },
     "execution_count": 19,
     "metadata": {},
     "output_type": "execute_result"
    }
   ],
   "source": [
    "shadow_price(min_ret)"
   ]
  },
  {
   "cell_type": "markdown",
   "metadata": {},
   "source": [
    "### Interpretação como derivada (\"marginal\")"
   ]
  },
  {
   "cell_type": "markdown",
   "metadata": {},
   "source": [
    "A interpretação mais comum para as variáveis duais é que elas indicam o quanto o valor\n",
    "da função objetivo se altera quando alteramos o lado direito da restrição em uma unidade.\n",
    "No nosso caso, não faz sentido aumentar \"em uma unidade\" (o problema ficaria impossível),\n",
    "mas podemos comparar o caso em que o retorno esperado é 10% com o caso em que ele é 11%."
   ]
  },
  {
   "cell_type": "code",
   "execution_count": 20,
   "metadata": {},
   "outputs": [
    {
     "data": {
      "text/plain": [
       "0.001339242031198954"
      ]
     },
     "execution_count": 20,
     "metadata": {},
     "output_type": "execute_result"
    }
   ],
   "source": [
    "novo_risco - risco"
   ]
  },
  {
   "cell_type": "markdown",
   "metadata": {},
   "source": [
    "Agora, vejamos a estimativa dada pelo multiplicador de Lagrange:"
   ]
  },
  {
   "cell_type": "code",
   "execution_count": 21,
   "metadata": {},
   "outputs": [
    {
     "data": {
      "text/plain": [
       "0.0015050774010819945"
      ]
     },
     "execution_count": 21,
     "metadata": {},
     "output_type": "execute_result"
    }
   ],
   "source": [
    "0.01 * min_ret_dual"
   ]
  },
  {
   "cell_type": "markdown",
   "metadata": {},
   "source": [
    "O problema original, com retorno esperado de 10%, também dá um multiplicador de Lagrange:"
   ]
  },
  {
   "cell_type": "code",
   "execution_count": 22,
   "metadata": {},
   "outputs": [
    {
     "data": {
      "text/plain": [
       "0.0011734218104724604"
      ]
     },
     "execution_count": 22,
     "metadata": {},
     "output_type": "execute_result"
    }
   ],
   "source": [
    "set_normalized_rhs(min_ret, 0.10)\n",
    "optimize!(m)\n",
    "min_ret_dual_010 = dual(min_ret)\n",
    "0.01 * min_ret_dual_010"
   ]
  },
  {
   "cell_type": "markdown",
   "metadata": {},
   "source": [
    "Temos duas estimativas, uma para o problema original, outra para o problema alterado,\n",
    "pois ao alterar o problema, também alteramos as variáveis duais.\n",
    "\n",
    "Note que a real variação do risco está entre as duas estimativas.\n",
    "Nem sempre será assim, mas para o problema de portfólio de Markowitz\n",
    "(e problemas **convexos** em geral),\n",
    "é possível mostrar que a estimativa dada pelos multiplicadores de Lagrange\n",
    "será sempre um limitante **inferior** para a variação do valor da função objetivo."
   ]
  },
  {
   "cell_type": "markdown",
   "metadata": {},
   "source": [
    "### Duais para restrições implícitas\n",
    "\n",
    "Enfim, também temos o caso das restrições construídas implicitamente pela macro `@variable`, que são os limites superior e/ou inferior das variáveis de decisão.\n",
    "Como estas restrições estão atreladas à variável (e porque não seria conveniente dar um nome \"a mais\" para a restrição), a biblioteca `JuMP` permite acessar as restrições correspondentes usando as funções\n",
    "- `LowerBoundRef`,\n",
    "- `UpperBoundRef`, e\n",
    "- `FixRef` (quando declaramos que uma variável deve estar fixa, veremos depois um caso disto).\n",
    "\n",
    "No nosso caso, é `LowerBoundRef`:"
   ]
  },
  {
   "cell_type": "code",
   "execution_count": 23,
   "metadata": {},
   "outputs": [
    {
     "data": {
      "text/plain": [
       "5-element Vector{Float64}:\n",
       " 0.0019679823391997044\n",
       " 0.0008192247525853767\n",
       " 1.4237366300798351e-8\n",
       " 6.3538556533234145e-9\n",
       " 5.833196916901334e-9"
      ]
     },
     "execution_count": 23,
     "metadata": {},
     "output_type": "execute_result"
    }
   ],
   "source": [
    "# Note o uso duplo do operador `.` de braodcasting para calcular em cada coordenada de `w`.\n",
    "dual.(LowerBoundRef.(w))"
   ]
  },
  {
   "cell_type": "markdown",
   "metadata": {},
   "source": [
    "Da mesma forma que podemos usar o _broadcasting_ para `value`, também podemos usar para as funções relativas às variáveis duais, ao passar uma coleção de restrições em argumento."
   ]
  },
  {
   "cell_type": "code",
   "execution_count": 24,
   "metadata": {},
   "outputs": [
    {
     "data": {
      "text/plain": [
       "Vector{ConstraintRef{Model, ConstraintIndex{VariableIndex, GreaterThan{Float64}}, ScalarShape}}\u001b[90m (alias for \u001b[39m\u001b[90mArray{ConstraintRef{GenericModel{Float64}, MathOptInterface.ConstraintIndex{MathOptInterface.VariableIndex, MathOptInterface.GreaterThan{Float64}}, ScalarShape}, 1}\u001b[39m\u001b[90m)\u001b[39m"
      ]
     },
     "execution_count": 24,
     "metadata": {},
     "output_type": "execute_result"
    }
   ],
   "source": [
    "typeof(LowerBoundRef.(w))"
   ]
  },
  {
   "cell_type": "markdown",
   "metadata": {},
   "source": [
    "De forma análoga ao \"preço sombra\", também podemos usar a função `reduced_cost` (diretamente para a variável):"
   ]
  },
  {
   "cell_type": "code",
   "execution_count": 25,
   "metadata": {},
   "outputs": [
    {
     "data": {
      "text/plain": [
       "5-element Vector{Float64}:\n",
       " 0.0019679823391997044\n",
       " 0.0008192247525853767\n",
       " 1.4237366300798351e-8\n",
       " 6.3538556533234145e-9\n",
       " 5.833196916901334e-9"
      ]
     },
     "execution_count": 25,
     "metadata": {},
     "output_type": "execute_result"
    }
   ],
   "source": [
    "reduced_cost.(w)"
   ]
  },
  {
   "cell_type": "markdown",
   "metadata": {},
   "source": [
    "## Exercícios\n",
    "\n",
    "- Escreva o problema de portfólio de Markowitz na forma de maximização de retorno,\n",
    "  sujeito a um limite de risco.\n",
    "  * Qual a solução ótima?\n",
    "  * Qual o valor da função objetivo?\n",
    "  * Qual o valor das variáveis duais?\n",
    "  * Qual a correspondência entre as soluções de cada formulação?\n",
    "- A função `reduced_cost` é aplicada diretamente a uma variável.\n",
    "  * O que acontece se uma variável tiver limites superiores e inferiores?\n",
    "  * O que acontece se ambos os limites forem iguais?"
   ]
  },
  {
   "cell_type": "markdown",
   "metadata": {},
   "source": [
    "## Penalização\n",
    "\n",
    "Vamos escrever o problema de Markowitz com a penalização do risco:"
   ]
  },
  {
   "cell_type": "code",
   "execution_count": 26,
   "metadata": {},
   "outputs": [],
   "source": [
    "λ = 10\n",
    "\n",
    "markowitz = Model(Ipopt.Optimizer);\n",
    "@variable(markowitz, w[1:n] >= 0);\n",
    "@constraint(markowitz, sum(w) == 1);\n",
    "@objective(markowitz, Max, μ'*w - λ * (w'*Σ*w));"
   ]
  },
  {
   "cell_type": "code",
   "execution_count": 27,
   "metadata": {},
   "outputs": [],
   "source": [
    "set_silent(markowitz)\n",
    "optimize!(markowitz)"
   ]
  },
  {
   "cell_type": "code",
   "execution_count": 28,
   "metadata": {},
   "outputs": [
    {
     "data": {
      "text/plain": [
       "* Solver : Ipopt\n",
       "\n",
       "* Status\n",
       "  Result count       : 1\n",
       "  Termination status : LOCALLY_SOLVED\n",
       "  Message from the solver:\n",
       "  \"Solve_Succeeded\"\n",
       "\n",
       "* Candidate solution (result #1)\n",
       "  Primal status      : FEASIBLE_POINT\n",
       "  Dual status        : FEASIBLE_POINT\n",
       "  Objective value    : 3.45854e-02\n",
       "  Dual objective value : -2.56003e-02\n",
       "\n",
       "* Work counters\n",
       "  Solve time (sec)   : 1.09999e-02\n",
       "  Barrier iterations : 11\n"
      ]
     },
     "execution_count": 28,
     "metadata": {},
     "output_type": "execute_result"
    }
   ],
   "source": [
    "solution_summary(markowitz)"
   ]
  },
  {
   "cell_type": "code",
   "execution_count": 29,
   "metadata": {},
   "outputs": [
    {
     "data": {
      "text/plain": [
       "5-element Vector{Float64}:\n",
       " 1.8651866987765228e-7\n",
       " 5.038824580440822e-7\n",
       " 0.18312508583594583\n",
       " 0.4424129004819993\n",
       " 0.37446132328092696"
      ]
     },
     "execution_count": 29,
     "metadata": {},
     "output_type": "execute_result"
    }
   ],
   "source": [
    "value.(w)"
   ]
  },
  {
   "cell_type": "markdown",
   "metadata": {},
   "source": [
    "Este portfólio é parecido com o primeiro, o que não é um acaso.\n",
    "Vejamos o que acontece se tomarmos $\\lambda = 1/\\text{dual}$:"
   ]
  },
  {
   "cell_type": "code",
   "execution_count": 30,
   "metadata": {},
   "outputs": [
    {
     "data": {
      "text/plain": [
       "5-element Vector{Float64}:\n",
       " 1.0453463574340646e-7\n",
       " 3.4366452439416365e-7\n",
       " 0.1624027230210368\n",
       " 0.30255805365855243\n",
       " 0.5350387751212508"
      ]
     },
     "execution_count": 30,
     "metadata": {},
     "output_type": "execute_result"
    }
   ],
   "source": [
    "λ = 1/min_ret_dual\n",
    "@objective(markowitz, Max, μ'*w - λ * (w'*Σ*w));\n",
    "optimize!(markowitz)\n",
    "value.(w)"
   ]
  },
  {
   "cell_type": "markdown",
   "metadata": {},
   "source": [
    "Podemos variar o valor de $\\lambda$, e com isto obter diferentes portfólios, com diferentes níveis de risco (e retorno):"
   ]
  },
  {
   "cell_type": "code",
   "execution_count": 31,
   "metadata": {},
   "outputs": [],
   "source": [
    "λs = 2 .^ (-6:0.25:8);\n",
    "ws = zeros(n, length(λs));\n",
    "for (i, λ) in enumerate(λs)\n",
    "    @objective(markowitz, Max, μ'*w - λ * (w'*Σ*w));\n",
    "    optimize!(markowitz)\n",
    "    ws[:, i] = value.(w)\n",
    "end"
   ]
  },
  {
   "cell_type": "code",
   "execution_count": 32,
   "metadata": {},
   "outputs": [],
   "source": [
    "# A função `eachcol` itera sobre as colunas de uma matriz.\n",
    "retornos = [μ'w for w in eachcol(ws)];\n",
    "riscos = [sqrt(w'*Σ*w) for w in eachcol(ws)];"
   ]
  },
  {
   "cell_type": "code",
   "execution_count": 33,
   "metadata": {},
   "outputs": [
    {
     "data": {
      "image/png": "[encoded data removed]",
      "image/svg+xml": [
       "<?xml version=\"1.0\" encoding=\"utf-8\"?>\n",
       "<svg xmlns=\"http://www.w3.org/2000/svg\" xmlns:xlink=\"http://www.w3.org/1999/xlink\" width=\"600\" height=\"400\" viewBox=\"0 0 2400 1600\">\n",
       "<defs>\n",
       "  <clipPath id=\"clip870\">\n",
       "    <rect x=\"0\" y=\"0\" width=\"2400\" height=\"1600\"/>\n",
       "  </clipPath>\n",
       "</defs>\n",
       "<path clip-path=\"url(#clip870)\" d=\"M0 1600 L2400 1600 L2400 0 L0 0  Z\" fill=\"#ffffff\" fill-rule=\"evenodd\" fill-opacity=\"1\"/>\n",
       "<defs>\n",
       "  <clipPath id=\"clip871\">\n",
       "    <rect x=\"480\" y=\"0\" width=\"1681\" height=\"1600\"/>\n",
       "  </clipPath>\n",
       "</defs>\n",
       "<path clip-path=\"url(#clip870)\" d=\"M250.028 1423.18 L2352.76 1423.18 L2352.76 47.2441 L250.028 47.2441  Z\" fill=\"#ffffff\" fill-rule=\"evenodd\" fill-opacity=\"1\"/>\n",
       "<defs>\n",
       "  <clipPath id=\"clip872\">\n",
       "    <rect x=\"250\" y=\"47\" width=\"2104\" height=\"1377\"/>\n",
       "  </clipPath>\n",
       "</defs>\n",
       "<polyline clip-path=\"url(#clip872)\" style=\"stroke:#000000; stroke-linecap:round; stroke-linejoin:round; stroke-width:2; stroke-opacity:0.1; fill:none\" points=\"458.784,1423.18 458.784,47.2441 \"/>\n",
       "<polyline clip-path=\"url(#clip872)\" style=\"stroke:#000000; stroke-linecap:round; stroke-linejoin:round; stroke-width:2; stroke-opacity:0.1; fill:none\" points=\"764.528,1423.18 764.528,47.2441 \"/>\n",
       "<polyline clip-path=\"url(#clip872)\" style=\"stroke:#000000; stroke-linecap:round; stroke-linejoin:round; stroke-width:2; stroke-opacity:0.1; fill:none\" points=\"1070.27,1423.18 1070.27,47.2441 \"/>\n",
       "<polyline clip-path=\"url(#clip872)\" style=\"stroke:#000000; stroke-linecap:round; stroke-linejoin:round; stroke-width:2; stroke-opacity:0.1; fill:none\" points=\"1376.01,1423.18 1376.01,47.2441 \"/>\n",
       "<polyline clip-path=\"url(#clip872)\" style=\"stroke:#000000; stroke-linecap:round; stroke-linejoin:round; stroke-width:2; stroke-opacity:0.1; fill:none\" points=\"1681.76,1423.18 1681.76,47.2441 \"/>\n",
       "<polyline clip-path=\"url(#clip872)\" style=\"stroke:#000000; stroke-linecap:round; stroke-linejoin:round; stroke-width:2; stroke-opacity:0.1; fill:none\" points=\"1987.5,1423.18 1987.5,47.2441 \"/>\n",
       "<polyline clip-path=\"url(#clip872)\" style=\"stroke:#000000; stroke-linecap:round; stroke-linejoin:round; stroke-width:2; stroke-opacity:0.1; fill:none\" points=\"2293.24,1423.18 2293.24,47.2441 \"/>\n",
       "<polyline clip-path=\"url(#clip872)\" style=\"stroke:#000000; stroke-linecap:round; stroke-linejoin:round; stroke-width:2; stroke-opacity:0.1; fill:none\" points=\"250.028,1363.53 2352.76,1363.53 \"/>\n",
       "<polyline clip-path=\"url(#clip872)\" style=\"stroke:#000000; stroke-linecap:round; stroke-linejoin:round; stroke-width:2; stroke-opacity:0.1; fill:none\" points=\"250.028,1079.67 2352.76,1079.67 \"/>\n",
       "<polyline clip-path=\"url(#clip872)\" style=\"stroke:#000000; stroke-linecap:round; stroke-linejoin:round; stroke-width:2; stroke-opacity:0.1; fill:none\" points=\"250.028,795.821 2352.76,795.821 \"/>\n",
       "<polyline clip-path=\"url(#clip872)\" style=\"stroke:#000000; stroke-linecap:round; stroke-linejoin:round; stroke-width:2; stroke-opacity:0.1; fill:none\" points=\"250.028,511.967 2352.76,511.967 \"/>\n",
       "<polyline clip-path=\"url(#clip872)\" style=\"stroke:#000000; stroke-linecap:round; stroke-linejoin:round; stroke-width:2; stroke-opacity:0.1; fill:none\" points=\"250.028,228.113 2352.76,228.113 \"/>\n",
       "<polyline clip-path=\"url(#clip870)\" style=\"stroke:#000000; stroke-linecap:round; stroke-linejoin:round; stroke-width:4; stroke-opacity:1; fill:none\" points=\"250.028,1423.18 2352.76,1423.18 \"/>\n",
       "<polyline clip-path=\"url(#clip870)\" style=\"stroke:#000000; stroke-linecap:round; stroke-linejoin:round; stroke-width:4; stroke-opacity:1; fill:none\" points=\"458.784,1423.18 458.784,1404.28 \"/>\n",
       "<polyline clip-path=\"url(#clip870)\" style=\"stroke:#000000; stroke-linecap:round; stroke-linejoin:round; stroke-width:4; stroke-opacity:1; fill:none\" points=\"764.528,1423.18 764.528,1404.28 \"/>\n",
       "<polyline clip-path=\"url(#clip870)\" style=\"stroke:#000000; stroke-linecap:round; stroke-linejoin:round; stroke-width:4; stroke-opacity:1; fill:none\" points=\"1070.27,1423.18 1070.27,1404.28 \"/>\n",
       "<polyline clip-path=\"url(#clip870)\" style=\"stroke:#000000; stroke-linecap:round; stroke-linejoin:round; stroke-width:4; stroke-opacity:1; fill:none\" points=\"1376.01,1423.18 1376.01,1404.28 \"/>\n",
       "<polyline clip-path=\"url(#clip870)\" style=\"stroke:#000000; stroke-linecap:round; stroke-linejoin:round; stroke-width:4; stroke-opacity:1; fill:none\" points=\"1681.76,1423.18 1681.76,1404.28 \"/>\n",
       "<polyline clip-path=\"url(#clip870)\" style=\"stroke:#000000; stroke-linecap:round; stroke-linejoin:round; stroke-width:4; stroke-opacity:1; fill:none\" points=\"1987.5,1423.18 1987.5,1404.28 \"/>\n",
       "<polyline clip-path=\"url(#clip870)\" style=\"stroke:#000000; stroke-linecap:round; stroke-linejoin:round; stroke-width:4; stroke-opacity:1; fill:none\" points=\"2293.24,1423.18 2293.24,1404.28 \"/>\n",
       "<path clip-path=\"url(#clip870)\" d=\"M421.539 1454.1 Q417.928 1454.1 416.099 1457.66 Q414.294 1461.2 414.294 1468.33 Q414.294 1475.44 416.099 1479.01 Q417.928 1482.55 421.539 1482.55 Q425.173 1482.55 426.979 1479.01 Q428.808 1475.44 428.808 1468.33 Q428.808 1461.2 426.979 1457.66 Q425.173 1454.1 421.539 1454.1 M421.539 1450.39 Q427.349 1450.39 430.405 1455 Q433.484 1459.58 433.484 1468.33 Q433.484 1477.06 430.405 1481.67 Q427.349 1486.25 421.539 1486.25 Q415.729 1486.25 412.65 1481.67 Q409.595 1477.06 409.595 1468.33 Q409.595 1459.58 412.65 1455 Q415.729 1450.39 421.539 1450.39 Z\" fill=\"#000000\" fill-rule=\"nonzero\" fill-opacity=\"1\" /><path clip-path=\"url(#clip870)\" d=\"M441.701 1479.7 L446.585 1479.7 L446.585 1485.58 L441.701 1485.58 L441.701 1479.7 Z\" fill=\"#000000\" fill-rule=\"nonzero\" fill-opacity=\"1\" /><path clip-path=\"url(#clip870)\" d=\"M466.77 1454.1 Q463.159 1454.1 461.331 1457.66 Q459.525 1461.2 459.525 1468.33 Q459.525 1475.44 461.331 1479.01 Q463.159 1482.55 466.77 1482.55 Q470.405 1482.55 472.21 1479.01 Q474.039 1475.44 474.039 1468.33 Q474.039 1461.2 472.21 1457.66 Q470.405 1454.1 466.77 1454.1 M466.77 1450.39 Q472.581 1450.39 475.636 1455 Q478.715 1459.58 478.715 1468.33 Q478.715 1477.06 475.636 1481.67 Q472.581 1486.25 466.77 1486.25 Q460.96 1486.25 457.882 1481.67 Q454.826 1477.06 454.826 1468.33 Q454.826 1459.58 457.882 1455 Q460.96 1450.39 466.77 1450.39 Z\" fill=\"#000000\" fill-rule=\"nonzero\" fill-opacity=\"1\" /><path clip-path=\"url(#clip870)\" d=\"M485.752 1451.02 L507.974 1451.02 L507.974 1453.01 L495.428 1485.58 L490.543 1485.58 L502.349 1454.96 L485.752 1454.96 L485.752 1451.02 Z\" fill=\"#000000\" fill-rule=\"nonzero\" fill-opacity=\"1\" /><path clip-path=\"url(#clip870)\" d=\"M726.877 1454.1 Q723.266 1454.1 721.438 1457.66 Q719.632 1461.2 719.632 1468.33 Q719.632 1475.44 721.438 1479.01 Q723.266 1482.55 726.877 1482.55 Q730.512 1482.55 732.317 1479.01 Q734.146 1475.44 734.146 1468.33 Q734.146 1461.2 732.317 1457.66 Q730.512 1454.1 726.877 1454.1 M726.877 1450.39 Q732.688 1450.39 735.743 1455 Q738.822 1459.58 738.822 1468.33 Q738.822 1477.06 735.743 1481.67 Q732.688 1486.25 726.877 1486.25 Q721.067 1486.25 717.989 1481.67 Q714.933 1477.06 714.933 1468.33 Q714.933 1459.58 717.989 1455 Q721.067 1450.39 726.877 1450.39 Z\" fill=\"#000000\" fill-rule=\"nonzero\" fill-opacity=\"1\" /><path clip-path=\"url(#clip870)\" d=\"M747.039 1479.7 L751.924 1479.7 L751.924 1485.58 L747.039 1485.58 L747.039 1479.7 Z\" fill=\"#000000\" fill-rule=\"nonzero\" fill-opacity=\"1\" /><path clip-path=\"url(#clip870)\" d=\"M772.109 1454.1 Q768.498 1454.1 766.669 1457.66 Q764.863 1461.2 764.863 1468.33 Q764.863 1475.44 766.669 1479.01 Q768.498 1482.55 772.109 1482.55 Q775.743 1482.55 777.549 1479.01 Q779.377 1475.44 779.377 1468.33 Q779.377 1461.2 777.549 1457.66 Q775.743 1454.1 772.109 1454.1 M772.109 1450.39 Q777.919 1450.39 780.974 1455 Q784.053 1459.58 784.053 1468.33 Q784.053 1477.06 780.974 1481.67 Q777.919 1486.25 772.109 1486.25 Q766.299 1486.25 763.22 1481.67 Q760.164 1477.06 760.164 1468.33 Q760.164 1459.58 763.22 1455 Q766.299 1450.39 772.109 1450.39 Z\" fill=\"#000000\" fill-rule=\"nonzero\" fill-opacity=\"1\" /><path clip-path=\"url(#clip870)\" d=\"M802.271 1469.17 Q798.937 1469.17 797.016 1470.95 Q795.118 1472.73 795.118 1475.86 Q795.118 1478.98 797.016 1480.77 Q798.937 1482.55 802.271 1482.55 Q805.604 1482.55 807.525 1480.77 Q809.446 1478.96 809.446 1475.86 Q809.446 1472.73 807.525 1470.95 Q805.627 1469.17 802.271 1469.17 M797.595 1467.18 Q794.585 1466.44 792.896 1464.38 Q791.229 1462.32 791.229 1459.35 Q791.229 1455.21 794.169 1452.8 Q797.132 1450.39 802.271 1450.39 Q807.433 1450.39 810.372 1452.8 Q813.312 1455.21 813.312 1459.35 Q813.312 1462.32 811.622 1464.38 Q809.956 1466.44 806.97 1467.18 Q810.349 1467.96 812.224 1470.26 Q814.122 1472.55 814.122 1475.86 Q814.122 1480.88 811.044 1483.57 Q807.988 1486.25 802.271 1486.25 Q796.553 1486.25 793.474 1483.57 Q790.419 1480.88 790.419 1475.86 Q790.419 1472.55 792.317 1470.26 Q794.215 1467.96 797.595 1467.18 M795.882 1459.79 Q795.882 1462.48 797.548 1463.98 Q799.238 1465.49 802.271 1465.49 Q805.28 1465.49 806.97 1463.98 Q808.683 1462.48 808.683 1459.79 Q808.683 1457.11 806.97 1455.6 Q805.28 1454.1 802.271 1454.1 Q799.238 1454.1 797.548 1455.6 Q795.882 1457.11 795.882 1459.79 Z\" fill=\"#000000\" fill-rule=\"nonzero\" fill-opacity=\"1\" /><path clip-path=\"url(#clip870)\" d=\"M1032.67 1454.1 Q1029.06 1454.1 1027.23 1457.66 Q1025.42 1461.2 1025.42 1468.33 Q1025.42 1475.44 1027.23 1479.01 Q1029.06 1482.55 1032.67 1482.55 Q1036.3 1482.55 1038.11 1479.01 Q1039.94 1475.44 1039.94 1468.33 Q1039.94 1461.2 1038.11 1457.66 Q1036.3 1454.1 1032.67 1454.1 M1032.67 1450.39 Q1038.48 1450.39 1041.53 1455 Q1044.61 1459.58 1044.61 1468.33 Q1044.61 1477.06 1041.53 1481.67 Q1038.48 1486.25 1032.67 1486.25 Q1026.86 1486.25 1023.78 1481.67 Q1020.72 1477.06 1020.72 1468.33 Q1020.72 1459.58 1023.78 1455 Q1026.86 1450.39 1032.67 1450.39 Z\" fill=\"#000000\" fill-rule=\"nonzero\" fill-opacity=\"1\" /><path clip-path=\"url(#clip870)\" d=\"M1052.83 1479.7 L1057.71 1479.7 L1057.71 1485.58 L1052.83 1485.58 L1052.83 1479.7 Z\" fill=\"#000000\" fill-rule=\"nonzero\" fill-opacity=\"1\" /><path clip-path=\"url(#clip870)\" d=\"M1077.9 1454.1 Q1074.29 1454.1 1072.46 1457.66 Q1070.65 1461.2 1070.65 1468.33 Q1070.65 1475.44 1072.46 1479.01 Q1074.29 1482.55 1077.9 1482.55 Q1081.53 1482.55 1083.34 1479.01 Q1085.17 1475.44 1085.17 1468.33 Q1085.17 1461.2 1083.34 1457.66 Q1081.53 1454.1 1077.9 1454.1 M1077.9 1450.39 Q1083.71 1450.39 1086.76 1455 Q1089.84 1459.58 1089.84 1468.33 Q1089.84 1477.06 1086.76 1481.67 Q1083.71 1486.25 1077.9 1486.25 Q1072.09 1486.25 1069.01 1481.67 Q1065.95 1477.06 1065.95 1468.33 Q1065.95 1459.58 1069.01 1455 Q1072.09 1450.39 1077.9 1450.39 Z\" fill=\"#000000\" fill-rule=\"nonzero\" fill-opacity=\"1\" /><path clip-path=\"url(#clip870)\" d=\"M1098.2 1484.86 L1098.2 1480.6 Q1099.96 1481.44 1101.76 1481.88 Q1103.57 1482.32 1105.31 1482.32 Q1109.94 1482.32 1112.37 1479.21 Q1114.82 1476.09 1115.17 1469.75 Q1113.82 1471.74 1111.76 1472.8 Q1109.7 1473.87 1107.2 1473.87 Q1102.02 1473.87 1098.99 1470.74 Q1095.98 1467.59 1095.98 1462.15 Q1095.98 1456.83 1099.13 1453.61 Q1102.27 1450.39 1107.5 1450.39 Q1113.5 1450.39 1116.65 1455 Q1119.82 1459.58 1119.82 1468.33 Q1119.82 1476.51 1115.93 1481.39 Q1112.06 1486.25 1105.51 1486.25 Q1103.75 1486.25 1101.95 1485.9 Q1100.14 1485.56 1098.2 1484.86 M1107.5 1470.21 Q1110.65 1470.21 1112.48 1468.06 Q1114.33 1465.9 1114.33 1462.15 Q1114.33 1458.43 1112.48 1456.27 Q1110.65 1454.1 1107.5 1454.1 Q1104.36 1454.1 1102.5 1456.27 Q1100.68 1458.43 1100.68 1462.15 Q1100.68 1465.9 1102.5 1468.06 Q1104.36 1470.21 1107.5 1470.21 Z\" fill=\"#000000\" fill-rule=\"nonzero\" fill-opacity=\"1\" /><path clip-path=\"url(#clip870)\" d=\"M1338.32 1454.1 Q1334.71 1454.1 1332.88 1457.66 Q1331.07 1461.2 1331.07 1468.33 Q1331.07 1475.44 1332.88 1479.01 Q1334.71 1482.55 1338.32 1482.55 Q1341.95 1482.55 1343.76 1479.01 Q1345.59 1475.44 1345.59 1468.33 Q1345.59 1461.2 1343.76 1457.66 Q1341.95 1454.1 1338.32 1454.1 M1338.32 1450.39 Q1344.13 1450.39 1347.18 1455 Q1350.26 1459.58 1350.26 1468.33 Q1350.26 1477.06 1347.18 1481.67 Q1344.13 1486.25 1338.32 1486.25 Q1332.51 1486.25 1329.43 1481.67 Q1326.37 1477.06 1326.37 1468.33 Q1326.37 1459.58 1329.43 1455 Q1332.51 1450.39 1338.32 1450.39 Z\" fill=\"#000000\" fill-rule=\"nonzero\" fill-opacity=\"1\" /><path clip-path=\"url(#clip870)\" d=\"M1358.48 1479.7 L1363.36 1479.7 L1363.36 1485.58 L1358.48 1485.58 L1358.48 1479.7 Z\" fill=\"#000000\" fill-rule=\"nonzero\" fill-opacity=\"1\" /><path clip-path=\"url(#clip870)\" d=\"M1374.36 1481.64 L1382 1481.64 L1382 1455.28 L1373.69 1456.95 L1373.69 1452.69 L1381.95 1451.02 L1386.63 1451.02 L1386.63 1481.64 L1394.27 1481.64 L1394.27 1485.58 L1374.36 1485.58 L1374.36 1481.64 Z\" fill=\"#000000\" fill-rule=\"nonzero\" fill-opacity=\"1\" /><path clip-path=\"url(#clip870)\" d=\"M1413.71 1454.1 Q1410.1 1454.1 1408.27 1457.66 Q1406.47 1461.2 1406.47 1468.33 Q1406.47 1475.44 1408.27 1479.01 Q1410.1 1482.55 1413.71 1482.55 Q1417.35 1482.55 1419.15 1479.01 Q1420.98 1475.44 1420.98 1468.33 Q1420.98 1461.2 1419.15 1457.66 Q1417.35 1454.1 1413.71 1454.1 M1413.71 1450.39 Q1419.52 1450.39 1422.58 1455 Q1425.66 1459.58 1425.66 1468.33 Q1425.66 1477.06 1422.58 1481.67 Q1419.52 1486.25 1413.71 1486.25 Q1407.9 1486.25 1404.82 1481.67 Q1401.77 1477.06 1401.77 1468.33 Q1401.77 1459.58 1404.82 1455 Q1407.9 1450.39 1413.71 1450.39 Z\" fill=\"#000000\" fill-rule=\"nonzero\" fill-opacity=\"1\" /><path clip-path=\"url(#clip870)\" d=\"M1644.67 1454.1 Q1641.06 1454.1 1639.24 1457.66 Q1637.43 1461.2 1637.43 1468.33 Q1637.43 1475.44 1639.24 1479.01 Q1641.06 1482.55 1644.67 1482.55 Q1648.31 1482.55 1650.11 1479.01 Q1651.94 1475.44 1651.94 1468.33 Q1651.94 1461.2 1650.11 1457.66 Q1648.31 1454.1 1644.67 1454.1 M1644.67 1450.39 Q1650.48 1450.39 1653.54 1455 Q1656.62 1459.58 1656.62 1468.33 Q1656.62 1477.06 1653.54 1481.67 Q1650.48 1486.25 1644.67 1486.25 Q1638.86 1486.25 1635.79 1481.67 Q1632.73 1477.06 1632.73 1468.33 Q1632.73 1459.58 1635.79 1455 Q1638.86 1450.39 1644.67 1450.39 Z\" fill=\"#000000\" fill-rule=\"nonzero\" fill-opacity=\"1\" /><path clip-path=\"url(#clip870)\" d=\"M1664.84 1479.7 L1669.72 1479.7 L1669.72 1485.58 L1664.84 1485.58 L1664.84 1479.7 Z\" fill=\"#000000\" fill-rule=\"nonzero\" fill-opacity=\"1\" /><path clip-path=\"url(#clip870)\" d=\"M1680.72 1481.64 L1688.36 1481.64 L1688.36 1455.28 L1680.05 1456.95 L1680.05 1452.69 L1688.31 1451.02 L1692.98 1451.02 L1692.98 1481.64 L1700.62 1481.64 L1700.62 1485.58 L1680.72 1485.58 L1680.72 1481.64 Z\" fill=\"#000000\" fill-rule=\"nonzero\" fill-opacity=\"1\" /><path clip-path=\"url(#clip870)\" d=\"M1710.88 1481.64 L1718.52 1481.64 L1718.52 1455.28 L1710.21 1456.95 L1710.21 1452.69 L1718.47 1451.02 L1723.15 1451.02 L1723.15 1481.64 L1730.79 1481.64 L1730.79 1485.58 L1710.88 1485.58 L1710.88 1481.64 Z\" fill=\"#000000\" fill-rule=\"nonzero\" fill-opacity=\"1\" /><path clip-path=\"url(#clip870)\" d=\"M1950.6 1454.1 Q1946.99 1454.1 1945.16 1457.66 Q1943.36 1461.2 1943.36 1468.33 Q1943.36 1475.44 1945.16 1479.01 Q1946.99 1482.55 1950.6 1482.55 Q1954.24 1482.55 1956.04 1479.01 Q1957.87 1475.44 1957.87 1468.33 Q1957.87 1461.2 1956.04 1457.66 Q1954.24 1454.1 1950.6 1454.1 M1950.6 1450.39 Q1956.41 1450.39 1959.47 1455 Q1962.55 1459.58 1962.55 1468.33 Q1962.55 1477.06 1959.47 1481.67 Q1956.41 1486.25 1950.6 1486.25 Q1944.79 1486.25 1941.71 1481.67 Q1938.66 1477.06 1938.66 1468.33 Q1938.66 1459.58 1941.71 1455 Q1944.79 1450.39 1950.6 1450.39 Z\" fill=\"#000000\" fill-rule=\"nonzero\" fill-opacity=\"1\" /><path clip-path=\"url(#clip870)\" d=\"M1970.77 1479.7 L1975.65 1479.7 L1975.65 1485.58 L1970.77 1485.58 L1970.77 1479.7 Z\" fill=\"#000000\" fill-rule=\"nonzero\" fill-opacity=\"1\" /><path clip-path=\"url(#clip870)\" d=\"M1986.64 1481.64 L1994.28 1481.64 L1994.28 1455.28 L1985.97 1456.95 L1985.97 1452.69 L1994.24 1451.02 L1998.91 1451.02 L1998.91 1481.64 L2006.55 1481.64 L2006.55 1485.58 L1986.64 1485.58 L1986.64 1481.64 Z\" fill=\"#000000\" fill-rule=\"nonzero\" fill-opacity=\"1\" /><path clip-path=\"url(#clip870)\" d=\"M2020.02 1481.64 L2036.34 1481.64 L2036.34 1485.58 L2014.4 1485.58 L2014.4 1481.64 Q2017.06 1478.89 2021.64 1474.26 Q2026.25 1469.61 2027.43 1468.27 Q2029.68 1465.74 2030.56 1464.01 Q2031.46 1462.25 2031.46 1460.56 Q2031.46 1457.8 2029.52 1456.07 Q2027.59 1454.33 2024.49 1454.33 Q2022.29 1454.33 2019.84 1455.09 Q2017.41 1455.86 2014.63 1457.41 L2014.63 1452.69 Q2017.45 1451.55 2019.91 1450.97 Q2022.36 1450.39 2024.4 1450.39 Q2029.77 1450.39 2032.96 1453.08 Q2036.16 1455.77 2036.16 1460.26 Q2036.16 1462.39 2035.35 1464.31 Q2034.56 1466.2 2032.45 1468.8 Q2031.88 1469.47 2028.77 1472.69 Q2025.67 1475.88 2020.02 1481.64 Z\" fill=\"#000000\" fill-rule=\"nonzero\" fill-opacity=\"1\" /><path clip-path=\"url(#clip870)\" d=\"M2255.87 1454.1 Q2252.26 1454.1 2250.43 1457.66 Q2248.63 1461.2 2248.63 1468.33 Q2248.63 1475.44 2250.43 1479.01 Q2252.26 1482.55 2255.87 1482.55 Q2259.51 1482.55 2261.31 1479.01 Q2263.14 1475.44 2263.14 1468.33 Q2263.14 1461.2 2261.31 1457.66 Q2259.51 1454.1 2255.87 1454.1 M2255.87 1450.39 Q2261.68 1450.39 2264.74 1455 Q2267.82 1459.58 2267.82 1468.33 Q2267.82 1477.06 2264.74 1481.67 Q2261.68 1486.25 2255.87 1486.25 Q2250.06 1486.25 2246.98 1481.67 Q2243.93 1477.06 2243.93 1468.33 Q2243.93 1459.58 2246.98 1455 Q2250.06 1450.39 2255.87 1450.39 Z\" fill=\"#000000\" fill-rule=\"nonzero\" fill-opacity=\"1\" /><path clip-path=\"url(#clip870)\" d=\"M2276.03 1479.7 L2280.92 1479.7 L2280.92 1485.58 L2276.03 1485.58 L2276.03 1479.7 Z\" fill=\"#000000\" fill-rule=\"nonzero\" fill-opacity=\"1\" /><path clip-path=\"url(#clip870)\" d=\"M2291.91 1481.64 L2299.55 1481.64 L2299.55 1455.28 L2291.24 1456.95 L2291.24 1452.69 L2299.51 1451.02 L2304.18 1451.02 L2304.18 1481.64 L2311.82 1481.64 L2311.82 1485.58 L2291.91 1485.58 L2291.91 1481.64 Z\" fill=\"#000000\" fill-rule=\"nonzero\" fill-opacity=\"1\" /><path clip-path=\"url(#clip870)\" d=\"M2335.43 1466.95 Q2338.79 1467.66 2340.66 1469.93 Q2342.56 1472.2 2342.56 1475.53 Q2342.56 1480.65 2339.04 1483.45 Q2335.52 1486.25 2329.04 1486.25 Q2326.87 1486.25 2324.55 1485.81 Q2322.26 1485.39 2319.81 1484.54 L2319.81 1480.02 Q2321.75 1481.16 2324.07 1481.74 Q2326.38 1482.32 2328.9 1482.32 Q2333.3 1482.32 2335.59 1480.58 Q2337.91 1478.84 2337.91 1475.53 Q2337.91 1472.48 2335.76 1470.77 Q2333.63 1469.03 2329.81 1469.03 L2325.78 1469.03 L2325.78 1465.19 L2329.99 1465.19 Q2333.44 1465.19 2335.27 1463.82 Q2337.1 1462.43 2337.1 1459.84 Q2337.1 1457.18 2335.2 1455.77 Q2333.33 1454.33 2329.81 1454.33 Q2327.89 1454.33 2325.69 1454.75 Q2323.49 1455.16 2320.85 1456.04 L2320.85 1451.88 Q2323.51 1451.14 2325.83 1450.77 Q2328.16 1450.39 2330.22 1450.39 Q2335.55 1450.39 2338.65 1452.83 Q2341.75 1455.23 2341.75 1459.35 Q2341.75 1462.22 2340.11 1464.21 Q2338.46 1466.18 2335.43 1466.95 Z\" fill=\"#000000\" fill-rule=\"nonzero\" fill-opacity=\"1\" /><path clip-path=\"url(#clip870)\" d=\"M1242.37 1545.76 Q1244.43 1546.46 1246.38 1548.76 Q1248.35 1551.05 1250.32 1555.06 L1256.85 1568.04 L1249.94 1568.04 L1243.86 1555.85 Q1241.51 1551.08 1239.28 1549.52 Q1237.08 1547.96 1233.26 1547.96 L1226.26 1547.96 L1226.26 1568.04 L1219.83 1568.04 L1219.83 1520.52 L1234.35 1520.52 Q1242.49 1520.52 1246.5 1523.93 Q1250.51 1527.34 1250.51 1534.21 Q1250.51 1538.7 1248.41 1541.66 Q1246.34 1544.62 1242.37 1545.76 M1226.26 1525.81 L1226.26 1542.68 L1234.35 1542.68 Q1238.99 1542.68 1241.35 1540.54 Q1243.73 1538.38 1243.73 1534.21 Q1243.73 1530.04 1241.35 1527.94 Q1238.99 1525.81 1234.35 1525.81 L1226.26 1525.81 Z\" fill=\"#000000\" fill-rule=\"nonzero\" fill-opacity=\"1\" /><path clip-path=\"url(#clip870)\" d=\"M1264.87 1532.4 L1270.73 1532.4 L1270.73 1568.04 L1264.87 1568.04 L1264.87 1532.4 M1264.87 1518.52 L1270.73 1518.52 L1270.73 1525.93 L1264.87 1525.93 L1264.87 1518.52 Z\" fill=\"#000000\" fill-rule=\"nonzero\" fill-opacity=\"1\" /><path clip-path=\"url(#clip870)\" d=\"M1305.7 1533.45 L1305.7 1538.98 Q1303.22 1537.71 1300.55 1537.07 Q1297.87 1536.44 1295.01 1536.44 Q1290.65 1536.44 1288.45 1537.77 Q1286.29 1539.11 1286.29 1541.79 Q1286.29 1543.82 1287.85 1545 Q1289.41 1546.15 1294.12 1547.2 L1296.12 1547.64 Q1302.36 1548.98 1304.97 1551.43 Q1307.61 1553.85 1307.61 1558.21 Q1307.61 1563.17 1303.67 1566.07 Q1299.75 1568.97 1292.88 1568.97 Q1290.01 1568.97 1286.89 1568.39 Q1283.81 1567.85 1280.37 1566.74 L1280.37 1560.69 Q1283.62 1562.38 1286.77 1563.24 Q1289.92 1564.07 1293.01 1564.07 Q1297.14 1564.07 1299.37 1562.66 Q1301.6 1561.23 1301.6 1558.65 Q1301.6 1556.27 1299.98 1554.99 Q1298.38 1553.72 1292.94 1552.54 L1290.9 1552.07 Q1285.46 1550.92 1283.04 1548.56 Q1280.62 1546.18 1280.62 1542.04 Q1280.62 1537.01 1284.19 1534.27 Q1287.75 1531.54 1294.31 1531.54 Q1297.56 1531.54 1300.42 1532.01 Q1303.29 1532.49 1305.7 1533.45 Z\" fill=\"#000000\" fill-rule=\"nonzero\" fill-opacity=\"1\" /><path clip-path=\"url(#clip870)\" d=\"M1342.59 1533.76 L1342.59 1539.24 Q1340.11 1537.87 1337.6 1537.2 Q1335.11 1536.5 1332.57 1536.5 Q1326.87 1536.5 1323.72 1540.13 Q1320.57 1543.73 1320.57 1550.25 Q1320.57 1556.78 1323.72 1560.4 Q1326.87 1564 1332.57 1564 Q1335.11 1564 1337.6 1563.33 Q1340.11 1562.63 1342.59 1561.26 L1342.59 1566.68 Q1340.14 1567.82 1337.5 1568.39 Q1334.89 1568.97 1331.93 1568.97 Q1323.88 1568.97 1319.14 1563.91 Q1314.39 1558.85 1314.39 1550.25 Q1314.39 1541.53 1319.17 1536.53 Q1323.97 1531.54 1332.31 1531.54 Q1335.02 1531.54 1337.6 1532.11 Q1340.18 1532.65 1342.59 1533.76 Z\" fill=\"#000000\" fill-rule=\"nonzero\" fill-opacity=\"1\" /><path clip-path=\"url(#clip870)\" d=\"M1366.59 1536.5 Q1361.88 1536.5 1359.14 1540.19 Q1356.41 1543.85 1356.41 1550.25 Q1356.41 1556.65 1359.11 1560.34 Q1361.85 1564 1366.59 1564 Q1371.27 1564 1374.01 1560.31 Q1376.75 1556.62 1376.75 1550.25 Q1376.75 1543.92 1374.01 1540.23 Q1371.27 1536.5 1366.59 1536.5 M1366.59 1531.54 Q1374.23 1531.54 1378.59 1536.5 Q1382.95 1541.47 1382.95 1550.25 Q1382.95 1559 1378.59 1564 Q1374.23 1568.97 1366.59 1568.97 Q1358.92 1568.97 1354.56 1564 Q1350.23 1559 1350.23 1550.25 Q1350.23 1541.47 1354.56 1536.5 Q1358.92 1531.54 1366.59 1531.54 Z\" fill=\"#000000\" fill-rule=\"nonzero\" fill-opacity=\"1\" /><polyline clip-path=\"url(#clip870)\" style=\"stroke:#000000; stroke-linecap:round; stroke-linejoin:round; stroke-width:4; stroke-opacity:1; fill:none\" points=\"250.028,1423.18 250.028,47.2441 \"/>\n",
       "<polyline clip-path=\"url(#clip870)\" style=\"stroke:#000000; stroke-linecap:round; stroke-linejoin:round; stroke-width:4; stroke-opacity:1; fill:none\" points=\"250.028,1363.53 268.926,1363.53 \"/>\n",
       "<polyline clip-path=\"url(#clip870)\" style=\"stroke:#000000; stroke-linecap:round; stroke-linejoin:round; stroke-width:4; stroke-opacity:1; fill:none\" points=\"250.028,1079.67 268.926,1079.67 \"/>\n",
       "<polyline clip-path=\"url(#clip870)\" style=\"stroke:#000000; stroke-linecap:round; stroke-linejoin:round; stroke-width:4; stroke-opacity:1; fill:none\" points=\"250.028,795.821 268.926,795.821 \"/>\n",
       "<polyline clip-path=\"url(#clip870)\" style=\"stroke:#000000; stroke-linecap:round; stroke-linejoin:round; stroke-width:4; stroke-opacity:1; fill:none\" points=\"250.028,511.967 268.926,511.967 \"/>\n",
       "<polyline clip-path=\"url(#clip870)\" style=\"stroke:#000000; stroke-linecap:round; stroke-linejoin:round; stroke-width:4; stroke-opacity:1; fill:none\" points=\"250.028,228.113 268.926,228.113 \"/>\n",
       "<path clip-path=\"url(#clip870)\" d=\"M126.529 1349.33 Q122.918 1349.33 121.089 1352.89 Q119.283 1356.43 119.283 1363.56 Q119.283 1370.67 121.089 1374.23 Q122.918 1377.78 126.529 1377.78 Q130.163 1377.78 131.968 1374.23 Q133.797 1370.67 133.797 1363.56 Q133.797 1356.43 131.968 1352.89 Q130.163 1349.33 126.529 1349.33 M126.529 1345.62 Q132.339 1345.62 135.394 1350.23 Q138.473 1354.81 138.473 1363.56 Q138.473 1372.29 135.394 1376.9 Q132.339 1381.48 126.529 1381.48 Q120.718 1381.48 117.64 1376.9 Q114.584 1372.29 114.584 1363.56 Q114.584 1354.81 117.64 1350.23 Q120.718 1345.62 126.529 1345.62 Z\" fill=\"#000000\" fill-rule=\"nonzero\" fill-opacity=\"1\" /><path clip-path=\"url(#clip870)\" d=\"M146.691 1374.93 L151.575 1374.93 L151.575 1380.81 L146.691 1380.81 L146.691 1374.93 Z\" fill=\"#000000\" fill-rule=\"nonzero\" fill-opacity=\"1\" /><path clip-path=\"url(#clip870)\" d=\"M171.76 1349.33 Q168.149 1349.33 166.32 1352.89 Q164.515 1356.43 164.515 1363.56 Q164.515 1370.67 166.32 1374.23 Q168.149 1377.78 171.76 1377.78 Q175.394 1377.78 177.2 1374.23 Q179.028 1370.67 179.028 1363.56 Q179.028 1356.43 177.2 1352.89 Q175.394 1349.33 171.76 1349.33 M171.76 1345.62 Q177.57 1345.62 180.626 1350.23 Q183.704 1354.81 183.704 1363.56 Q183.704 1372.29 180.626 1376.9 Q177.57 1381.48 171.76 1381.48 Q165.95 1381.48 162.871 1376.9 Q159.815 1372.29 159.815 1363.56 Q159.815 1354.81 162.871 1350.23 Q165.95 1345.62 171.76 1345.62 Z\" fill=\"#000000\" fill-rule=\"nonzero\" fill-opacity=\"1\" /><path clip-path=\"url(#clip870)\" d=\"M202.5 1361.67 Q199.352 1361.67 197.5 1363.82 Q195.672 1365.97 195.672 1369.72 Q195.672 1373.45 197.5 1375.62 Q199.352 1377.78 202.5 1377.78 Q205.649 1377.78 207.477 1375.62 Q209.329 1373.45 209.329 1369.72 Q209.329 1365.97 207.477 1363.82 Q205.649 1361.67 202.5 1361.67 M211.783 1347.01 L211.783 1351.27 Q210.024 1350.44 208.218 1350 Q206.436 1349.56 204.676 1349.56 Q200.047 1349.56 197.593 1352.68 Q195.163 1355.81 194.815 1362.13 Q196.181 1360.11 198.241 1359.05 Q200.301 1357.96 202.778 1357.96 Q207.987 1357.96 210.996 1361.13 Q214.028 1364.28 214.028 1369.72 Q214.028 1375.04 210.88 1378.26 Q207.732 1381.48 202.5 1381.48 Q196.505 1381.48 193.334 1376.9 Q190.163 1372.29 190.163 1363.56 Q190.163 1355.37 194.051 1350.51 Q197.94 1345.62 204.491 1345.62 Q206.25 1345.62 208.033 1345.97 Q209.838 1346.32 211.783 1347.01 Z\" fill=\"#000000\" fill-rule=\"nonzero\" fill-opacity=\"1\" /><path clip-path=\"url(#clip870)\" d=\"M126.783 1065.47 Q123.172 1065.47 121.343 1069.04 Q119.538 1072.58 119.538 1079.71 Q119.538 1086.82 121.343 1090.38 Q123.172 1093.92 126.783 1093.92 Q130.417 1093.92 132.223 1090.38 Q134.052 1086.82 134.052 1079.71 Q134.052 1072.58 132.223 1069.04 Q130.417 1065.47 126.783 1065.47 M126.783 1061.77 Q132.593 1061.77 135.649 1066.38 Q138.728 1070.96 138.728 1079.71 Q138.728 1088.44 135.649 1093.04 Q132.593 1097.63 126.783 1097.63 Q120.973 1097.63 117.894 1093.04 Q114.839 1088.44 114.839 1079.71 Q114.839 1070.96 117.894 1066.38 Q120.973 1061.77 126.783 1061.77 Z\" fill=\"#000000\" fill-rule=\"nonzero\" fill-opacity=\"1\" /><path clip-path=\"url(#clip870)\" d=\"M146.945 1091.08 L151.829 1091.08 L151.829 1096.95 L146.945 1096.95 L146.945 1091.08 Z\" fill=\"#000000\" fill-rule=\"nonzero\" fill-opacity=\"1\" /><path clip-path=\"url(#clip870)\" d=\"M172.014 1065.47 Q168.403 1065.47 166.575 1069.04 Q164.769 1072.58 164.769 1079.71 Q164.769 1086.82 166.575 1090.38 Q168.403 1093.92 172.014 1093.92 Q175.649 1093.92 177.454 1090.38 Q179.283 1086.82 179.283 1079.71 Q179.283 1072.58 177.454 1069.04 Q175.649 1065.47 172.014 1065.47 M172.014 1061.77 Q177.825 1061.77 180.88 1066.38 Q183.959 1070.96 183.959 1079.71 Q183.959 1088.44 180.88 1093.04 Q177.825 1097.63 172.014 1097.63 Q166.204 1097.63 163.126 1093.04 Q160.07 1088.44 160.07 1079.71 Q160.07 1070.96 163.126 1066.38 Q166.204 1061.77 172.014 1061.77 Z\" fill=\"#000000\" fill-rule=\"nonzero\" fill-opacity=\"1\" /><path clip-path=\"url(#clip870)\" d=\"M202.176 1080.54 Q198.843 1080.54 196.922 1082.33 Q195.024 1084.11 195.024 1087.23 Q195.024 1090.36 196.922 1092.14 Q198.843 1093.92 202.176 1093.92 Q205.51 1093.92 207.431 1092.14 Q209.352 1090.33 209.352 1087.23 Q209.352 1084.11 207.431 1082.33 Q205.533 1080.54 202.176 1080.54 M197.5 1078.55 Q194.491 1077.81 192.801 1075.75 Q191.135 1073.69 191.135 1070.73 Q191.135 1066.58 194.075 1064.18 Q197.037 1061.77 202.176 1061.77 Q207.338 1061.77 210.278 1064.18 Q213.218 1066.58 213.218 1070.73 Q213.218 1073.69 211.528 1075.75 Q209.861 1077.81 206.875 1078.55 Q210.255 1079.34 212.13 1081.63 Q214.028 1083.92 214.028 1087.23 Q214.028 1092.26 210.949 1094.94 Q207.894 1097.63 202.176 1097.63 Q196.459 1097.63 193.38 1094.94 Q190.325 1092.26 190.325 1087.23 Q190.325 1083.92 192.223 1081.63 Q194.121 1079.34 197.5 1078.55 M195.787 1071.17 Q195.787 1073.85 197.454 1075.36 Q199.144 1076.86 202.176 1076.86 Q205.186 1076.86 206.875 1075.36 Q208.588 1073.85 208.588 1071.17 Q208.588 1068.48 206.875 1066.98 Q205.186 1065.47 202.176 1065.47 Q199.144 1065.47 197.454 1066.98 Q195.787 1068.48 195.787 1071.17 Z\" fill=\"#000000\" fill-rule=\"nonzero\" fill-opacity=\"1\" /><path clip-path=\"url(#clip870)\" d=\"M126.691 781.619 Q123.08 781.619 121.251 785.184 Q119.445 788.726 119.445 795.855 Q119.445 802.962 121.251 806.527 Q123.08 810.068 126.691 810.068 Q130.325 810.068 132.13 806.527 Q133.959 802.962 133.959 795.855 Q133.959 788.726 132.13 785.184 Q130.325 781.619 126.691 781.619 M126.691 777.916 Q132.501 777.916 135.556 782.522 Q138.635 787.105 138.635 795.855 Q138.635 804.582 135.556 809.189 Q132.501 813.772 126.691 813.772 Q120.88 813.772 117.802 809.189 Q114.746 804.582 114.746 795.855 Q114.746 787.105 117.802 782.522 Q120.88 777.916 126.691 777.916 Z\" fill=\"#000000\" fill-rule=\"nonzero\" fill-opacity=\"1\" /><path clip-path=\"url(#clip870)\" d=\"M146.853 807.221 L151.737 807.221 L151.737 813.101 L146.853 813.101 L146.853 807.221 Z\" fill=\"#000000\" fill-rule=\"nonzero\" fill-opacity=\"1\" /><path clip-path=\"url(#clip870)\" d=\"M162.732 809.165 L170.371 809.165 L170.371 782.8 L162.061 784.467 L162.061 780.207 L170.325 778.541 L175.001 778.541 L175.001 809.165 L182.639 809.165 L182.639 813.101 L162.732 813.101 L162.732 809.165 Z\" fill=\"#000000\" fill-rule=\"nonzero\" fill-opacity=\"1\" /><path clip-path=\"url(#clip870)\" d=\"M202.084 781.619 Q198.473 781.619 196.644 785.184 Q194.838 788.726 194.838 795.855 Q194.838 802.962 196.644 806.527 Q198.473 810.068 202.084 810.068 Q205.718 810.068 207.524 806.527 Q209.352 802.962 209.352 795.855 Q209.352 788.726 207.524 785.184 Q205.718 781.619 202.084 781.619 M202.084 777.916 Q207.894 777.916 210.949 782.522 Q214.028 787.105 214.028 795.855 Q214.028 804.582 210.949 809.189 Q207.894 813.772 202.084 813.772 Q196.274 813.772 193.195 809.189 Q190.139 804.582 190.139 795.855 Q190.139 787.105 193.195 782.522 Q196.274 777.916 202.084 777.916 Z\" fill=\"#000000\" fill-rule=\"nonzero\" fill-opacity=\"1\" /><path clip-path=\"url(#clip870)\" d=\"M128.288 497.765 Q124.677 497.765 122.848 501.33 Q121.043 504.872 121.043 512.001 Q121.043 519.108 122.848 522.673 Q124.677 526.214 128.288 526.214 Q131.922 526.214 133.728 522.673 Q135.556 519.108 135.556 512.001 Q135.556 504.872 133.728 501.33 Q131.922 497.765 128.288 497.765 M128.288 494.062 Q134.098 494.062 137.154 498.668 Q140.232 503.251 140.232 512.001 Q140.232 520.728 137.154 525.335 Q134.098 529.918 128.288 529.918 Q122.478 529.918 119.399 525.335 Q116.343 520.728 116.343 512.001 Q116.343 503.251 119.399 498.668 Q122.478 494.062 128.288 494.062 Z\" fill=\"#000000\" fill-rule=\"nonzero\" fill-opacity=\"1\" /><path clip-path=\"url(#clip870)\" d=\"M148.45 523.367 L153.334 523.367 L153.334 529.247 L148.45 529.247 L148.45 523.367 Z\" fill=\"#000000\" fill-rule=\"nonzero\" fill-opacity=\"1\" /><path clip-path=\"url(#clip870)\" d=\"M164.329 525.311 L171.968 525.311 L171.968 498.946 L163.658 500.613 L163.658 496.353 L171.922 494.687 L176.598 494.687 L176.598 525.311 L184.237 525.311 L184.237 529.247 L164.329 529.247 L164.329 525.311 Z\" fill=\"#000000\" fill-rule=\"nonzero\" fill-opacity=\"1\" /><path clip-path=\"url(#clip870)\" d=\"M197.709 525.311 L214.028 525.311 L214.028 529.247 L192.084 529.247 L192.084 525.311 Q194.746 522.557 199.329 517.927 Q203.936 513.275 205.116 511.932 Q207.362 509.409 208.241 507.673 Q209.144 505.913 209.144 504.224 Q209.144 501.469 207.199 499.733 Q205.278 497.997 202.176 497.997 Q199.977 497.997 197.524 498.761 Q195.093 499.525 192.315 501.076 L192.315 496.353 Q195.139 495.219 197.593 494.64 Q200.047 494.062 202.084 494.062 Q207.454 494.062 210.649 496.747 Q213.843 499.432 213.843 503.923 Q213.843 506.052 213.033 507.974 Q212.246 509.872 210.139 512.464 Q209.561 513.136 206.459 516.353 Q203.357 519.548 197.709 525.311 Z\" fill=\"#000000\" fill-rule=\"nonzero\" fill-opacity=\"1\" /><path clip-path=\"url(#clip870)\" d=\"M126.205 213.911 Q122.593 213.911 120.765 217.476 Q118.959 221.018 118.959 228.147 Q118.959 235.254 120.765 238.819 Q122.593 242.36 126.205 242.36 Q129.839 242.36 131.644 238.819 Q133.473 235.254 133.473 228.147 Q133.473 221.018 131.644 217.476 Q129.839 213.911 126.205 213.911 M126.205 210.208 Q132.015 210.208 135.07 214.814 Q138.149 219.397 138.149 228.147 Q138.149 236.874 135.07 241.481 Q132.015 246.064 126.205 246.064 Q120.394 246.064 117.316 241.481 Q114.26 236.874 114.26 228.147 Q114.26 219.397 117.316 214.814 Q120.394 210.208 126.205 210.208 Z\" fill=\"#000000\" fill-rule=\"nonzero\" fill-opacity=\"1\" /><path clip-path=\"url(#clip870)\" d=\"M146.366 239.513 L151.251 239.513 L151.251 245.393 L146.366 245.393 L146.366 239.513 Z\" fill=\"#000000\" fill-rule=\"nonzero\" fill-opacity=\"1\" /><path clip-path=\"url(#clip870)\" d=\"M162.246 241.457 L169.885 241.457 L169.885 215.092 L161.575 216.759 L161.575 212.499 L169.839 210.833 L174.514 210.833 L174.514 241.457 L182.153 241.457 L182.153 245.393 L162.246 245.393 L162.246 241.457 Z\" fill=\"#000000\" fill-rule=\"nonzero\" fill-opacity=\"1\" /><path clip-path=\"url(#clip870)\" d=\"M204.445 214.907 L192.639 233.356 L204.445 233.356 L204.445 214.907 M203.218 210.833 L209.098 210.833 L209.098 233.356 L214.028 233.356 L214.028 237.245 L209.098 237.245 L209.098 245.393 L204.445 245.393 L204.445 237.245 L188.843 237.245 L188.843 232.731 L203.218 210.833 Z\" fill=\"#000000\" fill-rule=\"nonzero\" fill-opacity=\"1\" /><path clip-path=\"url(#clip870)\" d=\"M41.7242 835.074 Q42.4244 833.005 44.7161 831.064 Q47.0077 829.09 51.0181 827.117 L64.0042 820.592 L64.0042 827.499 L51.8138 833.578 Q47.0395 835.933 45.48 838.161 Q43.9204 840.358 43.9204 844.177 L43.9204 851.179 L64.0042 851.179 L64.0042 857.609 L16.4842 857.609 L16.4842 843.095 Q16.4842 834.947 19.8898 830.936 Q23.2955 826.926 30.1704 826.926 Q34.6582 826.926 37.6183 829.027 Q40.5784 831.095 41.7242 835.074 M21.7677 851.179 L38.6368 851.179 L38.6368 843.095 Q38.6368 838.448 36.5043 836.093 Q34.34 833.705 30.1704 833.705 Q26.0009 833.705 23.9002 836.093 Q21.7677 838.448 21.7677 843.095 L21.7677 851.179 Z\" fill=\"#000000\" fill-rule=\"nonzero\" fill-opacity=\"1\" /><path clip-path=\"url(#clip870)\" d=\"M44.7161 785.008 L47.5806 785.008 L47.5806 811.935 Q53.6281 811.553 56.8109 808.306 Q59.9619 805.028 59.9619 799.203 Q59.9619 795.829 59.1344 792.678 Q58.3069 789.496 56.6518 786.376 L62.1899 786.376 Q63.5267 789.527 64.227 792.838 Q64.9272 796.148 64.9272 799.553 Q64.9272 808.083 59.9619 813.08 Q54.9967 818.046 46.5303 818.046 Q37.7774 818.046 32.6531 813.335 Q27.4968 808.593 27.4968 800.572 Q27.4968 793.379 32.1438 789.209 Q36.7589 785.008 44.7161 785.008 M42.9973 790.864 Q38.1912 790.928 35.3266 793.57 Q32.4621 796.18 32.4621 800.508 Q32.4621 805.41 35.2312 808.37 Q38.0002 811.298 43.0292 811.744 L42.9973 790.864 Z\" fill=\"#000000\" fill-rule=\"nonzero\" fill-opacity=\"1\" /><path clip-path=\"url(#clip870)\" d=\"M18.2347 769.603 L28.3562 769.603 L28.3562 757.54 L32.9077 757.54 L32.9077 769.603 L52.2594 769.603 Q56.6199 769.603 57.8613 768.425 Q59.1026 767.216 59.1026 763.555 L59.1026 757.54 L64.0042 757.54 L64.0042 763.555 Q64.0042 770.335 61.4897 772.913 Q58.9434 775.491 52.2594 775.491 L32.9077 775.491 L32.9077 779.788 L28.3562 779.788 L28.3562 775.491 L18.2347 775.491 L18.2347 769.603 Z\" fill=\"#000000\" fill-rule=\"nonzero\" fill-opacity=\"1\" /><path clip-path=\"url(#clip870)\" d=\"M32.4621 736.024 Q32.4621 740.734 36.1542 743.471 Q39.8145 746.209 46.212 746.209 Q52.6095 746.209 56.3017 743.503 Q59.9619 740.766 59.9619 736.024 Q59.9619 731.345 56.2698 728.608 Q52.5777 725.87 46.212 725.87 Q39.8781 725.87 36.186 728.608 Q32.4621 731.345 32.4621 736.024 M27.4968 736.024 Q27.4968 728.385 32.4621 724.024 Q37.4273 719.664 46.212 719.664 Q54.9649 719.664 59.9619 724.024 Q64.9272 728.385 64.9272 736.024 Q64.9272 743.694 59.9619 748.055 Q54.9649 752.383 46.212 752.383 Q37.4273 752.383 32.4621 748.055 Q27.4968 743.694 27.4968 736.024 Z\" fill=\"#000000\" fill-rule=\"nonzero\" fill-opacity=\"1\" /><path clip-path=\"url(#clip870)\" d=\"M33.8307 689.299 Q33.2578 690.286 33.0032 691.464 Q32.7167 692.609 32.7167 694.01 Q32.7167 698.975 35.9632 701.649 Q39.1779 704.291 45.2253 704.291 L64.0042 704.291 L64.0042 710.179 L28.3562 710.179 L28.3562 704.291 L33.8944 704.291 Q30.6479 702.444 29.0883 699.484 Q27.4968 696.524 27.4968 692.291 Q27.4968 691.686 27.5923 690.954 Q27.656 690.222 27.8151 689.331 L33.8307 689.299 Z\" fill=\"#000000\" fill-rule=\"nonzero\" fill-opacity=\"1\" /><path clip-path=\"url(#clip870)\" d=\"M42.4881 654.67 L64.0042 654.67 L64.0042 660.526 L42.679 660.526 Q37.6183 660.526 35.1038 662.5 Q32.5894 664.473 32.5894 668.42 Q32.5894 673.162 35.6131 675.899 Q38.6368 678.637 43.8567 678.637 L64.0042 678.637 L64.0042 684.525 L28.3562 684.525 L28.3562 678.637 L33.8944 678.637 Q30.6797 676.536 29.0883 673.703 Q27.4968 670.839 27.4968 667.115 Q27.4968 660.972 31.3163 657.821 Q35.1038 654.67 42.4881 654.67 Z\" fill=\"#000000\" fill-rule=\"nonzero\" fill-opacity=\"1\" /><path clip-path=\"url(#clip870)\" d=\"M32.4621 629.175 Q32.4621 633.886 36.1542 636.623 Q39.8145 639.36 46.212 639.36 Q52.6095 639.36 56.3017 636.655 Q59.9619 633.918 59.9619 629.175 Q59.9619 624.496 56.2698 621.759 Q52.5777 619.022 46.212 619.022 Q39.8781 619.022 36.186 621.759 Q32.4621 624.496 32.4621 629.175 M27.4968 629.175 Q27.4968 621.536 32.4621 617.176 Q37.4273 612.815 46.212 612.815 Q54.9649 612.815 59.9619 617.176 Q64.9272 621.536 64.9272 629.175 Q64.9272 636.846 59.9619 641.206 Q54.9649 645.535 46.212 645.535 Q37.4273 645.535 32.4621 641.206 Q27.4968 636.846 27.4968 629.175 Z\" fill=\"#000000\" fill-rule=\"nonzero\" fill-opacity=\"1\" /><polyline clip-path=\"url(#clip872)\" style=\"stroke:#009af9; stroke-linecap:round; stroke-linejoin:round; stroke-width:4; stroke-opacity:1; fill:none\" points=\"2293.24,86.1858 2293.24,86.1858 2293.24,86.1858 2293.24,86.1858 2293.24,86.1858 2293.24,86.1858 2293.24,86.1858 2293.24,86.1858 2293.24,86.1858 2293.24,86.1858 2293.24,86.1858 2293.24,86.1858 2293.24,86.1858 2293.24,86.1858 2293.24,86.1858 2293.24,86.1858 2293.24,86.1858 2293.24,86.1858 2293.24,86.1857 2293.24,86.1858 2293.24,86.1858 2293.24,86.1858 2293.24,86.1858 2293.24,86.1858 2293.24,86.1858 2293.24,86.1858 2293.24,86.1859 2293.24,86.1857 2293.24,86.1861 2293.24,86.1861 2252.26,99.8201 2108.29,151.696 1927.56,228.136 1550.45,398.349 1254.7,541.48 1026.15,661.84 852.119,763.049 721.469,848.156 624.622,919.722 553.609,979.902 493.034,1039.59 440.901,1098.73 402.94,1148.85 375.674,1191 356.174,1226.44 342.272,1256.24 332.384,1281.3 325.362,1302.37 320.382,1320.09 316.854,1335 314.355,1347.53 312.586,1358.06 311.334,1366.92 310.449,1374.37 309.824,1380.62 309.651,1382.66 309.539,1384.24 \"/>\n",
       "<path clip-path=\"url(#clip870)\" d=\"M320.119 196.789 L954.302 196.789 L954.302 93.1086 L320.119 93.1086  Z\" fill=\"#ffffff\" fill-rule=\"evenodd\" fill-opacity=\"1\"/>\n",
       "<polyline clip-path=\"url(#clip870)\" style=\"stroke:#000000; stroke-linecap:round; stroke-linejoin:round; stroke-width:4; stroke-opacity:1; fill:none\" points=\"320.119,196.789 954.302,196.789 954.302,93.1086 320.119,93.1086 320.119,196.789 \"/>\n",
       "<polyline clip-path=\"url(#clip870)\" style=\"stroke:#009af9; stroke-linecap:round; stroke-linejoin:round; stroke-width:4; stroke-opacity:1; fill:none\" points=\"343.483,144.949 483.665,144.949 \"/>\n",
       "<path clip-path=\"url(#clip870)\" d=\"M507.028 127.669 L526.889 127.669 L526.889 131.604 L511.704 131.604 L511.704 141.789 L525.408 141.789 L525.408 145.724 L511.704 145.724 L511.704 162.229 L507.028 162.229 L507.028 127.669 Z\" fill=\"#000000\" fill-rule=\"nonzero\" fill-opacity=\"1\" /><path clip-path=\"url(#clip870)\" d=\"M545.685 140.284 Q544.968 139.868 544.111 139.682 Q543.278 139.474 542.259 139.474 Q538.648 139.474 536.704 141.835 Q534.783 144.173 534.783 148.571 L534.783 162.229 L530.5 162.229 L530.5 136.303 L534.783 136.303 L534.783 140.331 Q536.125 137.969 538.278 136.835 Q540.431 135.678 543.509 135.678 Q543.949 135.678 544.482 135.747 Q545.014 135.794 545.662 135.909 L545.685 140.284 Z\" fill=\"#000000\" fill-rule=\"nonzero\" fill-opacity=\"1\" /><path clip-path=\"url(#clip870)\" d=\"M559.158 139.289 Q555.732 139.289 553.741 141.974 Q551.75 144.636 551.75 149.289 Q551.75 153.942 553.718 156.627 Q555.708 159.289 559.158 159.289 Q562.56 159.289 564.551 156.604 Q566.542 153.918 566.542 149.289 Q566.542 144.682 564.551 141.997 Q562.56 139.289 559.158 139.289 M559.158 135.678 Q564.713 135.678 567.884 139.289 Q571.056 142.9 571.056 149.289 Q571.056 155.655 567.884 159.289 Q564.713 162.9 559.158 162.9 Q553.579 162.9 550.408 159.289 Q547.259 155.655 547.259 149.289 Q547.259 142.9 550.408 139.289 Q553.579 135.678 559.158 135.678 Z\" fill=\"#000000\" fill-rule=\"nonzero\" fill-opacity=\"1\" /><path clip-path=\"url(#clip870)\" d=\"M599.667 146.581 L599.667 162.229 L595.407 162.229 L595.407 146.719 Q595.407 143.039 593.972 141.21 Q592.537 139.382 589.667 139.382 Q586.218 139.382 584.227 141.581 Q582.236 143.78 582.236 147.576 L582.236 162.229 L577.954 162.229 L577.954 136.303 L582.236 136.303 L582.236 140.331 Q583.764 137.993 585.824 136.835 Q587.907 135.678 590.616 135.678 Q595.083 135.678 597.375 138.456 Q599.667 141.21 599.667 146.581 Z\" fill=\"#000000\" fill-rule=\"nonzero\" fill-opacity=\"1\" /><path clip-path=\"url(#clip870)\" d=\"M612.375 128.942 L612.375 136.303 L621.148 136.303 L621.148 139.613 L612.375 139.613 L612.375 153.687 Q612.375 156.858 613.231 157.761 Q614.111 158.664 616.773 158.664 L621.148 158.664 L621.148 162.229 L616.773 162.229 Q611.842 162.229 609.967 160.4 Q608.092 158.548 608.092 153.687 L608.092 139.613 L604.967 139.613 L604.967 136.303 L608.092 136.303 L608.092 128.942 L612.375 128.942 Z\" fill=\"#000000\" fill-rule=\"nonzero\" fill-opacity=\"1\" /><path clip-path=\"url(#clip870)\" d=\"M648.926 148.201 L648.926 150.284 L629.342 150.284 Q629.62 154.682 631.981 156.997 Q634.365 159.289 638.602 159.289 Q641.055 159.289 643.347 158.687 Q645.662 158.085 647.93 156.881 L647.93 160.909 Q645.639 161.881 643.231 162.391 Q640.824 162.9 638.347 162.9 Q632.143 162.9 628.509 159.289 Q624.898 155.678 624.898 149.52 Q624.898 143.155 628.324 139.428 Q631.773 135.678 637.606 135.678 Q642.838 135.678 645.87 139.057 Q648.926 142.414 648.926 148.201 M644.666 146.951 Q644.62 143.456 642.699 141.372 Q640.801 139.289 637.653 139.289 Q634.088 139.289 631.935 141.303 Q629.805 143.317 629.481 146.974 L644.666 146.951 Z\" fill=\"#000000\" fill-rule=\"nonzero\" fill-opacity=\"1\" /><path clip-path=\"url(#clip870)\" d=\"M655.916 136.303 L660.176 136.303 L660.176 162.229 L655.916 162.229 L655.916 136.303 M655.916 126.21 L660.176 126.21 L660.176 131.604 L655.916 131.604 L655.916 126.21 Z\" fill=\"#000000\" fill-rule=\"nonzero\" fill-opacity=\"1\" /><path clip-path=\"url(#clip870)\" d=\"M684.111 140.284 Q683.393 139.868 682.537 139.682 Q681.703 139.474 680.685 139.474 Q677.074 139.474 675.129 141.835 Q673.208 144.173 673.208 148.571 L673.208 162.229 L668.925 162.229 L668.925 136.303 L673.208 136.303 L673.208 140.331 Q674.55 137.969 676.703 136.835 Q678.856 135.678 681.935 135.678 Q682.374 135.678 682.907 135.747 Q683.439 135.794 684.087 135.909 L684.111 140.284 Z\" fill=\"#000000\" fill-rule=\"nonzero\" fill-opacity=\"1\" /><path clip-path=\"url(#clip870)\" d=\"M700.36 149.196 Q695.198 149.196 693.208 150.377 Q691.217 151.557 691.217 154.405 Q691.217 156.673 692.699 158.016 Q694.203 159.335 696.773 159.335 Q700.314 159.335 702.444 156.835 Q704.597 154.312 704.597 150.145 L704.597 149.196 L700.36 149.196 M708.856 147.437 L708.856 162.229 L704.597 162.229 L704.597 158.293 Q703.138 160.655 700.962 161.789 Q698.786 162.9 695.638 162.9 Q691.657 162.9 689.296 160.678 Q686.958 158.432 686.958 154.682 Q686.958 150.307 689.874 148.085 Q692.814 145.863 698.624 145.863 L704.597 145.863 L704.597 145.446 Q704.597 142.507 702.652 140.909 Q700.731 139.289 697.236 139.289 Q695.013 139.289 692.907 139.821 Q690.8 140.354 688.856 141.419 L688.856 137.483 Q691.194 136.581 693.393 136.141 Q695.592 135.678 697.675 135.678 Q703.3 135.678 706.078 138.594 Q708.856 141.511 708.856 147.437 Z\" fill=\"#000000\" fill-rule=\"nonzero\" fill-opacity=\"1\" /><path clip-path=\"url(#clip870)\" d=\"M754.874 148.201 L754.874 150.284 L735.291 150.284 Q735.569 154.682 737.93 156.997 Q740.314 159.289 744.55 159.289 Q747.004 159.289 749.295 158.687 Q751.61 158.085 753.879 156.881 L753.879 160.909 Q751.587 161.881 749.18 162.391 Q746.772 162.9 744.295 162.9 Q738.092 162.9 734.458 159.289 Q730.846 155.678 730.846 149.52 Q730.846 143.155 734.272 139.428 Q737.721 135.678 743.555 135.678 Q748.786 135.678 751.819 139.057 Q754.874 142.414 754.874 148.201 M750.615 146.951 Q750.569 143.456 748.647 141.372 Q746.749 139.289 743.601 139.289 Q740.036 139.289 737.883 141.303 Q735.754 143.317 735.43 146.974 L750.615 146.951 Z\" fill=\"#000000\" fill-rule=\"nonzero\" fill-opacity=\"1\" /><path clip-path=\"url(#clip870)\" d=\"M774.99 126.21 L774.99 129.752 L770.916 129.752 Q768.624 129.752 767.721 130.678 Q766.842 131.604 766.842 134.011 L766.842 136.303 L773.855 136.303 L773.855 139.613 L766.842 139.613 L766.842 162.229 L762.559 162.229 L762.559 139.613 L758.485 139.613 L758.485 136.303 L762.559 136.303 L762.559 134.497 Q762.559 130.169 764.573 128.201 Q766.587 126.21 770.962 126.21 L774.99 126.21 Z\" fill=\"#000000\" fill-rule=\"nonzero\" fill-opacity=\"1\" /><path clip-path=\"url(#clip870)\" d=\"M778.555 136.303 L782.814 136.303 L782.814 162.229 L778.555 162.229 L778.555 136.303 M778.555 126.21 L782.814 126.21 L782.814 131.604 L778.555 131.604 L778.555 126.21 Z\" fill=\"#000000\" fill-rule=\"nonzero\" fill-opacity=\"1\" /><path clip-path=\"url(#clip870)\" d=\"M810.383 137.298 L810.383 141.28 Q808.578 140.284 806.749 139.798 Q804.943 139.289 803.091 139.289 Q798.948 139.289 796.656 141.928 Q794.365 144.544 794.365 149.289 Q794.365 154.034 796.656 156.673 Q798.948 159.289 803.091 159.289 Q804.943 159.289 806.749 158.803 Q808.578 158.293 810.383 157.298 L810.383 161.233 Q808.601 162.067 806.679 162.483 Q804.781 162.9 802.628 162.9 Q796.772 162.9 793.323 159.219 Q789.874 155.539 789.874 149.289 Q789.874 142.946 793.346 139.312 Q796.841 135.678 802.906 135.678 Q804.874 135.678 806.749 136.095 Q808.624 136.488 810.383 137.298 Z\" fill=\"#000000\" fill-rule=\"nonzero\" fill-opacity=\"1\" /><path clip-path=\"url(#clip870)\" d=\"M817.79 136.303 L822.05 136.303 L822.05 162.229 L817.79 162.229 L817.79 136.303 M817.79 126.21 L822.05 126.21 L822.05 131.604 L817.79 131.604 L817.79 126.21 Z\" fill=\"#000000\" fill-rule=\"nonzero\" fill-opacity=\"1\" /><path clip-path=\"url(#clip870)\" d=\"M853.137 148.201 L853.137 150.284 L833.554 150.284 Q833.832 154.682 836.193 156.997 Q838.577 159.289 842.813 159.289 Q845.267 159.289 847.559 158.687 Q849.874 158.085 852.142 156.881 L852.142 160.909 Q849.85 161.881 847.443 162.391 Q845.036 162.9 842.559 162.9 Q836.355 162.9 832.721 159.289 Q829.11 155.678 829.11 149.52 Q829.11 143.155 832.536 139.428 Q835.985 135.678 841.818 135.678 Q847.05 135.678 850.082 139.057 Q853.137 142.414 853.137 148.201 M848.878 146.951 Q848.832 143.456 846.911 141.372 Q845.013 139.289 841.864 139.289 Q838.3 139.289 836.147 141.303 Q834.017 143.317 833.693 146.974 L848.878 146.951 Z\" fill=\"#000000\" fill-rule=\"nonzero\" fill-opacity=\"1\" /><path clip-path=\"url(#clip870)\" d=\"M881.679 146.581 L881.679 162.229 L877.42 162.229 L877.42 146.719 Q877.42 143.039 875.985 141.21 Q874.549 139.382 871.679 139.382 Q868.23 139.382 866.239 141.581 Q864.249 143.78 864.249 147.576 L864.249 162.229 L859.966 162.229 L859.966 136.303 L864.249 136.303 L864.249 140.331 Q865.776 137.993 867.836 136.835 Q869.92 135.678 872.628 135.678 Q877.096 135.678 879.387 138.456 Q881.679 141.21 881.679 146.581 Z\" fill=\"#000000\" fill-rule=\"nonzero\" fill-opacity=\"1\" /><path clip-path=\"url(#clip870)\" d=\"M894.387 128.942 L894.387 136.303 L903.16 136.303 L903.16 139.613 L894.387 139.613 L894.387 153.687 Q894.387 156.858 895.244 157.761 Q896.123 158.664 898.785 158.664 L903.16 158.664 L903.16 162.229 L898.785 162.229 Q893.855 162.229 891.98 160.4 Q890.105 158.548 890.105 153.687 L890.105 139.613 L886.98 139.613 L886.98 136.303 L890.105 136.303 L890.105 128.942 L894.387 128.942 Z\" fill=\"#000000\" fill-rule=\"nonzero\" fill-opacity=\"1\" /><path clip-path=\"url(#clip870)\" d=\"M930.938 148.201 L930.938 150.284 L911.355 150.284 Q911.633 154.682 913.994 156.997 Q916.378 159.289 920.614 159.289 Q923.068 159.289 925.359 158.687 Q927.674 158.085 929.943 156.881 L929.943 160.909 Q927.651 161.881 925.244 162.391 Q922.836 162.9 920.359 162.9 Q914.156 162.9 910.521 159.289 Q906.91 155.678 906.91 149.52 Q906.91 143.155 910.336 139.428 Q913.785 135.678 919.619 135.678 Q924.85 135.678 927.882 139.057 Q930.938 142.414 930.938 148.201 M926.679 146.951 Q926.632 143.456 924.711 141.372 Q922.813 139.289 919.665 139.289 Q916.1 139.289 913.947 141.303 Q911.818 143.317 911.494 146.974 L926.679 146.951 Z\" fill=\"#000000\" fill-rule=\"nonzero\" fill-opacity=\"1\" /></svg>\n"
      ],
      "text/html": [
       "<?xml version=\"1.0\" encoding=\"utf-8\"?>\n",
       "<svg xmlns=\"http://www.w3.org/2000/svg\" xmlns:xlink=\"http://www.w3.org/1999/xlink\" width=\"600\" height=\"400\" viewBox=\"0 0 2400 1600\">\n",
       "<defs>\n",
       "  <clipPath id=\"clip920\">\n",
       "    <rect x=\"0\" y=\"0\" width=\"2400\" height=\"1600\"/>\n",
       "  </clipPath>\n",
       "</defs>\n",
       "<path clip-path=\"url(#clip920)\" d=\"M0 1600 L2400 1600 L2400 0 L0 0  Z\" fill=\"#ffffff\" fill-rule=\"evenodd\" fill-opacity=\"1\"/>\n",
       "<defs>\n",
       "  <clipPath id=\"clip921\">\n",
       "    <rect x=\"480\" y=\"0\" width=\"1681\" height=\"1600\"/>\n",
       "  </clipPath>\n",
       "</defs>\n",
       "<path clip-path=\"url(#clip920)\" d=\"M250.028 1423.18 L2352.76 1423.18 L2352.76 47.2441 L250.028 47.2441  Z\" fill=\"#ffffff\" fill-rule=\"evenodd\" fill-opacity=\"1\"/>\n",
       "<defs>\n",
       "  <clipPath id=\"clip922\">\n",
       "    <rect x=\"250\" y=\"47\" width=\"2104\" height=\"1377\"/>\n",
       "  </clipPath>\n",
       "</defs>\n",
       "<polyline clip-path=\"url(#clip922)\" style=\"stroke:#000000; stroke-linecap:round; stroke-linejoin:round; stroke-width:2; stroke-opacity:0.1; fill:none\" points=\"458.784,1423.18 458.784,47.2441 \"/>\n",
       "<polyline clip-path=\"url(#clip922)\" style=\"stroke:#000000; stroke-linecap:round; stroke-linejoin:round; stroke-width:2; stroke-opacity:0.1; fill:none\" points=\"764.528,1423.18 764.528,47.2441 \"/>\n",
       "<polyline clip-path=\"url(#clip922)\" style=\"stroke:#000000; stroke-linecap:round; stroke-linejoin:round; stroke-width:2; stroke-opacity:0.1; fill:none\" points=\"1070.27,1423.18 1070.27,47.2441 \"/>\n",
       "<polyline clip-path=\"url(#clip922)\" style=\"stroke:#000000; stroke-linecap:round; stroke-linejoin:round; stroke-width:2; stroke-opacity:0.1; fill:none\" points=\"1376.01,1423.18 1376.01,47.2441 \"/>\n",
       "<polyline clip-path=\"url(#clip922)\" style=\"stroke:#000000; stroke-linecap:round; stroke-linejoin:round; stroke-width:2; stroke-opacity:0.1; fill:none\" points=\"1681.76,1423.18 1681.76,47.2441 \"/>\n",
       "<polyline clip-path=\"url(#clip922)\" style=\"stroke:#000000; stroke-linecap:round; stroke-linejoin:round; stroke-width:2; stroke-opacity:0.1; fill:none\" points=\"1987.5,1423.18 1987.5,47.2441 \"/>\n",
       "<polyline clip-path=\"url(#clip922)\" style=\"stroke:#000000; stroke-linecap:round; stroke-linejoin:round; stroke-width:2; stroke-opacity:0.1; fill:none\" points=\"2293.24,1423.18 2293.24,47.2441 \"/>\n",
       "<polyline clip-path=\"url(#clip922)\" style=\"stroke:#000000; stroke-linecap:round; stroke-linejoin:round; stroke-width:2; stroke-opacity:0.1; fill:none\" points=\"250.028,1363.53 2352.76,1363.53 \"/>\n",
       "<polyline clip-path=\"url(#clip922)\" style=\"stroke:#000000; stroke-linecap:round; stroke-linejoin:round; stroke-width:2; stroke-opacity:0.1; fill:none\" points=\"250.028,1079.67 2352.76,1079.67 \"/>\n",
       "<polyline clip-path=\"url(#clip922)\" style=\"stroke:#000000; stroke-linecap:round; stroke-linejoin:round; stroke-width:2; stroke-opacity:0.1; fill:none\" points=\"250.028,795.821 2352.76,795.821 \"/>\n",
       "<polyline clip-path=\"url(#clip922)\" style=\"stroke:#000000; stroke-linecap:round; stroke-linejoin:round; stroke-width:2; stroke-opacity:0.1; fill:none\" points=\"250.028,511.967 2352.76,511.967 \"/>\n",
       "<polyline clip-path=\"url(#clip922)\" style=\"stroke:#000000; stroke-linecap:round; stroke-linejoin:round; stroke-width:2; stroke-opacity:0.1; fill:none\" points=\"250.028,228.113 2352.76,228.113 \"/>\n",
       "<polyline clip-path=\"url(#clip920)\" style=\"stroke:#000000; stroke-linecap:round; stroke-linejoin:round; stroke-width:4; stroke-opacity:1; fill:none\" points=\"250.028,1423.18 2352.76,1423.18 \"/>\n",
       "<polyline clip-path=\"url(#clip920)\" style=\"stroke:#000000; stroke-linecap:round; stroke-linejoin:round; stroke-width:4; stroke-opacity:1; fill:none\" points=\"458.784,1423.18 458.784,1404.28 \"/>\n",
       "<polyline clip-path=\"url(#clip920)\" style=\"stroke:#000000; stroke-linecap:round; stroke-linejoin:round; stroke-width:4; stroke-opacity:1; fill:none\" points=\"764.528,1423.18 764.528,1404.28 \"/>\n",
       "<polyline clip-path=\"url(#clip920)\" style=\"stroke:#000000; stroke-linecap:round; stroke-linejoin:round; stroke-width:4; stroke-opacity:1; fill:none\" points=\"1070.27,1423.18 1070.27,1404.28 \"/>\n",
       "<polyline clip-path=\"url(#clip920)\" style=\"stroke:#000000; stroke-linecap:round; stroke-linejoin:round; stroke-width:4; stroke-opacity:1; fill:none\" points=\"1376.01,1423.18 1376.01,1404.28 \"/>\n",
       "<polyline clip-path=\"url(#clip920)\" style=\"stroke:#000000; stroke-linecap:round; stroke-linejoin:round; stroke-width:4; stroke-opacity:1; fill:none\" points=\"1681.76,1423.18 1681.76,1404.28 \"/>\n",
       "<polyline clip-path=\"url(#clip920)\" style=\"stroke:#000000; stroke-linecap:round; stroke-linejoin:round; stroke-width:4; stroke-opacity:1; fill:none\" points=\"1987.5,1423.18 1987.5,1404.28 \"/>\n",
       "<polyline clip-path=\"url(#clip920)\" style=\"stroke:#000000; stroke-linecap:round; stroke-linejoin:round; stroke-width:4; stroke-opacity:1; fill:none\" points=\"2293.24,1423.18 2293.24,1404.28 \"/>\n",
       "<path clip-path=\"url(#clip920)\" d=\"M421.539 1454.1 Q417.928 1454.1 416.099 1457.66 Q414.294 1461.2 414.294 1468.33 Q414.294 1475.44 416.099 1479.01 Q417.928 1482.55 421.539 1482.55 Q425.173 1482.55 426.979 1479.01 Q428.808 1475.44 428.808 1468.33 Q428.808 1461.2 426.979 1457.66 Q425.173 1454.1 421.539 1454.1 M421.539 1450.39 Q427.349 1450.39 430.405 1455 Q433.484 1459.58 433.484 1468.33 Q433.484 1477.06 430.405 1481.67 Q427.349 1486.25 421.539 1486.25 Q415.729 1486.25 412.65 1481.67 Q409.595 1477.06 409.595 1468.33 Q409.595 1459.58 412.65 1455 Q415.729 1450.39 421.539 1450.39 Z\" fill=\"#000000\" fill-rule=\"nonzero\" fill-opacity=\"1\" /><path clip-path=\"url(#clip920)\" d=\"M441.701 1479.7 L446.585 1479.7 L446.585 1485.58 L441.701 1485.58 L441.701 1479.7 Z\" fill=\"#000000\" fill-rule=\"nonzero\" fill-opacity=\"1\" /><path clip-path=\"url(#clip920)\" d=\"M466.77 1454.1 Q463.159 1454.1 461.331 1457.66 Q459.525 1461.2 459.525 1468.33 Q459.525 1475.44 461.331 1479.01 Q463.159 1482.55 466.77 1482.55 Q470.405 1482.55 472.21 1479.01 Q474.039 1475.44 474.039 1468.33 Q474.039 1461.2 472.21 1457.66 Q470.405 1454.1 466.77 1454.1 M466.77 1450.39 Q472.581 1450.39 475.636 1455 Q478.715 1459.58 478.715 1468.33 Q478.715 1477.06 475.636 1481.67 Q472.581 1486.25 466.77 1486.25 Q460.96 1486.25 457.882 1481.67 Q454.826 1477.06 454.826 1468.33 Q454.826 1459.58 457.882 1455 Q460.96 1450.39 466.77 1450.39 Z\" fill=\"#000000\" fill-rule=\"nonzero\" fill-opacity=\"1\" /><path clip-path=\"url(#clip920)\" d=\"M485.752 1451.02 L507.974 1451.02 L507.974 1453.01 L495.428 1485.58 L490.543 1485.58 L502.349 1454.96 L485.752 1454.96 L485.752 1451.02 Z\" fill=\"#000000\" fill-rule=\"nonzero\" fill-opacity=\"1\" /><path clip-path=\"url(#clip920)\" d=\"M726.877 1454.1 Q723.266 1454.1 721.438 1457.66 Q719.632 1461.2 719.632 1468.33 Q719.632 1475.44 721.438 1479.01 Q723.266 1482.55 726.877 1482.55 Q730.512 1482.55 732.317 1479.01 Q734.146 1475.44 734.146 1468.33 Q734.146 1461.2 732.317 1457.66 Q730.512 1454.1 726.877 1454.1 M726.877 1450.39 Q732.688 1450.39 735.743 1455 Q738.822 1459.58 738.822 1468.33 Q738.822 1477.06 735.743 1481.67 Q732.688 1486.25 726.877 1486.25 Q721.067 1486.25 717.989 1481.67 Q714.933 1477.06 714.933 1468.33 Q714.933 1459.58 717.989 1455 Q721.067 1450.39 726.877 1450.39 Z\" fill=\"#000000\" fill-rule=\"nonzero\" fill-opacity=\"1\" /><path clip-path=\"url(#clip920)\" d=\"M747.039 1479.7 L751.924 1479.7 L751.924 1485.58 L747.039 1485.58 L747.039 1479.7 Z\" fill=\"#000000\" fill-rule=\"nonzero\" fill-opacity=\"1\" /><path clip-path=\"url(#clip920)\" d=\"M772.109 1454.1 Q768.498 1454.1 766.669 1457.66 Q764.863 1461.2 764.863 1468.33 Q764.863 1475.44 766.669 1479.01 Q768.498 1482.55 772.109 1482.55 Q775.743 1482.55 777.549 1479.01 Q779.377 1475.44 779.377 1468.33 Q779.377 1461.2 777.549 1457.66 Q775.743 1454.1 772.109 1454.1 M772.109 1450.39 Q777.919 1450.39 780.974 1455 Q784.053 1459.58 784.053 1468.33 Q784.053 1477.06 780.974 1481.67 Q777.919 1486.25 772.109 1486.25 Q766.299 1486.25 763.22 1481.67 Q760.164 1477.06 760.164 1468.33 Q760.164 1459.58 763.22 1455 Q766.299 1450.39 772.109 1450.39 Z\" fill=\"#000000\" fill-rule=\"nonzero\" fill-opacity=\"1\" /><path clip-path=\"url(#clip920)\" d=\"M802.271 1469.17 Q798.937 1469.17 797.016 1470.95 Q795.118 1472.73 795.118 1475.86 Q795.118 1478.98 797.016 1480.77 Q798.937 1482.55 802.271 1482.55 Q805.604 1482.55 807.525 1480.77 Q809.446 1478.96 809.446 1475.86 Q809.446 1472.73 807.525 1470.95 Q805.627 1469.17 802.271 1469.17 M797.595 1467.18 Q794.585 1466.44 792.896 1464.38 Q791.229 1462.32 791.229 1459.35 Q791.229 1455.21 794.169 1452.8 Q797.132 1450.39 802.271 1450.39 Q807.433 1450.39 810.372 1452.8 Q813.312 1455.21 813.312 1459.35 Q813.312 1462.32 811.622 1464.38 Q809.956 1466.44 806.97 1467.18 Q810.349 1467.96 812.224 1470.26 Q814.122 1472.55 814.122 1475.86 Q814.122 1480.88 811.044 1483.57 Q807.988 1486.25 802.271 1486.25 Q796.553 1486.25 793.474 1483.57 Q790.419 1480.88 790.419 1475.86 Q790.419 1472.55 792.317 1470.26 Q794.215 1467.96 797.595 1467.18 M795.882 1459.79 Q795.882 1462.48 797.548 1463.98 Q799.238 1465.49 802.271 1465.49 Q805.28 1465.49 806.97 1463.98 Q808.683 1462.48 808.683 1459.79 Q808.683 1457.11 806.97 1455.6 Q805.28 1454.1 802.271 1454.1 Q799.238 1454.1 797.548 1455.6 Q795.882 1457.11 795.882 1459.79 Z\" fill=\"#000000\" fill-rule=\"nonzero\" fill-opacity=\"1\" /><path clip-path=\"url(#clip920)\" d=\"M1032.67 1454.1 Q1029.06 1454.1 1027.23 1457.66 Q1025.42 1461.2 1025.42 1468.33 Q1025.42 1475.44 1027.23 1479.01 Q1029.06 1482.55 1032.67 1482.55 Q1036.3 1482.55 1038.11 1479.01 Q1039.94 1475.44 1039.94 1468.33 Q1039.94 1461.2 1038.11 1457.66 Q1036.3 1454.1 1032.67 1454.1 M1032.67 1450.39 Q1038.48 1450.39 1041.53 1455 Q1044.61 1459.58 1044.61 1468.33 Q1044.61 1477.06 1041.53 1481.67 Q1038.48 1486.25 1032.67 1486.25 Q1026.86 1486.25 1023.78 1481.67 Q1020.72 1477.06 1020.72 1468.33 Q1020.72 1459.58 1023.78 1455 Q1026.86 1450.39 1032.67 1450.39 Z\" fill=\"#000000\" fill-rule=\"nonzero\" fill-opacity=\"1\" /><path clip-path=\"url(#clip920)\" d=\"M1052.83 1479.7 L1057.71 1479.7 L1057.71 1485.58 L1052.83 1485.58 L1052.83 1479.7 Z\" fill=\"#000000\" fill-rule=\"nonzero\" fill-opacity=\"1\" /><path clip-path=\"url(#clip920)\" d=\"M1077.9 1454.1 Q1074.29 1454.1 1072.46 1457.66 Q1070.65 1461.2 1070.65 1468.33 Q1070.65 1475.44 1072.46 1479.01 Q1074.29 1482.55 1077.9 1482.55 Q1081.53 1482.55 1083.34 1479.01 Q1085.17 1475.44 1085.17 1468.33 Q1085.17 1461.2 1083.34 1457.66 Q1081.53 1454.1 1077.9 1454.1 M1077.9 1450.39 Q1083.71 1450.39 1086.76 1455 Q1089.84 1459.58 1089.84 1468.33 Q1089.84 1477.06 1086.76 1481.67 Q1083.71 1486.25 1077.9 1486.25 Q1072.09 1486.25 1069.01 1481.67 Q1065.95 1477.06 1065.95 1468.33 Q1065.95 1459.58 1069.01 1455 Q1072.09 1450.39 1077.9 1450.39 Z\" fill=\"#000000\" fill-rule=\"nonzero\" fill-opacity=\"1\" /><path clip-path=\"url(#clip920)\" d=\"M1098.2 1484.86 L1098.2 1480.6 Q1099.96 1481.44 1101.76 1481.88 Q1103.57 1482.32 1105.31 1482.32 Q1109.94 1482.32 1112.37 1479.21 Q1114.82 1476.09 1115.17 1469.75 Q1113.82 1471.74 1111.76 1472.8 Q1109.7 1473.87 1107.2 1473.87 Q1102.02 1473.87 1098.99 1470.74 Q1095.98 1467.59 1095.98 1462.15 Q1095.98 1456.83 1099.13 1453.61 Q1102.27 1450.39 1107.5 1450.39 Q1113.5 1450.39 1116.65 1455 Q1119.82 1459.58 1119.82 1468.33 Q1119.82 1476.51 1115.93 1481.39 Q1112.06 1486.25 1105.51 1486.25 Q1103.75 1486.25 1101.95 1485.9 Q1100.14 1485.56 1098.2 1484.86 M1107.5 1470.21 Q1110.65 1470.21 1112.48 1468.06 Q1114.33 1465.9 1114.33 1462.15 Q1114.33 1458.43 1112.48 1456.27 Q1110.65 1454.1 1107.5 1454.1 Q1104.36 1454.1 1102.5 1456.27 Q1100.68 1458.43 1100.68 1462.15 Q1100.68 1465.9 1102.5 1468.06 Q1104.36 1470.21 1107.5 1470.21 Z\" fill=\"#000000\" fill-rule=\"nonzero\" fill-opacity=\"1\" /><path clip-path=\"url(#clip920)\" d=\"M1338.32 1454.1 Q1334.71 1454.1 1332.88 1457.66 Q1331.07 1461.2 1331.07 1468.33 Q1331.07 1475.44 1332.88 1479.01 Q1334.71 1482.55 1338.32 1482.55 Q1341.95 1482.55 1343.76 1479.01 Q1345.59 1475.44 1345.59 1468.33 Q1345.59 1461.2 1343.76 1457.66 Q1341.95 1454.1 1338.32 1454.1 M1338.32 1450.39 Q1344.13 1450.39 1347.18 1455 Q1350.26 1459.58 1350.26 1468.33 Q1350.26 1477.06 1347.18 1481.67 Q1344.13 1486.25 1338.32 1486.25 Q1332.51 1486.25 1329.43 1481.67 Q1326.37 1477.06 1326.37 1468.33 Q1326.37 1459.58 1329.43 1455 Q1332.51 1450.39 1338.32 1450.39 Z\" fill=\"#000000\" fill-rule=\"nonzero\" fill-opacity=\"1\" /><path clip-path=\"url(#clip920)\" d=\"M1358.48 1479.7 L1363.36 1479.7 L1363.36 1485.58 L1358.48 1485.58 L1358.48 1479.7 Z\" fill=\"#000000\" fill-rule=\"nonzero\" fill-opacity=\"1\" /><path clip-path=\"url(#clip920)\" d=\"M1374.36 1481.64 L1382 1481.64 L1382 1455.28 L1373.69 1456.95 L1373.69 1452.69 L1381.95 1451.02 L1386.63 1451.02 L1386.63 1481.64 L1394.27 1481.64 L1394.27 1485.58 L1374.36 1485.58 L1374.36 1481.64 Z\" fill=\"#000000\" fill-rule=\"nonzero\" fill-opacity=\"1\" /><path clip-path=\"url(#clip920)\" d=\"M1413.71 1454.1 Q1410.1 1454.1 1408.27 1457.66 Q1406.47 1461.2 1406.47 1468.33 Q1406.47 1475.44 1408.27 1479.01 Q1410.1 1482.55 1413.71 1482.55 Q1417.35 1482.55 1419.15 1479.01 Q1420.98 1475.44 1420.98 1468.33 Q1420.98 1461.2 1419.15 1457.66 Q1417.35 1454.1 1413.71 1454.1 M1413.71 1450.39 Q1419.52 1450.39 1422.58 1455 Q1425.66 1459.58 1425.66 1468.33 Q1425.66 1477.06 1422.58 1481.67 Q1419.52 1486.25 1413.71 1486.25 Q1407.9 1486.25 1404.82 1481.67 Q1401.77 1477.06 1401.77 1468.33 Q1401.77 1459.58 1404.82 1455 Q1407.9 1450.39 1413.71 1450.39 Z\" fill=\"#000000\" fill-rule=\"nonzero\" fill-opacity=\"1\" /><path clip-path=\"url(#clip920)\" d=\"M1644.67 1454.1 Q1641.06 1454.1 1639.24 1457.66 Q1637.43 1461.2 1637.43 1468.33 Q1637.43 1475.44 1639.24 1479.01 Q1641.06 1482.55 1644.67 1482.55 Q1648.31 1482.55 1650.11 1479.01 Q1651.94 1475.44 1651.94 1468.33 Q1651.94 1461.2 1650.11 1457.66 Q1648.31 1454.1 1644.67 1454.1 M1644.67 1450.39 Q1650.48 1450.39 1653.54 1455 Q1656.62 1459.58 1656.62 1468.33 Q1656.62 1477.06 1653.54 1481.67 Q1650.48 1486.25 1644.67 1486.25 Q1638.86 1486.25 1635.79 1481.67 Q1632.73 1477.06 1632.73 1468.33 Q1632.73 1459.58 1635.79 1455 Q1638.86 1450.39 1644.67 1450.39 Z\" fill=\"#000000\" fill-rule=\"nonzero\" fill-opacity=\"1\" /><path clip-path=\"url(#clip920)\" d=\"M1664.84 1479.7 L1669.72 1479.7 L1669.72 1485.58 L1664.84 1485.58 L1664.84 1479.7 Z\" fill=\"#000000\" fill-rule=\"nonzero\" fill-opacity=\"1\" /><path clip-path=\"url(#clip920)\" d=\"M1680.72 1481.64 L1688.36 1481.64 L1688.36 1455.28 L1680.05 1456.95 L1680.05 1452.69 L1688.31 1451.02 L1692.98 1451.02 L1692.98 1481.64 L1700.62 1481.64 L1700.62 1485.58 L1680.72 1485.58 L1680.72 1481.64 Z\" fill=\"#000000\" fill-rule=\"nonzero\" fill-opacity=\"1\" /><path clip-path=\"url(#clip920)\" d=\"M1710.88 1481.64 L1718.52 1481.64 L1718.52 1455.28 L1710.21 1456.95 L1710.21 1452.69 L1718.47 1451.02 L1723.15 1451.02 L1723.15 1481.64 L1730.79 1481.64 L1730.79 1485.58 L1710.88 1485.58 L1710.88 1481.64 Z\" fill=\"#000000\" fill-rule=\"nonzero\" fill-opacity=\"1\" /><path clip-path=\"url(#clip920)\" d=\"M1950.6 1454.1 Q1946.99 1454.1 1945.16 1457.66 Q1943.36 1461.2 1943.36 1468.33 Q1943.36 1475.44 1945.16 1479.01 Q1946.99 1482.55 1950.6 1482.55 Q1954.24 1482.55 1956.04 1479.01 Q1957.87 1475.44 1957.87 1468.33 Q1957.87 1461.2 1956.04 1457.66 Q1954.24 1454.1 1950.6 1454.1 M1950.6 1450.39 Q1956.41 1450.39 1959.47 1455 Q1962.55 1459.58 1962.55 1468.33 Q1962.55 1477.06 1959.47 1481.67 Q1956.41 1486.25 1950.6 1486.25 Q1944.79 1486.25 1941.71 1481.67 Q1938.66 1477.06 1938.66 1468.33 Q1938.66 1459.58 1941.71 1455 Q1944.79 1450.39 1950.6 1450.39 Z\" fill=\"#000000\" fill-rule=\"nonzero\" fill-opacity=\"1\" /><path clip-path=\"url(#clip920)\" d=\"M1970.77 1479.7 L1975.65 1479.7 L1975.65 1485.58 L1970.77 1485.58 L1970.77 1479.7 Z\" fill=\"#000000\" fill-rule=\"nonzero\" fill-opacity=\"1\" /><path clip-path=\"url(#clip920)\" d=\"M1986.64 1481.64 L1994.28 1481.64 L1994.28 1455.28 L1985.97 1456.95 L1985.97 1452.69 L1994.24 1451.02 L1998.91 1451.02 L1998.91 1481.64 L2006.55 1481.64 L2006.55 1485.58 L1986.64 1485.58 L1986.64 1481.64 Z\" fill=\"#000000\" fill-rule=\"nonzero\" fill-opacity=\"1\" /><path clip-path=\"url(#clip920)\" d=\"M2020.02 1481.64 L2036.34 1481.64 L2036.34 1485.58 L2014.4 1485.58 L2014.4 1481.64 Q2017.06 1478.89 2021.64 1474.26 Q2026.25 1469.61 2027.43 1468.27 Q2029.68 1465.74 2030.56 1464.01 Q2031.46 1462.25 2031.46 1460.56 Q2031.46 1457.8 2029.52 1456.07 Q2027.59 1454.33 2024.49 1454.33 Q2022.29 1454.33 2019.84 1455.09 Q2017.41 1455.86 2014.63 1457.41 L2014.63 1452.69 Q2017.45 1451.55 2019.91 1450.97 Q2022.36 1450.39 2024.4 1450.39 Q2029.77 1450.39 2032.96 1453.08 Q2036.16 1455.77 2036.16 1460.26 Q2036.16 1462.39 2035.35 1464.31 Q2034.56 1466.2 2032.45 1468.8 Q2031.88 1469.47 2028.77 1472.69 Q2025.67 1475.88 2020.02 1481.64 Z\" fill=\"#000000\" fill-rule=\"nonzero\" fill-opacity=\"1\" /><path clip-path=\"url(#clip920)\" d=\"M2255.87 1454.1 Q2252.26 1454.1 2250.43 1457.66 Q2248.63 1461.2 2248.63 1468.33 Q2248.63 1475.44 2250.43 1479.01 Q2252.26 1482.55 2255.87 1482.55 Q2259.51 1482.55 2261.31 1479.01 Q2263.14 1475.44 2263.14 1468.33 Q2263.14 1461.2 2261.31 1457.66 Q2259.51 1454.1 2255.87 1454.1 M2255.87 1450.39 Q2261.68 1450.39 2264.74 1455 Q2267.82 1459.58 2267.82 1468.33 Q2267.82 1477.06 2264.74 1481.67 Q2261.68 1486.25 2255.87 1486.25 Q2250.06 1486.25 2246.98 1481.67 Q2243.93 1477.06 2243.93 1468.33 Q2243.93 1459.58 2246.98 1455 Q2250.06 1450.39 2255.87 1450.39 Z\" fill=\"#000000\" fill-rule=\"nonzero\" fill-opacity=\"1\" /><path clip-path=\"url(#clip920)\" d=\"M2276.03 1479.7 L2280.92 1479.7 L2280.92 1485.58 L2276.03 1485.58 L2276.03 1479.7 Z\" fill=\"#000000\" fill-rule=\"nonzero\" fill-opacity=\"1\" /><path clip-path=\"url(#clip920)\" d=\"M2291.91 1481.64 L2299.55 1481.64 L2299.55 1455.28 L2291.24 1456.95 L2291.24 1452.69 L2299.51 1451.02 L2304.18 1451.02 L2304.18 1481.64 L2311.82 1481.64 L2311.82 1485.58 L2291.91 1485.58 L2291.91 1481.64 Z\" fill=\"#000000\" fill-rule=\"nonzero\" fill-opacity=\"1\" /><path clip-path=\"url(#clip920)\" d=\"M2335.43 1466.95 Q2338.79 1467.66 2340.66 1469.93 Q2342.56 1472.2 2342.56 1475.53 Q2342.56 1480.65 2339.04 1483.45 Q2335.52 1486.25 2329.04 1486.25 Q2326.87 1486.25 2324.55 1485.81 Q2322.26 1485.39 2319.81 1484.54 L2319.81 1480.02 Q2321.75 1481.16 2324.07 1481.74 Q2326.38 1482.32 2328.9 1482.32 Q2333.3 1482.32 2335.59 1480.58 Q2337.91 1478.84 2337.91 1475.53 Q2337.91 1472.48 2335.76 1470.77 Q2333.63 1469.03 2329.81 1469.03 L2325.78 1469.03 L2325.78 1465.19 L2329.99 1465.19 Q2333.44 1465.19 2335.27 1463.82 Q2337.1 1462.43 2337.1 1459.84 Q2337.1 1457.18 2335.2 1455.77 Q2333.33 1454.33 2329.81 1454.33 Q2327.89 1454.33 2325.69 1454.75 Q2323.49 1455.16 2320.85 1456.04 L2320.85 1451.88 Q2323.51 1451.14 2325.83 1450.77 Q2328.16 1450.39 2330.22 1450.39 Q2335.55 1450.39 2338.65 1452.83 Q2341.75 1455.23 2341.75 1459.35 Q2341.75 1462.22 2340.11 1464.21 Q2338.46 1466.18 2335.43 1466.95 Z\" fill=\"#000000\" fill-rule=\"nonzero\" fill-opacity=\"1\" /><path clip-path=\"url(#clip920)\" d=\"M1242.37 1545.76 Q1244.43 1546.46 1246.38 1548.76 Q1248.35 1551.05 1250.32 1555.06 L1256.85 1568.04 L1249.94 1568.04 L1243.86 1555.85 Q1241.51 1551.08 1239.28 1549.52 Q1237.08 1547.96 1233.26 1547.96 L1226.26 1547.96 L1226.26 1568.04 L1219.83 1568.04 L1219.83 1520.52 L1234.35 1520.52 Q1242.49 1520.52 1246.5 1523.93 Q1250.51 1527.34 1250.51 1534.21 Q1250.51 1538.7 1248.41 1541.66 Q1246.34 1544.62 1242.37 1545.76 M1226.26 1525.81 L1226.26 1542.68 L1234.35 1542.68 Q1238.99 1542.68 1241.35 1540.54 Q1243.73 1538.38 1243.73 1534.21 Q1243.73 1530.04 1241.35 1527.94 Q1238.99 1525.81 1234.35 1525.81 L1226.26 1525.81 Z\" fill=\"#000000\" fill-rule=\"nonzero\" fill-opacity=\"1\" /><path clip-path=\"url(#clip920)\" d=\"M1264.87 1532.4 L1270.73 1532.4 L1270.73 1568.04 L1264.87 1568.04 L1264.87 1532.4 M1264.87 1518.52 L1270.73 1518.52 L1270.73 1525.93 L1264.87 1525.93 L1264.87 1518.52 Z\" fill=\"#000000\" fill-rule=\"nonzero\" fill-opacity=\"1\" /><path clip-path=\"url(#clip920)\" d=\"M1305.7 1533.45 L1305.7 1538.98 Q1303.22 1537.71 1300.55 1537.07 Q1297.87 1536.44 1295.01 1536.44 Q1290.65 1536.44 1288.45 1537.77 Q1286.29 1539.11 1286.29 1541.79 Q1286.29 1543.82 1287.85 1545 Q1289.41 1546.15 1294.12 1547.2 L1296.12 1547.64 Q1302.36 1548.98 1304.97 1551.43 Q1307.61 1553.85 1307.61 1558.21 Q1307.61 1563.17 1303.67 1566.07 Q1299.75 1568.97 1292.88 1568.97 Q1290.01 1568.97 1286.89 1568.39 Q1283.81 1567.85 1280.37 1566.74 L1280.37 1560.69 Q1283.62 1562.38 1286.77 1563.24 Q1289.92 1564.07 1293.01 1564.07 Q1297.14 1564.07 1299.37 1562.66 Q1301.6 1561.23 1301.6 1558.65 Q1301.6 1556.27 1299.98 1554.99 Q1298.38 1553.72 1292.94 1552.54 L1290.9 1552.07 Q1285.46 1550.92 1283.04 1548.56 Q1280.62 1546.18 1280.62 1542.04 Q1280.62 1537.01 1284.19 1534.27 Q1287.75 1531.54 1294.31 1531.54 Q1297.56 1531.54 1300.42 1532.01 Q1303.29 1532.49 1305.7 1533.45 Z\" fill=\"#000000\" fill-rule=\"nonzero\" fill-opacity=\"1\" /><path clip-path=\"url(#clip920)\" d=\"M1342.59 1533.76 L1342.59 1539.24 Q1340.11 1537.87 1337.6 1537.2 Q1335.11 1536.5 1332.57 1536.5 Q1326.87 1536.5 1323.72 1540.13 Q1320.57 1543.73 1320.57 1550.25 Q1320.57 1556.78 1323.72 1560.4 Q1326.87 1564 1332.57 1564 Q1335.11 1564 1337.6 1563.33 Q1340.11 1562.63 1342.59 1561.26 L1342.59 1566.68 Q1340.14 1567.82 1337.5 1568.39 Q1334.89 1568.97 1331.93 1568.97 Q1323.88 1568.97 1319.14 1563.91 Q1314.39 1558.85 1314.39 1550.25 Q1314.39 1541.53 1319.17 1536.53 Q1323.97 1531.54 1332.31 1531.54 Q1335.02 1531.54 1337.6 1532.11 Q1340.18 1532.65 1342.59 1533.76 Z\" fill=\"#000000\" fill-rule=\"nonzero\" fill-opacity=\"1\" /><path clip-path=\"url(#clip920)\" d=\"M1366.59 1536.5 Q1361.88 1536.5 1359.14 1540.19 Q1356.41 1543.85 1356.41 1550.25 Q1356.41 1556.65 1359.11 1560.34 Q1361.85 1564 1366.59 1564 Q1371.27 1564 1374.01 1560.31 Q1376.75 1556.62 1376.75 1550.25 Q1376.75 1543.92 1374.01 1540.23 Q1371.27 1536.5 1366.59 1536.5 M1366.59 1531.54 Q1374.23 1531.54 1378.59 1536.5 Q1382.95 1541.47 1382.95 1550.25 Q1382.95 1559 1378.59 1564 Q1374.23 1568.97 1366.59 1568.97 Q1358.92 1568.97 1354.56 1564 Q1350.23 1559 1350.23 1550.25 Q1350.23 1541.47 1354.56 1536.5 Q1358.92 1531.54 1366.59 1531.54 Z\" fill=\"#000000\" fill-rule=\"nonzero\" fill-opacity=\"1\" /><polyline clip-path=\"url(#clip920)\" style=\"stroke:#000000; stroke-linecap:round; stroke-linejoin:round; stroke-width:4; stroke-opacity:1; fill:none\" points=\"250.028,1423.18 250.028,47.2441 \"/>\n",
       "<polyline clip-path=\"url(#clip920)\" style=\"stroke:#000000; stroke-linecap:round; stroke-linejoin:round; stroke-width:4; stroke-opacity:1; fill:none\" points=\"250.028,1363.53 268.926,1363.53 \"/>\n",
       "<polyline clip-path=\"url(#clip920)\" style=\"stroke:#000000; stroke-linecap:round; stroke-linejoin:round; stroke-width:4; stroke-opacity:1; fill:none\" points=\"250.028,1079.67 268.926,1079.67 \"/>\n",
       "<polyline clip-path=\"url(#clip920)\" style=\"stroke:#000000; stroke-linecap:round; stroke-linejoin:round; stroke-width:4; stroke-opacity:1; fill:none\" points=\"250.028,795.821 268.926,795.821 \"/>\n",
       "<polyline clip-path=\"url(#clip920)\" style=\"stroke:#000000; stroke-linecap:round; stroke-linejoin:round; stroke-width:4; stroke-opacity:1; fill:none\" points=\"250.028,511.967 268.926,511.967 \"/>\n",
       "<polyline clip-path=\"url(#clip920)\" style=\"stroke:#000000; stroke-linecap:round; stroke-linejoin:round; stroke-width:4; stroke-opacity:1; fill:none\" points=\"250.028,228.113 268.926,228.113 \"/>\n",
       "<path clip-path=\"url(#clip920)\" d=\"M126.529 1349.33 Q122.918 1349.33 121.089 1352.89 Q119.283 1356.43 119.283 1363.56 Q119.283 1370.67 121.089 1374.23 Q122.918 1377.78 126.529 1377.78 Q130.163 1377.78 131.968 1374.23 Q133.797 1370.67 133.797 1363.56 Q133.797 1356.43 131.968 1352.89 Q130.163 1349.33 126.529 1349.33 M126.529 1345.62 Q132.339 1345.62 135.394 1350.23 Q138.473 1354.81 138.473 1363.56 Q138.473 1372.29 135.394 1376.9 Q132.339 1381.48 126.529 1381.48 Q120.718 1381.48 117.64 1376.9 Q114.584 1372.29 114.584 1363.56 Q114.584 1354.81 117.64 1350.23 Q120.718 1345.62 126.529 1345.62 Z\" fill=\"#000000\" fill-rule=\"nonzero\" fill-opacity=\"1\" /><path clip-path=\"url(#clip920)\" d=\"M146.691 1374.93 L151.575 1374.93 L151.575 1380.81 L146.691 1380.81 L146.691 1374.93 Z\" fill=\"#000000\" fill-rule=\"nonzero\" fill-opacity=\"1\" /><path clip-path=\"url(#clip920)\" d=\"M171.76 1349.33 Q168.149 1349.33 166.32 1352.89 Q164.515 1356.43 164.515 1363.56 Q164.515 1370.67 166.32 1374.23 Q168.149 1377.78 171.76 1377.78 Q175.394 1377.78 177.2 1374.23 Q179.028 1370.67 179.028 1363.56 Q179.028 1356.43 177.2 1352.89 Q175.394 1349.33 171.76 1349.33 M171.76 1345.62 Q177.57 1345.62 180.626 1350.23 Q183.704 1354.81 183.704 1363.56 Q183.704 1372.29 180.626 1376.9 Q177.57 1381.48 171.76 1381.48 Q165.95 1381.48 162.871 1376.9 Q159.815 1372.29 159.815 1363.56 Q159.815 1354.81 162.871 1350.23 Q165.95 1345.62 171.76 1345.62 Z\" fill=\"#000000\" fill-rule=\"nonzero\" fill-opacity=\"1\" /><path clip-path=\"url(#clip920)\" d=\"M202.5 1361.67 Q199.352 1361.67 197.5 1363.82 Q195.672 1365.97 195.672 1369.72 Q195.672 1373.45 197.5 1375.62 Q199.352 1377.78 202.5 1377.78 Q205.649 1377.78 207.477 1375.62 Q209.329 1373.45 209.329 1369.72 Q209.329 1365.97 207.477 1363.82 Q205.649 1361.67 202.5 1361.67 M211.783 1347.01 L211.783 1351.27 Q210.024 1350.44 208.218 1350 Q206.436 1349.56 204.676 1349.56 Q200.047 1349.56 197.593 1352.68 Q195.163 1355.81 194.815 1362.13 Q196.181 1360.11 198.241 1359.05 Q200.301 1357.96 202.778 1357.96 Q207.987 1357.96 210.996 1361.13 Q214.028 1364.28 214.028 1369.72 Q214.028 1375.04 210.88 1378.26 Q207.732 1381.48 202.5 1381.48 Q196.505 1381.48 193.334 1376.9 Q190.163 1372.29 190.163 1363.56 Q190.163 1355.37 194.051 1350.51 Q197.94 1345.62 204.491 1345.62 Q206.25 1345.62 208.033 1345.97 Q209.838 1346.32 211.783 1347.01 Z\" fill=\"#000000\" fill-rule=\"nonzero\" fill-opacity=\"1\" /><path clip-path=\"url(#clip920)\" d=\"M126.783 1065.47 Q123.172 1065.47 121.343 1069.04 Q119.538 1072.58 119.538 1079.71 Q119.538 1086.82 121.343 1090.38 Q123.172 1093.92 126.783 1093.92 Q130.417 1093.92 132.223 1090.38 Q134.052 1086.82 134.052 1079.71 Q134.052 1072.58 132.223 1069.04 Q130.417 1065.47 126.783 1065.47 M126.783 1061.77 Q132.593 1061.77 135.649 1066.38 Q138.728 1070.96 138.728 1079.71 Q138.728 1088.44 135.649 1093.04 Q132.593 1097.63 126.783 1097.63 Q120.973 1097.63 117.894 1093.04 Q114.839 1088.44 114.839 1079.71 Q114.839 1070.96 117.894 1066.38 Q120.973 1061.77 126.783 1061.77 Z\" fill=\"#000000\" fill-rule=\"nonzero\" fill-opacity=\"1\" /><path clip-path=\"url(#clip920)\" d=\"M146.945 1091.08 L151.829 1091.08 L151.829 1096.95 L146.945 1096.95 L146.945 1091.08 Z\" fill=\"#000000\" fill-rule=\"nonzero\" fill-opacity=\"1\" /><path clip-path=\"url(#clip920)\" d=\"M172.014 1065.47 Q168.403 1065.47 166.575 1069.04 Q164.769 1072.58 164.769 1079.71 Q164.769 1086.82 166.575 1090.38 Q168.403 1093.92 172.014 1093.92 Q175.649 1093.92 177.454 1090.38 Q179.283 1086.82 179.283 1079.71 Q179.283 1072.58 177.454 1069.04 Q175.649 1065.47 172.014 1065.47 M172.014 1061.77 Q177.825 1061.77 180.88 1066.38 Q183.959 1070.96 183.959 1079.71 Q183.959 1088.44 180.88 1093.04 Q177.825 1097.63 172.014 1097.63 Q166.204 1097.63 163.126 1093.04 Q160.07 1088.44 160.07 1079.71 Q160.07 1070.96 163.126 1066.38 Q166.204 1061.77 172.014 1061.77 Z\" fill=\"#000000\" fill-rule=\"nonzero\" fill-opacity=\"1\" /><path clip-path=\"url(#clip920)\" d=\"M202.176 1080.54 Q198.843 1080.54 196.922 1082.33 Q195.024 1084.11 195.024 1087.23 Q195.024 1090.36 196.922 1092.14 Q198.843 1093.92 202.176 1093.92 Q205.51 1093.92 207.431 1092.14 Q209.352 1090.33 209.352 1087.23 Q209.352 1084.11 207.431 1082.33 Q205.533 1080.54 202.176 1080.54 M197.5 1078.55 Q194.491 1077.81 192.801 1075.75 Q191.135 1073.69 191.135 1070.73 Q191.135 1066.58 194.075 1064.18 Q197.037 1061.77 202.176 1061.77 Q207.338 1061.77 210.278 1064.18 Q213.218 1066.58 213.218 1070.73 Q213.218 1073.69 211.528 1075.75 Q209.861 1077.81 206.875 1078.55 Q210.255 1079.34 212.13 1081.63 Q214.028 1083.92 214.028 1087.23 Q214.028 1092.26 210.949 1094.94 Q207.894 1097.63 202.176 1097.63 Q196.459 1097.63 193.38 1094.94 Q190.325 1092.26 190.325 1087.23 Q190.325 1083.92 192.223 1081.63 Q194.121 1079.34 197.5 1078.55 M195.787 1071.17 Q195.787 1073.85 197.454 1075.36 Q199.144 1076.86 202.176 1076.86 Q205.186 1076.86 206.875 1075.36 Q208.588 1073.85 208.588 1071.17 Q208.588 1068.48 206.875 1066.98 Q205.186 1065.47 202.176 1065.47 Q199.144 1065.47 197.454 1066.98 Q195.787 1068.48 195.787 1071.17 Z\" fill=\"#000000\" fill-rule=\"nonzero\" fill-opacity=\"1\" /><path clip-path=\"url(#clip920)\" d=\"M126.691 781.619 Q123.08 781.619 121.251 785.184 Q119.445 788.726 119.445 795.855 Q119.445 802.962 121.251 806.527 Q123.08 810.068 126.691 810.068 Q130.325 810.068 132.13 806.527 Q133.959 802.962 133.959 795.855 Q133.959 788.726 132.13 785.184 Q130.325 781.619 126.691 781.619 M126.691 777.916 Q132.501 777.916 135.556 782.522 Q138.635 787.105 138.635 795.855 Q138.635 804.582 135.556 809.189 Q132.501 813.772 126.691 813.772 Q120.88 813.772 117.802 809.189 Q114.746 804.582 114.746 795.855 Q114.746 787.105 117.802 782.522 Q120.88 777.916 126.691 777.916 Z\" fill=\"#000000\" fill-rule=\"nonzero\" fill-opacity=\"1\" /><path clip-path=\"url(#clip920)\" d=\"M146.853 807.221 L151.737 807.221 L151.737 813.101 L146.853 813.101 L146.853 807.221 Z\" fill=\"#000000\" fill-rule=\"nonzero\" fill-opacity=\"1\" /><path clip-path=\"url(#clip920)\" d=\"M162.732 809.165 L170.371 809.165 L170.371 782.8 L162.061 784.467 L162.061 780.207 L170.325 778.541 L175.001 778.541 L175.001 809.165 L182.639 809.165 L182.639 813.101 L162.732 813.101 L162.732 809.165 Z\" fill=\"#000000\" fill-rule=\"nonzero\" fill-opacity=\"1\" /><path clip-path=\"url(#clip920)\" d=\"M202.084 781.619 Q198.473 781.619 196.644 785.184 Q194.838 788.726 194.838 795.855 Q194.838 802.962 196.644 806.527 Q198.473 810.068 202.084 810.068 Q205.718 810.068 207.524 806.527 Q209.352 802.962 209.352 795.855 Q209.352 788.726 207.524 785.184 Q205.718 781.619 202.084 781.619 M202.084 777.916 Q207.894 777.916 210.949 782.522 Q214.028 787.105 214.028 795.855 Q214.028 804.582 210.949 809.189 Q207.894 813.772 202.084 813.772 Q196.274 813.772 193.195 809.189 Q190.139 804.582 190.139 795.855 Q190.139 787.105 193.195 782.522 Q196.274 777.916 202.084 777.916 Z\" fill=\"#000000\" fill-rule=\"nonzero\" fill-opacity=\"1\" /><path clip-path=\"url(#clip920)\" d=\"M128.288 497.765 Q124.677 497.765 122.848 501.33 Q121.043 504.872 121.043 512.001 Q121.043 519.108 122.848 522.673 Q124.677 526.214 128.288 526.214 Q131.922 526.214 133.728 522.673 Q135.556 519.108 135.556 512.001 Q135.556 504.872 133.728 501.33 Q131.922 497.765 128.288 497.765 M128.288 494.062 Q134.098 494.062 137.154 498.668 Q140.232 503.251 140.232 512.001 Q140.232 520.728 137.154 525.335 Q134.098 529.918 128.288 529.918 Q122.478 529.918 119.399 525.335 Q116.343 520.728 116.343 512.001 Q116.343 503.251 119.399 498.668 Q122.478 494.062 128.288 494.062 Z\" fill=\"#000000\" fill-rule=\"nonzero\" fill-opacity=\"1\" /><path clip-path=\"url(#clip920)\" d=\"M148.45 523.367 L153.334 523.367 L153.334 529.247 L148.45 529.247 L148.45 523.367 Z\" fill=\"#000000\" fill-rule=\"nonzero\" fill-opacity=\"1\" /><path clip-path=\"url(#clip920)\" d=\"M164.329 525.311 L171.968 525.311 L171.968 498.946 L163.658 500.613 L163.658 496.353 L171.922 494.687 L176.598 494.687 L176.598 525.311 L184.237 525.311 L184.237 529.247 L164.329 529.247 L164.329 525.311 Z\" fill=\"#000000\" fill-rule=\"nonzero\" fill-opacity=\"1\" /><path clip-path=\"url(#clip920)\" d=\"M197.709 525.311 L214.028 525.311 L214.028 529.247 L192.084 529.247 L192.084 525.311 Q194.746 522.557 199.329 517.927 Q203.936 513.275 205.116 511.932 Q207.362 509.409 208.241 507.673 Q209.144 505.913 209.144 504.224 Q209.144 501.469 207.199 499.733 Q205.278 497.997 202.176 497.997 Q199.977 497.997 197.524 498.761 Q195.093 499.525 192.315 501.076 L192.315 496.353 Q195.139 495.219 197.593 494.64 Q200.047 494.062 202.084 494.062 Q207.454 494.062 210.649 496.747 Q213.843 499.432 213.843 503.923 Q213.843 506.052 213.033 507.974 Q212.246 509.872 210.139 512.464 Q209.561 513.136 206.459 516.353 Q203.357 519.548 197.709 525.311 Z\" fill=\"#000000\" fill-rule=\"nonzero\" fill-opacity=\"1\" /><path clip-path=\"url(#clip920)\" d=\"M126.205 213.911 Q122.593 213.911 120.765 217.476 Q118.959 221.018 118.959 228.147 Q118.959 235.254 120.765 238.819 Q122.593 242.36 126.205 242.36 Q129.839 242.36 131.644 238.819 Q133.473 235.254 133.473 228.147 Q133.473 221.018 131.644 217.476 Q129.839 213.911 126.205 213.911 M126.205 210.208 Q132.015 210.208 135.07 214.814 Q138.149 219.397 138.149 228.147 Q138.149 236.874 135.07 241.481 Q132.015 246.064 126.205 246.064 Q120.394 246.064 117.316 241.481 Q114.26 236.874 114.26 228.147 Q114.26 219.397 117.316 214.814 Q120.394 210.208 126.205 210.208 Z\" fill=\"#000000\" fill-rule=\"nonzero\" fill-opacity=\"1\" /><path clip-path=\"url(#clip920)\" d=\"M146.366 239.513 L151.251 239.513 L151.251 245.393 L146.366 245.393 L146.366 239.513 Z\" fill=\"#000000\" fill-rule=\"nonzero\" fill-opacity=\"1\" /><path clip-path=\"url(#clip920)\" d=\"M162.246 241.457 L169.885 241.457 L169.885 215.092 L161.575 216.759 L161.575 212.499 L169.839 210.833 L174.514 210.833 L174.514 241.457 L182.153 241.457 L182.153 245.393 L162.246 245.393 L162.246 241.457 Z\" fill=\"#000000\" fill-rule=\"nonzero\" fill-opacity=\"1\" /><path clip-path=\"url(#clip920)\" d=\"M204.445 214.907 L192.639 233.356 L204.445 233.356 L204.445 214.907 M203.218 210.833 L209.098 210.833 L209.098 233.356 L214.028 233.356 L214.028 237.245 L209.098 237.245 L209.098 245.393 L204.445 245.393 L204.445 237.245 L188.843 237.245 L188.843 232.731 L203.218 210.833 Z\" fill=\"#000000\" fill-rule=\"nonzero\" fill-opacity=\"1\" /><path clip-path=\"url(#clip920)\" d=\"M41.7242 835.074 Q42.4244 833.005 44.7161 831.064 Q47.0077 829.09 51.0181 827.117 L64.0042 820.592 L64.0042 827.499 L51.8138 833.578 Q47.0395 835.933 45.48 838.161 Q43.9204 840.358 43.9204 844.177 L43.9204 851.179 L64.0042 851.179 L64.0042 857.609 L16.4842 857.609 L16.4842 843.095 Q16.4842 834.947 19.8898 830.936 Q23.2955 826.926 30.1704 826.926 Q34.6582 826.926 37.6183 829.027 Q40.5784 831.095 41.7242 835.074 M21.7677 851.179 L38.6368 851.179 L38.6368 843.095 Q38.6368 838.448 36.5043 836.093 Q34.34 833.705 30.1704 833.705 Q26.0009 833.705 23.9002 836.093 Q21.7677 838.448 21.7677 843.095 L21.7677 851.179 Z\" fill=\"#000000\" fill-rule=\"nonzero\" fill-opacity=\"1\" /><path clip-path=\"url(#clip920)\" d=\"M44.7161 785.008 L47.5806 785.008 L47.5806 811.935 Q53.6281 811.553 56.8109 808.306 Q59.9619 805.028 59.9619 799.203 Q59.9619 795.829 59.1344 792.678 Q58.3069 789.496 56.6518 786.376 L62.1899 786.376 Q63.5267 789.527 64.227 792.838 Q64.9272 796.148 64.9272 799.553 Q64.9272 808.083 59.9619 813.08 Q54.9967 818.046 46.5303 818.046 Q37.7774 818.046 32.6531 813.335 Q27.4968 808.593 27.4968 800.572 Q27.4968 793.379 32.1438 789.209 Q36.7589 785.008 44.7161 785.008 M42.9973 790.864 Q38.1912 790.928 35.3266 793.57 Q32.4621 796.18 32.4621 800.508 Q32.4621 805.41 35.2312 808.37 Q38.0002 811.298 43.0292 811.744 L42.9973 790.864 Z\" fill=\"#000000\" fill-rule=\"nonzero\" fill-opacity=\"1\" /><path clip-path=\"url(#clip920)\" d=\"M18.2347 769.603 L28.3562 769.603 L28.3562 757.54 L32.9077 757.54 L32.9077 769.603 L52.2594 769.603 Q56.6199 769.603 57.8613 768.425 Q59.1026 767.216 59.1026 763.555 L59.1026 757.54 L64.0042 757.54 L64.0042 763.555 Q64.0042 770.335 61.4897 772.913 Q58.9434 775.491 52.2594 775.491 L32.9077 775.491 L32.9077 779.788 L28.3562 779.788 L28.3562 775.491 L18.2347 775.491 L18.2347 769.603 Z\" fill=\"#000000\" fill-rule=\"nonzero\" fill-opacity=\"1\" /><path clip-path=\"url(#clip920)\" d=\"M32.4621 736.024 Q32.4621 740.734 36.1542 743.471 Q39.8145 746.209 46.212 746.209 Q52.6095 746.209 56.3017 743.503 Q59.9619 740.766 59.9619 736.024 Q59.9619 731.345 56.2698 728.608 Q52.5777 725.87 46.212 725.87 Q39.8781 725.87 36.186 728.608 Q32.4621 731.345 32.4621 736.024 M27.4968 736.024 Q27.4968 728.385 32.4621 724.024 Q37.4273 719.664 46.212 719.664 Q54.9649 719.664 59.9619 724.024 Q64.9272 728.385 64.9272 736.024 Q64.9272 743.694 59.9619 748.055 Q54.9649 752.383 46.212 752.383 Q37.4273 752.383 32.4621 748.055 Q27.4968 743.694 27.4968 736.024 Z\" fill=\"#000000\" fill-rule=\"nonzero\" fill-opacity=\"1\" /><path clip-path=\"url(#clip920)\" d=\"M33.8307 689.299 Q33.2578 690.286 33.0032 691.464 Q32.7167 692.609 32.7167 694.01 Q32.7167 698.975 35.9632 701.649 Q39.1779 704.291 45.2253 704.291 L64.0042 704.291 L64.0042 710.179 L28.3562 710.179 L28.3562 704.291 L33.8944 704.291 Q30.6479 702.444 29.0883 699.484 Q27.4968 696.524 27.4968 692.291 Q27.4968 691.686 27.5923 690.954 Q27.656 690.222 27.8151 689.331 L33.8307 689.299 Z\" fill=\"#000000\" fill-rule=\"nonzero\" fill-opacity=\"1\" /><path clip-path=\"url(#clip920)\" d=\"M42.4881 654.67 L64.0042 654.67 L64.0042 660.526 L42.679 660.526 Q37.6183 660.526 35.1038 662.5 Q32.5894 664.473 32.5894 668.42 Q32.5894 673.162 35.6131 675.899 Q38.6368 678.637 43.8567 678.637 L64.0042 678.637 L64.0042 684.525 L28.3562 684.525 L28.3562 678.637 L33.8944 678.637 Q30.6797 676.536 29.0883 673.703 Q27.4968 670.839 27.4968 667.115 Q27.4968 660.972 31.3163 657.821 Q35.1038 654.67 42.4881 654.67 Z\" fill=\"#000000\" fill-rule=\"nonzero\" fill-opacity=\"1\" /><path clip-path=\"url(#clip920)\" d=\"M32.4621 629.175 Q32.4621 633.886 36.1542 636.623 Q39.8145 639.36 46.212 639.36 Q52.6095 639.36 56.3017 636.655 Q59.9619 633.918 59.9619 629.175 Q59.9619 624.496 56.2698 621.759 Q52.5777 619.022 46.212 619.022 Q39.8781 619.022 36.186 621.759 Q32.4621 624.496 32.4621 629.175 M27.4968 629.175 Q27.4968 621.536 32.4621 617.176 Q37.4273 612.815 46.212 612.815 Q54.9649 612.815 59.9619 617.176 Q64.9272 621.536 64.9272 629.175 Q64.9272 636.846 59.9619 641.206 Q54.9649 645.535 46.212 645.535 Q37.4273 645.535 32.4621 641.206 Q27.4968 636.846 27.4968 629.175 Z\" fill=\"#000000\" fill-rule=\"nonzero\" fill-opacity=\"1\" /><polyline clip-path=\"url(#clip922)\" style=\"stroke:#009af9; stroke-linecap:round; stroke-linejoin:round; stroke-width:4; stroke-opacity:1; fill:none\" points=\"2293.24,86.1858 2293.24,86.1858 2293.24,86.1858 2293.24,86.1858 2293.24,86.1858 2293.24,86.1858 2293.24,86.1858 2293.24,86.1858 2293.24,86.1858 2293.24,86.1858 2293.24,86.1858 2293.24,86.1858 2293.24,86.1858 2293.24,86.1858 2293.24,86.1858 2293.24,86.1858 2293.24,86.1858 2293.24,86.1858 2293.24,86.1857 2293.24,86.1858 2293.24,86.1858 2293.24,86.1858 2293.24,86.1858 2293.24,86.1858 2293.24,86.1858 2293.24,86.1858 2293.24,86.1859 2293.24,86.1857 2293.24,86.1861 2293.24,86.1861 2252.26,99.8201 2108.29,151.696 1927.56,228.136 1550.45,398.349 1254.7,541.48 1026.15,661.84 852.119,763.049 721.469,848.156 624.622,919.722 553.609,979.902 493.034,1039.59 440.901,1098.73 402.94,1148.85 375.674,1191 356.174,1226.44 342.272,1256.24 332.384,1281.3 325.362,1302.37 320.382,1320.09 316.854,1335 314.355,1347.53 312.586,1358.06 311.334,1366.92 310.449,1374.37 309.824,1380.62 309.651,1382.66 309.539,1384.24 \"/>\n",
       "<path clip-path=\"url(#clip920)\" d=\"M320.119 196.789 L954.302 196.789 L954.302 93.1086 L320.119 93.1086  Z\" fill=\"#ffffff\" fill-rule=\"evenodd\" fill-opacity=\"1\"/>\n",
       "<polyline clip-path=\"url(#clip920)\" style=\"stroke:#000000; stroke-linecap:round; stroke-linejoin:round; stroke-width:4; stroke-opacity:1; fill:none\" points=\"320.119,196.789 954.302,196.789 954.302,93.1086 320.119,93.1086 320.119,196.789 \"/>\n",
       "<polyline clip-path=\"url(#clip920)\" style=\"stroke:#009af9; stroke-linecap:round; stroke-linejoin:round; stroke-width:4; stroke-opacity:1; fill:none\" points=\"343.483,144.949 483.665,144.949 \"/>\n",
       "<path clip-path=\"url(#clip920)\" d=\"M507.028 127.669 L526.889 127.669 L526.889 131.604 L511.704 131.604 L511.704 141.789 L525.408 141.789 L525.408 145.724 L511.704 145.724 L511.704 162.229 L507.028 162.229 L507.028 127.669 Z\" fill=\"#000000\" fill-rule=\"nonzero\" fill-opacity=\"1\" /><path clip-path=\"url(#clip920)\" d=\"M545.685 140.284 Q544.968 139.868 544.111 139.682 Q543.278 139.474 542.259 139.474 Q538.648 139.474 536.704 141.835 Q534.783 144.173 534.783 148.571 L534.783 162.229 L530.5 162.229 L530.5 136.303 L534.783 136.303 L534.783 140.331 Q536.125 137.969 538.278 136.835 Q540.431 135.678 543.509 135.678 Q543.949 135.678 544.482 135.747 Q545.014 135.794 545.662 135.909 L545.685 140.284 Z\" fill=\"#000000\" fill-rule=\"nonzero\" fill-opacity=\"1\" /><path clip-path=\"url(#clip920)\" d=\"M559.158 139.289 Q555.732 139.289 553.741 141.974 Q551.75 144.636 551.75 149.289 Q551.75 153.942 553.718 156.627 Q555.708 159.289 559.158 159.289 Q562.56 159.289 564.551 156.604 Q566.542 153.918 566.542 149.289 Q566.542 144.682 564.551 141.997 Q562.56 139.289 559.158 139.289 M559.158 135.678 Q564.713 135.678 567.884 139.289 Q571.056 142.9 571.056 149.289 Q571.056 155.655 567.884 159.289 Q564.713 162.9 559.158 162.9 Q553.579 162.9 550.408 159.289 Q547.259 155.655 547.259 149.289 Q547.259 142.9 550.408 139.289 Q553.579 135.678 559.158 135.678 Z\" fill=\"#000000\" fill-rule=\"nonzero\" fill-opacity=\"1\" /><path clip-path=\"url(#clip920)\" d=\"M599.667 146.581 L599.667 162.229 L595.407 162.229 L595.407 146.719 Q595.407 143.039 593.972 141.21 Q592.537 139.382 589.667 139.382 Q586.218 139.382 584.227 141.581 Q582.236 143.78 582.236 147.576 L582.236 162.229 L577.954 162.229 L577.954 136.303 L582.236 136.303 L582.236 140.331 Q583.764 137.993 585.824 136.835 Q587.907 135.678 590.616 135.678 Q595.083 135.678 597.375 138.456 Q599.667 141.21 599.667 146.581 Z\" fill=\"#000000\" fill-rule=\"nonzero\" fill-opacity=\"1\" /><path clip-path=\"url(#clip920)\" d=\"M612.375 128.942 L612.375 136.303 L621.148 136.303 L621.148 139.613 L612.375 139.613 L612.375 153.687 Q612.375 156.858 613.231 157.761 Q614.111 158.664 616.773 158.664 L621.148 158.664 L621.148 162.229 L616.773 162.229 Q611.842 162.229 609.967 160.4 Q608.092 158.548 608.092 153.687 L608.092 139.613 L604.967 139.613 L604.967 136.303 L608.092 136.303 L608.092 128.942 L612.375 128.942 Z\" fill=\"#000000\" fill-rule=\"nonzero\" fill-opacity=\"1\" /><path clip-path=\"url(#clip920)\" d=\"M648.926 148.201 L648.926 150.284 L629.342 150.284 Q629.62 154.682 631.981 156.997 Q634.365 159.289 638.602 159.289 Q641.055 159.289 643.347 158.687 Q645.662 158.085 647.93 156.881 L647.93 160.909 Q645.639 161.881 643.231 162.391 Q640.824 162.9 638.347 162.9 Q632.143 162.9 628.509 159.289 Q624.898 155.678 624.898 149.52 Q624.898 143.155 628.324 139.428 Q631.773 135.678 637.606 135.678 Q642.838 135.678 645.87 139.057 Q648.926 142.414 648.926 148.201 M644.666 146.951 Q644.62 143.456 642.699 141.372 Q640.801 139.289 637.653 139.289 Q634.088 139.289 631.935 141.303 Q629.805 143.317 629.481 146.974 L644.666 146.951 Z\" fill=\"#000000\" fill-rule=\"nonzero\" fill-opacity=\"1\" /><path clip-path=\"url(#clip920)\" d=\"M655.916 136.303 L660.176 136.303 L660.176 162.229 L655.916 162.229 L655.916 136.303 M655.916 126.21 L660.176 126.21 L660.176 131.604 L655.916 131.604 L655.916 126.21 Z\" fill=\"#000000\" fill-rule=\"nonzero\" fill-opacity=\"1\" /><path clip-path=\"url(#clip920)\" d=\"M684.111 140.284 Q683.393 139.868 682.537 139.682 Q681.703 139.474 680.685 139.474 Q677.074 139.474 675.129 141.835 Q673.208 144.173 673.208 148.571 L673.208 162.229 L668.925 162.229 L668.925 136.303 L673.208 136.303 L673.208 140.331 Q674.55 137.969 676.703 136.835 Q678.856 135.678 681.935 135.678 Q682.374 135.678 682.907 135.747 Q683.439 135.794 684.087 135.909 L684.111 140.284 Z\" fill=\"#000000\" fill-rule=\"nonzero\" fill-opacity=\"1\" /><path clip-path=\"url(#clip920)\" d=\"M700.36 149.196 Q695.198 149.196 693.208 150.377 Q691.217 151.557 691.217 154.405 Q691.217 156.673 692.699 158.016 Q694.203 159.335 696.773 159.335 Q700.314 159.335 702.444 156.835 Q704.597 154.312 704.597 150.145 L704.597 149.196 L700.36 149.196 M708.856 147.437 L708.856 162.229 L704.597 162.229 L704.597 158.293 Q703.138 160.655 700.962 161.789 Q698.786 162.9 695.638 162.9 Q691.657 162.9 689.296 160.678 Q686.958 158.432 686.958 154.682 Q686.958 150.307 689.874 148.085 Q692.814 145.863 698.624 145.863 L704.597 145.863 L704.597 145.446 Q704.597 142.507 702.652 140.909 Q700.731 139.289 697.236 139.289 Q695.013 139.289 692.907 139.821 Q690.8 140.354 688.856 141.419 L688.856 137.483 Q691.194 136.581 693.393 136.141 Q695.592 135.678 697.675 135.678 Q703.3 135.678 706.078 138.594 Q708.856 141.511 708.856 147.437 Z\" fill=\"#000000\" fill-rule=\"nonzero\" fill-opacity=\"1\" /><path clip-path=\"url(#clip920)\" d=\"M754.874 148.201 L754.874 150.284 L735.291 150.284 Q735.569 154.682 737.93 156.997 Q740.314 159.289 744.55 159.289 Q747.004 159.289 749.295 158.687 Q751.61 158.085 753.879 156.881 L753.879 160.909 Q751.587 161.881 749.18 162.391 Q746.772 162.9 744.295 162.9 Q738.092 162.9 734.458 159.289 Q730.846 155.678 730.846 149.52 Q730.846 143.155 734.272 139.428 Q737.721 135.678 743.555 135.678 Q748.786 135.678 751.819 139.057 Q754.874 142.414 754.874 148.201 M750.615 146.951 Q750.569 143.456 748.647 141.372 Q746.749 139.289 743.601 139.289 Q740.036 139.289 737.883 141.303 Q735.754 143.317 735.43 146.974 L750.615 146.951 Z\" fill=\"#000000\" fill-rule=\"nonzero\" fill-opacity=\"1\" /><path clip-path=\"url(#clip920)\" d=\"M774.99 126.21 L774.99 129.752 L770.916 129.752 Q768.624 129.752 767.721 130.678 Q766.842 131.604 766.842 134.011 L766.842 136.303 L773.855 136.303 L773.855 139.613 L766.842 139.613 L766.842 162.229 L762.559 162.229 L762.559 139.613 L758.485 139.613 L758.485 136.303 L762.559 136.303 L762.559 134.497 Q762.559 130.169 764.573 128.201 Q766.587 126.21 770.962 126.21 L774.99 126.21 Z\" fill=\"#000000\" fill-rule=\"nonzero\" fill-opacity=\"1\" /><path clip-path=\"url(#clip920)\" d=\"M778.555 136.303 L782.814 136.303 L782.814 162.229 L778.555 162.229 L778.555 136.303 M778.555 126.21 L782.814 126.21 L782.814 131.604 L778.555 131.604 L778.555 126.21 Z\" fill=\"#000000\" fill-rule=\"nonzero\" fill-opacity=\"1\" /><path clip-path=\"url(#clip920)\" d=\"M810.383 137.298 L810.383 141.28 Q808.578 140.284 806.749 139.798 Q804.943 139.289 803.091 139.289 Q798.948 139.289 796.656 141.928 Q794.365 144.544 794.365 149.289 Q794.365 154.034 796.656 156.673 Q798.948 159.289 803.091 159.289 Q804.943 159.289 806.749 158.803 Q808.578 158.293 810.383 157.298 L810.383 161.233 Q808.601 162.067 806.679 162.483 Q804.781 162.9 802.628 162.9 Q796.772 162.9 793.323 159.219 Q789.874 155.539 789.874 149.289 Q789.874 142.946 793.346 139.312 Q796.841 135.678 802.906 135.678 Q804.874 135.678 806.749 136.095 Q808.624 136.488 810.383 137.298 Z\" fill=\"#000000\" fill-rule=\"nonzero\" fill-opacity=\"1\" /><path clip-path=\"url(#clip920)\" d=\"M817.79 136.303 L822.05 136.303 L822.05 162.229 L817.79 162.229 L817.79 136.303 M817.79 126.21 L822.05 126.21 L822.05 131.604 L817.79 131.604 L817.79 126.21 Z\" fill=\"#000000\" fill-rule=\"nonzero\" fill-opacity=\"1\" /><path clip-path=\"url(#clip920)\" d=\"M853.137 148.201 L853.137 150.284 L833.554 150.284 Q833.832 154.682 836.193 156.997 Q838.577 159.289 842.813 159.289 Q845.267 159.289 847.559 158.687 Q849.874 158.085 852.142 156.881 L852.142 160.909 Q849.85 161.881 847.443 162.391 Q845.036 162.9 842.559 162.9 Q836.355 162.9 832.721 159.289 Q829.11 155.678 829.11 149.52 Q829.11 143.155 832.536 139.428 Q835.985 135.678 841.818 135.678 Q847.05 135.678 850.082 139.057 Q853.137 142.414 853.137 148.201 M848.878 146.951 Q848.832 143.456 846.911 141.372 Q845.013 139.289 841.864 139.289 Q838.3 139.289 836.147 141.303 Q834.017 143.317 833.693 146.974 L848.878 146.951 Z\" fill=\"#000000\" fill-rule=\"nonzero\" fill-opacity=\"1\" /><path clip-path=\"url(#clip920)\" d=\"M881.679 146.581 L881.679 162.229 L877.42 162.229 L877.42 146.719 Q877.42 143.039 875.985 141.21 Q874.549 139.382 871.679 139.382 Q868.23 139.382 866.239 141.581 Q864.249 143.78 864.249 147.576 L864.249 162.229 L859.966 162.229 L859.966 136.303 L864.249 136.303 L864.249 140.331 Q865.776 137.993 867.836 136.835 Q869.92 135.678 872.628 135.678 Q877.096 135.678 879.387 138.456 Q881.679 141.21 881.679 146.581 Z\" fill=\"#000000\" fill-rule=\"nonzero\" fill-opacity=\"1\" /><path clip-path=\"url(#clip920)\" d=\"M894.387 128.942 L894.387 136.303 L903.16 136.303 L903.16 139.613 L894.387 139.613 L894.387 153.687 Q894.387 156.858 895.244 157.761 Q896.123 158.664 898.785 158.664 L903.16 158.664 L903.16 162.229 L898.785 162.229 Q893.855 162.229 891.98 160.4 Q890.105 158.548 890.105 153.687 L890.105 139.613 L886.98 139.613 L886.98 136.303 L890.105 136.303 L890.105 128.942 L894.387 128.942 Z\" fill=\"#000000\" fill-rule=\"nonzero\" fill-opacity=\"1\" /><path clip-path=\"url(#clip920)\" d=\"M930.938 148.201 L930.938 150.284 L911.355 150.284 Q911.633 154.682 913.994 156.997 Q916.378 159.289 920.614 159.289 Q923.068 159.289 925.359 158.687 Q927.674 158.085 929.943 156.881 L929.943 160.909 Q927.651 161.881 925.244 162.391 Q922.836 162.9 920.359 162.9 Q914.156 162.9 910.521 159.289 Q906.91 155.678 906.91 149.52 Q906.91 143.155 910.336 139.428 Q913.785 135.678 919.619 135.678 Q924.85 135.678 927.882 139.057 Q930.938 142.414 930.938 148.201 M926.679 146.951 Q926.632 143.456 924.711 141.372 Q922.813 139.289 919.665 139.289 Q916.1 139.289 913.947 141.303 Q911.818 143.317 911.494 146.974 L926.679 146.951 Z\" fill=\"#000000\" fill-rule=\"nonzero\" fill-opacity=\"1\" /></svg>\n"
      ]
     },
     "execution_count": 33,
     "metadata": {},
     "output_type": "execute_result"
    }
   ],
   "source": [
    "using Plots\n",
    "plot(riscos, retornos, label = \"Fronteira eficiente\", xlabel = \"Risco\", ylabel = \"Retorno\")"
   ]
  },
  {
   "cell_type": "code",
   "execution_count": 34,
   "metadata": {},
   "outputs": [
    {
     "data": {
      "image/png": "[encoded data removed]",
      "image/svg+xml": [
       "<?xml version=\"1.0\" encoding=\"utf-8\"?>\n",
       "<svg xmlns=\"http://www.w3.org/2000/svg\" xmlns:xlink=\"http://www.w3.org/1999/xlink\" width=\"600\" height=\"400\" viewBox=\"0 0 2400 1600\">\n",
       "<defs>\n",
       "  <clipPath id=\"clip960\">\n",
       "    <rect x=\"0\" y=\"0\" width=\"2400\" height=\"1600\"/>\n",
       "  </clipPath>\n",
       "</defs>\n",
       "<path clip-path=\"url(#clip960)\" d=\"M0 1600 L2400 1600 L2400 0 L0 0  Z\" fill=\"#ffffff\" fill-rule=\"evenodd\" fill-opacity=\"1\"/>\n",
       "<defs>\n",
       "  <clipPath id=\"clip961\">\n",
       "    <rect x=\"480\" y=\"0\" width=\"1681\" height=\"1600\"/>\n",
       "  </clipPath>\n",
       "</defs>\n",
       "<path clip-path=\"url(#clip960)\" d=\"M250.028 1423.18 L2352.76 1423.18 L2352.76 47.2441 L250.028 47.2441  Z\" fill=\"#ffffff\" fill-rule=\"evenodd\" fill-opacity=\"1\"/>\n",
       "<defs>\n",
       "  <clipPath id=\"clip962\">\n",
       "    <rect x=\"250\" y=\"47\" width=\"2104\" height=\"1377\"/>\n",
       "  </clipPath>\n",
       "</defs>\n",
       "<polyline clip-path=\"url(#clip962)\" style=\"stroke:#000000; stroke-linecap:round; stroke-linejoin:round; stroke-width:2; stroke-opacity:0.1; fill:none\" points=\"458.784,1423.18 458.784,47.2441 \"/>\n",
       "<polyline clip-path=\"url(#clip962)\" style=\"stroke:#000000; stroke-linecap:round; stroke-linejoin:round; stroke-width:2; stroke-opacity:0.1; fill:none\" points=\"764.528,1423.18 764.528,47.2441 \"/>\n",
       "<polyline clip-path=\"url(#clip962)\" style=\"stroke:#000000; stroke-linecap:round; stroke-linejoin:round; stroke-width:2; stroke-opacity:0.1; fill:none\" points=\"1070.27,1423.18 1070.27,47.2441 \"/>\n",
       "<polyline clip-path=\"url(#clip962)\" style=\"stroke:#000000; stroke-linecap:round; stroke-linejoin:round; stroke-width:2; stroke-opacity:0.1; fill:none\" points=\"1376.01,1423.18 1376.01,47.2441 \"/>\n",
       "<polyline clip-path=\"url(#clip962)\" style=\"stroke:#000000; stroke-linecap:round; stroke-linejoin:round; stroke-width:2; stroke-opacity:0.1; fill:none\" points=\"1681.76,1423.18 1681.76,47.2441 \"/>\n",
       "<polyline clip-path=\"url(#clip962)\" style=\"stroke:#000000; stroke-linecap:round; stroke-linejoin:round; stroke-width:2; stroke-opacity:0.1; fill:none\" points=\"1987.5,1423.18 1987.5,47.2441 \"/>\n",
       "<polyline clip-path=\"url(#clip962)\" style=\"stroke:#000000; stroke-linecap:round; stroke-linejoin:round; stroke-width:2; stroke-opacity:0.1; fill:none\" points=\"2293.24,1423.18 2293.24,47.2441 \"/>\n",
       "<polyline clip-path=\"url(#clip962)\" style=\"stroke:#000000; stroke-linecap:round; stroke-linejoin:round; stroke-width:2; stroke-opacity:0.1; fill:none\" points=\"250.028,1363.53 2352.76,1363.53 \"/>\n",
       "<polyline clip-path=\"url(#clip962)\" style=\"stroke:#000000; stroke-linecap:round; stroke-linejoin:round; stroke-width:2; stroke-opacity:0.1; fill:none\" points=\"250.028,1079.67 2352.76,1079.67 \"/>\n",
       "<polyline clip-path=\"url(#clip962)\" style=\"stroke:#000000; stroke-linecap:round; stroke-linejoin:round; stroke-width:2; stroke-opacity:0.1; fill:none\" points=\"250.028,795.821 2352.76,795.821 \"/>\n",
       "<polyline clip-path=\"url(#clip962)\" style=\"stroke:#000000; stroke-linecap:round; stroke-linejoin:round; stroke-width:2; stroke-opacity:0.1; fill:none\" points=\"250.028,511.967 2352.76,511.967 \"/>\n",
       "<polyline clip-path=\"url(#clip962)\" style=\"stroke:#000000; stroke-linecap:round; stroke-linejoin:round; stroke-width:2; stroke-opacity:0.1; fill:none\" points=\"250.028,228.113 2352.76,228.113 \"/>\n",
       "<polyline clip-path=\"url(#clip960)\" style=\"stroke:#000000; stroke-linecap:round; stroke-linejoin:round; stroke-width:4; stroke-opacity:1; fill:none\" points=\"250.028,1423.18 2352.76,1423.18 \"/>\n",
       "<polyline clip-path=\"url(#clip960)\" style=\"stroke:#000000; stroke-linecap:round; stroke-linejoin:round; stroke-width:4; stroke-opacity:1; fill:none\" points=\"458.784,1423.18 458.784,1404.28 \"/>\n",
       "<polyline clip-path=\"url(#clip960)\" style=\"stroke:#000000; stroke-linecap:round; stroke-linejoin:round; stroke-width:4; stroke-opacity:1; fill:none\" points=\"764.528,1423.18 764.528,1404.28 \"/>\n",
       "<polyline clip-path=\"url(#clip960)\" style=\"stroke:#000000; stroke-linecap:round; stroke-linejoin:round; stroke-width:4; stroke-opacity:1; fill:none\" points=\"1070.27,1423.18 1070.27,1404.28 \"/>\n",
       "<polyline clip-path=\"url(#clip960)\" style=\"stroke:#000000; stroke-linecap:round; stroke-linejoin:round; stroke-width:4; stroke-opacity:1; fill:none\" points=\"1376.01,1423.18 1376.01,1404.28 \"/>\n",
       "<polyline clip-path=\"url(#clip960)\" style=\"stroke:#000000; stroke-linecap:round; stroke-linejoin:round; stroke-width:4; stroke-opacity:1; fill:none\" points=\"1681.76,1423.18 1681.76,1404.28 \"/>\n",
       "<polyline clip-path=\"url(#clip960)\" style=\"stroke:#000000; stroke-linecap:round; stroke-linejoin:round; stroke-width:4; stroke-opacity:1; fill:none\" points=\"1987.5,1423.18 1987.5,1404.28 \"/>\n",
       "<polyline clip-path=\"url(#clip960)\" style=\"stroke:#000000; stroke-linecap:round; stroke-linejoin:round; stroke-width:4; stroke-opacity:1; fill:none\" points=\"2293.24,1423.18 2293.24,1404.28 \"/>\n",
       "<path clip-path=\"url(#clip960)\" d=\"M421.539 1454.1 Q417.928 1454.1 416.099 1457.66 Q414.294 1461.2 414.294 1468.33 Q414.294 1475.44 416.099 1479.01 Q417.928 1482.55 421.539 1482.55 Q425.173 1482.55 426.979 1479.01 Q428.808 1475.44 428.808 1468.33 Q428.808 1461.2 426.979 1457.66 Q425.173 1454.1 421.539 1454.1 M421.539 1450.39 Q427.349 1450.39 430.405 1455 Q433.484 1459.58 433.484 1468.33 Q433.484 1477.06 430.405 1481.67 Q427.349 1486.25 421.539 1486.25 Q415.729 1486.25 412.65 1481.67 Q409.595 1477.06 409.595 1468.33 Q409.595 1459.58 412.65 1455 Q415.729 1450.39 421.539 1450.39 Z\" fill=\"#000000\" fill-rule=\"nonzero\" fill-opacity=\"1\" /><path clip-path=\"url(#clip960)\" d=\"M441.701 1479.7 L446.585 1479.7 L446.585 1485.58 L441.701 1485.58 L441.701 1479.7 Z\" fill=\"#000000\" fill-rule=\"nonzero\" fill-opacity=\"1\" /><path clip-path=\"url(#clip960)\" d=\"M466.77 1454.1 Q463.159 1454.1 461.331 1457.66 Q459.525 1461.2 459.525 1468.33 Q459.525 1475.44 461.331 1479.01 Q463.159 1482.55 466.77 1482.55 Q470.405 1482.55 472.21 1479.01 Q474.039 1475.44 474.039 1468.33 Q474.039 1461.2 472.21 1457.66 Q470.405 1454.1 466.77 1454.1 M466.77 1450.39 Q472.581 1450.39 475.636 1455 Q478.715 1459.58 478.715 1468.33 Q478.715 1477.06 475.636 1481.67 Q472.581 1486.25 466.77 1486.25 Q460.96 1486.25 457.882 1481.67 Q454.826 1477.06 454.826 1468.33 Q454.826 1459.58 457.882 1455 Q460.96 1450.39 466.77 1450.39 Z\" fill=\"#000000\" fill-rule=\"nonzero\" fill-opacity=\"1\" /><path clip-path=\"url(#clip960)\" d=\"M485.752 1451.02 L507.974 1451.02 L507.974 1453.01 L495.428 1485.58 L490.543 1485.58 L502.349 1454.96 L485.752 1454.96 L485.752 1451.02 Z\" fill=\"#000000\" fill-rule=\"nonzero\" fill-opacity=\"1\" /><path clip-path=\"url(#clip960)\" d=\"M726.877 1454.1 Q723.266 1454.1 721.438 1457.66 Q719.632 1461.2 719.632 1468.33 Q719.632 1475.44 721.438 1479.01 Q723.266 1482.55 726.877 1482.55 Q730.512 1482.55 732.317 1479.01 Q734.146 1475.44 734.146 1468.33 Q734.146 1461.2 732.317 1457.66 Q730.512 1454.1 726.877 1454.1 M726.877 1450.39 Q732.688 1450.39 735.743 1455 Q738.822 1459.58 738.822 1468.33 Q738.822 1477.06 735.743 1481.67 Q732.688 1486.25 726.877 1486.25 Q721.067 1486.25 717.989 1481.67 Q714.933 1477.06 714.933 1468.33 Q714.933 1459.58 717.989 1455 Q721.067 1450.39 726.877 1450.39 Z\" fill=\"#000000\" fill-rule=\"nonzero\" fill-opacity=\"1\" /><path clip-path=\"url(#clip960)\" d=\"M747.039 1479.7 L751.924 1479.7 L751.924 1485.58 L747.039 1485.58 L747.039 1479.7 Z\" fill=\"#000000\" fill-rule=\"nonzero\" fill-opacity=\"1\" /><path clip-path=\"url(#clip960)\" d=\"M772.109 1454.1 Q768.498 1454.1 766.669 1457.66 Q764.863 1461.2 764.863 1468.33 Q764.863 1475.44 766.669 1479.01 Q768.498 1482.55 772.109 1482.55 Q775.743 1482.55 777.549 1479.01 Q779.377 1475.44 779.377 1468.33 Q779.377 1461.2 777.549 1457.66 Q775.743 1454.1 772.109 1454.1 M772.109 1450.39 Q777.919 1450.39 780.974 1455 Q784.053 1459.58 784.053 1468.33 Q784.053 1477.06 780.974 1481.67 Q777.919 1486.25 772.109 1486.25 Q766.299 1486.25 763.22 1481.67 Q760.164 1477.06 760.164 1468.33 Q760.164 1459.58 763.22 1455 Q766.299 1450.39 772.109 1450.39 Z\" fill=\"#000000\" fill-rule=\"nonzero\" fill-opacity=\"1\" /><path clip-path=\"url(#clip960)\" d=\"M802.271 1469.17 Q798.937 1469.17 797.016 1470.95 Q795.118 1472.73 795.118 1475.86 Q795.118 1478.98 797.016 1480.77 Q798.937 1482.55 802.271 1482.55 Q805.604 1482.55 807.525 1480.77 Q809.446 1478.96 809.446 1475.86 Q809.446 1472.73 807.525 1470.95 Q805.627 1469.17 802.271 1469.17 M797.595 1467.18 Q794.585 1466.44 792.896 1464.38 Q791.229 1462.32 791.229 1459.35 Q791.229 1455.21 794.169 1452.8 Q797.132 1450.39 802.271 1450.39 Q807.433 1450.39 810.372 1452.8 Q813.312 1455.21 813.312 1459.35 Q813.312 1462.32 811.622 1464.38 Q809.956 1466.44 806.97 1467.18 Q810.349 1467.96 812.224 1470.26 Q814.122 1472.55 814.122 1475.86 Q814.122 1480.88 811.044 1483.57 Q807.988 1486.25 802.271 1486.25 Q796.553 1486.25 793.474 1483.57 Q790.419 1480.88 790.419 1475.86 Q790.419 1472.55 792.317 1470.26 Q794.215 1467.96 797.595 1467.18 M795.882 1459.79 Q795.882 1462.48 797.548 1463.98 Q799.238 1465.49 802.271 1465.49 Q805.28 1465.49 806.97 1463.98 Q808.683 1462.48 808.683 1459.79 Q808.683 1457.11 806.97 1455.6 Q805.28 1454.1 802.271 1454.1 Q799.238 1454.1 797.548 1455.6 Q795.882 1457.11 795.882 1459.79 Z\" fill=\"#000000\" fill-rule=\"nonzero\" fill-opacity=\"1\" /><path clip-path=\"url(#clip960)\" d=\"M1032.67 1454.1 Q1029.06 1454.1 1027.23 1457.66 Q1025.42 1461.2 1025.42 1468.33 Q1025.42 1475.44 1027.23 1479.01 Q1029.06 1482.55 1032.67 1482.55 Q1036.3 1482.55 1038.11 1479.01 Q1039.94 1475.44 1039.94 1468.33 Q1039.94 1461.2 1038.11 1457.66 Q1036.3 1454.1 1032.67 1454.1 M1032.67 1450.39 Q1038.48 1450.39 1041.53 1455 Q1044.61 1459.58 1044.61 1468.33 Q1044.61 1477.06 1041.53 1481.67 Q1038.48 1486.25 1032.67 1486.25 Q1026.86 1486.25 1023.78 1481.67 Q1020.72 1477.06 1020.72 1468.33 Q1020.72 1459.58 1023.78 1455 Q1026.86 1450.39 1032.67 1450.39 Z\" fill=\"#000000\" fill-rule=\"nonzero\" fill-opacity=\"1\" /><path clip-path=\"url(#clip960)\" d=\"M1052.83 1479.7 L1057.71 1479.7 L1057.71 1485.58 L1052.83 1485.58 L1052.83 1479.7 Z\" fill=\"#000000\" fill-rule=\"nonzero\" fill-opacity=\"1\" /><path clip-path=\"url(#clip960)\" d=\"M1077.9 1454.1 Q1074.29 1454.1 1072.46 1457.66 Q1070.65 1461.2 1070.65 1468.33 Q1070.65 1475.44 1072.46 1479.01 Q1074.29 1482.55 1077.9 1482.55 Q1081.53 1482.55 1083.34 1479.01 Q1085.17 1475.44 1085.17 1468.33 Q1085.17 1461.2 1083.34 1457.66 Q1081.53 1454.1 1077.9 1454.1 M1077.9 1450.39 Q1083.71 1450.39 1086.76 1455 Q1089.84 1459.58 1089.84 1468.33 Q1089.84 1477.06 1086.76 1481.67 Q1083.71 1486.25 1077.9 1486.25 Q1072.09 1486.25 1069.01 1481.67 Q1065.95 1477.06 1065.95 1468.33 Q1065.95 1459.58 1069.01 1455 Q1072.09 1450.39 1077.9 1450.39 Z\" fill=\"#000000\" fill-rule=\"nonzero\" fill-opacity=\"1\" /><path clip-path=\"url(#clip960)\" d=\"M1098.2 1484.86 L1098.2 1480.6 Q1099.96 1481.44 1101.76 1481.88 Q1103.57 1482.32 1105.31 1482.32 Q1109.94 1482.32 1112.37 1479.21 Q1114.82 1476.09 1115.17 1469.75 Q1113.82 1471.74 1111.76 1472.8 Q1109.7 1473.87 1107.2 1473.87 Q1102.02 1473.87 1098.99 1470.74 Q1095.98 1467.59 1095.98 1462.15 Q1095.98 1456.83 1099.13 1453.61 Q1102.27 1450.39 1107.5 1450.39 Q1113.5 1450.39 1116.65 1455 Q1119.82 1459.58 1119.82 1468.33 Q1119.82 1476.51 1115.93 1481.39 Q1112.06 1486.25 1105.51 1486.25 Q1103.75 1486.25 1101.95 1485.9 Q1100.14 1485.56 1098.2 1484.86 M1107.5 1470.21 Q1110.65 1470.21 1112.48 1468.06 Q1114.33 1465.9 1114.33 1462.15 Q1114.33 1458.43 1112.48 1456.27 Q1110.65 1454.1 1107.5 1454.1 Q1104.36 1454.1 1102.5 1456.27 Q1100.68 1458.43 1100.68 1462.15 Q1100.68 1465.9 1102.5 1468.06 Q1104.36 1470.21 1107.5 1470.21 Z\" fill=\"#000000\" fill-rule=\"nonzero\" fill-opacity=\"1\" /><path clip-path=\"url(#clip960)\" d=\"M1338.32 1454.1 Q1334.71 1454.1 1332.88 1457.66 Q1331.07 1461.2 1331.07 1468.33 Q1331.07 1475.44 1332.88 1479.01 Q1334.71 1482.55 1338.32 1482.55 Q1341.95 1482.55 1343.76 1479.01 Q1345.59 1475.44 1345.59 1468.33 Q1345.59 1461.2 1343.76 1457.66 Q1341.95 1454.1 1338.32 1454.1 M1338.32 1450.39 Q1344.13 1450.39 1347.18 1455 Q1350.26 1459.58 1350.26 1468.33 Q1350.26 1477.06 1347.18 1481.67 Q1344.13 1486.25 1338.32 1486.25 Q1332.51 1486.25 1329.43 1481.67 Q1326.37 1477.06 1326.37 1468.33 Q1326.37 1459.58 1329.43 1455 Q1332.51 1450.39 1338.32 1450.39 Z\" fill=\"#000000\" fill-rule=\"nonzero\" fill-opacity=\"1\" /><path clip-path=\"url(#clip960)\" d=\"M1358.48 1479.7 L1363.36 1479.7 L1363.36 1485.58 L1358.48 1485.58 L1358.48 1479.7 Z\" fill=\"#000000\" fill-rule=\"nonzero\" fill-opacity=\"1\" /><path clip-path=\"url(#clip960)\" d=\"M1374.36 1481.64 L1382 1481.64 L1382 1455.28 L1373.69 1456.95 L1373.69 1452.69 L1381.95 1451.02 L1386.63 1451.02 L1386.63 1481.64 L1394.27 1481.64 L1394.27 1485.58 L1374.36 1485.58 L1374.36 1481.64 Z\" fill=\"#000000\" fill-rule=\"nonzero\" fill-opacity=\"1\" /><path clip-path=\"url(#clip960)\" d=\"M1413.71 1454.1 Q1410.1 1454.1 1408.27 1457.66 Q1406.47 1461.2 1406.47 1468.33 Q1406.47 1475.44 1408.27 1479.01 Q1410.1 1482.55 1413.71 1482.55 Q1417.35 1482.55 1419.15 1479.01 Q1420.98 1475.44 1420.98 1468.33 Q1420.98 1461.2 1419.15 1457.66 Q1417.35 1454.1 1413.71 1454.1 M1413.71 1450.39 Q1419.52 1450.39 1422.58 1455 Q1425.66 1459.58 1425.66 1468.33 Q1425.66 1477.06 1422.58 1481.67 Q1419.52 1486.25 1413.71 1486.25 Q1407.9 1486.25 1404.82 1481.67 Q1401.77 1477.06 1401.77 1468.33 Q1401.77 1459.58 1404.82 1455 Q1407.9 1450.39 1413.71 1450.39 Z\" fill=\"#000000\" fill-rule=\"nonzero\" fill-opacity=\"1\" /><path clip-path=\"url(#clip960)\" d=\"M1644.67 1454.1 Q1641.06 1454.1 1639.24 1457.66 Q1637.43 1461.2 1637.43 1468.33 Q1637.43 1475.44 1639.24 1479.01 Q1641.06 1482.55 1644.67 1482.55 Q1648.31 1482.55 1650.11 1479.01 Q1651.94 1475.44 1651.94 1468.33 Q1651.94 1461.2 1650.11 1457.66 Q1648.31 1454.1 1644.67 1454.1 M1644.67 1450.39 Q1650.48 1450.39 1653.54 1455 Q1656.62 1459.58 1656.62 1468.33 Q1656.62 1477.06 1653.54 1481.67 Q1650.48 1486.25 1644.67 1486.25 Q1638.86 1486.25 1635.79 1481.67 Q1632.73 1477.06 1632.73 1468.33 Q1632.73 1459.58 1635.79 1455 Q1638.86 1450.39 1644.67 1450.39 Z\" fill=\"#000000\" fill-rule=\"nonzero\" fill-opacity=\"1\" /><path clip-path=\"url(#clip960)\" d=\"M1664.84 1479.7 L1669.72 1479.7 L1669.72 1485.58 L1664.84 1485.58 L1664.84 1479.7 Z\" fill=\"#000000\" fill-rule=\"nonzero\" fill-opacity=\"1\" /><path clip-path=\"url(#clip960)\" d=\"M1680.72 1481.64 L1688.36 1481.64 L1688.36 1455.28 L1680.05 1456.95 L1680.05 1452.69 L1688.31 1451.02 L1692.98 1451.02 L1692.98 1481.64 L1700.62 1481.64 L1700.62 1485.58 L1680.72 1485.58 L1680.72 1481.64 Z\" fill=\"#000000\" fill-rule=\"nonzero\" fill-opacity=\"1\" /><path clip-path=\"url(#clip960)\" d=\"M1710.88 1481.64 L1718.52 1481.64 L1718.52 1455.28 L1710.21 1456.95 L1710.21 1452.69 L1718.47 1451.02 L1723.15 1451.02 L1723.15 1481.64 L1730.79 1481.64 L1730.79 1485.58 L1710.88 1485.58 L1710.88 1481.64 Z\" fill=\"#000000\" fill-rule=\"nonzero\" fill-opacity=\"1\" /><path clip-path=\"url(#clip960)\" d=\"M1950.6 1454.1 Q1946.99 1454.1 1945.16 1457.66 Q1943.36 1461.2 1943.36 1468.33 Q1943.36 1475.44 1945.16 1479.01 Q1946.99 1482.55 1950.6 1482.55 Q1954.24 1482.55 1956.04 1479.01 Q1957.87 1475.44 1957.87 1468.33 Q1957.87 1461.2 1956.04 1457.66 Q1954.24 1454.1 1950.6 1454.1 M1950.6 1450.39 Q1956.41 1450.39 1959.47 1455 Q1962.55 1459.58 1962.55 1468.33 Q1962.55 1477.06 1959.47 1481.67 Q1956.41 1486.25 1950.6 1486.25 Q1944.79 1486.25 1941.71 1481.67 Q1938.66 1477.06 1938.66 1468.33 Q1938.66 1459.58 1941.71 1455 Q1944.79 1450.39 1950.6 1450.39 Z\" fill=\"#000000\" fill-rule=\"nonzero\" fill-opacity=\"1\" /><path clip-path=\"url(#clip960)\" d=\"M1970.77 1479.7 L1975.65 1479.7 L1975.65 1485.58 L1970.77 1485.58 L1970.77 1479.7 Z\" fill=\"#000000\" fill-rule=\"nonzero\" fill-opacity=\"1\" /><path clip-path=\"url(#clip960)\" d=\"M1986.64 1481.64 L1994.28 1481.64 L1994.28 1455.28 L1985.97 1456.95 L1985.97 1452.69 L1994.24 1451.02 L1998.91 1451.02 L1998.91 1481.64 L2006.55 1481.64 L2006.55 1485.58 L1986.64 1485.58 L1986.64 1481.64 Z\" fill=\"#000000\" fill-rule=\"nonzero\" fill-opacity=\"1\" /><path clip-path=\"url(#clip960)\" d=\"M2020.02 1481.64 L2036.34 1481.64 L2036.34 1485.58 L2014.4 1485.58 L2014.4 1481.64 Q2017.06 1478.89 2021.64 1474.26 Q2026.25 1469.61 2027.43 1468.27 Q2029.68 1465.74 2030.56 1464.01 Q2031.46 1462.25 2031.46 1460.56 Q2031.46 1457.8 2029.52 1456.07 Q2027.59 1454.33 2024.49 1454.33 Q2022.29 1454.33 2019.84 1455.09 Q2017.41 1455.86 2014.63 1457.41 L2014.63 1452.69 Q2017.45 1451.55 2019.91 1450.97 Q2022.36 1450.39 2024.4 1450.39 Q2029.77 1450.39 2032.96 1453.08 Q2036.16 1455.77 2036.16 1460.26 Q2036.16 1462.39 2035.35 1464.31 Q2034.56 1466.2 2032.45 1468.8 Q2031.88 1469.47 2028.77 1472.69 Q2025.67 1475.88 2020.02 1481.64 Z\" fill=\"#000000\" fill-rule=\"nonzero\" fill-opacity=\"1\" /><path clip-path=\"url(#clip960)\" d=\"M2255.87 1454.1 Q2252.26 1454.1 2250.43 1457.66 Q2248.63 1461.2 2248.63 1468.33 Q2248.63 1475.44 2250.43 1479.01 Q2252.26 1482.55 2255.87 1482.55 Q2259.51 1482.55 2261.31 1479.01 Q2263.14 1475.44 2263.14 1468.33 Q2263.14 1461.2 2261.31 1457.66 Q2259.51 1454.1 2255.87 1454.1 M2255.87 1450.39 Q2261.68 1450.39 2264.74 1455 Q2267.82 1459.58 2267.82 1468.33 Q2267.82 1477.06 2264.74 1481.67 Q2261.68 1486.25 2255.87 1486.25 Q2250.06 1486.25 2246.98 1481.67 Q2243.93 1477.06 2243.93 1468.33 Q2243.93 1459.58 2246.98 1455 Q2250.06 1450.39 2255.87 1450.39 Z\" fill=\"#000000\" fill-rule=\"nonzero\" fill-opacity=\"1\" /><path clip-path=\"url(#clip960)\" d=\"M2276.03 1479.7 L2280.92 1479.7 L2280.92 1485.58 L2276.03 1485.58 L2276.03 1479.7 Z\" fill=\"#000000\" fill-rule=\"nonzero\" fill-opacity=\"1\" /><path clip-path=\"url(#clip960)\" d=\"M2291.91 1481.64 L2299.55 1481.64 L2299.55 1455.28 L2291.24 1456.95 L2291.24 1452.69 L2299.51 1451.02 L2304.18 1451.02 L2304.18 1481.64 L2311.82 1481.64 L2311.82 1485.58 L2291.91 1485.58 L2291.91 1481.64 Z\" fill=\"#000000\" fill-rule=\"nonzero\" fill-opacity=\"1\" /><path clip-path=\"url(#clip960)\" d=\"M2335.43 1466.95 Q2338.79 1467.66 2340.66 1469.93 Q2342.56 1472.2 2342.56 1475.53 Q2342.56 1480.65 2339.04 1483.45 Q2335.52 1486.25 2329.04 1486.25 Q2326.87 1486.25 2324.55 1485.81 Q2322.26 1485.39 2319.81 1484.54 L2319.81 1480.02 Q2321.75 1481.16 2324.07 1481.74 Q2326.38 1482.32 2328.9 1482.32 Q2333.3 1482.32 2335.59 1480.58 Q2337.91 1478.84 2337.91 1475.53 Q2337.91 1472.48 2335.76 1470.77 Q2333.63 1469.03 2329.81 1469.03 L2325.78 1469.03 L2325.78 1465.19 L2329.99 1465.19 Q2333.44 1465.19 2335.27 1463.82 Q2337.1 1462.43 2337.1 1459.84 Q2337.1 1457.18 2335.2 1455.77 Q2333.33 1454.33 2329.81 1454.33 Q2327.89 1454.33 2325.69 1454.75 Q2323.49 1455.16 2320.85 1456.04 L2320.85 1451.88 Q2323.51 1451.14 2325.83 1450.77 Q2328.16 1450.39 2330.22 1450.39 Q2335.55 1450.39 2338.65 1452.83 Q2341.75 1455.23 2341.75 1459.35 Q2341.75 1462.22 2340.11 1464.21 Q2338.46 1466.18 2335.43 1466.95 Z\" fill=\"#000000\" fill-rule=\"nonzero\" fill-opacity=\"1\" /><path clip-path=\"url(#clip960)\" d=\"M1242.37 1545.76 Q1244.43 1546.46 1246.38 1548.76 Q1248.35 1551.05 1250.32 1555.06 L1256.85 1568.04 L1249.94 1568.04 L1243.86 1555.85 Q1241.51 1551.08 1239.28 1549.52 Q1237.08 1547.96 1233.26 1547.96 L1226.26 1547.96 L1226.26 1568.04 L1219.83 1568.04 L1219.83 1520.52 L1234.35 1520.52 Q1242.49 1520.52 1246.5 1523.93 Q1250.51 1527.34 1250.51 1534.21 Q1250.51 1538.7 1248.41 1541.66 Q1246.34 1544.62 1242.37 1545.76 M1226.26 1525.81 L1226.26 1542.68 L1234.35 1542.68 Q1238.99 1542.68 1241.35 1540.54 Q1243.73 1538.38 1243.73 1534.21 Q1243.73 1530.04 1241.35 1527.94 Q1238.99 1525.81 1234.35 1525.81 L1226.26 1525.81 Z\" fill=\"#000000\" fill-rule=\"nonzero\" fill-opacity=\"1\" /><path clip-path=\"url(#clip960)\" d=\"M1264.87 1532.4 L1270.73 1532.4 L1270.73 1568.04 L1264.87 1568.04 L1264.87 1532.4 M1264.87 1518.52 L1270.73 1518.52 L1270.73 1525.93 L1264.87 1525.93 L1264.87 1518.52 Z\" fill=\"#000000\" fill-rule=\"nonzero\" fill-opacity=\"1\" /><path clip-path=\"url(#clip960)\" d=\"M1305.7 1533.45 L1305.7 1538.98 Q1303.22 1537.71 1300.55 1537.07 Q1297.87 1536.44 1295.01 1536.44 Q1290.65 1536.44 1288.45 1537.77 Q1286.29 1539.11 1286.29 1541.79 Q1286.29 1543.82 1287.85 1545 Q1289.41 1546.15 1294.12 1547.2 L1296.12 1547.64 Q1302.36 1548.98 1304.97 1551.43 Q1307.61 1553.85 1307.61 1558.21 Q1307.61 1563.17 1303.67 1566.07 Q1299.75 1568.97 1292.88 1568.97 Q1290.01 1568.97 1286.89 1568.39 Q1283.81 1567.85 1280.37 1566.74 L1280.37 1560.69 Q1283.62 1562.38 1286.77 1563.24 Q1289.92 1564.07 1293.01 1564.07 Q1297.14 1564.07 1299.37 1562.66 Q1301.6 1561.23 1301.6 1558.65 Q1301.6 1556.27 1299.98 1554.99 Q1298.38 1553.72 1292.94 1552.54 L1290.9 1552.07 Q1285.46 1550.92 1283.04 1548.56 Q1280.62 1546.18 1280.62 1542.04 Q1280.62 1537.01 1284.19 1534.27 Q1287.75 1531.54 1294.31 1531.54 Q1297.56 1531.54 1300.42 1532.01 Q1303.29 1532.49 1305.7 1533.45 Z\" fill=\"#000000\" fill-rule=\"nonzero\" fill-opacity=\"1\" /><path clip-path=\"url(#clip960)\" d=\"M1342.59 1533.76 L1342.59 1539.24 Q1340.11 1537.87 1337.6 1537.2 Q1335.11 1536.5 1332.57 1536.5 Q1326.87 1536.5 1323.72 1540.13 Q1320.57 1543.73 1320.57 1550.25 Q1320.57 1556.78 1323.72 1560.4 Q1326.87 1564 1332.57 1564 Q1335.11 1564 1337.6 1563.33 Q1340.11 1562.63 1342.59 1561.26 L1342.59 1566.68 Q1340.14 1567.82 1337.5 1568.39 Q1334.89 1568.97 1331.93 1568.97 Q1323.88 1568.97 1319.14 1563.91 Q1314.39 1558.85 1314.39 1550.25 Q1314.39 1541.53 1319.17 1536.53 Q1323.97 1531.54 1332.31 1531.54 Q1335.02 1531.54 1337.6 1532.11 Q1340.18 1532.65 1342.59 1533.76 Z\" fill=\"#000000\" fill-rule=\"nonzero\" fill-opacity=\"1\" /><path clip-path=\"url(#clip960)\" d=\"M1366.59 1536.5 Q1361.88 1536.5 1359.14 1540.19 Q1356.41 1543.85 1356.41 1550.25 Q1356.41 1556.65 1359.11 1560.34 Q1361.85 1564 1366.59 1564 Q1371.27 1564 1374.01 1560.31 Q1376.75 1556.62 1376.75 1550.25 Q1376.75 1543.92 1374.01 1540.23 Q1371.27 1536.5 1366.59 1536.5 M1366.59 1531.54 Q1374.23 1531.54 1378.59 1536.5 Q1382.95 1541.47 1382.95 1550.25 Q1382.95 1559 1378.59 1564 Q1374.23 1568.97 1366.59 1568.97 Q1358.92 1568.97 1354.56 1564 Q1350.23 1559 1350.23 1550.25 Q1350.23 1541.47 1354.56 1536.5 Q1358.92 1531.54 1366.59 1531.54 Z\" fill=\"#000000\" fill-rule=\"nonzero\" fill-opacity=\"1\" /><polyline clip-path=\"url(#clip960)\" style=\"stroke:#000000; stroke-linecap:round; stroke-linejoin:round; stroke-width:4; stroke-opacity:1; fill:none\" points=\"250.028,1423.18 250.028,47.2441 \"/>\n",
       "<polyline clip-path=\"url(#clip960)\" style=\"stroke:#000000; stroke-linecap:round; stroke-linejoin:round; stroke-width:4; stroke-opacity:1; fill:none\" points=\"250.028,1363.53 268.926,1363.53 \"/>\n",
       "<polyline clip-path=\"url(#clip960)\" style=\"stroke:#000000; stroke-linecap:round; stroke-linejoin:round; stroke-width:4; stroke-opacity:1; fill:none\" points=\"250.028,1079.67 268.926,1079.67 \"/>\n",
       "<polyline clip-path=\"url(#clip960)\" style=\"stroke:#000000; stroke-linecap:round; stroke-linejoin:round; stroke-width:4; stroke-opacity:1; fill:none\" points=\"250.028,795.821 268.926,795.821 \"/>\n",
       "<polyline clip-path=\"url(#clip960)\" style=\"stroke:#000000; stroke-linecap:round; stroke-linejoin:round; stroke-width:4; stroke-opacity:1; fill:none\" points=\"250.028,511.967 268.926,511.967 \"/>\n",
       "<polyline clip-path=\"url(#clip960)\" style=\"stroke:#000000; stroke-linecap:round; stroke-linejoin:round; stroke-width:4; stroke-opacity:1; fill:none\" points=\"250.028,228.113 268.926,228.113 \"/>\n",
       "<path clip-path=\"url(#clip960)\" d=\"M126.529 1349.33 Q122.918 1349.33 121.089 1352.89 Q119.283 1356.43 119.283 1363.56 Q119.283 1370.67 121.089 1374.23 Q122.918 1377.78 126.529 1377.78 Q130.163 1377.78 131.968 1374.23 Q133.797 1370.67 133.797 1363.56 Q133.797 1356.43 131.968 1352.89 Q130.163 1349.33 126.529 1349.33 M126.529 1345.62 Q132.339 1345.62 135.394 1350.23 Q138.473 1354.81 138.473 1363.56 Q138.473 1372.29 135.394 1376.9 Q132.339 1381.48 126.529 1381.48 Q120.718 1381.48 117.64 1376.9 Q114.584 1372.29 114.584 1363.56 Q114.584 1354.81 117.64 1350.23 Q120.718 1345.62 126.529 1345.62 Z\" fill=\"#000000\" fill-rule=\"nonzero\" fill-opacity=\"1\" /><path clip-path=\"url(#clip960)\" d=\"M146.691 1374.93 L151.575 1374.93 L151.575 1380.81 L146.691 1380.81 L146.691 1374.93 Z\" fill=\"#000000\" fill-rule=\"nonzero\" fill-opacity=\"1\" /><path clip-path=\"url(#clip960)\" d=\"M171.76 1349.33 Q168.149 1349.33 166.32 1352.89 Q164.515 1356.43 164.515 1363.56 Q164.515 1370.67 166.32 1374.23 Q168.149 1377.78 171.76 1377.78 Q175.394 1377.78 177.2 1374.23 Q179.028 1370.67 179.028 1363.56 Q179.028 1356.43 177.2 1352.89 Q175.394 1349.33 171.76 1349.33 M171.76 1345.62 Q177.57 1345.62 180.626 1350.23 Q183.704 1354.81 183.704 1363.56 Q183.704 1372.29 180.626 1376.9 Q177.57 1381.48 171.76 1381.48 Q165.95 1381.48 162.871 1376.9 Q159.815 1372.29 159.815 1363.56 Q159.815 1354.81 162.871 1350.23 Q165.95 1345.62 171.76 1345.62 Z\" fill=\"#000000\" fill-rule=\"nonzero\" fill-opacity=\"1\" /><path clip-path=\"url(#clip960)\" d=\"M202.5 1361.67 Q199.352 1361.67 197.5 1363.82 Q195.672 1365.97 195.672 1369.72 Q195.672 1373.45 197.5 1375.62 Q199.352 1377.78 202.5 1377.78 Q205.649 1377.78 207.477 1375.62 Q209.329 1373.45 209.329 1369.72 Q209.329 1365.97 207.477 1363.82 Q205.649 1361.67 202.5 1361.67 M211.783 1347.01 L211.783 1351.27 Q210.024 1350.44 208.218 1350 Q206.436 1349.56 204.676 1349.56 Q200.047 1349.56 197.593 1352.68 Q195.163 1355.81 194.815 1362.13 Q196.181 1360.11 198.241 1359.05 Q200.301 1357.96 202.778 1357.96 Q207.987 1357.96 210.996 1361.13 Q214.028 1364.28 214.028 1369.72 Q214.028 1375.04 210.88 1378.26 Q207.732 1381.48 202.5 1381.48 Q196.505 1381.48 193.334 1376.9 Q190.163 1372.29 190.163 1363.56 Q190.163 1355.37 194.051 1350.51 Q197.94 1345.62 204.491 1345.62 Q206.25 1345.62 208.033 1345.97 Q209.838 1346.32 211.783 1347.01 Z\" fill=\"#000000\" fill-rule=\"nonzero\" fill-opacity=\"1\" /><path clip-path=\"url(#clip960)\" d=\"M126.783 1065.47 Q123.172 1065.47 121.343 1069.04 Q119.538 1072.58 119.538 1079.71 Q119.538 1086.82 121.343 1090.38 Q123.172 1093.92 126.783 1093.92 Q130.417 1093.92 132.223 1090.38 Q134.052 1086.82 134.052 1079.71 Q134.052 1072.58 132.223 1069.04 Q130.417 1065.47 126.783 1065.47 M126.783 1061.77 Q132.593 1061.77 135.649 1066.38 Q138.728 1070.96 138.728 1079.71 Q138.728 1088.44 135.649 1093.04 Q132.593 1097.63 126.783 1097.63 Q120.973 1097.63 117.894 1093.04 Q114.839 1088.44 114.839 1079.71 Q114.839 1070.96 117.894 1066.38 Q120.973 1061.77 126.783 1061.77 Z\" fill=\"#000000\" fill-rule=\"nonzero\" fill-opacity=\"1\" /><path clip-path=\"url(#clip960)\" d=\"M146.945 1091.08 L151.829 1091.08 L151.829 1096.95 L146.945 1096.95 L146.945 1091.08 Z\" fill=\"#000000\" fill-rule=\"nonzero\" fill-opacity=\"1\" /><path clip-path=\"url(#clip960)\" d=\"M172.014 1065.47 Q168.403 1065.47 166.575 1069.04 Q164.769 1072.58 164.769 1079.71 Q164.769 1086.82 166.575 1090.38 Q168.403 1093.92 172.014 1093.92 Q175.649 1093.92 177.454 1090.38 Q179.283 1086.82 179.283 1079.71 Q179.283 1072.58 177.454 1069.04 Q175.649 1065.47 172.014 1065.47 M172.014 1061.77 Q177.825 1061.77 180.88 1066.38 Q183.959 1070.96 183.959 1079.71 Q183.959 1088.44 180.88 1093.04 Q177.825 1097.63 172.014 1097.63 Q166.204 1097.63 163.126 1093.04 Q160.07 1088.44 160.07 1079.71 Q160.07 1070.96 163.126 1066.38 Q166.204 1061.77 172.014 1061.77 Z\" fill=\"#000000\" fill-rule=\"nonzero\" fill-opacity=\"1\" /><path clip-path=\"url(#clip960)\" d=\"M202.176 1080.54 Q198.843 1080.54 196.922 1082.33 Q195.024 1084.11 195.024 1087.23 Q195.024 1090.36 196.922 1092.14 Q198.843 1093.92 202.176 1093.92 Q205.51 1093.92 207.431 1092.14 Q209.352 1090.33 209.352 1087.23 Q209.352 1084.11 207.431 1082.33 Q205.533 1080.54 202.176 1080.54 M197.5 1078.55 Q194.491 1077.81 192.801 1075.75 Q191.135 1073.69 191.135 1070.73 Q191.135 1066.58 194.075 1064.18 Q197.037 1061.77 202.176 1061.77 Q207.338 1061.77 210.278 1064.18 Q213.218 1066.58 213.218 1070.73 Q213.218 1073.69 211.528 1075.75 Q209.861 1077.81 206.875 1078.55 Q210.255 1079.34 212.13 1081.63 Q214.028 1083.92 214.028 1087.23 Q214.028 1092.26 210.949 1094.94 Q207.894 1097.63 202.176 1097.63 Q196.459 1097.63 193.38 1094.94 Q190.325 1092.26 190.325 1087.23 Q190.325 1083.92 192.223 1081.63 Q194.121 1079.34 197.5 1078.55 M195.787 1071.17 Q195.787 1073.85 197.454 1075.36 Q199.144 1076.86 202.176 1076.86 Q205.186 1076.86 206.875 1075.36 Q208.588 1073.85 208.588 1071.17 Q208.588 1068.48 206.875 1066.98 Q205.186 1065.47 202.176 1065.47 Q199.144 1065.47 197.454 1066.98 Q195.787 1068.48 195.787 1071.17 Z\" fill=\"#000000\" fill-rule=\"nonzero\" fill-opacity=\"1\" /><path clip-path=\"url(#clip960)\" d=\"M126.691 781.619 Q123.08 781.619 121.251 785.184 Q119.445 788.726 119.445 795.855 Q119.445 802.962 121.251 806.527 Q123.08 810.068 126.691 810.068 Q130.325 810.068 132.13 806.527 Q133.959 802.962 133.959 795.855 Q133.959 788.726 132.13 785.184 Q130.325 781.619 126.691 781.619 M126.691 777.916 Q132.501 777.916 135.556 782.522 Q138.635 787.105 138.635 795.855 Q138.635 804.582 135.556 809.189 Q132.501 813.772 126.691 813.772 Q120.88 813.772 117.802 809.189 Q114.746 804.582 114.746 795.855 Q114.746 787.105 117.802 782.522 Q120.88 777.916 126.691 777.916 Z\" fill=\"#000000\" fill-rule=\"nonzero\" fill-opacity=\"1\" /><path clip-path=\"url(#clip960)\" d=\"M146.853 807.221 L151.737 807.221 L151.737 813.101 L146.853 813.101 L146.853 807.221 Z\" fill=\"#000000\" fill-rule=\"nonzero\" fill-opacity=\"1\" /><path clip-path=\"url(#clip960)\" d=\"M162.732 809.165 L170.371 809.165 L170.371 782.8 L162.061 784.467 L162.061 780.207 L170.325 778.541 L175.001 778.541 L175.001 809.165 L182.639 809.165 L182.639 813.101 L162.732 813.101 L162.732 809.165 Z\" fill=\"#000000\" fill-rule=\"nonzero\" fill-opacity=\"1\" /><path clip-path=\"url(#clip960)\" d=\"M202.084 781.619 Q198.473 781.619 196.644 785.184 Q194.838 788.726 194.838 795.855 Q194.838 802.962 196.644 806.527 Q198.473 810.068 202.084 810.068 Q205.718 810.068 207.524 806.527 Q209.352 802.962 209.352 795.855 Q209.352 788.726 207.524 785.184 Q205.718 781.619 202.084 781.619 M202.084 777.916 Q207.894 777.916 210.949 782.522 Q214.028 787.105 214.028 795.855 Q214.028 804.582 210.949 809.189 Q207.894 813.772 202.084 813.772 Q196.274 813.772 193.195 809.189 Q190.139 804.582 190.139 795.855 Q190.139 787.105 193.195 782.522 Q196.274 777.916 202.084 777.916 Z\" fill=\"#000000\" fill-rule=\"nonzero\" fill-opacity=\"1\" /><path clip-path=\"url(#clip960)\" d=\"M128.288 497.765 Q124.677 497.765 122.848 501.33 Q121.043 504.872 121.043 512.001 Q121.043 519.108 122.848 522.673 Q124.677 526.214 128.288 526.214 Q131.922 526.214 133.728 522.673 Q135.556 519.108 135.556 512.001 Q135.556 504.872 133.728 501.33 Q131.922 497.765 128.288 497.765 M128.288 494.062 Q134.098 494.062 137.154 498.668 Q140.232 503.251 140.232 512.001 Q140.232 520.728 137.154 525.335 Q134.098 529.918 128.288 529.918 Q122.478 529.918 119.399 525.335 Q116.343 520.728 116.343 512.001 Q116.343 503.251 119.399 498.668 Q122.478 494.062 128.288 494.062 Z\" fill=\"#000000\" fill-rule=\"nonzero\" fill-opacity=\"1\" /><path clip-path=\"url(#clip960)\" d=\"M148.45 523.367 L153.334 523.367 L153.334 529.247 L148.45 529.247 L148.45 523.367 Z\" fill=\"#000000\" fill-rule=\"nonzero\" fill-opacity=\"1\" /><path clip-path=\"url(#clip960)\" d=\"M164.329 525.311 L171.968 525.311 L171.968 498.946 L163.658 500.613 L163.658 496.353 L171.922 494.687 L176.598 494.687 L176.598 525.311 L184.237 525.311 L184.237 529.247 L164.329 529.247 L164.329 525.311 Z\" fill=\"#000000\" fill-rule=\"nonzero\" fill-opacity=\"1\" /><path clip-path=\"url(#clip960)\" d=\"M197.709 525.311 L214.028 525.311 L214.028 529.247 L192.084 529.247 L192.084 525.311 Q194.746 522.557 199.329 517.927 Q203.936 513.275 205.116 511.932 Q207.362 509.409 208.241 507.673 Q209.144 505.913 209.144 504.224 Q209.144 501.469 207.199 499.733 Q205.278 497.997 202.176 497.997 Q199.977 497.997 197.524 498.761 Q195.093 499.525 192.315 501.076 L192.315 496.353 Q195.139 495.219 197.593 494.64 Q200.047 494.062 202.084 494.062 Q207.454 494.062 210.649 496.747 Q213.843 499.432 213.843 503.923 Q213.843 506.052 213.033 507.974 Q212.246 509.872 210.139 512.464 Q209.561 513.136 206.459 516.353 Q203.357 519.548 197.709 525.311 Z\" fill=\"#000000\" fill-rule=\"nonzero\" fill-opacity=\"1\" /><path clip-path=\"url(#clip960)\" d=\"M126.205 213.911 Q122.593 213.911 120.765 217.476 Q118.959 221.018 118.959 228.147 Q118.959 235.254 120.765 238.819 Q122.593 242.36 126.205 242.36 Q129.839 242.36 131.644 238.819 Q133.473 235.254 133.473 228.147 Q133.473 221.018 131.644 217.476 Q129.839 213.911 126.205 213.911 M126.205 210.208 Q132.015 210.208 135.07 214.814 Q138.149 219.397 138.149 228.147 Q138.149 236.874 135.07 241.481 Q132.015 246.064 126.205 246.064 Q120.394 246.064 117.316 241.481 Q114.26 236.874 114.26 228.147 Q114.26 219.397 117.316 214.814 Q120.394 210.208 126.205 210.208 Z\" fill=\"#000000\" fill-rule=\"nonzero\" fill-opacity=\"1\" /><path clip-path=\"url(#clip960)\" d=\"M146.366 239.513 L151.251 239.513 L151.251 245.393 L146.366 245.393 L146.366 239.513 Z\" fill=\"#000000\" fill-rule=\"nonzero\" fill-opacity=\"1\" /><path clip-path=\"url(#clip960)\" d=\"M162.246 241.457 L169.885 241.457 L169.885 215.092 L161.575 216.759 L161.575 212.499 L169.839 210.833 L174.514 210.833 L174.514 241.457 L182.153 241.457 L182.153 245.393 L162.246 245.393 L162.246 241.457 Z\" fill=\"#000000\" fill-rule=\"nonzero\" fill-opacity=\"1\" /><path clip-path=\"url(#clip960)\" d=\"M204.445 214.907 L192.639 233.356 L204.445 233.356 L204.445 214.907 M203.218 210.833 L209.098 210.833 L209.098 233.356 L214.028 233.356 L214.028 237.245 L209.098 237.245 L209.098 245.393 L204.445 245.393 L204.445 237.245 L188.843 237.245 L188.843 232.731 L203.218 210.833 Z\" fill=\"#000000\" fill-rule=\"nonzero\" fill-opacity=\"1\" /><path clip-path=\"url(#clip960)\" d=\"M41.7242 835.074 Q42.4244 833.005 44.7161 831.064 Q47.0077 829.09 51.0181 827.117 L64.0042 820.592 L64.0042 827.499 L51.8138 833.578 Q47.0395 835.933 45.48 838.161 Q43.9204 840.358 43.9204 844.177 L43.9204 851.179 L64.0042 851.179 L64.0042 857.609 L16.4842 857.609 L16.4842 843.095 Q16.4842 834.947 19.8898 830.936 Q23.2955 826.926 30.1704 826.926 Q34.6582 826.926 37.6183 829.027 Q40.5784 831.095 41.7242 835.074 M21.7677 851.179 L38.6368 851.179 L38.6368 843.095 Q38.6368 838.448 36.5043 836.093 Q34.34 833.705 30.1704 833.705 Q26.0009 833.705 23.9002 836.093 Q21.7677 838.448 21.7677 843.095 L21.7677 851.179 Z\" fill=\"#000000\" fill-rule=\"nonzero\" fill-opacity=\"1\" /><path clip-path=\"url(#clip960)\" d=\"M44.7161 785.008 L47.5806 785.008 L47.5806 811.935 Q53.6281 811.553 56.8109 808.306 Q59.9619 805.028 59.9619 799.203 Q59.9619 795.829 59.1344 792.678 Q58.3069 789.496 56.6518 786.376 L62.1899 786.376 Q63.5267 789.527 64.227 792.838 Q64.9272 796.148 64.9272 799.553 Q64.9272 808.083 59.9619 813.08 Q54.9967 818.046 46.5303 818.046 Q37.7774 818.046 32.6531 813.335 Q27.4968 808.593 27.4968 800.572 Q27.4968 793.379 32.1438 789.209 Q36.7589 785.008 44.7161 785.008 M42.9973 790.864 Q38.1912 790.928 35.3266 793.57 Q32.4621 796.18 32.4621 800.508 Q32.4621 805.41 35.2312 808.37 Q38.0002 811.298 43.0292 811.744 L42.9973 790.864 Z\" fill=\"#000000\" fill-rule=\"nonzero\" fill-opacity=\"1\" /><path clip-path=\"url(#clip960)\" d=\"M18.2347 769.603 L28.3562 769.603 L28.3562 757.54 L32.9077 757.54 L32.9077 769.603 L52.2594 769.603 Q56.6199 769.603 57.8613 768.425 Q59.1026 767.216 59.1026 763.555 L59.1026 757.54 L64.0042 757.54 L64.0042 763.555 Q64.0042 770.335 61.4897 772.913 Q58.9434 775.491 52.2594 775.491 L32.9077 775.491 L32.9077 779.788 L28.3562 779.788 L28.3562 775.491 L18.2347 775.491 L18.2347 769.603 Z\" fill=\"#000000\" fill-rule=\"nonzero\" fill-opacity=\"1\" /><path clip-path=\"url(#clip960)\" d=\"M32.4621 736.024 Q32.4621 740.734 36.1542 743.471 Q39.8145 746.209 46.212 746.209 Q52.6095 746.209 56.3017 743.503 Q59.9619 740.766 59.9619 736.024 Q59.9619 731.345 56.2698 728.608 Q52.5777 725.87 46.212 725.87 Q39.8781 725.87 36.186 728.608 Q32.4621 731.345 32.4621 736.024 M27.4968 736.024 Q27.4968 728.385 32.4621 724.024 Q37.4273 719.664 46.212 719.664 Q54.9649 719.664 59.9619 724.024 Q64.9272 728.385 64.9272 736.024 Q64.9272 743.694 59.9619 748.055 Q54.9649 752.383 46.212 752.383 Q37.4273 752.383 32.4621 748.055 Q27.4968 743.694 27.4968 736.024 Z\" fill=\"#000000\" fill-rule=\"nonzero\" fill-opacity=\"1\" /><path clip-path=\"url(#clip960)\" d=\"M33.8307 689.299 Q33.2578 690.286 33.0032 691.464 Q32.7167 692.609 32.7167 694.01 Q32.7167 698.975 35.9632 701.649 Q39.1779 704.291 45.2253 704.291 L64.0042 704.291 L64.0042 710.179 L28.3562 710.179 L28.3562 704.291 L33.8944 704.291 Q30.6479 702.444 29.0883 699.484 Q27.4968 696.524 27.4968 692.291 Q27.4968 691.686 27.5923 690.954 Q27.656 690.222 27.8151 689.331 L33.8307 689.299 Z\" fill=\"#000000\" fill-rule=\"nonzero\" fill-opacity=\"1\" /><path clip-path=\"url(#clip960)\" d=\"M42.4881 654.67 L64.0042 654.67 L64.0042 660.526 L42.679 660.526 Q37.6183 660.526 35.1038 662.5 Q32.5894 664.473 32.5894 668.42 Q32.5894 673.162 35.6131 675.899 Q38.6368 678.637 43.8567 678.637 L64.0042 678.637 L64.0042 684.525 L28.3562 684.525 L28.3562 678.637 L33.8944 678.637 Q30.6797 676.536 29.0883 673.703 Q27.4968 670.839 27.4968 667.115 Q27.4968 660.972 31.3163 657.821 Q35.1038 654.67 42.4881 654.67 Z\" fill=\"#000000\" fill-rule=\"nonzero\" fill-opacity=\"1\" /><path clip-path=\"url(#clip960)\" d=\"M32.4621 629.175 Q32.4621 633.886 36.1542 636.623 Q39.8145 639.36 46.212 639.36 Q52.6095 639.36 56.3017 636.655 Q59.9619 633.918 59.9619 629.175 Q59.9619 624.496 56.2698 621.759 Q52.5777 619.022 46.212 619.022 Q39.8781 619.022 36.186 621.759 Q32.4621 624.496 32.4621 629.175 M27.4968 629.175 Q27.4968 621.536 32.4621 617.176 Q37.4273 612.815 46.212 612.815 Q54.9649 612.815 59.9619 617.176 Q64.9272 621.536 64.9272 629.175 Q64.9272 636.846 59.9619 641.206 Q54.9649 645.535 46.212 645.535 Q37.4273 645.535 32.4621 641.206 Q27.4968 636.846 27.4968 629.175 Z\" fill=\"#000000\" fill-rule=\"nonzero\" fill-opacity=\"1\" /><circle clip-path=\"url(#clip962)\" cx=\"2293.24\" cy=\"86.1858\" r=\"14.4\" fill=\"#009af9\" fill-rule=\"evenodd\" fill-opacity=\"1\" stroke=\"#000000\" stroke-opacity=\"1\" stroke-width=\"3.2\"/>\n",
       "<circle clip-path=\"url(#clip962)\" cx=\"2293.24\" cy=\"86.1858\" r=\"14.4\" fill=\"#009af9\" fill-rule=\"evenodd\" fill-opacity=\"1\" stroke=\"#000000\" stroke-opacity=\"1\" stroke-width=\"3.2\"/>\n",
       "<circle clip-path=\"url(#clip962)\" cx=\"2293.24\" cy=\"86.1858\" r=\"14.4\" fill=\"#009af9\" fill-rule=\"evenodd\" fill-opacity=\"1\" stroke=\"#000000\" stroke-opacity=\"1\" stroke-width=\"3.2\"/>\n",
       "<circle clip-path=\"url(#clip962)\" cx=\"2293.24\" cy=\"86.1858\" r=\"14.4\" fill=\"#009af9\" fill-rule=\"evenodd\" fill-opacity=\"1\" stroke=\"#000000\" stroke-opacity=\"1\" stroke-width=\"3.2\"/>\n",
       "<circle clip-path=\"url(#clip962)\" cx=\"2293.24\" cy=\"86.1858\" r=\"14.4\" fill=\"#009af9\" fill-rule=\"evenodd\" fill-opacity=\"1\" stroke=\"#000000\" stroke-opacity=\"1\" stroke-width=\"3.2\"/>\n",
       "<circle clip-path=\"url(#clip962)\" cx=\"2293.24\" cy=\"86.1858\" r=\"14.4\" fill=\"#009af9\" fill-rule=\"evenodd\" fill-opacity=\"1\" stroke=\"#000000\" stroke-opacity=\"1\" stroke-width=\"3.2\"/>\n",
       "<circle clip-path=\"url(#clip962)\" cx=\"2293.24\" cy=\"86.1858\" r=\"14.4\" fill=\"#009af9\" fill-rule=\"evenodd\" fill-opacity=\"1\" stroke=\"#000000\" stroke-opacity=\"1\" stroke-width=\"3.2\"/>\n",
       "<circle clip-path=\"url(#clip962)\" cx=\"2293.24\" cy=\"86.1858\" r=\"14.4\" fill=\"#009af9\" fill-rule=\"evenodd\" fill-opacity=\"1\" stroke=\"#000000\" stroke-opacity=\"1\" stroke-width=\"3.2\"/>\n",
       "<circle clip-path=\"url(#clip962)\" cx=\"2293.24\" cy=\"86.1858\" r=\"14.4\" fill=\"#009af9\" fill-rule=\"evenodd\" fill-opacity=\"1\" stroke=\"#000000\" stroke-opacity=\"1\" stroke-width=\"3.2\"/>\n",
       "<circle clip-path=\"url(#clip962)\" cx=\"2293.24\" cy=\"86.1858\" r=\"14.4\" fill=\"#009af9\" fill-rule=\"evenodd\" fill-opacity=\"1\" stroke=\"#000000\" stroke-opacity=\"1\" stroke-width=\"3.2\"/>\n",
       "<circle clip-path=\"url(#clip962)\" cx=\"2293.24\" cy=\"86.1858\" r=\"14.4\" fill=\"#009af9\" fill-rule=\"evenodd\" fill-opacity=\"1\" stroke=\"#000000\" stroke-opacity=\"1\" stroke-width=\"3.2\"/>\n",
       "<circle clip-path=\"url(#clip962)\" cx=\"2293.24\" cy=\"86.1858\" r=\"14.4\" fill=\"#009af9\" fill-rule=\"evenodd\" fill-opacity=\"1\" stroke=\"#000000\" stroke-opacity=\"1\" stroke-width=\"3.2\"/>\n",
       "<circle clip-path=\"url(#clip962)\" cx=\"2293.24\" cy=\"86.1858\" r=\"14.4\" fill=\"#009af9\" fill-rule=\"evenodd\" fill-opacity=\"1\" stroke=\"#000000\" stroke-opacity=\"1\" stroke-width=\"3.2\"/>\n",
       "<circle clip-path=\"url(#clip962)\" cx=\"2293.24\" cy=\"86.1858\" r=\"14.4\" fill=\"#009af9\" fill-rule=\"evenodd\" fill-opacity=\"1\" stroke=\"#000000\" stroke-opacity=\"1\" stroke-width=\"3.2\"/>\n",
       "<circle clip-path=\"url(#clip962)\" cx=\"2293.24\" cy=\"86.1858\" r=\"14.4\" fill=\"#009af9\" fill-rule=\"evenodd\" fill-opacity=\"1\" stroke=\"#000000\" stroke-opacity=\"1\" stroke-width=\"3.2\"/>\n",
       "<circle clip-path=\"url(#clip962)\" cx=\"2293.24\" cy=\"86.1858\" r=\"14.4\" fill=\"#009af9\" fill-rule=\"evenodd\" fill-opacity=\"1\" stroke=\"#000000\" stroke-opacity=\"1\" stroke-width=\"3.2\"/>\n",
       "<circle clip-path=\"url(#clip962)\" cx=\"2293.24\" cy=\"86.1858\" r=\"14.4\" fill=\"#009af9\" fill-rule=\"evenodd\" fill-opacity=\"1\" stroke=\"#000000\" stroke-opacity=\"1\" stroke-width=\"3.2\"/>\n",
       "<circle clip-path=\"url(#clip962)\" cx=\"2293.24\" cy=\"86.1858\" r=\"14.4\" fill=\"#009af9\" fill-rule=\"evenodd\" fill-opacity=\"1\" stroke=\"#000000\" stroke-opacity=\"1\" stroke-width=\"3.2\"/>\n",
       "<circle clip-path=\"url(#clip962)\" cx=\"2293.24\" cy=\"86.1857\" r=\"14.4\" fill=\"#009af9\" fill-rule=\"evenodd\" fill-opacity=\"1\" stroke=\"#000000\" stroke-opacity=\"1\" stroke-width=\"3.2\"/>\n",
       "<circle clip-path=\"url(#clip962)\" cx=\"2293.24\" cy=\"86.1858\" r=\"14.4\" fill=\"#009af9\" fill-rule=\"evenodd\" fill-opacity=\"1\" stroke=\"#000000\" stroke-opacity=\"1\" stroke-width=\"3.2\"/>\n",
       "<circle clip-path=\"url(#clip962)\" cx=\"2293.24\" cy=\"86.1858\" r=\"14.4\" fill=\"#009af9\" fill-rule=\"evenodd\" fill-opacity=\"1\" stroke=\"#000000\" stroke-opacity=\"1\" stroke-width=\"3.2\"/>\n",
       "<circle clip-path=\"url(#clip962)\" cx=\"2293.24\" cy=\"86.1858\" r=\"14.4\" fill=\"#009af9\" fill-rule=\"evenodd\" fill-opacity=\"1\" stroke=\"#000000\" stroke-opacity=\"1\" stroke-width=\"3.2\"/>\n",
       "<circle clip-path=\"url(#clip962)\" cx=\"2293.24\" cy=\"86.1858\" r=\"14.4\" fill=\"#009af9\" fill-rule=\"evenodd\" fill-opacity=\"1\" stroke=\"#000000\" stroke-opacity=\"1\" stroke-width=\"3.2\"/>\n",
       "<circle clip-path=\"url(#clip962)\" cx=\"2293.24\" cy=\"86.1858\" r=\"14.4\" fill=\"#009af9\" fill-rule=\"evenodd\" fill-opacity=\"1\" stroke=\"#000000\" stroke-opacity=\"1\" stroke-width=\"3.2\"/>\n",
       "<circle clip-path=\"url(#clip962)\" cx=\"2293.24\" cy=\"86.1858\" r=\"14.4\" fill=\"#009af9\" fill-rule=\"evenodd\" fill-opacity=\"1\" stroke=\"#000000\" stroke-opacity=\"1\" stroke-width=\"3.2\"/>\n",
       "<circle clip-path=\"url(#clip962)\" cx=\"2293.24\" cy=\"86.1858\" r=\"14.4\" fill=\"#009af9\" fill-rule=\"evenodd\" fill-opacity=\"1\" stroke=\"#000000\" stroke-opacity=\"1\" stroke-width=\"3.2\"/>\n",
       "<circle clip-path=\"url(#clip962)\" cx=\"2293.24\" cy=\"86.1859\" r=\"14.4\" fill=\"#009af9\" fill-rule=\"evenodd\" fill-opacity=\"1\" stroke=\"#000000\" stroke-opacity=\"1\" stroke-width=\"3.2\"/>\n",
       "<circle clip-path=\"url(#clip962)\" cx=\"2293.24\" cy=\"86.1857\" r=\"14.4\" fill=\"#009af9\" fill-rule=\"evenodd\" fill-opacity=\"1\" stroke=\"#000000\" stroke-opacity=\"1\" stroke-width=\"3.2\"/>\n",
       "<circle clip-path=\"url(#clip962)\" cx=\"2293.24\" cy=\"86.1861\" r=\"14.4\" fill=\"#009af9\" fill-rule=\"evenodd\" fill-opacity=\"1\" stroke=\"#000000\" stroke-opacity=\"1\" stroke-width=\"3.2\"/>\n",
       "<circle clip-path=\"url(#clip962)\" cx=\"2293.24\" cy=\"86.1861\" r=\"14.4\" fill=\"#009af9\" fill-rule=\"evenodd\" fill-opacity=\"1\" stroke=\"#000000\" stroke-opacity=\"1\" stroke-width=\"3.2\"/>\n",
       "<circle clip-path=\"url(#clip962)\" cx=\"2252.26\" cy=\"99.8201\" r=\"14.4\" fill=\"#009af9\" fill-rule=\"evenodd\" fill-opacity=\"1\" stroke=\"#000000\" stroke-opacity=\"1\" stroke-width=\"3.2\"/>\n",
       "<circle clip-path=\"url(#clip962)\" cx=\"2108.29\" cy=\"151.696\" r=\"14.4\" fill=\"#009af9\" fill-rule=\"evenodd\" fill-opacity=\"1\" stroke=\"#000000\" stroke-opacity=\"1\" stroke-width=\"3.2\"/>\n",
       "<circle clip-path=\"url(#clip962)\" cx=\"1927.56\" cy=\"228.136\" r=\"14.4\" fill=\"#009af9\" fill-rule=\"evenodd\" fill-opacity=\"1\" stroke=\"#000000\" stroke-opacity=\"1\" stroke-width=\"3.2\"/>\n",
       "<circle clip-path=\"url(#clip962)\" cx=\"1550.45\" cy=\"398.349\" r=\"14.4\" fill=\"#009af9\" fill-rule=\"evenodd\" fill-opacity=\"1\" stroke=\"#000000\" stroke-opacity=\"1\" stroke-width=\"3.2\"/>\n",
       "<circle clip-path=\"url(#clip962)\" cx=\"1254.7\" cy=\"541.48\" r=\"14.4\" fill=\"#009af9\" fill-rule=\"evenodd\" fill-opacity=\"1\" stroke=\"#000000\" stroke-opacity=\"1\" stroke-width=\"3.2\"/>\n",
       "<circle clip-path=\"url(#clip962)\" cx=\"1026.15\" cy=\"661.84\" r=\"14.4\" fill=\"#009af9\" fill-rule=\"evenodd\" fill-opacity=\"1\" stroke=\"#000000\" stroke-opacity=\"1\" stroke-width=\"3.2\"/>\n",
       "<circle clip-path=\"url(#clip962)\" cx=\"852.119\" cy=\"763.049\" r=\"14.4\" fill=\"#009af9\" fill-rule=\"evenodd\" fill-opacity=\"1\" stroke=\"#000000\" stroke-opacity=\"1\" stroke-width=\"3.2\"/>\n",
       "<circle clip-path=\"url(#clip962)\" cx=\"721.469\" cy=\"848.156\" r=\"14.4\" fill=\"#009af9\" fill-rule=\"evenodd\" fill-opacity=\"1\" stroke=\"#000000\" stroke-opacity=\"1\" stroke-width=\"3.2\"/>\n",
       "<circle clip-path=\"url(#clip962)\" cx=\"624.622\" cy=\"919.722\" r=\"14.4\" fill=\"#009af9\" fill-rule=\"evenodd\" fill-opacity=\"1\" stroke=\"#000000\" stroke-opacity=\"1\" stroke-width=\"3.2\"/>\n",
       "<circle clip-path=\"url(#clip962)\" cx=\"553.609\" cy=\"979.902\" r=\"14.4\" fill=\"#009af9\" fill-rule=\"evenodd\" fill-opacity=\"1\" stroke=\"#000000\" stroke-opacity=\"1\" stroke-width=\"3.2\"/>\n",
       "<circle clip-path=\"url(#clip962)\" cx=\"493.034\" cy=\"1039.59\" r=\"14.4\" fill=\"#009af9\" fill-rule=\"evenodd\" fill-opacity=\"1\" stroke=\"#000000\" stroke-opacity=\"1\" stroke-width=\"3.2\"/>\n",
       "<circle clip-path=\"url(#clip962)\" cx=\"440.901\" cy=\"1098.73\" r=\"14.4\" fill=\"#009af9\" fill-rule=\"evenodd\" fill-opacity=\"1\" stroke=\"#000000\" stroke-opacity=\"1\" stroke-width=\"3.2\"/>\n",
       "<circle clip-path=\"url(#clip962)\" cx=\"402.94\" cy=\"1148.85\" r=\"14.4\" fill=\"#009af9\" fill-rule=\"evenodd\" fill-opacity=\"1\" stroke=\"#000000\" stroke-opacity=\"1\" stroke-width=\"3.2\"/>\n",
       "<circle clip-path=\"url(#clip962)\" cx=\"375.674\" cy=\"1191\" r=\"14.4\" fill=\"#009af9\" fill-rule=\"evenodd\" fill-opacity=\"1\" stroke=\"#000000\" stroke-opacity=\"1\" stroke-width=\"3.2\"/>\n",
       "<circle clip-path=\"url(#clip962)\" cx=\"356.174\" cy=\"1226.44\" r=\"14.4\" fill=\"#009af9\" fill-rule=\"evenodd\" fill-opacity=\"1\" stroke=\"#000000\" stroke-opacity=\"1\" stroke-width=\"3.2\"/>\n",
       "<circle clip-path=\"url(#clip962)\" cx=\"342.272\" cy=\"1256.24\" r=\"14.4\" fill=\"#009af9\" fill-rule=\"evenodd\" fill-opacity=\"1\" stroke=\"#000000\" stroke-opacity=\"1\" stroke-width=\"3.2\"/>\n",
       "<circle clip-path=\"url(#clip962)\" cx=\"332.384\" cy=\"1281.3\" r=\"14.4\" fill=\"#009af9\" fill-rule=\"evenodd\" fill-opacity=\"1\" stroke=\"#000000\" stroke-opacity=\"1\" stroke-width=\"3.2\"/>\n",
       "<circle clip-path=\"url(#clip962)\" cx=\"325.362\" cy=\"1302.37\" r=\"14.4\" fill=\"#009af9\" fill-rule=\"evenodd\" fill-opacity=\"1\" stroke=\"#000000\" stroke-opacity=\"1\" stroke-width=\"3.2\"/>\n",
       "<circle clip-path=\"url(#clip962)\" cx=\"320.382\" cy=\"1320.09\" r=\"14.4\" fill=\"#009af9\" fill-rule=\"evenodd\" fill-opacity=\"1\" stroke=\"#000000\" stroke-opacity=\"1\" stroke-width=\"3.2\"/>\n",
       "<circle clip-path=\"url(#clip962)\" cx=\"316.854\" cy=\"1335\" r=\"14.4\" fill=\"#009af9\" fill-rule=\"evenodd\" fill-opacity=\"1\" stroke=\"#000000\" stroke-opacity=\"1\" stroke-width=\"3.2\"/>\n",
       "<circle clip-path=\"url(#clip962)\" cx=\"314.355\" cy=\"1347.53\" r=\"14.4\" fill=\"#009af9\" fill-rule=\"evenodd\" fill-opacity=\"1\" stroke=\"#000000\" stroke-opacity=\"1\" stroke-width=\"3.2\"/>\n",
       "<circle clip-path=\"url(#clip962)\" cx=\"312.586\" cy=\"1358.06\" r=\"14.4\" fill=\"#009af9\" fill-rule=\"evenodd\" fill-opacity=\"1\" stroke=\"#000000\" stroke-opacity=\"1\" stroke-width=\"3.2\"/>\n",
       "<circle clip-path=\"url(#clip962)\" cx=\"311.334\" cy=\"1366.92\" r=\"14.4\" fill=\"#009af9\" fill-rule=\"evenodd\" fill-opacity=\"1\" stroke=\"#000000\" stroke-opacity=\"1\" stroke-width=\"3.2\"/>\n",
       "<circle clip-path=\"url(#clip962)\" cx=\"310.449\" cy=\"1374.37\" r=\"14.4\" fill=\"#009af9\" fill-rule=\"evenodd\" fill-opacity=\"1\" stroke=\"#000000\" stroke-opacity=\"1\" stroke-width=\"3.2\"/>\n",
       "<circle clip-path=\"url(#clip962)\" cx=\"309.824\" cy=\"1380.62\" r=\"14.4\" fill=\"#009af9\" fill-rule=\"evenodd\" fill-opacity=\"1\" stroke=\"#000000\" stroke-opacity=\"1\" stroke-width=\"3.2\"/>\n",
       "<circle clip-path=\"url(#clip962)\" cx=\"309.651\" cy=\"1382.66\" r=\"14.4\" fill=\"#009af9\" fill-rule=\"evenodd\" fill-opacity=\"1\" stroke=\"#000000\" stroke-opacity=\"1\" stroke-width=\"3.2\"/>\n",
       "<circle clip-path=\"url(#clip962)\" cx=\"309.539\" cy=\"1384.24\" r=\"14.4\" fill=\"#009af9\" fill-rule=\"evenodd\" fill-opacity=\"1\" stroke=\"#000000\" stroke-opacity=\"1\" stroke-width=\"3.2\"/>\n",
       "<path clip-path=\"url(#clip960)\" d=\"M320.119 196.789 L954.302 196.789 L954.302 93.1086 L320.119 93.1086  Z\" fill=\"#ffffff\" fill-rule=\"evenodd\" fill-opacity=\"1\"/>\n",
       "<polyline clip-path=\"url(#clip960)\" style=\"stroke:#000000; stroke-linecap:round; stroke-linejoin:round; stroke-width:4; stroke-opacity:1; fill:none\" points=\"320.119,196.789 954.302,196.789 954.302,93.1086 320.119,93.1086 320.119,196.789 \"/>\n",
       "<circle clip-path=\"url(#clip960)\" cx=\"413.574\" cy=\"144.949\" r=\"20.48\" fill=\"#009af9\" fill-rule=\"evenodd\" fill-opacity=\"1\" stroke=\"#000000\" stroke-opacity=\"1\" stroke-width=\"4.55111\"/>\n",
       "<path clip-path=\"url(#clip960)\" d=\"M507.028 127.669 L526.889 127.669 L526.889 131.604 L511.704 131.604 L511.704 141.789 L525.408 141.789 L525.408 145.724 L511.704 145.724 L511.704 162.229 L507.028 162.229 L507.028 127.669 Z\" fill=\"#000000\" fill-rule=\"nonzero\" fill-opacity=\"1\" /><path clip-path=\"url(#clip960)\" d=\"M545.685 140.284 Q544.968 139.868 544.111 139.682 Q543.278 139.474 542.259 139.474 Q538.648 139.474 536.704 141.835 Q534.783 144.173 534.783 148.571 L534.783 162.229 L530.5 162.229 L530.5 136.303 L534.783 136.303 L534.783 140.331 Q536.125 137.969 538.278 136.835 Q540.431 135.678 543.509 135.678 Q543.949 135.678 544.482 135.747 Q545.014 135.794 545.662 135.909 L545.685 140.284 Z\" fill=\"#000000\" fill-rule=\"nonzero\" fill-opacity=\"1\" /><path clip-path=\"url(#clip960)\" d=\"M559.158 139.289 Q555.732 139.289 553.741 141.974 Q551.75 144.636 551.75 149.289 Q551.75 153.942 553.718 156.627 Q555.708 159.289 559.158 159.289 Q562.56 159.289 564.551 156.604 Q566.542 153.918 566.542 149.289 Q566.542 144.682 564.551 141.997 Q562.56 139.289 559.158 139.289 M559.158 135.678 Q564.713 135.678 567.884 139.289 Q571.056 142.9 571.056 149.289 Q571.056 155.655 567.884 159.289 Q564.713 162.9 559.158 162.9 Q553.579 162.9 550.408 159.289 Q547.259 155.655 547.259 149.289 Q547.259 142.9 550.408 139.289 Q553.579 135.678 559.158 135.678 Z\" fill=\"#000000\" fill-rule=\"nonzero\" fill-opacity=\"1\" /><path clip-path=\"url(#clip960)\" d=\"M599.667 146.581 L599.667 162.229 L595.407 162.229 L595.407 146.719 Q595.407 143.039 593.972 141.21 Q592.537 139.382 589.667 139.382 Q586.218 139.382 584.227 141.581 Q582.236 143.78 582.236 147.576 L582.236 162.229 L577.954 162.229 L577.954 136.303 L582.236 136.303 L582.236 140.331 Q583.764 137.993 585.824 136.835 Q587.907 135.678 590.616 135.678 Q595.083 135.678 597.375 138.456 Q599.667 141.21 599.667 146.581 Z\" fill=\"#000000\" fill-rule=\"nonzero\" fill-opacity=\"1\" /><path clip-path=\"url(#clip960)\" d=\"M612.375 128.942 L612.375 136.303 L621.148 136.303 L621.148 139.613 L612.375 139.613 L612.375 153.687 Q612.375 156.858 613.231 157.761 Q614.111 158.664 616.773 158.664 L621.148 158.664 L621.148 162.229 L616.773 162.229 Q611.842 162.229 609.967 160.4 Q608.092 158.548 608.092 153.687 L608.092 139.613 L604.967 139.613 L604.967 136.303 L608.092 136.303 L608.092 128.942 L612.375 128.942 Z\" fill=\"#000000\" fill-rule=\"nonzero\" fill-opacity=\"1\" /><path clip-path=\"url(#clip960)\" d=\"M648.926 148.201 L648.926 150.284 L629.342 150.284 Q629.62 154.682 631.981 156.997 Q634.365 159.289 638.602 159.289 Q641.055 159.289 643.347 158.687 Q645.662 158.085 647.93 156.881 L647.93 160.909 Q645.639 161.881 643.231 162.391 Q640.824 162.9 638.347 162.9 Q632.143 162.9 628.509 159.289 Q624.898 155.678 624.898 149.52 Q624.898 143.155 628.324 139.428 Q631.773 135.678 637.606 135.678 Q642.838 135.678 645.87 139.057 Q648.926 142.414 648.926 148.201 M644.666 146.951 Q644.62 143.456 642.699 141.372 Q640.801 139.289 637.653 139.289 Q634.088 139.289 631.935 141.303 Q629.805 143.317 629.481 146.974 L644.666 146.951 Z\" fill=\"#000000\" fill-rule=\"nonzero\" fill-opacity=\"1\" /><path clip-path=\"url(#clip960)\" d=\"M655.916 136.303 L660.176 136.303 L660.176 162.229 L655.916 162.229 L655.916 136.303 M655.916 126.21 L660.176 126.21 L660.176 131.604 L655.916 131.604 L655.916 126.21 Z\" fill=\"#000000\" fill-rule=\"nonzero\" fill-opacity=\"1\" /><path clip-path=\"url(#clip960)\" d=\"M684.111 140.284 Q683.393 139.868 682.537 139.682 Q681.703 139.474 680.685 139.474 Q677.074 139.474 675.129 141.835 Q673.208 144.173 673.208 148.571 L673.208 162.229 L668.925 162.229 L668.925 136.303 L673.208 136.303 L673.208 140.331 Q674.55 137.969 676.703 136.835 Q678.856 135.678 681.935 135.678 Q682.374 135.678 682.907 135.747 Q683.439 135.794 684.087 135.909 L684.111 140.284 Z\" fill=\"#000000\" fill-rule=\"nonzero\" fill-opacity=\"1\" /><path clip-path=\"url(#clip960)\" d=\"M700.36 149.196 Q695.198 149.196 693.208 150.377 Q691.217 151.557 691.217 154.405 Q691.217 156.673 692.699 158.016 Q694.203 159.335 696.773 159.335 Q700.314 159.335 702.444 156.835 Q704.597 154.312 704.597 150.145 L704.597 149.196 L700.36 149.196 M708.856 147.437 L708.856 162.229 L704.597 162.229 L704.597 158.293 Q703.138 160.655 700.962 161.789 Q698.786 162.9 695.638 162.9 Q691.657 162.9 689.296 160.678 Q686.958 158.432 686.958 154.682 Q686.958 150.307 689.874 148.085 Q692.814 145.863 698.624 145.863 L704.597 145.863 L704.597 145.446 Q704.597 142.507 702.652 140.909 Q700.731 139.289 697.236 139.289 Q695.013 139.289 692.907 139.821 Q690.8 140.354 688.856 141.419 L688.856 137.483 Q691.194 136.581 693.393 136.141 Q695.592 135.678 697.675 135.678 Q703.3 135.678 706.078 138.594 Q708.856 141.511 708.856 147.437 Z\" fill=\"#000000\" fill-rule=\"nonzero\" fill-opacity=\"1\" /><path clip-path=\"url(#clip960)\" d=\"M754.874 148.201 L754.874 150.284 L735.291 150.284 Q735.569 154.682 737.93 156.997 Q740.314 159.289 744.55 159.289 Q747.004 159.289 749.295 158.687 Q751.61 158.085 753.879 156.881 L753.879 160.909 Q751.587 161.881 749.18 162.391 Q746.772 162.9 744.295 162.9 Q738.092 162.9 734.458 159.289 Q730.846 155.678 730.846 149.52 Q730.846 143.155 734.272 139.428 Q737.721 135.678 743.555 135.678 Q748.786 135.678 751.819 139.057 Q754.874 142.414 754.874 148.201 M750.615 146.951 Q750.569 143.456 748.647 141.372 Q746.749 139.289 743.601 139.289 Q740.036 139.289 737.883 141.303 Q735.754 143.317 735.43 146.974 L750.615 146.951 Z\" fill=\"#000000\" fill-rule=\"nonzero\" fill-opacity=\"1\" /><path clip-path=\"url(#clip960)\" d=\"M774.99 126.21 L774.99 129.752 L770.916 129.752 Q768.624 129.752 767.721 130.678 Q766.842 131.604 766.842 134.011 L766.842 136.303 L773.855 136.303 L773.855 139.613 L766.842 139.613 L766.842 162.229 L762.559 162.229 L762.559 139.613 L758.485 139.613 L758.485 136.303 L762.559 136.303 L762.559 134.497 Q762.559 130.169 764.573 128.201 Q766.587 126.21 770.962 126.21 L774.99 126.21 Z\" fill=\"#000000\" fill-rule=\"nonzero\" fill-opacity=\"1\" /><path clip-path=\"url(#clip960)\" d=\"M778.555 136.303 L782.814 136.303 L782.814 162.229 L778.555 162.229 L778.555 136.303 M778.555 126.21 L782.814 126.21 L782.814 131.604 L778.555 131.604 L778.555 126.21 Z\" fill=\"#000000\" fill-rule=\"nonzero\" fill-opacity=\"1\" /><path clip-path=\"url(#clip960)\" d=\"M810.383 137.298 L810.383 141.28 Q808.578 140.284 806.749 139.798 Q804.943 139.289 803.091 139.289 Q798.948 139.289 796.656 141.928 Q794.365 144.544 794.365 149.289 Q794.365 154.034 796.656 156.673 Q798.948 159.289 803.091 159.289 Q804.943 159.289 806.749 158.803 Q808.578 158.293 810.383 157.298 L810.383 161.233 Q808.601 162.067 806.679 162.483 Q804.781 162.9 802.628 162.9 Q796.772 162.9 793.323 159.219 Q789.874 155.539 789.874 149.289 Q789.874 142.946 793.346 139.312 Q796.841 135.678 802.906 135.678 Q804.874 135.678 806.749 136.095 Q808.624 136.488 810.383 137.298 Z\" fill=\"#000000\" fill-rule=\"nonzero\" fill-opacity=\"1\" /><path clip-path=\"url(#clip960)\" d=\"M817.79 136.303 L822.05 136.303 L822.05 162.229 L817.79 162.229 L817.79 136.303 M817.79 126.21 L822.05 126.21 L822.05 131.604 L817.79 131.604 L817.79 126.21 Z\" fill=\"#000000\" fill-rule=\"nonzero\" fill-opacity=\"1\" /><path clip-path=\"url(#clip960)\" d=\"M853.137 148.201 L853.137 150.284 L833.554 150.284 Q833.832 154.682 836.193 156.997 Q838.577 159.289 842.813 159.289 Q845.267 159.289 847.559 158.687 Q849.874 158.085 852.142 156.881 L852.142 160.909 Q849.85 161.881 847.443 162.391 Q845.036 162.9 842.559 162.9 Q836.355 162.9 832.721 159.289 Q829.11 155.678 829.11 149.52 Q829.11 143.155 832.536 139.428 Q835.985 135.678 841.818 135.678 Q847.05 135.678 850.082 139.057 Q853.137 142.414 853.137 148.201 M848.878 146.951 Q848.832 143.456 846.911 141.372 Q845.013 139.289 841.864 139.289 Q838.3 139.289 836.147 141.303 Q834.017 143.317 833.693 146.974 L848.878 146.951 Z\" fill=\"#000000\" fill-rule=\"nonzero\" fill-opacity=\"1\" /><path clip-path=\"url(#clip960)\" d=\"M881.679 146.581 L881.679 162.229 L877.42 162.229 L877.42 146.719 Q877.42 143.039 875.985 141.21 Q874.549 139.382 871.679 139.382 Q868.23 139.382 866.239 141.581 Q864.249 143.78 864.249 147.576 L864.249 162.229 L859.966 162.229 L859.966 136.303 L864.249 136.303 L864.249 140.331 Q865.776 137.993 867.836 136.835 Q869.92 135.678 872.628 135.678 Q877.096 135.678 879.387 138.456 Q881.679 141.21 881.679 146.581 Z\" fill=\"#000000\" fill-rule=\"nonzero\" fill-opacity=\"1\" /><path clip-path=\"url(#clip960)\" d=\"M894.387 128.942 L894.387 136.303 L903.16 136.303 L903.16 139.613 L894.387 139.613 L894.387 153.687 Q894.387 156.858 895.244 157.761 Q896.123 158.664 898.785 158.664 L903.16 158.664 L903.16 162.229 L898.785 162.229 Q893.855 162.229 891.98 160.4 Q890.105 158.548 890.105 153.687 L890.105 139.613 L886.98 139.613 L886.98 136.303 L890.105 136.303 L890.105 128.942 L894.387 128.942 Z\" fill=\"#000000\" fill-rule=\"nonzero\" fill-opacity=\"1\" /><path clip-path=\"url(#clip960)\" d=\"M930.938 148.201 L930.938 150.284 L911.355 150.284 Q911.633 154.682 913.994 156.997 Q916.378 159.289 920.614 159.289 Q923.068 159.289 925.359 158.687 Q927.674 158.085 929.943 156.881 L929.943 160.909 Q927.651 161.881 925.244 162.391 Q922.836 162.9 920.359 162.9 Q914.156 162.9 910.521 159.289 Q906.91 155.678 906.91 149.52 Q906.91 143.155 910.336 139.428 Q913.785 135.678 919.619 135.678 Q924.85 135.678 927.882 139.057 Q930.938 142.414 930.938 148.201 M926.679 146.951 Q926.632 143.456 924.711 141.372 Q922.813 139.289 919.665 139.289 Q916.1 139.289 913.947 141.303 Q911.818 143.317 911.494 146.974 L926.679 146.951 Z\" fill=\"#000000\" fill-rule=\"nonzero\" fill-opacity=\"1\" /></svg>\n"
      ],
      "text/html": [
       "<?xml version=\"1.0\" encoding=\"utf-8\"?>\n",
       "<svg xmlns=\"http://www.w3.org/2000/svg\" xmlns:xlink=\"http://www.w3.org/1999/xlink\" width=\"600\" height=\"400\" viewBox=\"0 0 2400 1600\">\n",
       "<defs>\n",
       "  <clipPath id=\"clip010\">\n",
       "    <rect x=\"0\" y=\"0\" width=\"2400\" height=\"1600\"/>\n",
       "  </clipPath>\n",
       "</defs>\n",
       "<path clip-path=\"url(#clip010)\" d=\"M0 1600 L2400 1600 L2400 0 L0 0  Z\" fill=\"#ffffff\" fill-rule=\"evenodd\" fill-opacity=\"1\"/>\n",
       "<defs>\n",
       "  <clipPath id=\"clip011\">\n",
       "    <rect x=\"480\" y=\"0\" width=\"1681\" height=\"1600\"/>\n",
       "  </clipPath>\n",
       "</defs>\n",
       "<path clip-path=\"url(#clip010)\" d=\"M250.028 1423.18 L2352.76 1423.18 L2352.76 47.2441 L250.028 47.2441  Z\" fill=\"#ffffff\" fill-rule=\"evenodd\" fill-opacity=\"1\"/>\n",
       "<defs>\n",
       "  <clipPath id=\"clip012\">\n",
       "    <rect x=\"250\" y=\"47\" width=\"2104\" height=\"1377\"/>\n",
       "  </clipPath>\n",
       "</defs>\n",
       "<polyline clip-path=\"url(#clip012)\" style=\"stroke:#000000; stroke-linecap:round; stroke-linejoin:round; stroke-width:2; stroke-opacity:0.1; fill:none\" points=\"458.784,1423.18 458.784,47.2441 \"/>\n",
       "<polyline clip-path=\"url(#clip012)\" style=\"stroke:#000000; stroke-linecap:round; stroke-linejoin:round; stroke-width:2; stroke-opacity:0.1; fill:none\" points=\"764.528,1423.18 764.528,47.2441 \"/>\n",
       "<polyline clip-path=\"url(#clip012)\" style=\"stroke:#000000; stroke-linecap:round; stroke-linejoin:round; stroke-width:2; stroke-opacity:0.1; fill:none\" points=\"1070.27,1423.18 1070.27,47.2441 \"/>\n",
       "<polyline clip-path=\"url(#clip012)\" style=\"stroke:#000000; stroke-linecap:round; stroke-linejoin:round; stroke-width:2; stroke-opacity:0.1; fill:none\" points=\"1376.01,1423.18 1376.01,47.2441 \"/>\n",
       "<polyline clip-path=\"url(#clip012)\" style=\"stroke:#000000; stroke-linecap:round; stroke-linejoin:round; stroke-width:2; stroke-opacity:0.1; fill:none\" points=\"1681.76,1423.18 1681.76,47.2441 \"/>\n",
       "<polyline clip-path=\"url(#clip012)\" style=\"stroke:#000000; stroke-linecap:round; stroke-linejoin:round; stroke-width:2; stroke-opacity:0.1; fill:none\" points=\"1987.5,1423.18 1987.5,47.2441 \"/>\n",
       "<polyline clip-path=\"url(#clip012)\" style=\"stroke:#000000; stroke-linecap:round; stroke-linejoin:round; stroke-width:2; stroke-opacity:0.1; fill:none\" points=\"2293.24,1423.18 2293.24,47.2441 \"/>\n",
       "<polyline clip-path=\"url(#clip012)\" style=\"stroke:#000000; stroke-linecap:round; stroke-linejoin:round; stroke-width:2; stroke-opacity:0.1; fill:none\" points=\"250.028,1363.53 2352.76,1363.53 \"/>\n",
       "<polyline clip-path=\"url(#clip012)\" style=\"stroke:#000000; stroke-linecap:round; stroke-linejoin:round; stroke-width:2; stroke-opacity:0.1; fill:none\" points=\"250.028,1079.67 2352.76,1079.67 \"/>\n",
       "<polyline clip-path=\"url(#clip012)\" style=\"stroke:#000000; stroke-linecap:round; stroke-linejoin:round; stroke-width:2; stroke-opacity:0.1; fill:none\" points=\"250.028,795.821 2352.76,795.821 \"/>\n",
       "<polyline clip-path=\"url(#clip012)\" style=\"stroke:#000000; stroke-linecap:round; stroke-linejoin:round; stroke-width:2; stroke-opacity:0.1; fill:none\" points=\"250.028,511.967 2352.76,511.967 \"/>\n",
       "<polyline clip-path=\"url(#clip012)\" style=\"stroke:#000000; stroke-linecap:round; stroke-linejoin:round; stroke-width:2; stroke-opacity:0.1; fill:none\" points=\"250.028,228.113 2352.76,228.113 \"/>\n",
       "<polyline clip-path=\"url(#clip010)\" style=\"stroke:#000000; stroke-linecap:round; stroke-linejoin:round; stroke-width:4; stroke-opacity:1; fill:none\" points=\"250.028,1423.18 2352.76,1423.18 \"/>\n",
       "<polyline clip-path=\"url(#clip010)\" style=\"stroke:#000000; stroke-linecap:round; stroke-linejoin:round; stroke-width:4; stroke-opacity:1; fill:none\" points=\"458.784,1423.18 458.784,1404.28 \"/>\n",
       "<polyline clip-path=\"url(#clip010)\" style=\"stroke:#000000; stroke-linecap:round; stroke-linejoin:round; stroke-width:4; stroke-opacity:1; fill:none\" points=\"764.528,1423.18 764.528,1404.28 \"/>\n",
       "<polyline clip-path=\"url(#clip010)\" style=\"stroke:#000000; stroke-linecap:round; stroke-linejoin:round; stroke-width:4; stroke-opacity:1; fill:none\" points=\"1070.27,1423.18 1070.27,1404.28 \"/>\n",
       "<polyline clip-path=\"url(#clip010)\" style=\"stroke:#000000; stroke-linecap:round; stroke-linejoin:round; stroke-width:4; stroke-opacity:1; fill:none\" points=\"1376.01,1423.18 1376.01,1404.28 \"/>\n",
       "<polyline clip-path=\"url(#clip010)\" style=\"stroke:#000000; stroke-linecap:round; stroke-linejoin:round; stroke-width:4; stroke-opacity:1; fill:none\" points=\"1681.76,1423.18 1681.76,1404.28 \"/>\n",
       "<polyline clip-path=\"url(#clip010)\" style=\"stroke:#000000; stroke-linecap:round; stroke-linejoin:round; stroke-width:4; stroke-opacity:1; fill:none\" points=\"1987.5,1423.18 1987.5,1404.28 \"/>\n",
       "<polyline clip-path=\"url(#clip010)\" style=\"stroke:#000000; stroke-linecap:round; stroke-linejoin:round; stroke-width:4; stroke-opacity:1; fill:none\" points=\"2293.24,1423.18 2293.24,1404.28 \"/>\n",
       "<path clip-path=\"url(#clip010)\" d=\"M421.539 1454.1 Q417.928 1454.1 416.099 1457.66 Q414.294 1461.2 414.294 1468.33 Q414.294 1475.44 416.099 1479.01 Q417.928 1482.55 421.539 1482.55 Q425.173 1482.55 426.979 1479.01 Q428.808 1475.44 428.808 1468.33 Q428.808 1461.2 426.979 1457.66 Q425.173 1454.1 421.539 1454.1 M421.539 1450.39 Q427.349 1450.39 430.405 1455 Q433.484 1459.58 433.484 1468.33 Q433.484 1477.06 430.405 1481.67 Q427.349 1486.25 421.539 1486.25 Q415.729 1486.25 412.65 1481.67 Q409.595 1477.06 409.595 1468.33 Q409.595 1459.58 412.65 1455 Q415.729 1450.39 421.539 1450.39 Z\" fill=\"#000000\" fill-rule=\"nonzero\" fill-opacity=\"1\" /><path clip-path=\"url(#clip010)\" d=\"M441.701 1479.7 L446.585 1479.7 L446.585 1485.58 L441.701 1485.58 L441.701 1479.7 Z\" fill=\"#000000\" fill-rule=\"nonzero\" fill-opacity=\"1\" /><path clip-path=\"url(#clip010)\" d=\"M466.77 1454.1 Q463.159 1454.1 461.331 1457.66 Q459.525 1461.2 459.525 1468.33 Q459.525 1475.44 461.331 1479.01 Q463.159 1482.55 466.77 1482.55 Q470.405 1482.55 472.21 1479.01 Q474.039 1475.44 474.039 1468.33 Q474.039 1461.2 472.21 1457.66 Q470.405 1454.1 466.77 1454.1 M466.77 1450.39 Q472.581 1450.39 475.636 1455 Q478.715 1459.58 478.715 1468.33 Q478.715 1477.06 475.636 1481.67 Q472.581 1486.25 466.77 1486.25 Q460.96 1486.25 457.882 1481.67 Q454.826 1477.06 454.826 1468.33 Q454.826 1459.58 457.882 1455 Q460.96 1450.39 466.77 1450.39 Z\" fill=\"#000000\" fill-rule=\"nonzero\" fill-opacity=\"1\" /><path clip-path=\"url(#clip010)\" d=\"M485.752 1451.02 L507.974 1451.02 L507.974 1453.01 L495.428 1485.58 L490.543 1485.58 L502.349 1454.96 L485.752 1454.96 L485.752 1451.02 Z\" fill=\"#000000\" fill-rule=\"nonzero\" fill-opacity=\"1\" /><path clip-path=\"url(#clip010)\" d=\"M726.877 1454.1 Q723.266 1454.1 721.438 1457.66 Q719.632 1461.2 719.632 1468.33 Q719.632 1475.44 721.438 1479.01 Q723.266 1482.55 726.877 1482.55 Q730.512 1482.55 732.317 1479.01 Q734.146 1475.44 734.146 1468.33 Q734.146 1461.2 732.317 1457.66 Q730.512 1454.1 726.877 1454.1 M726.877 1450.39 Q732.688 1450.39 735.743 1455 Q738.822 1459.58 738.822 1468.33 Q738.822 1477.06 735.743 1481.67 Q732.688 1486.25 726.877 1486.25 Q721.067 1486.25 717.989 1481.67 Q714.933 1477.06 714.933 1468.33 Q714.933 1459.58 717.989 1455 Q721.067 1450.39 726.877 1450.39 Z\" fill=\"#000000\" fill-rule=\"nonzero\" fill-opacity=\"1\" /><path clip-path=\"url(#clip010)\" d=\"M747.039 1479.7 L751.924 1479.7 L751.924 1485.58 L747.039 1485.58 L747.039 1479.7 Z\" fill=\"#000000\" fill-rule=\"nonzero\" fill-opacity=\"1\" /><path clip-path=\"url(#clip010)\" d=\"M772.109 1454.1 Q768.498 1454.1 766.669 1457.66 Q764.863 1461.2 764.863 1468.33 Q764.863 1475.44 766.669 1479.01 Q768.498 1482.55 772.109 1482.55 Q775.743 1482.55 777.549 1479.01 Q779.377 1475.44 779.377 1468.33 Q779.377 1461.2 777.549 1457.66 Q775.743 1454.1 772.109 1454.1 M772.109 1450.39 Q777.919 1450.39 780.974 1455 Q784.053 1459.58 784.053 1468.33 Q784.053 1477.06 780.974 1481.67 Q777.919 1486.25 772.109 1486.25 Q766.299 1486.25 763.22 1481.67 Q760.164 1477.06 760.164 1468.33 Q760.164 1459.58 763.22 1455 Q766.299 1450.39 772.109 1450.39 Z\" fill=\"#000000\" fill-rule=\"nonzero\" fill-opacity=\"1\" /><path clip-path=\"url(#clip010)\" d=\"M802.271 1469.17 Q798.937 1469.17 797.016 1470.95 Q795.118 1472.73 795.118 1475.86 Q795.118 1478.98 797.016 1480.77 Q798.937 1482.55 802.271 1482.55 Q805.604 1482.55 807.525 1480.77 Q809.446 1478.96 809.446 1475.86 Q809.446 1472.73 807.525 1470.95 Q805.627 1469.17 802.271 1469.17 M797.595 1467.18 Q794.585 1466.44 792.896 1464.38 Q791.229 1462.32 791.229 1459.35 Q791.229 1455.21 794.169 1452.8 Q797.132 1450.39 802.271 1450.39 Q807.433 1450.39 810.372 1452.8 Q813.312 1455.21 813.312 1459.35 Q813.312 1462.32 811.622 1464.38 Q809.956 1466.44 806.97 1467.18 Q810.349 1467.96 812.224 1470.26 Q814.122 1472.55 814.122 1475.86 Q814.122 1480.88 811.044 1483.57 Q807.988 1486.25 802.271 1486.25 Q796.553 1486.25 793.474 1483.57 Q790.419 1480.88 790.419 1475.86 Q790.419 1472.55 792.317 1470.26 Q794.215 1467.96 797.595 1467.18 M795.882 1459.79 Q795.882 1462.48 797.548 1463.98 Q799.238 1465.49 802.271 1465.49 Q805.28 1465.49 806.97 1463.98 Q808.683 1462.48 808.683 1459.79 Q808.683 1457.11 806.97 1455.6 Q805.28 1454.1 802.271 1454.1 Q799.238 1454.1 797.548 1455.6 Q795.882 1457.11 795.882 1459.79 Z\" fill=\"#000000\" fill-rule=\"nonzero\" fill-opacity=\"1\" /><path clip-path=\"url(#clip010)\" d=\"M1032.67 1454.1 Q1029.06 1454.1 1027.23 1457.66 Q1025.42 1461.2 1025.42 1468.33 Q1025.42 1475.44 1027.23 1479.01 Q1029.06 1482.55 1032.67 1482.55 Q1036.3 1482.55 1038.11 1479.01 Q1039.94 1475.44 1039.94 1468.33 Q1039.94 1461.2 1038.11 1457.66 Q1036.3 1454.1 1032.67 1454.1 M1032.67 1450.39 Q1038.48 1450.39 1041.53 1455 Q1044.61 1459.58 1044.61 1468.33 Q1044.61 1477.06 1041.53 1481.67 Q1038.48 1486.25 1032.67 1486.25 Q1026.86 1486.25 1023.78 1481.67 Q1020.72 1477.06 1020.72 1468.33 Q1020.72 1459.58 1023.78 1455 Q1026.86 1450.39 1032.67 1450.39 Z\" fill=\"#000000\" fill-rule=\"nonzero\" fill-opacity=\"1\" /><path clip-path=\"url(#clip010)\" d=\"M1052.83 1479.7 L1057.71 1479.7 L1057.71 1485.58 L1052.83 1485.58 L1052.83 1479.7 Z\" fill=\"#000000\" fill-rule=\"nonzero\" fill-opacity=\"1\" /><path clip-path=\"url(#clip010)\" d=\"M1077.9 1454.1 Q1074.29 1454.1 1072.46 1457.66 Q1070.65 1461.2 1070.65 1468.33 Q1070.65 1475.44 1072.46 1479.01 Q1074.29 1482.55 1077.9 1482.55 Q1081.53 1482.55 1083.34 1479.01 Q1085.17 1475.44 1085.17 1468.33 Q1085.17 1461.2 1083.34 1457.66 Q1081.53 1454.1 1077.9 1454.1 M1077.9 1450.39 Q1083.71 1450.39 1086.76 1455 Q1089.84 1459.58 1089.84 1468.33 Q1089.84 1477.06 1086.76 1481.67 Q1083.71 1486.25 1077.9 1486.25 Q1072.09 1486.25 1069.01 1481.67 Q1065.95 1477.06 1065.95 1468.33 Q1065.95 1459.58 1069.01 1455 Q1072.09 1450.39 1077.9 1450.39 Z\" fill=\"#000000\" fill-rule=\"nonzero\" fill-opacity=\"1\" /><path clip-path=\"url(#clip010)\" d=\"M1098.2 1484.86 L1098.2 1480.6 Q1099.96 1481.44 1101.76 1481.88 Q1103.57 1482.32 1105.31 1482.32 Q1109.94 1482.32 1112.37 1479.21 Q1114.82 1476.09 1115.17 1469.75 Q1113.82 1471.74 1111.76 1472.8 Q1109.7 1473.87 1107.2 1473.87 Q1102.02 1473.87 1098.99 1470.74 Q1095.98 1467.59 1095.98 1462.15 Q1095.98 1456.83 1099.13 1453.61 Q1102.27 1450.39 1107.5 1450.39 Q1113.5 1450.39 1116.65 1455 Q1119.82 1459.58 1119.82 1468.33 Q1119.82 1476.51 1115.93 1481.39 Q1112.06 1486.25 1105.51 1486.25 Q1103.75 1486.25 1101.95 1485.9 Q1100.14 1485.56 1098.2 1484.86 M1107.5 1470.21 Q1110.65 1470.21 1112.48 1468.06 Q1114.33 1465.9 1114.33 1462.15 Q1114.33 1458.43 1112.48 1456.27 Q1110.65 1454.1 1107.5 1454.1 Q1104.36 1454.1 1102.5 1456.27 Q1100.68 1458.43 1100.68 1462.15 Q1100.68 1465.9 1102.5 1468.06 Q1104.36 1470.21 1107.5 1470.21 Z\" fill=\"#000000\" fill-rule=\"nonzero\" fill-opacity=\"1\" /><path clip-path=\"url(#clip010)\" d=\"M1338.32 1454.1 Q1334.71 1454.1 1332.88 1457.66 Q1331.07 1461.2 1331.07 1468.33 Q1331.07 1475.44 1332.88 1479.01 Q1334.71 1482.55 1338.32 1482.55 Q1341.95 1482.55 1343.76 1479.01 Q1345.59 1475.44 1345.59 1468.33 Q1345.59 1461.2 1343.76 1457.66 Q1341.95 1454.1 1338.32 1454.1 M1338.32 1450.39 Q1344.13 1450.39 1347.18 1455 Q1350.26 1459.58 1350.26 1468.33 Q1350.26 1477.06 1347.18 1481.67 Q1344.13 1486.25 1338.32 1486.25 Q1332.51 1486.25 1329.43 1481.67 Q1326.37 1477.06 1326.37 1468.33 Q1326.37 1459.58 1329.43 1455 Q1332.51 1450.39 1338.32 1450.39 Z\" fill=\"#000000\" fill-rule=\"nonzero\" fill-opacity=\"1\" /><path clip-path=\"url(#clip010)\" d=\"M1358.48 1479.7 L1363.36 1479.7 L1363.36 1485.58 L1358.48 1485.58 L1358.48 1479.7 Z\" fill=\"#000000\" fill-rule=\"nonzero\" fill-opacity=\"1\" /><path clip-path=\"url(#clip010)\" d=\"M1374.36 1481.64 L1382 1481.64 L1382 1455.28 L1373.69 1456.95 L1373.69 1452.69 L1381.95 1451.02 L1386.63 1451.02 L1386.63 1481.64 L1394.27 1481.64 L1394.27 1485.58 L1374.36 1485.58 L1374.36 1481.64 Z\" fill=\"#000000\" fill-rule=\"nonzero\" fill-opacity=\"1\" /><path clip-path=\"url(#clip010)\" d=\"M1413.71 1454.1 Q1410.1 1454.1 1408.27 1457.66 Q1406.47 1461.2 1406.47 1468.33 Q1406.47 1475.44 1408.27 1479.01 Q1410.1 1482.55 1413.71 1482.55 Q1417.35 1482.55 1419.15 1479.01 Q1420.98 1475.44 1420.98 1468.33 Q1420.98 1461.2 1419.15 1457.66 Q1417.35 1454.1 1413.71 1454.1 M1413.71 1450.39 Q1419.52 1450.39 1422.58 1455 Q1425.66 1459.58 1425.66 1468.33 Q1425.66 1477.06 1422.58 1481.67 Q1419.52 1486.25 1413.71 1486.25 Q1407.9 1486.25 1404.82 1481.67 Q1401.77 1477.06 1401.77 1468.33 Q1401.77 1459.58 1404.82 1455 Q1407.9 1450.39 1413.71 1450.39 Z\" fill=\"#000000\" fill-rule=\"nonzero\" fill-opacity=\"1\" /><path clip-path=\"url(#clip010)\" d=\"M1644.67 1454.1 Q1641.06 1454.1 1639.24 1457.66 Q1637.43 1461.2 1637.43 1468.33 Q1637.43 1475.44 1639.24 1479.01 Q1641.06 1482.55 1644.67 1482.55 Q1648.31 1482.55 1650.11 1479.01 Q1651.94 1475.44 1651.94 1468.33 Q1651.94 1461.2 1650.11 1457.66 Q1648.31 1454.1 1644.67 1454.1 M1644.67 1450.39 Q1650.48 1450.39 1653.54 1455 Q1656.62 1459.58 1656.62 1468.33 Q1656.62 1477.06 1653.54 1481.67 Q1650.48 1486.25 1644.67 1486.25 Q1638.86 1486.25 1635.79 1481.67 Q1632.73 1477.06 1632.73 1468.33 Q1632.73 1459.58 1635.79 1455 Q1638.86 1450.39 1644.67 1450.39 Z\" fill=\"#000000\" fill-rule=\"nonzero\" fill-opacity=\"1\" /><path clip-path=\"url(#clip010)\" d=\"M1664.84 1479.7 L1669.72 1479.7 L1669.72 1485.58 L1664.84 1485.58 L1664.84 1479.7 Z\" fill=\"#000000\" fill-rule=\"nonzero\" fill-opacity=\"1\" /><path clip-path=\"url(#clip010)\" d=\"M1680.72 1481.64 L1688.36 1481.64 L1688.36 1455.28 L1680.05 1456.95 L1680.05 1452.69 L1688.31 1451.02 L1692.98 1451.02 L1692.98 1481.64 L1700.62 1481.64 L1700.62 1485.58 L1680.72 1485.58 L1680.72 1481.64 Z\" fill=\"#000000\" fill-rule=\"nonzero\" fill-opacity=\"1\" /><path clip-path=\"url(#clip010)\" d=\"M1710.88 1481.64 L1718.52 1481.64 L1718.52 1455.28 L1710.21 1456.95 L1710.21 1452.69 L1718.47 1451.02 L1723.15 1451.02 L1723.15 1481.64 L1730.79 1481.64 L1730.79 1485.58 L1710.88 1485.58 L1710.88 1481.64 Z\" fill=\"#000000\" fill-rule=\"nonzero\" fill-opacity=\"1\" /><path clip-path=\"url(#clip010)\" d=\"M1950.6 1454.1 Q1946.99 1454.1 1945.16 1457.66 Q1943.36 1461.2 1943.36 1468.33 Q1943.36 1475.44 1945.16 1479.01 Q1946.99 1482.55 1950.6 1482.55 Q1954.24 1482.55 1956.04 1479.01 Q1957.87 1475.44 1957.87 1468.33 Q1957.87 1461.2 1956.04 1457.66 Q1954.24 1454.1 1950.6 1454.1 M1950.6 1450.39 Q1956.41 1450.39 1959.47 1455 Q1962.55 1459.58 1962.55 1468.33 Q1962.55 1477.06 1959.47 1481.67 Q1956.41 1486.25 1950.6 1486.25 Q1944.79 1486.25 1941.71 1481.67 Q1938.66 1477.06 1938.66 1468.33 Q1938.66 1459.58 1941.71 1455 Q1944.79 1450.39 1950.6 1450.39 Z\" fill=\"#000000\" fill-rule=\"nonzero\" fill-opacity=\"1\" /><path clip-path=\"url(#clip010)\" d=\"M1970.77 1479.7 L1975.65 1479.7 L1975.65 1485.58 L1970.77 1485.58 L1970.77 1479.7 Z\" fill=\"#000000\" fill-rule=\"nonzero\" fill-opacity=\"1\" /><path clip-path=\"url(#clip010)\" d=\"M1986.64 1481.64 L1994.28 1481.64 L1994.28 1455.28 L1985.97 1456.95 L1985.97 1452.69 L1994.24 1451.02 L1998.91 1451.02 L1998.91 1481.64 L2006.55 1481.64 L2006.55 1485.58 L1986.64 1485.58 L1986.64 1481.64 Z\" fill=\"#000000\" fill-rule=\"nonzero\" fill-opacity=\"1\" /><path clip-path=\"url(#clip010)\" d=\"M2020.02 1481.64 L2036.34 1481.64 L2036.34 1485.58 L2014.4 1485.58 L2014.4 1481.64 Q2017.06 1478.89 2021.64 1474.26 Q2026.25 1469.61 2027.43 1468.27 Q2029.68 1465.74 2030.56 1464.01 Q2031.46 1462.25 2031.46 1460.56 Q2031.46 1457.8 2029.52 1456.07 Q2027.59 1454.33 2024.49 1454.33 Q2022.29 1454.33 2019.84 1455.09 Q2017.41 1455.86 2014.63 1457.41 L2014.63 1452.69 Q2017.45 1451.55 2019.91 1450.97 Q2022.36 1450.39 2024.4 1450.39 Q2029.77 1450.39 2032.96 1453.08 Q2036.16 1455.77 2036.16 1460.26 Q2036.16 1462.39 2035.35 1464.31 Q2034.56 1466.2 2032.45 1468.8 Q2031.88 1469.47 2028.77 1472.69 Q2025.67 1475.88 2020.02 1481.64 Z\" fill=\"#000000\" fill-rule=\"nonzero\" fill-opacity=\"1\" /><path clip-path=\"url(#clip010)\" d=\"M2255.87 1454.1 Q2252.26 1454.1 2250.43 1457.66 Q2248.63 1461.2 2248.63 1468.33 Q2248.63 1475.44 2250.43 1479.01 Q2252.26 1482.55 2255.87 1482.55 Q2259.51 1482.55 2261.31 1479.01 Q2263.14 1475.44 2263.14 1468.33 Q2263.14 1461.2 2261.31 1457.66 Q2259.51 1454.1 2255.87 1454.1 M2255.87 1450.39 Q2261.68 1450.39 2264.74 1455 Q2267.82 1459.58 2267.82 1468.33 Q2267.82 1477.06 2264.74 1481.67 Q2261.68 1486.25 2255.87 1486.25 Q2250.06 1486.25 2246.98 1481.67 Q2243.93 1477.06 2243.93 1468.33 Q2243.93 1459.58 2246.98 1455 Q2250.06 1450.39 2255.87 1450.39 Z\" fill=\"#000000\" fill-rule=\"nonzero\" fill-opacity=\"1\" /><path clip-path=\"url(#clip010)\" d=\"M2276.03 1479.7 L2280.92 1479.7 L2280.92 1485.58 L2276.03 1485.58 L2276.03 1479.7 Z\" fill=\"#000000\" fill-rule=\"nonzero\" fill-opacity=\"1\" /><path clip-path=\"url(#clip010)\" d=\"M2291.91 1481.64 L2299.55 1481.64 L2299.55 1455.28 L2291.24 1456.95 L2291.24 1452.69 L2299.51 1451.02 L2304.18 1451.02 L2304.18 1481.64 L2311.82 1481.64 L2311.82 1485.58 L2291.91 1485.58 L2291.91 1481.64 Z\" fill=\"#000000\" fill-rule=\"nonzero\" fill-opacity=\"1\" /><path clip-path=\"url(#clip010)\" d=\"M2335.43 1466.95 Q2338.79 1467.66 2340.66 1469.93 Q2342.56 1472.2 2342.56 1475.53 Q2342.56 1480.65 2339.04 1483.45 Q2335.52 1486.25 2329.04 1486.25 Q2326.87 1486.25 2324.55 1485.81 Q2322.26 1485.39 2319.81 1484.54 L2319.81 1480.02 Q2321.75 1481.16 2324.07 1481.74 Q2326.38 1482.32 2328.9 1482.32 Q2333.3 1482.32 2335.59 1480.58 Q2337.91 1478.84 2337.91 1475.53 Q2337.91 1472.48 2335.76 1470.77 Q2333.63 1469.03 2329.81 1469.03 L2325.78 1469.03 L2325.78 1465.19 L2329.99 1465.19 Q2333.44 1465.19 2335.27 1463.82 Q2337.1 1462.43 2337.1 1459.84 Q2337.1 1457.18 2335.2 1455.77 Q2333.33 1454.33 2329.81 1454.33 Q2327.89 1454.33 2325.69 1454.75 Q2323.49 1455.16 2320.85 1456.04 L2320.85 1451.88 Q2323.51 1451.14 2325.83 1450.77 Q2328.16 1450.39 2330.22 1450.39 Q2335.55 1450.39 2338.65 1452.83 Q2341.75 1455.23 2341.75 1459.35 Q2341.75 1462.22 2340.11 1464.21 Q2338.46 1466.18 2335.43 1466.95 Z\" fill=\"#000000\" fill-rule=\"nonzero\" fill-opacity=\"1\" /><path clip-path=\"url(#clip010)\" d=\"M1242.37 1545.76 Q1244.43 1546.46 1246.38 1548.76 Q1248.35 1551.05 1250.32 1555.06 L1256.85 1568.04 L1249.94 1568.04 L1243.86 1555.85 Q1241.51 1551.08 1239.28 1549.52 Q1237.08 1547.96 1233.26 1547.96 L1226.26 1547.96 L1226.26 1568.04 L1219.83 1568.04 L1219.83 1520.52 L1234.35 1520.52 Q1242.49 1520.52 1246.5 1523.93 Q1250.51 1527.34 1250.51 1534.21 Q1250.51 1538.7 1248.41 1541.66 Q1246.34 1544.62 1242.37 1545.76 M1226.26 1525.81 L1226.26 1542.68 L1234.35 1542.68 Q1238.99 1542.68 1241.35 1540.54 Q1243.73 1538.38 1243.73 1534.21 Q1243.73 1530.04 1241.35 1527.94 Q1238.99 1525.81 1234.35 1525.81 L1226.26 1525.81 Z\" fill=\"#000000\" fill-rule=\"nonzero\" fill-opacity=\"1\" /><path clip-path=\"url(#clip010)\" d=\"M1264.87 1532.4 L1270.73 1532.4 L1270.73 1568.04 L1264.87 1568.04 L1264.87 1532.4 M1264.87 1518.52 L1270.73 1518.52 L1270.73 1525.93 L1264.87 1525.93 L1264.87 1518.52 Z\" fill=\"#000000\" fill-rule=\"nonzero\" fill-opacity=\"1\" /><path clip-path=\"url(#clip010)\" d=\"M1305.7 1533.45 L1305.7 1538.98 Q1303.22 1537.71 1300.55 1537.07 Q1297.87 1536.44 1295.01 1536.44 Q1290.65 1536.44 1288.45 1537.77 Q1286.29 1539.11 1286.29 1541.79 Q1286.29 1543.82 1287.85 1545 Q1289.41 1546.15 1294.12 1547.2 L1296.12 1547.64 Q1302.36 1548.98 1304.97 1551.43 Q1307.61 1553.85 1307.61 1558.21 Q1307.61 1563.17 1303.67 1566.07 Q1299.75 1568.97 1292.88 1568.97 Q1290.01 1568.97 1286.89 1568.39 Q1283.81 1567.85 1280.37 1566.74 L1280.37 1560.69 Q1283.62 1562.38 1286.77 1563.24 Q1289.92 1564.07 1293.01 1564.07 Q1297.14 1564.07 1299.37 1562.66 Q1301.6 1561.23 1301.6 1558.65 Q1301.6 1556.27 1299.98 1554.99 Q1298.38 1553.72 1292.94 1552.54 L1290.9 1552.07 Q1285.46 1550.92 1283.04 1548.56 Q1280.62 1546.18 1280.62 1542.04 Q1280.62 1537.01 1284.19 1534.27 Q1287.75 1531.54 1294.31 1531.54 Q1297.56 1531.54 1300.42 1532.01 Q1303.29 1532.49 1305.7 1533.45 Z\" fill=\"#000000\" fill-rule=\"nonzero\" fill-opacity=\"1\" /><path clip-path=\"url(#clip010)\" d=\"M1342.59 1533.76 L1342.59 1539.24 Q1340.11 1537.87 1337.6 1537.2 Q1335.11 1536.5 1332.57 1536.5 Q1326.87 1536.5 1323.72 1540.13 Q1320.57 1543.73 1320.57 1550.25 Q1320.57 1556.78 1323.72 1560.4 Q1326.87 1564 1332.57 1564 Q1335.11 1564 1337.6 1563.33 Q1340.11 1562.63 1342.59 1561.26 L1342.59 1566.68 Q1340.14 1567.82 1337.5 1568.39 Q1334.89 1568.97 1331.93 1568.97 Q1323.88 1568.97 1319.14 1563.91 Q1314.39 1558.85 1314.39 1550.25 Q1314.39 1541.53 1319.17 1536.53 Q1323.97 1531.54 1332.31 1531.54 Q1335.02 1531.54 1337.6 1532.11 Q1340.18 1532.65 1342.59 1533.76 Z\" fill=\"#000000\" fill-rule=\"nonzero\" fill-opacity=\"1\" /><path clip-path=\"url(#clip010)\" d=\"M1366.59 1536.5 Q1361.88 1536.5 1359.14 1540.19 Q1356.41 1543.85 1356.41 1550.25 Q1356.41 1556.65 1359.11 1560.34 Q1361.85 1564 1366.59 1564 Q1371.27 1564 1374.01 1560.31 Q1376.75 1556.62 1376.75 1550.25 Q1376.75 1543.92 1374.01 1540.23 Q1371.27 1536.5 1366.59 1536.5 M1366.59 1531.54 Q1374.23 1531.54 1378.59 1536.5 Q1382.95 1541.47 1382.95 1550.25 Q1382.95 1559 1378.59 1564 Q1374.23 1568.97 1366.59 1568.97 Q1358.92 1568.97 1354.56 1564 Q1350.23 1559 1350.23 1550.25 Q1350.23 1541.47 1354.56 1536.5 Q1358.92 1531.54 1366.59 1531.54 Z\" fill=\"#000000\" fill-rule=\"nonzero\" fill-opacity=\"1\" /><polyline clip-path=\"url(#clip010)\" style=\"stroke:#000000; stroke-linecap:round; stroke-linejoin:round; stroke-width:4; stroke-opacity:1; fill:none\" points=\"250.028,1423.18 250.028,47.2441 \"/>\n",
       "<polyline clip-path=\"url(#clip010)\" style=\"stroke:#000000; stroke-linecap:round; stroke-linejoin:round; stroke-width:4; stroke-opacity:1; fill:none\" points=\"250.028,1363.53 268.926,1363.53 \"/>\n",
       "<polyline clip-path=\"url(#clip010)\" style=\"stroke:#000000; stroke-linecap:round; stroke-linejoin:round; stroke-width:4; stroke-opacity:1; fill:none\" points=\"250.028,1079.67 268.926,1079.67 \"/>\n",
       "<polyline clip-path=\"url(#clip010)\" style=\"stroke:#000000; stroke-linecap:round; stroke-linejoin:round; stroke-width:4; stroke-opacity:1; fill:none\" points=\"250.028,795.821 268.926,795.821 \"/>\n",
       "<polyline clip-path=\"url(#clip010)\" style=\"stroke:#000000; stroke-linecap:round; stroke-linejoin:round; stroke-width:4; stroke-opacity:1; fill:none\" points=\"250.028,511.967 268.926,511.967 \"/>\n",
       "<polyline clip-path=\"url(#clip010)\" style=\"stroke:#000000; stroke-linecap:round; stroke-linejoin:round; stroke-width:4; stroke-opacity:1; fill:none\" points=\"250.028,228.113 268.926,228.113 \"/>\n",
       "<path clip-path=\"url(#clip010)\" d=\"M126.529 1349.33 Q122.918 1349.33 121.089 1352.89 Q119.283 1356.43 119.283 1363.56 Q119.283 1370.67 121.089 1374.23 Q122.918 1377.78 126.529 1377.78 Q130.163 1377.78 131.968 1374.23 Q133.797 1370.67 133.797 1363.56 Q133.797 1356.43 131.968 1352.89 Q130.163 1349.33 126.529 1349.33 M126.529 1345.62 Q132.339 1345.62 135.394 1350.23 Q138.473 1354.81 138.473 1363.56 Q138.473 1372.29 135.394 1376.9 Q132.339 1381.48 126.529 1381.48 Q120.718 1381.48 117.64 1376.9 Q114.584 1372.29 114.584 1363.56 Q114.584 1354.81 117.64 1350.23 Q120.718 1345.62 126.529 1345.62 Z\" fill=\"#000000\" fill-rule=\"nonzero\" fill-opacity=\"1\" /><path clip-path=\"url(#clip010)\" d=\"M146.691 1374.93 L151.575 1374.93 L151.575 1380.81 L146.691 1380.81 L146.691 1374.93 Z\" fill=\"#000000\" fill-rule=\"nonzero\" fill-opacity=\"1\" /><path clip-path=\"url(#clip010)\" d=\"M171.76 1349.33 Q168.149 1349.33 166.32 1352.89 Q164.515 1356.43 164.515 1363.56 Q164.515 1370.67 166.32 1374.23 Q168.149 1377.78 171.76 1377.78 Q175.394 1377.78 177.2 1374.23 Q179.028 1370.67 179.028 1363.56 Q179.028 1356.43 177.2 1352.89 Q175.394 1349.33 171.76 1349.33 M171.76 1345.62 Q177.57 1345.62 180.626 1350.23 Q183.704 1354.81 183.704 1363.56 Q183.704 1372.29 180.626 1376.9 Q177.57 1381.48 171.76 1381.48 Q165.95 1381.48 162.871 1376.9 Q159.815 1372.29 159.815 1363.56 Q159.815 1354.81 162.871 1350.23 Q165.95 1345.62 171.76 1345.62 Z\" fill=\"#000000\" fill-rule=\"nonzero\" fill-opacity=\"1\" /><path clip-path=\"url(#clip010)\" d=\"M202.5 1361.67 Q199.352 1361.67 197.5 1363.82 Q195.672 1365.97 195.672 1369.72 Q195.672 1373.45 197.5 1375.62 Q199.352 1377.78 202.5 1377.78 Q205.649 1377.78 207.477 1375.62 Q209.329 1373.45 209.329 1369.72 Q209.329 1365.97 207.477 1363.82 Q205.649 1361.67 202.5 1361.67 M211.783 1347.01 L211.783 1351.27 Q210.024 1350.44 208.218 1350 Q206.436 1349.56 204.676 1349.56 Q200.047 1349.56 197.593 1352.68 Q195.163 1355.81 194.815 1362.13 Q196.181 1360.11 198.241 1359.05 Q200.301 1357.96 202.778 1357.96 Q207.987 1357.96 210.996 1361.13 Q214.028 1364.28 214.028 1369.72 Q214.028 1375.04 210.88 1378.26 Q207.732 1381.48 202.5 1381.48 Q196.505 1381.48 193.334 1376.9 Q190.163 1372.29 190.163 1363.56 Q190.163 1355.37 194.051 1350.51 Q197.94 1345.62 204.491 1345.62 Q206.25 1345.62 208.033 1345.97 Q209.838 1346.32 211.783 1347.01 Z\" fill=\"#000000\" fill-rule=\"nonzero\" fill-opacity=\"1\" /><path clip-path=\"url(#clip010)\" d=\"M126.783 1065.47 Q123.172 1065.47 121.343 1069.04 Q119.538 1072.58 119.538 1079.71 Q119.538 1086.82 121.343 1090.38 Q123.172 1093.92 126.783 1093.92 Q130.417 1093.92 132.223 1090.38 Q134.052 1086.82 134.052 1079.71 Q134.052 1072.58 132.223 1069.04 Q130.417 1065.47 126.783 1065.47 M126.783 1061.77 Q132.593 1061.77 135.649 1066.38 Q138.728 1070.96 138.728 1079.71 Q138.728 1088.44 135.649 1093.04 Q132.593 1097.63 126.783 1097.63 Q120.973 1097.63 117.894 1093.04 Q114.839 1088.44 114.839 1079.71 Q114.839 1070.96 117.894 1066.38 Q120.973 1061.77 126.783 1061.77 Z\" fill=\"#000000\" fill-rule=\"nonzero\" fill-opacity=\"1\" /><path clip-path=\"url(#clip010)\" d=\"M146.945 1091.08 L151.829 1091.08 L151.829 1096.95 L146.945 1096.95 L146.945 1091.08 Z\" fill=\"#000000\" fill-rule=\"nonzero\" fill-opacity=\"1\" /><path clip-path=\"url(#clip010)\" d=\"M172.014 1065.47 Q168.403 1065.47 166.575 1069.04 Q164.769 1072.58 164.769 1079.71 Q164.769 1086.82 166.575 1090.38 Q168.403 1093.92 172.014 1093.92 Q175.649 1093.92 177.454 1090.38 Q179.283 1086.82 179.283 1079.71 Q179.283 1072.58 177.454 1069.04 Q175.649 1065.47 172.014 1065.47 M172.014 1061.77 Q177.825 1061.77 180.88 1066.38 Q183.959 1070.96 183.959 1079.71 Q183.959 1088.44 180.88 1093.04 Q177.825 1097.63 172.014 1097.63 Q166.204 1097.63 163.126 1093.04 Q160.07 1088.44 160.07 1079.71 Q160.07 1070.96 163.126 1066.38 Q166.204 1061.77 172.014 1061.77 Z\" fill=\"#000000\" fill-rule=\"nonzero\" fill-opacity=\"1\" /><path clip-path=\"url(#clip010)\" d=\"M202.176 1080.54 Q198.843 1080.54 196.922 1082.33 Q195.024 1084.11 195.024 1087.23 Q195.024 1090.36 196.922 1092.14 Q198.843 1093.92 202.176 1093.92 Q205.51 1093.92 207.431 1092.14 Q209.352 1090.33 209.352 1087.23 Q209.352 1084.11 207.431 1082.33 Q205.533 1080.54 202.176 1080.54 M197.5 1078.55 Q194.491 1077.81 192.801 1075.75 Q191.135 1073.69 191.135 1070.73 Q191.135 1066.58 194.075 1064.18 Q197.037 1061.77 202.176 1061.77 Q207.338 1061.77 210.278 1064.18 Q213.218 1066.58 213.218 1070.73 Q213.218 1073.69 211.528 1075.75 Q209.861 1077.81 206.875 1078.55 Q210.255 1079.34 212.13 1081.63 Q214.028 1083.92 214.028 1087.23 Q214.028 1092.26 210.949 1094.94 Q207.894 1097.63 202.176 1097.63 Q196.459 1097.63 193.38 1094.94 Q190.325 1092.26 190.325 1087.23 Q190.325 1083.92 192.223 1081.63 Q194.121 1079.34 197.5 1078.55 M195.787 1071.17 Q195.787 1073.85 197.454 1075.36 Q199.144 1076.86 202.176 1076.86 Q205.186 1076.86 206.875 1075.36 Q208.588 1073.85 208.588 1071.17 Q208.588 1068.48 206.875 1066.98 Q205.186 1065.47 202.176 1065.47 Q199.144 1065.47 197.454 1066.98 Q195.787 1068.48 195.787 1071.17 Z\" fill=\"#000000\" fill-rule=\"nonzero\" fill-opacity=\"1\" /><path clip-path=\"url(#clip010)\" d=\"M126.691 781.619 Q123.08 781.619 121.251 785.184 Q119.445 788.726 119.445 795.855 Q119.445 802.962 121.251 806.527 Q123.08 810.068 126.691 810.068 Q130.325 810.068 132.13 806.527 Q133.959 802.962 133.959 795.855 Q133.959 788.726 132.13 785.184 Q130.325 781.619 126.691 781.619 M126.691 777.916 Q132.501 777.916 135.556 782.522 Q138.635 787.105 138.635 795.855 Q138.635 804.582 135.556 809.189 Q132.501 813.772 126.691 813.772 Q120.88 813.772 117.802 809.189 Q114.746 804.582 114.746 795.855 Q114.746 787.105 117.802 782.522 Q120.88 777.916 126.691 777.916 Z\" fill=\"#000000\" fill-rule=\"nonzero\" fill-opacity=\"1\" /><path clip-path=\"url(#clip010)\" d=\"M146.853 807.221 L151.737 807.221 L151.737 813.101 L146.853 813.101 L146.853 807.221 Z\" fill=\"#000000\" fill-rule=\"nonzero\" fill-opacity=\"1\" /><path clip-path=\"url(#clip010)\" d=\"M162.732 809.165 L170.371 809.165 L170.371 782.8 L162.061 784.467 L162.061 780.207 L170.325 778.541 L175.001 778.541 L175.001 809.165 L182.639 809.165 L182.639 813.101 L162.732 813.101 L162.732 809.165 Z\" fill=\"#000000\" fill-rule=\"nonzero\" fill-opacity=\"1\" /><path clip-path=\"url(#clip010)\" d=\"M202.084 781.619 Q198.473 781.619 196.644 785.184 Q194.838 788.726 194.838 795.855 Q194.838 802.962 196.644 806.527 Q198.473 810.068 202.084 810.068 Q205.718 810.068 207.524 806.527 Q209.352 802.962 209.352 795.855 Q209.352 788.726 207.524 785.184 Q205.718 781.619 202.084 781.619 M202.084 777.916 Q207.894 777.916 210.949 782.522 Q214.028 787.105 214.028 795.855 Q214.028 804.582 210.949 809.189 Q207.894 813.772 202.084 813.772 Q196.274 813.772 193.195 809.189 Q190.139 804.582 190.139 795.855 Q190.139 787.105 193.195 782.522 Q196.274 777.916 202.084 777.916 Z\" fill=\"#000000\" fill-rule=\"nonzero\" fill-opacity=\"1\" /><path clip-path=\"url(#clip010)\" d=\"M128.288 497.765 Q124.677 497.765 122.848 501.33 Q121.043 504.872 121.043 512.001 Q121.043 519.108 122.848 522.673 Q124.677 526.214 128.288 526.214 Q131.922 526.214 133.728 522.673 Q135.556 519.108 135.556 512.001 Q135.556 504.872 133.728 501.33 Q131.922 497.765 128.288 497.765 M128.288 494.062 Q134.098 494.062 137.154 498.668 Q140.232 503.251 140.232 512.001 Q140.232 520.728 137.154 525.335 Q134.098 529.918 128.288 529.918 Q122.478 529.918 119.399 525.335 Q116.343 520.728 116.343 512.001 Q116.343 503.251 119.399 498.668 Q122.478 494.062 128.288 494.062 Z\" fill=\"#000000\" fill-rule=\"nonzero\" fill-opacity=\"1\" /><path clip-path=\"url(#clip010)\" d=\"M148.45 523.367 L153.334 523.367 L153.334 529.247 L148.45 529.247 L148.45 523.367 Z\" fill=\"#000000\" fill-rule=\"nonzero\" fill-opacity=\"1\" /><path clip-path=\"url(#clip010)\" d=\"M164.329 525.311 L171.968 525.311 L171.968 498.946 L163.658 500.613 L163.658 496.353 L171.922 494.687 L176.598 494.687 L176.598 525.311 L184.237 525.311 L184.237 529.247 L164.329 529.247 L164.329 525.311 Z\" fill=\"#000000\" fill-rule=\"nonzero\" fill-opacity=\"1\" /><path clip-path=\"url(#clip010)\" d=\"M197.709 525.311 L214.028 525.311 L214.028 529.247 L192.084 529.247 L192.084 525.311 Q194.746 522.557 199.329 517.927 Q203.936 513.275 205.116 511.932 Q207.362 509.409 208.241 507.673 Q209.144 505.913 209.144 504.224 Q209.144 501.469 207.199 499.733 Q205.278 497.997 202.176 497.997 Q199.977 497.997 197.524 498.761 Q195.093 499.525 192.315 501.076 L192.315 496.353 Q195.139 495.219 197.593 494.64 Q200.047 494.062 202.084 494.062 Q207.454 494.062 210.649 496.747 Q213.843 499.432 213.843 503.923 Q213.843 506.052 213.033 507.974 Q212.246 509.872 210.139 512.464 Q209.561 513.136 206.459 516.353 Q203.357 519.548 197.709 525.311 Z\" fill=\"#000000\" fill-rule=\"nonzero\" fill-opacity=\"1\" /><path clip-path=\"url(#clip010)\" d=\"M126.205 213.911 Q122.593 213.911 120.765 217.476 Q118.959 221.018 118.959 228.147 Q118.959 235.254 120.765 238.819 Q122.593 242.36 126.205 242.36 Q129.839 242.36 131.644 238.819 Q133.473 235.254 133.473 228.147 Q133.473 221.018 131.644 217.476 Q129.839 213.911 126.205 213.911 M126.205 210.208 Q132.015 210.208 135.07 214.814 Q138.149 219.397 138.149 228.147 Q138.149 236.874 135.07 241.481 Q132.015 246.064 126.205 246.064 Q120.394 246.064 117.316 241.481 Q114.26 236.874 114.26 228.147 Q114.26 219.397 117.316 214.814 Q120.394 210.208 126.205 210.208 Z\" fill=\"#000000\" fill-rule=\"nonzero\" fill-opacity=\"1\" /><path clip-path=\"url(#clip010)\" d=\"M146.366 239.513 L151.251 239.513 L151.251 245.393 L146.366 245.393 L146.366 239.513 Z\" fill=\"#000000\" fill-rule=\"nonzero\" fill-opacity=\"1\" /><path clip-path=\"url(#clip010)\" d=\"M162.246 241.457 L169.885 241.457 L169.885 215.092 L161.575 216.759 L161.575 212.499 L169.839 210.833 L174.514 210.833 L174.514 241.457 L182.153 241.457 L182.153 245.393 L162.246 245.393 L162.246 241.457 Z\" fill=\"#000000\" fill-rule=\"nonzero\" fill-opacity=\"1\" /><path clip-path=\"url(#clip010)\" d=\"M204.445 214.907 L192.639 233.356 L204.445 233.356 L204.445 214.907 M203.218 210.833 L209.098 210.833 L209.098 233.356 L214.028 233.356 L214.028 237.245 L209.098 237.245 L209.098 245.393 L204.445 245.393 L204.445 237.245 L188.843 237.245 L188.843 232.731 L203.218 210.833 Z\" fill=\"#000000\" fill-rule=\"nonzero\" fill-opacity=\"1\" /><path clip-path=\"url(#clip010)\" d=\"M41.7242 835.074 Q42.4244 833.005 44.7161 831.064 Q47.0077 829.09 51.0181 827.117 L64.0042 820.592 L64.0042 827.499 L51.8138 833.578 Q47.0395 835.933 45.48 838.161 Q43.9204 840.358 43.9204 844.177 L43.9204 851.179 L64.0042 851.179 L64.0042 857.609 L16.4842 857.609 L16.4842 843.095 Q16.4842 834.947 19.8898 830.936 Q23.2955 826.926 30.1704 826.926 Q34.6582 826.926 37.6183 829.027 Q40.5784 831.095 41.7242 835.074 M21.7677 851.179 L38.6368 851.179 L38.6368 843.095 Q38.6368 838.448 36.5043 836.093 Q34.34 833.705 30.1704 833.705 Q26.0009 833.705 23.9002 836.093 Q21.7677 838.448 21.7677 843.095 L21.7677 851.179 Z\" fill=\"#000000\" fill-rule=\"nonzero\" fill-opacity=\"1\" /><path clip-path=\"url(#clip010)\" d=\"M44.7161 785.008 L47.5806 785.008 L47.5806 811.935 Q53.6281 811.553 56.8109 808.306 Q59.9619 805.028 59.9619 799.203 Q59.9619 795.829 59.1344 792.678 Q58.3069 789.496 56.6518 786.376 L62.1899 786.376 Q63.5267 789.527 64.227 792.838 Q64.9272 796.148 64.9272 799.553 Q64.9272 808.083 59.9619 813.08 Q54.9967 818.046 46.5303 818.046 Q37.7774 818.046 32.6531 813.335 Q27.4968 808.593 27.4968 800.572 Q27.4968 793.379 32.1438 789.209 Q36.7589 785.008 44.7161 785.008 M42.9973 790.864 Q38.1912 790.928 35.3266 793.57 Q32.4621 796.18 32.4621 800.508 Q32.4621 805.41 35.2312 808.37 Q38.0002 811.298 43.0292 811.744 L42.9973 790.864 Z\" fill=\"#000000\" fill-rule=\"nonzero\" fill-opacity=\"1\" /><path clip-path=\"url(#clip010)\" d=\"M18.2347 769.603 L28.3562 769.603 L28.3562 757.54 L32.9077 757.54 L32.9077 769.603 L52.2594 769.603 Q56.6199 769.603 57.8613 768.425 Q59.1026 767.216 59.1026 763.555 L59.1026 757.54 L64.0042 757.54 L64.0042 763.555 Q64.0042 770.335 61.4897 772.913 Q58.9434 775.491 52.2594 775.491 L32.9077 775.491 L32.9077 779.788 L28.3562 779.788 L28.3562 775.491 L18.2347 775.491 L18.2347 769.603 Z\" fill=\"#000000\" fill-rule=\"nonzero\" fill-opacity=\"1\" /><path clip-path=\"url(#clip010)\" d=\"M32.4621 736.024 Q32.4621 740.734 36.1542 743.471 Q39.8145 746.209 46.212 746.209 Q52.6095 746.209 56.3017 743.503 Q59.9619 740.766 59.9619 736.024 Q59.9619 731.345 56.2698 728.608 Q52.5777 725.87 46.212 725.87 Q39.8781 725.87 36.186 728.608 Q32.4621 731.345 32.4621 736.024 M27.4968 736.024 Q27.4968 728.385 32.4621 724.024 Q37.4273 719.664 46.212 719.664 Q54.9649 719.664 59.9619 724.024 Q64.9272 728.385 64.9272 736.024 Q64.9272 743.694 59.9619 748.055 Q54.9649 752.383 46.212 752.383 Q37.4273 752.383 32.4621 748.055 Q27.4968 743.694 27.4968 736.024 Z\" fill=\"#000000\" fill-rule=\"nonzero\" fill-opacity=\"1\" /><path clip-path=\"url(#clip010)\" d=\"M33.8307 689.299 Q33.2578 690.286 33.0032 691.464 Q32.7167 692.609 32.7167 694.01 Q32.7167 698.975 35.9632 701.649 Q39.1779 704.291 45.2253 704.291 L64.0042 704.291 L64.0042 710.179 L28.3562 710.179 L28.3562 704.291 L33.8944 704.291 Q30.6479 702.444 29.0883 699.484 Q27.4968 696.524 27.4968 692.291 Q27.4968 691.686 27.5923 690.954 Q27.656 690.222 27.8151 689.331 L33.8307 689.299 Z\" fill=\"#000000\" fill-rule=\"nonzero\" fill-opacity=\"1\" /><path clip-path=\"url(#clip010)\" d=\"M42.4881 654.67 L64.0042 654.67 L64.0042 660.526 L42.679 660.526 Q37.6183 660.526 35.1038 662.5 Q32.5894 664.473 32.5894 668.42 Q32.5894 673.162 35.6131 675.899 Q38.6368 678.637 43.8567 678.637 L64.0042 678.637 L64.0042 684.525 L28.3562 684.525 L28.3562 678.637 L33.8944 678.637 Q30.6797 676.536 29.0883 673.703 Q27.4968 670.839 27.4968 667.115 Q27.4968 660.972 31.3163 657.821 Q35.1038 654.67 42.4881 654.67 Z\" fill=\"#000000\" fill-rule=\"nonzero\" fill-opacity=\"1\" /><path clip-path=\"url(#clip010)\" d=\"M32.4621 629.175 Q32.4621 633.886 36.1542 636.623 Q39.8145 639.36 46.212 639.36 Q52.6095 639.36 56.3017 636.655 Q59.9619 633.918 59.9619 629.175 Q59.9619 624.496 56.2698 621.759 Q52.5777 619.022 46.212 619.022 Q39.8781 619.022 36.186 621.759 Q32.4621 624.496 32.4621 629.175 M27.4968 629.175 Q27.4968 621.536 32.4621 617.176 Q37.4273 612.815 46.212 612.815 Q54.9649 612.815 59.9619 617.176 Q64.9272 621.536 64.9272 629.175 Q64.9272 636.846 59.9619 641.206 Q54.9649 645.535 46.212 645.535 Q37.4273 645.535 32.4621 641.206 Q27.4968 636.846 27.4968 629.175 Z\" fill=\"#000000\" fill-rule=\"nonzero\" fill-opacity=\"1\" /><circle clip-path=\"url(#clip012)\" cx=\"2293.24\" cy=\"86.1858\" r=\"14.4\" fill=\"#009af9\" fill-rule=\"evenodd\" fill-opacity=\"1\" stroke=\"#000000\" stroke-opacity=\"1\" stroke-width=\"3.2\"/>\n",
       "<circle clip-path=\"url(#clip012)\" cx=\"2293.24\" cy=\"86.1858\" r=\"14.4\" fill=\"#009af9\" fill-rule=\"evenodd\" fill-opacity=\"1\" stroke=\"#000000\" stroke-opacity=\"1\" stroke-width=\"3.2\"/>\n",
       "<circle clip-path=\"url(#clip012)\" cx=\"2293.24\" cy=\"86.1858\" r=\"14.4\" fill=\"#009af9\" fill-rule=\"evenodd\" fill-opacity=\"1\" stroke=\"#000000\" stroke-opacity=\"1\" stroke-width=\"3.2\"/>\n",
       "<circle clip-path=\"url(#clip012)\" cx=\"2293.24\" cy=\"86.1858\" r=\"14.4\" fill=\"#009af9\" fill-rule=\"evenodd\" fill-opacity=\"1\" stroke=\"#000000\" stroke-opacity=\"1\" stroke-width=\"3.2\"/>\n",
       "<circle clip-path=\"url(#clip012)\" cx=\"2293.24\" cy=\"86.1858\" r=\"14.4\" fill=\"#009af9\" fill-rule=\"evenodd\" fill-opacity=\"1\" stroke=\"#000000\" stroke-opacity=\"1\" stroke-width=\"3.2\"/>\n",
       "<circle clip-path=\"url(#clip012)\" cx=\"2293.24\" cy=\"86.1858\" r=\"14.4\" fill=\"#009af9\" fill-rule=\"evenodd\" fill-opacity=\"1\" stroke=\"#000000\" stroke-opacity=\"1\" stroke-width=\"3.2\"/>\n",
       "<circle clip-path=\"url(#clip012)\" cx=\"2293.24\" cy=\"86.1858\" r=\"14.4\" fill=\"#009af9\" fill-rule=\"evenodd\" fill-opacity=\"1\" stroke=\"#000000\" stroke-opacity=\"1\" stroke-width=\"3.2\"/>\n",
       "<circle clip-path=\"url(#clip012)\" cx=\"2293.24\" cy=\"86.1858\" r=\"14.4\" fill=\"#009af9\" fill-rule=\"evenodd\" fill-opacity=\"1\" stroke=\"#000000\" stroke-opacity=\"1\" stroke-width=\"3.2\"/>\n",
       "<circle clip-path=\"url(#clip012)\" cx=\"2293.24\" cy=\"86.1858\" r=\"14.4\" fill=\"#009af9\" fill-rule=\"evenodd\" fill-opacity=\"1\" stroke=\"#000000\" stroke-opacity=\"1\" stroke-width=\"3.2\"/>\n",
       "<circle clip-path=\"url(#clip012)\" cx=\"2293.24\" cy=\"86.1858\" r=\"14.4\" fill=\"#009af9\" fill-rule=\"evenodd\" fill-opacity=\"1\" stroke=\"#000000\" stroke-opacity=\"1\" stroke-width=\"3.2\"/>\n",
       "<circle clip-path=\"url(#clip012)\" cx=\"2293.24\" cy=\"86.1858\" r=\"14.4\" fill=\"#009af9\" fill-rule=\"evenodd\" fill-opacity=\"1\" stroke=\"#000000\" stroke-opacity=\"1\" stroke-width=\"3.2\"/>\n",
       "<circle clip-path=\"url(#clip012)\" cx=\"2293.24\" cy=\"86.1858\" r=\"14.4\" fill=\"#009af9\" fill-rule=\"evenodd\" fill-opacity=\"1\" stroke=\"#000000\" stroke-opacity=\"1\" stroke-width=\"3.2\"/>\n",
       "<circle clip-path=\"url(#clip012)\" cx=\"2293.24\" cy=\"86.1858\" r=\"14.4\" fill=\"#009af9\" fill-rule=\"evenodd\" fill-opacity=\"1\" stroke=\"#000000\" stroke-opacity=\"1\" stroke-width=\"3.2\"/>\n",
       "<circle clip-path=\"url(#clip012)\" cx=\"2293.24\" cy=\"86.1858\" r=\"14.4\" fill=\"#009af9\" fill-rule=\"evenodd\" fill-opacity=\"1\" stroke=\"#000000\" stroke-opacity=\"1\" stroke-width=\"3.2\"/>\n",
       "<circle clip-path=\"url(#clip012)\" cx=\"2293.24\" cy=\"86.1858\" r=\"14.4\" fill=\"#009af9\" fill-rule=\"evenodd\" fill-opacity=\"1\" stroke=\"#000000\" stroke-opacity=\"1\" stroke-width=\"3.2\"/>\n",
       "<circle clip-path=\"url(#clip012)\" cx=\"2293.24\" cy=\"86.1858\" r=\"14.4\" fill=\"#009af9\" fill-rule=\"evenodd\" fill-opacity=\"1\" stroke=\"#000000\" stroke-opacity=\"1\" stroke-width=\"3.2\"/>\n",
       "<circle clip-path=\"url(#clip012)\" cx=\"2293.24\" cy=\"86.1858\" r=\"14.4\" fill=\"#009af9\" fill-rule=\"evenodd\" fill-opacity=\"1\" stroke=\"#000000\" stroke-opacity=\"1\" stroke-width=\"3.2\"/>\n",
       "<circle clip-path=\"url(#clip012)\" cx=\"2293.24\" cy=\"86.1858\" r=\"14.4\" fill=\"#009af9\" fill-rule=\"evenodd\" fill-opacity=\"1\" stroke=\"#000000\" stroke-opacity=\"1\" stroke-width=\"3.2\"/>\n",
       "<circle clip-path=\"url(#clip012)\" cx=\"2293.24\" cy=\"86.1857\" r=\"14.4\" fill=\"#009af9\" fill-rule=\"evenodd\" fill-opacity=\"1\" stroke=\"#000000\" stroke-opacity=\"1\" stroke-width=\"3.2\"/>\n",
       "<circle clip-path=\"url(#clip012)\" cx=\"2293.24\" cy=\"86.1858\" r=\"14.4\" fill=\"#009af9\" fill-rule=\"evenodd\" fill-opacity=\"1\" stroke=\"#000000\" stroke-opacity=\"1\" stroke-width=\"3.2\"/>\n",
       "<circle clip-path=\"url(#clip012)\" cx=\"2293.24\" cy=\"86.1858\" r=\"14.4\" fill=\"#009af9\" fill-rule=\"evenodd\" fill-opacity=\"1\" stroke=\"#000000\" stroke-opacity=\"1\" stroke-width=\"3.2\"/>\n",
       "<circle clip-path=\"url(#clip012)\" cx=\"2293.24\" cy=\"86.1858\" r=\"14.4\" fill=\"#009af9\" fill-rule=\"evenodd\" fill-opacity=\"1\" stroke=\"#000000\" stroke-opacity=\"1\" stroke-width=\"3.2\"/>\n",
       "<circle clip-path=\"url(#clip012)\" cx=\"2293.24\" cy=\"86.1858\" r=\"14.4\" fill=\"#009af9\" fill-rule=\"evenodd\" fill-opacity=\"1\" stroke=\"#000000\" stroke-opacity=\"1\" stroke-width=\"3.2\"/>\n",
       "<circle clip-path=\"url(#clip012)\" cx=\"2293.24\" cy=\"86.1858\" r=\"14.4\" fill=\"#009af9\" fill-rule=\"evenodd\" fill-opacity=\"1\" stroke=\"#000000\" stroke-opacity=\"1\" stroke-width=\"3.2\"/>\n",
       "<circle clip-path=\"url(#clip012)\" cx=\"2293.24\" cy=\"86.1858\" r=\"14.4\" fill=\"#009af9\" fill-rule=\"evenodd\" fill-opacity=\"1\" stroke=\"#000000\" stroke-opacity=\"1\" stroke-width=\"3.2\"/>\n",
       "<circle clip-path=\"url(#clip012)\" cx=\"2293.24\" cy=\"86.1858\" r=\"14.4\" fill=\"#009af9\" fill-rule=\"evenodd\" fill-opacity=\"1\" stroke=\"#000000\" stroke-opacity=\"1\" stroke-width=\"3.2\"/>\n",
       "<circle clip-path=\"url(#clip012)\" cx=\"2293.24\" cy=\"86.1859\" r=\"14.4\" fill=\"#009af9\" fill-rule=\"evenodd\" fill-opacity=\"1\" stroke=\"#000000\" stroke-opacity=\"1\" stroke-width=\"3.2\"/>\n",
       "<circle clip-path=\"url(#clip012)\" cx=\"2293.24\" cy=\"86.1857\" r=\"14.4\" fill=\"#009af9\" fill-rule=\"evenodd\" fill-opacity=\"1\" stroke=\"#000000\" stroke-opacity=\"1\" stroke-width=\"3.2\"/>\n",
       "<circle clip-path=\"url(#clip012)\" cx=\"2293.24\" cy=\"86.1861\" r=\"14.4\" fill=\"#009af9\" fill-rule=\"evenodd\" fill-opacity=\"1\" stroke=\"#000000\" stroke-opacity=\"1\" stroke-width=\"3.2\"/>\n",
       "<circle clip-path=\"url(#clip012)\" cx=\"2293.24\" cy=\"86.1861\" r=\"14.4\" fill=\"#009af9\" fill-rule=\"evenodd\" fill-opacity=\"1\" stroke=\"#000000\" stroke-opacity=\"1\" stroke-width=\"3.2\"/>\n",
       "<circle clip-path=\"url(#clip012)\" cx=\"2252.26\" cy=\"99.8201\" r=\"14.4\" fill=\"#009af9\" fill-rule=\"evenodd\" fill-opacity=\"1\" stroke=\"#000000\" stroke-opacity=\"1\" stroke-width=\"3.2\"/>\n",
       "<circle clip-path=\"url(#clip012)\" cx=\"2108.29\" cy=\"151.696\" r=\"14.4\" fill=\"#009af9\" fill-rule=\"evenodd\" fill-opacity=\"1\" stroke=\"#000000\" stroke-opacity=\"1\" stroke-width=\"3.2\"/>\n",
       "<circle clip-path=\"url(#clip012)\" cx=\"1927.56\" cy=\"228.136\" r=\"14.4\" fill=\"#009af9\" fill-rule=\"evenodd\" fill-opacity=\"1\" stroke=\"#000000\" stroke-opacity=\"1\" stroke-width=\"3.2\"/>\n",
       "<circle clip-path=\"url(#clip012)\" cx=\"1550.45\" cy=\"398.349\" r=\"14.4\" fill=\"#009af9\" fill-rule=\"evenodd\" fill-opacity=\"1\" stroke=\"#000000\" stroke-opacity=\"1\" stroke-width=\"3.2\"/>\n",
       "<circle clip-path=\"url(#clip012)\" cx=\"1254.7\" cy=\"541.48\" r=\"14.4\" fill=\"#009af9\" fill-rule=\"evenodd\" fill-opacity=\"1\" stroke=\"#000000\" stroke-opacity=\"1\" stroke-width=\"3.2\"/>\n",
       "<circle clip-path=\"url(#clip012)\" cx=\"1026.15\" cy=\"661.84\" r=\"14.4\" fill=\"#009af9\" fill-rule=\"evenodd\" fill-opacity=\"1\" stroke=\"#000000\" stroke-opacity=\"1\" stroke-width=\"3.2\"/>\n",
       "<circle clip-path=\"url(#clip012)\" cx=\"852.119\" cy=\"763.049\" r=\"14.4\" fill=\"#009af9\" fill-rule=\"evenodd\" fill-opacity=\"1\" stroke=\"#000000\" stroke-opacity=\"1\" stroke-width=\"3.2\"/>\n",
       "<circle clip-path=\"url(#clip012)\" cx=\"721.469\" cy=\"848.156\" r=\"14.4\" fill=\"#009af9\" fill-rule=\"evenodd\" fill-opacity=\"1\" stroke=\"#000000\" stroke-opacity=\"1\" stroke-width=\"3.2\"/>\n",
       "<circle clip-path=\"url(#clip012)\" cx=\"624.622\" cy=\"919.722\" r=\"14.4\" fill=\"#009af9\" fill-rule=\"evenodd\" fill-opacity=\"1\" stroke=\"#000000\" stroke-opacity=\"1\" stroke-width=\"3.2\"/>\n",
       "<circle clip-path=\"url(#clip012)\" cx=\"553.609\" cy=\"979.902\" r=\"14.4\" fill=\"#009af9\" fill-rule=\"evenodd\" fill-opacity=\"1\" stroke=\"#000000\" stroke-opacity=\"1\" stroke-width=\"3.2\"/>\n",
       "<circle clip-path=\"url(#clip012)\" cx=\"493.034\" cy=\"1039.59\" r=\"14.4\" fill=\"#009af9\" fill-rule=\"evenodd\" fill-opacity=\"1\" stroke=\"#000000\" stroke-opacity=\"1\" stroke-width=\"3.2\"/>\n",
       "<circle clip-path=\"url(#clip012)\" cx=\"440.901\" cy=\"1098.73\" r=\"14.4\" fill=\"#009af9\" fill-rule=\"evenodd\" fill-opacity=\"1\" stroke=\"#000000\" stroke-opacity=\"1\" stroke-width=\"3.2\"/>\n",
       "<circle clip-path=\"url(#clip012)\" cx=\"402.94\" cy=\"1148.85\" r=\"14.4\" fill=\"#009af9\" fill-rule=\"evenodd\" fill-opacity=\"1\" stroke=\"#000000\" stroke-opacity=\"1\" stroke-width=\"3.2\"/>\n",
       "<circle clip-path=\"url(#clip012)\" cx=\"375.674\" cy=\"1191\" r=\"14.4\" fill=\"#009af9\" fill-rule=\"evenodd\" fill-opacity=\"1\" stroke=\"#000000\" stroke-opacity=\"1\" stroke-width=\"3.2\"/>\n",
       "<circle clip-path=\"url(#clip012)\" cx=\"356.174\" cy=\"1226.44\" r=\"14.4\" fill=\"#009af9\" fill-rule=\"evenodd\" fill-opacity=\"1\" stroke=\"#000000\" stroke-opacity=\"1\" stroke-width=\"3.2\"/>\n",
       "<circle clip-path=\"url(#clip012)\" cx=\"342.272\" cy=\"1256.24\" r=\"14.4\" fill=\"#009af9\" fill-rule=\"evenodd\" fill-opacity=\"1\" stroke=\"#000000\" stroke-opacity=\"1\" stroke-width=\"3.2\"/>\n",
       "<circle clip-path=\"url(#clip012)\" cx=\"332.384\" cy=\"1281.3\" r=\"14.4\" fill=\"#009af9\" fill-rule=\"evenodd\" fill-opacity=\"1\" stroke=\"#000000\" stroke-opacity=\"1\" stroke-width=\"3.2\"/>\n",
       "<circle clip-path=\"url(#clip012)\" cx=\"325.362\" cy=\"1302.37\" r=\"14.4\" fill=\"#009af9\" fill-rule=\"evenodd\" fill-opacity=\"1\" stroke=\"#000000\" stroke-opacity=\"1\" stroke-width=\"3.2\"/>\n",
       "<circle clip-path=\"url(#clip012)\" cx=\"320.382\" cy=\"1320.09\" r=\"14.4\" fill=\"#009af9\" fill-rule=\"evenodd\" fill-opacity=\"1\" stroke=\"#000000\" stroke-opacity=\"1\" stroke-width=\"3.2\"/>\n",
       "<circle clip-path=\"url(#clip012)\" cx=\"316.854\" cy=\"1335\" r=\"14.4\" fill=\"#009af9\" fill-rule=\"evenodd\" fill-opacity=\"1\" stroke=\"#000000\" stroke-opacity=\"1\" stroke-width=\"3.2\"/>\n",
       "<circle clip-path=\"url(#clip012)\" cx=\"314.355\" cy=\"1347.53\" r=\"14.4\" fill=\"#009af9\" fill-rule=\"evenodd\" fill-opacity=\"1\" stroke=\"#000000\" stroke-opacity=\"1\" stroke-width=\"3.2\"/>\n",
       "<circle clip-path=\"url(#clip012)\" cx=\"312.586\" cy=\"1358.06\" r=\"14.4\" fill=\"#009af9\" fill-rule=\"evenodd\" fill-opacity=\"1\" stroke=\"#000000\" stroke-opacity=\"1\" stroke-width=\"3.2\"/>\n",
       "<circle clip-path=\"url(#clip012)\" cx=\"311.334\" cy=\"1366.92\" r=\"14.4\" fill=\"#009af9\" fill-rule=\"evenodd\" fill-opacity=\"1\" stroke=\"#000000\" stroke-opacity=\"1\" stroke-width=\"3.2\"/>\n",
       "<circle clip-path=\"url(#clip012)\" cx=\"310.449\" cy=\"1374.37\" r=\"14.4\" fill=\"#009af9\" fill-rule=\"evenodd\" fill-opacity=\"1\" stroke=\"#000000\" stroke-opacity=\"1\" stroke-width=\"3.2\"/>\n",
       "<circle clip-path=\"url(#clip012)\" cx=\"309.824\" cy=\"1380.62\" r=\"14.4\" fill=\"#009af9\" fill-rule=\"evenodd\" fill-opacity=\"1\" stroke=\"#000000\" stroke-opacity=\"1\" stroke-width=\"3.2\"/>\n",
       "<circle clip-path=\"url(#clip012)\" cx=\"309.651\" cy=\"1382.66\" r=\"14.4\" fill=\"#009af9\" fill-rule=\"evenodd\" fill-opacity=\"1\" stroke=\"#000000\" stroke-opacity=\"1\" stroke-width=\"3.2\"/>\n",
       "<circle clip-path=\"url(#clip012)\" cx=\"309.539\" cy=\"1384.24\" r=\"14.4\" fill=\"#009af9\" fill-rule=\"evenodd\" fill-opacity=\"1\" stroke=\"#000000\" stroke-opacity=\"1\" stroke-width=\"3.2\"/>\n",
       "<path clip-path=\"url(#clip010)\" d=\"M320.119 196.789 L954.302 196.789 L954.302 93.1086 L320.119 93.1086  Z\" fill=\"#ffffff\" fill-rule=\"evenodd\" fill-opacity=\"1\"/>\n",
       "<polyline clip-path=\"url(#clip010)\" style=\"stroke:#000000; stroke-linecap:round; stroke-linejoin:round; stroke-width:4; stroke-opacity:1; fill:none\" points=\"320.119,196.789 954.302,196.789 954.302,93.1086 320.119,93.1086 320.119,196.789 \"/>\n",
       "<circle clip-path=\"url(#clip010)\" cx=\"413.574\" cy=\"144.949\" r=\"20.48\" fill=\"#009af9\" fill-rule=\"evenodd\" fill-opacity=\"1\" stroke=\"#000000\" stroke-opacity=\"1\" stroke-width=\"4.55111\"/>\n",
       "<path clip-path=\"url(#clip010)\" d=\"M507.028 127.669 L526.889 127.669 L526.889 131.604 L511.704 131.604 L511.704 141.789 L525.408 141.789 L525.408 145.724 L511.704 145.724 L511.704 162.229 L507.028 162.229 L507.028 127.669 Z\" fill=\"#000000\" fill-rule=\"nonzero\" fill-opacity=\"1\" /><path clip-path=\"url(#clip010)\" d=\"M545.685 140.284 Q544.968 139.868 544.111 139.682 Q543.278 139.474 542.259 139.474 Q538.648 139.474 536.704 141.835 Q534.783 144.173 534.783 148.571 L534.783 162.229 L530.5 162.229 L530.5 136.303 L534.783 136.303 L534.783 140.331 Q536.125 137.969 538.278 136.835 Q540.431 135.678 543.509 135.678 Q543.949 135.678 544.482 135.747 Q545.014 135.794 545.662 135.909 L545.685 140.284 Z\" fill=\"#000000\" fill-rule=\"nonzero\" fill-opacity=\"1\" /><path clip-path=\"url(#clip010)\" d=\"M559.158 139.289 Q555.732 139.289 553.741 141.974 Q551.75 144.636 551.75 149.289 Q551.75 153.942 553.718 156.627 Q555.708 159.289 559.158 159.289 Q562.56 159.289 564.551 156.604 Q566.542 153.918 566.542 149.289 Q566.542 144.682 564.551 141.997 Q562.56 139.289 559.158 139.289 M559.158 135.678 Q564.713 135.678 567.884 139.289 Q571.056 142.9 571.056 149.289 Q571.056 155.655 567.884 159.289 Q564.713 162.9 559.158 162.9 Q553.579 162.9 550.408 159.289 Q547.259 155.655 547.259 149.289 Q547.259 142.9 550.408 139.289 Q553.579 135.678 559.158 135.678 Z\" fill=\"#000000\" fill-rule=\"nonzero\" fill-opacity=\"1\" /><path clip-path=\"url(#clip010)\" d=\"M599.667 146.581 L599.667 162.229 L595.407 162.229 L595.407 146.719 Q595.407 143.039 593.972 141.21 Q592.537 139.382 589.667 139.382 Q586.218 139.382 584.227 141.581 Q582.236 143.78 582.236 147.576 L582.236 162.229 L577.954 162.229 L577.954 136.303 L582.236 136.303 L582.236 140.331 Q583.764 137.993 585.824 136.835 Q587.907 135.678 590.616 135.678 Q595.083 135.678 597.375 138.456 Q599.667 141.21 599.667 146.581 Z\" fill=\"#000000\" fill-rule=\"nonzero\" fill-opacity=\"1\" /><path clip-path=\"url(#clip010)\" d=\"M612.375 128.942 L612.375 136.303 L621.148 136.303 L621.148 139.613 L612.375 139.613 L612.375 153.687 Q612.375 156.858 613.231 157.761 Q614.111 158.664 616.773 158.664 L621.148 158.664 L621.148 162.229 L616.773 162.229 Q611.842 162.229 609.967 160.4 Q608.092 158.548 608.092 153.687 L608.092 139.613 L604.967 139.613 L604.967 136.303 L608.092 136.303 L608.092 128.942 L612.375 128.942 Z\" fill=\"#000000\" fill-rule=\"nonzero\" fill-opacity=\"1\" /><path clip-path=\"url(#clip010)\" d=\"M648.926 148.201 L648.926 150.284 L629.342 150.284 Q629.62 154.682 631.981 156.997 Q634.365 159.289 638.602 159.289 Q641.055 159.289 643.347 158.687 Q645.662 158.085 647.93 156.881 L647.93 160.909 Q645.639 161.881 643.231 162.391 Q640.824 162.9 638.347 162.9 Q632.143 162.9 628.509 159.289 Q624.898 155.678 624.898 149.52 Q624.898 143.155 628.324 139.428 Q631.773 135.678 637.606 135.678 Q642.838 135.678 645.87 139.057 Q648.926 142.414 648.926 148.201 M644.666 146.951 Q644.62 143.456 642.699 141.372 Q640.801 139.289 637.653 139.289 Q634.088 139.289 631.935 141.303 Q629.805 143.317 629.481 146.974 L644.666 146.951 Z\" fill=\"#000000\" fill-rule=\"nonzero\" fill-opacity=\"1\" /><path clip-path=\"url(#clip010)\" d=\"M655.916 136.303 L660.176 136.303 L660.176 162.229 L655.916 162.229 L655.916 136.303 M655.916 126.21 L660.176 126.21 L660.176 131.604 L655.916 131.604 L655.916 126.21 Z\" fill=\"#000000\" fill-rule=\"nonzero\" fill-opacity=\"1\" /><path clip-path=\"url(#clip010)\" d=\"M684.111 140.284 Q683.393 139.868 682.537 139.682 Q681.703 139.474 680.685 139.474 Q677.074 139.474 675.129 141.835 Q673.208 144.173 673.208 148.571 L673.208 162.229 L668.925 162.229 L668.925 136.303 L673.208 136.303 L673.208 140.331 Q674.55 137.969 676.703 136.835 Q678.856 135.678 681.935 135.678 Q682.374 135.678 682.907 135.747 Q683.439 135.794 684.087 135.909 L684.111 140.284 Z\" fill=\"#000000\" fill-rule=\"nonzero\" fill-opacity=\"1\" /><path clip-path=\"url(#clip010)\" d=\"M700.36 149.196 Q695.198 149.196 693.208 150.377 Q691.217 151.557 691.217 154.405 Q691.217 156.673 692.699 158.016 Q694.203 159.335 696.773 159.335 Q700.314 159.335 702.444 156.835 Q704.597 154.312 704.597 150.145 L704.597 149.196 L700.36 149.196 M708.856 147.437 L708.856 162.229 L704.597 162.229 L704.597 158.293 Q703.138 160.655 700.962 161.789 Q698.786 162.9 695.638 162.9 Q691.657 162.9 689.296 160.678 Q686.958 158.432 686.958 154.682 Q686.958 150.307 689.874 148.085 Q692.814 145.863 698.624 145.863 L704.597 145.863 L704.597 145.446 Q704.597 142.507 702.652 140.909 Q700.731 139.289 697.236 139.289 Q695.013 139.289 692.907 139.821 Q690.8 140.354 688.856 141.419 L688.856 137.483 Q691.194 136.581 693.393 136.141 Q695.592 135.678 697.675 135.678 Q703.3 135.678 706.078 138.594 Q708.856 141.511 708.856 147.437 Z\" fill=\"#000000\" fill-rule=\"nonzero\" fill-opacity=\"1\" /><path clip-path=\"url(#clip010)\" d=\"M754.874 148.201 L754.874 150.284 L735.291 150.284 Q735.569 154.682 737.93 156.997 Q740.314 159.289 744.55 159.289 Q747.004 159.289 749.295 158.687 Q751.61 158.085 753.879 156.881 L753.879 160.909 Q751.587 161.881 749.18 162.391 Q746.772 162.9 744.295 162.9 Q738.092 162.9 734.458 159.289 Q730.846 155.678 730.846 149.52 Q730.846 143.155 734.272 139.428 Q737.721 135.678 743.555 135.678 Q748.786 135.678 751.819 139.057 Q754.874 142.414 754.874 148.201 M750.615 146.951 Q750.569 143.456 748.647 141.372 Q746.749 139.289 743.601 139.289 Q740.036 139.289 737.883 141.303 Q735.754 143.317 735.43 146.974 L750.615 146.951 Z\" fill=\"#000000\" fill-rule=\"nonzero\" fill-opacity=\"1\" /><path clip-path=\"url(#clip010)\" d=\"M774.99 126.21 L774.99 129.752 L770.916 129.752 Q768.624 129.752 767.721 130.678 Q766.842 131.604 766.842 134.011 L766.842 136.303 L773.855 136.303 L773.855 139.613 L766.842 139.613 L766.842 162.229 L762.559 162.229 L762.559 139.613 L758.485 139.613 L758.485 136.303 L762.559 136.303 L762.559 134.497 Q762.559 130.169 764.573 128.201 Q766.587 126.21 770.962 126.21 L774.99 126.21 Z\" fill=\"#000000\" fill-rule=\"nonzero\" fill-opacity=\"1\" /><path clip-path=\"url(#clip010)\" d=\"M778.555 136.303 L782.814 136.303 L782.814 162.229 L778.555 162.229 L778.555 136.303 M778.555 126.21 L782.814 126.21 L782.814 131.604 L778.555 131.604 L778.555 126.21 Z\" fill=\"#000000\" fill-rule=\"nonzero\" fill-opacity=\"1\" /><path clip-path=\"url(#clip010)\" d=\"M810.383 137.298 L810.383 141.28 Q808.578 140.284 806.749 139.798 Q804.943 139.289 803.091 139.289 Q798.948 139.289 796.656 141.928 Q794.365 144.544 794.365 149.289 Q794.365 154.034 796.656 156.673 Q798.948 159.289 803.091 159.289 Q804.943 159.289 806.749 158.803 Q808.578 158.293 810.383 157.298 L810.383 161.233 Q808.601 162.067 806.679 162.483 Q804.781 162.9 802.628 162.9 Q796.772 162.9 793.323 159.219 Q789.874 155.539 789.874 149.289 Q789.874 142.946 793.346 139.312 Q796.841 135.678 802.906 135.678 Q804.874 135.678 806.749 136.095 Q808.624 136.488 810.383 137.298 Z\" fill=\"#000000\" fill-rule=\"nonzero\" fill-opacity=\"1\" /><path clip-path=\"url(#clip010)\" d=\"M817.79 136.303 L822.05 136.303 L822.05 162.229 L817.79 162.229 L817.79 136.303 M817.79 126.21 L822.05 126.21 L822.05 131.604 L817.79 131.604 L817.79 126.21 Z\" fill=\"#000000\" fill-rule=\"nonzero\" fill-opacity=\"1\" /><path clip-path=\"url(#clip010)\" d=\"M853.137 148.201 L853.137 150.284 L833.554 150.284 Q833.832 154.682 836.193 156.997 Q838.577 159.289 842.813 159.289 Q845.267 159.289 847.559 158.687 Q849.874 158.085 852.142 156.881 L852.142 160.909 Q849.85 161.881 847.443 162.391 Q845.036 162.9 842.559 162.9 Q836.355 162.9 832.721 159.289 Q829.11 155.678 829.11 149.52 Q829.11 143.155 832.536 139.428 Q835.985 135.678 841.818 135.678 Q847.05 135.678 850.082 139.057 Q853.137 142.414 853.137 148.201 M848.878 146.951 Q848.832 143.456 846.911 141.372 Q845.013 139.289 841.864 139.289 Q838.3 139.289 836.147 141.303 Q834.017 143.317 833.693 146.974 L848.878 146.951 Z\" fill=\"#000000\" fill-rule=\"nonzero\" fill-opacity=\"1\" /><path clip-path=\"url(#clip010)\" d=\"M881.679 146.581 L881.679 162.229 L877.42 162.229 L877.42 146.719 Q877.42 143.039 875.985 141.21 Q874.549 139.382 871.679 139.382 Q868.23 139.382 866.239 141.581 Q864.249 143.78 864.249 147.576 L864.249 162.229 L859.966 162.229 L859.966 136.303 L864.249 136.303 L864.249 140.331 Q865.776 137.993 867.836 136.835 Q869.92 135.678 872.628 135.678 Q877.096 135.678 879.387 138.456 Q881.679 141.21 881.679 146.581 Z\" fill=\"#000000\" fill-rule=\"nonzero\" fill-opacity=\"1\" /><path clip-path=\"url(#clip010)\" d=\"M894.387 128.942 L894.387 136.303 L903.16 136.303 L903.16 139.613 L894.387 139.613 L894.387 153.687 Q894.387 156.858 895.244 157.761 Q896.123 158.664 898.785 158.664 L903.16 158.664 L903.16 162.229 L898.785 162.229 Q893.855 162.229 891.98 160.4 Q890.105 158.548 890.105 153.687 L890.105 139.613 L886.98 139.613 L886.98 136.303 L890.105 136.303 L890.105 128.942 L894.387 128.942 Z\" fill=\"#000000\" fill-rule=\"nonzero\" fill-opacity=\"1\" /><path clip-path=\"url(#clip010)\" d=\"M930.938 148.201 L930.938 150.284 L911.355 150.284 Q911.633 154.682 913.994 156.997 Q916.378 159.289 920.614 159.289 Q923.068 159.289 925.359 158.687 Q927.674 158.085 929.943 156.881 L929.943 160.909 Q927.651 161.881 925.244 162.391 Q922.836 162.9 920.359 162.9 Q914.156 162.9 910.521 159.289 Q906.91 155.678 906.91 149.52 Q906.91 143.155 910.336 139.428 Q913.785 135.678 919.619 135.678 Q924.85 135.678 927.882 139.057 Q930.938 142.414 930.938 148.201 M926.679 146.951 Q926.632 143.456 924.711 141.372 Q922.813 139.289 919.665 139.289 Q916.1 139.289 913.947 141.303 Q911.818 143.317 911.494 146.974 L926.679 146.951 Z\" fill=\"#000000\" fill-rule=\"nonzero\" fill-opacity=\"1\" /></svg>\n"
      ]
     },
     "execution_count": 34,
     "metadata": {},
     "output_type": "execute_result"
    }
   ],
   "source": [
    "scatter(riscos, retornos, label = \"Fronteira eficiente\", xlabel = \"Risco\", ylabel = \"Retorno\")"
   ]
  },
  {
   "cell_type": "code",
   "execution_count": 35,
   "metadata": {},
   "outputs": [
    {
     "data": {
      "text/plain": [
       "5×57 Matrix{Float64}:\n",
       " 1.51469e-8  1.51639e-8  1.51841e-8  …  0.180499     0.18191     0.183047\n",
       " 7.38819e-8  7.39654e-8  7.40723e-8     0.021024     0.0199277   0.018941\n",
       " 3.20177e-8  3.20661e-8  3.21237e-8     0.182606     0.181418    0.180374\n",
       " 1.51774e-8  1.52003e-8  1.52278e-8     0.615674     0.616743    0.617638\n",
       " 1.0         1.0         1.0            0.000196785  2.18639e-7  9.85756e-8"
      ]
     },
     "execution_count": 35,
     "metadata": {},
     "output_type": "execute_result"
    }
   ],
   "source": [
    "ws"
   ]
  },
  {
   "cell_type": "markdown",
   "metadata": {},
   "source": [
    "## Comentários históricos\n",
    "\n",
    "Na proposta original de Markowitz (de 1952), o método de resolução é geométrico, e corresponde ao que hoje chamaríamos da **versão multi-objetivo** do problema:\n",
    "$$\n",
    "\\begin{aligned}\n",
    "\\max \\; & (\\mu^\\top w, - w^\\top \\Sigma w) \\\\\n",
    "\\text{s.t.} \\; & \\sum_{i=1}^n w_i = 1, \\\\\n",
    "        &  w_i \\geq 0\n",
    "\\end{aligned}\n",
    "$$"
   ]
  },
  {
   "cell_type": "markdown",
   "metadata": {},
   "source": [
    "A segunda versão, de 1956, é praticamente equivalente à formulação de minimizar a variância, sujeito a um retorno mínimo.\n",
    "Ela é mais algébrica (com considerações sobre o posto das matrizes e das equações envolvidas), e introduz os multiplicadores de Lagrange.\n",
    "\n",
    "Neste artigo, Markowitz suspende temporariamente a restrição de positividade dos pesos,\n",
    "o que permitiria que a solução ótima fosse \"alavancada\" com posições negativas (\"a descoberto\").\n",
    "Naquela época, a solução de problemas de otimização com restrições de desigualdade não estava tão desenvolvida, e a formulação quadrática, penalizada, tinha a vantagem de não ter restrições de desigualdade, e portanto possuir uma fórmula fechada para o ótimo, o que permitia resolver muito mais rápido os problemas envolvidos."
   ]
  },
  {
   "cell_type": "code",
   "execution_count": 36,
   "metadata": {},
   "outputs": [],
   "source": [
    "λ = 8\n",
    "mark_alav = Model(Ipopt.Optimizer);\n",
    "@variable(mark_alav, w[1:n]);\n",
    "@constraint(mark_alav, sum(w) == 1);\n",
    "@objective(mark_alav, Max, μ'*w - λ * (w'*Σ*w));"
   ]
  },
  {
   "cell_type": "code",
   "execution_count": 37,
   "metadata": {},
   "outputs": [],
   "source": [
    "set_silent(mark_alav)\n",
    "optimize!(mark_alav)"
   ]
  },
  {
   "cell_type": "code",
   "execution_count": 38,
   "metadata": {},
   "outputs": [
    {
     "data": {
      "text/plain": [
       "* Solver : Ipopt\n",
       "\n",
       "* Status\n",
       "  Result count       : 1\n",
       "  Termination status : LOCALLY_SOLVED\n",
       "  Message from the solver:\n",
       "  \"Solve_Succeeded\"\n",
       "\n",
       "* Candidate solution (result #1)\n",
       "  Primal status      : FEASIBLE_POINT\n",
       "  Dual status        : FEASIBLE_POINT\n",
       "  Objective value    : 4.89753e-02\n",
       "  Dual objective value : -1.13017e-02\n",
       "\n",
       "* Work counters\n",
       "  Solve time (sec)   : 3.00002e-03\n",
       "  Barrier iterations : 1\n"
      ]
     },
     "execution_count": 38,
     "metadata": {},
     "output_type": "execute_result"
    }
   ],
   "source": [
    "solution_summary(mark_alav)"
   ]
  },
  {
   "cell_type": "markdown",
   "metadata": {},
   "source": [
    "Observe que a solução foi obtida em apenas um passo do solver (e não 9 e 11, como nos casos anteriores)."
   ]
  },
  {
   "cell_type": "code",
   "execution_count": 39,
   "metadata": {},
   "outputs": [
    {
     "data": {
      "text/plain": [
       "5-element Vector{Float64}:\n",
       " -0.16458725628879464\n",
       " -0.027679052378440046\n",
       "  0.20448445352625044\n",
       "  0.45767640246316565\n",
       "  0.5301054526778187"
      ]
     },
     "execution_count": 39,
     "metadata": {},
     "output_type": "execute_result"
    }
   ],
   "source": [
    "value.(mark_alav[:w])"
   ]
  },
  {
   "cell_type": "markdown",
   "metadata": {},
   "source": [
    "## Mais um pouco sobre terminologia e variáveis"
   ]
  },
  {
   "cell_type": "markdown",
   "metadata": {},
   "source": [
    "Ao longo deste notebook, criamos vários modelos com uma variável de decisão $w$ (\"matemática\").\n",
    "A cada vez, a macro `@constraint` criava uma variável (\"programática\") `w` correspondente.\n",
    "Se uma variável com este nome já existia, ela era sobrescrita.\n",
    "\n",
    "Mas as variáveis \"de cada modelo\" ainda podem ser acessadas a partir dos modelos correspondentes:"
   ]
  },
  {
   "cell_type": "code",
   "execution_count": 40,
   "metadata": {},
   "outputs": [
    {
     "data": {
      "text/plain": [
       "5-element Vector{Float64}:\n",
       " -0.16458725628879464\n",
       " -0.027679052378440046\n",
       "  0.20448445352625044\n",
       "  0.45767640246316565\n",
       "  0.5301054526778187"
      ]
     },
     "execution_count": 40,
     "metadata": {},
     "output_type": "execute_result"
    }
   ],
   "source": [
    "value.(w) # igual à mais recente"
   ]
  },
  {
   "cell_type": "code",
   "execution_count": 41,
   "metadata": {},
   "outputs": [
    {
     "data": {
      "text/plain": [
       "5-element Vector{Float64}:\n",
       " 1.263337478748787e-6\n",
       " 3.3441867361716786e-6\n",
       " 0.17601118848905187\n",
       " 0.3943909067578366\n",
       " 0.42959329722889666"
      ]
     },
     "execution_count": 41,
     "metadata": {},
     "output_type": "execute_result"
    }
   ],
   "source": [
    "value.(m[:w])"
   ]
  },
  {
   "cell_type": "code",
   "execution_count": 42,
   "metadata": {},
   "outputs": [
    {
     "data": {
      "text/plain": [
       "5-element Vector{Float64}:\n",
       " 0.18304700121616144\n",
       " 0.01894099209696816\n",
       " 0.1803736597086673\n",
       " 0.6176382484025656\n",
       " 9.857563735431455e-8"
      ]
     },
     "execution_count": 42,
     "metadata": {},
     "output_type": "execute_result"
    }
   ],
   "source": [
    "value.(markowitz[:w])"
   ]
  }
 ],
 "metadata": {
  "kernelspec": {
   "display_name": "Julia 1.10.5",
   "language": "julia",
   "name": "julia-1.10"
  },
  "language_info": {
   "file_extension": ".jl",
   "mimetype": "application/julia",
   "name": "julia",
   "version": "1.10.5"
  }
 },
 "nbformat": 4,
 "nbformat_minor": 2
}
