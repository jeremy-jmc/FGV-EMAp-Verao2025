{
    "cells": [
        {
            "cell_type": "markdown",
            "metadata": {},
            "source": [
                "# Introdução ao Julia"
            ]
        },
        {
            "cell_type": "markdown",
            "metadata": {},
            "source": [
                "Como o JuMP está escrito na linguagem `Julia`, é importante ter algum conhecimento básico\n",
                "dela antes de começar a aprender a usar o JuMP."
            ]
        },
        {
            "cell_type": "markdown",
            "metadata": {},
            "source": [
                "**Obs**\n",
                "Este tutorial foi pensado como um curso rápido e minimalista sobre os fundamentos do Julia.\n",
                "No [site do Julia](https://julialang.org/learning/) há várias introduções mais abrangentes à linguagem."
            ]
        },
        {
            "cell_type": "markdown",
            "metadata": {},
            "source": [
                "## Instalando o Julia"
            ]
        },
        {
            "cell_type": "markdown",
            "metadata": {},
            "source": [
                "Para instalar o Julia, [baixe a versão estável mais recente](https://julialang.org/downloads/),\n",
                "e siga as [instruções de instalação específicas para a plataforma](https://julialang.org/downloads/platform/).\n",
                "\n",
                "**Dica**\n",
                "    Se você está em dúvida, provavelmente a versão de 64 bits é a certa para seu computador."
            ]
        },
        {
            "cell_type": "markdown",
            "metadata": {},
            "source": [
                "Em seguida, você precisa de um ambiente de desenvolvimento. O VS Code é uma escolha popular, então siga\n",
                "[essas instruções de instalação](https://www.julia-vscode.org/docs/stable/gettingstarted/)."
            ]
        },
        {
            "cell_type": "markdown",
            "metadata": {},
            "source": [
                "O Julia também pode ser usado com [notebooks Jupyter](https://github.com/JuliaLang/IJulia.jl)\n",
                "ou - para quem quiser se aventurar um pouco mais - notebooks do [Pluto.jl](https://github.com/fonsp/Pluto.jl)."
            ]
        },
        {
            "cell_type": "markdown",
            "metadata": {},
            "source": [
                "## O REPL do Julia"
            ]
        },
        {
            "cell_type": "markdown",
            "metadata": {},
            "source": [
                "A principal forma de interagir com o Julia é através do seu REPL (Read Eval Print Loop).\n",
                "Para acessar o REPL, inicie o executável do Julia para chegar ao prompt\n",
                "`julia>`, e então digite:"
            ]
        },
        {
            "cell_type": "code",
            "execution_count": 1,
            "metadata": {},
            "outputs": [
                {
                    "data": {
                        "text/plain": [
                            "2"
                        ]
                    },
                    "metadata": {},
                    "output_type": "display_data"
                }
            ],
            "source": [
                "1 + 1"
            ]
        },
        {
            "cell_type": "markdown",
            "metadata": {},
            "source": [
                "Para programas maiores, escreva um script como um arquivo de texto, e execute\n",
                "esse arquivo usando:\n",
                "```julia\n",
                "julia> include(\"caminho/para/arquivo.jl\")\n",
                "```"
            ]
        },
        {
            "cell_type": "markdown",
            "metadata": {},
            "source": [
                "**Atenção:**\n",
                "    Devido à latência de inicialização do Julia, executar scripts pela linha de comando do seu sistema operacional é lento, ou seja, evite fazer isso:\n",
                "    ```\n",
                "    $ julia caminho/para/arquivo.jl\n",
                "    ```\n",
                "    Use o REPL ou um notebook em vez disso, e leia sobre o [\"time-to-first-solve\"](https://jump.dev/JuMP.jl/stable/tutorials/getting_started/performance_tips/#The-%22time-to-first-solve%22-issue) para mais informações."
            ]
        },
        {
            "cell_type": "markdown",
            "metadata": {},
            "source": [
                "### Blocos de código nesta documentação"
            ]
        },
        {
            "cell_type": "markdown",
            "metadata": {},
            "source": [
                "Nesta documentação, você verá uma mistura de exemplos de código com e sem o\n",
                "`julia>`."
            ]
        },
        {
            "cell_type": "markdown",
            "metadata": {},
            "source": [
                "O prompt Julia é usado principalmente para demonstrar trechos curtos de código, e a\n",
                "saída é exatamente o que você verá se executar a partir do REPL."
            ]
        },
        {
            "cell_type": "markdown",
            "metadata": {},
            "source": [
                "Blocos sem o `julia>` podem ser copiados e colados no REPL, mas são\n",
                "usados porque possibilitam uma saída mais rica, como gráficos ou LaTeX, para ser exibida\n",
                "nas versões online e em [PDF](https://jump.dev/JuMP.jl/stable/JuMP.pdf)\n",
                "da documentação. Se você executá-los no REPL, pode ver uma saída diferente."
            ]
        },
        {
            "cell_type": "markdown",
            "metadata": {},
            "source": [
                "## Onde obter ajuda"
            ]
        },
        {
            "cell_type": "markdown",
            "metadata": {},
            "source": [
                "* Na documentação oficial\n",
                "  * [da biblioteca JuMP](https://jump.dev/JuMP.jl/stable/)\n",
                "  * [da linguagem Julia](https://docs.julialang.org/en/v1/)\n",
                "  * [para instalar](https://docs.jupyter.org/en/latest/install.html#install) e [usar](https://jupyter-notebook.readthedocs.io/en/latest/notebook.html#notebook-user-interface) notebooks jupyter\n",
                "* Pergunte (ou pesquise) [no fórum da comunidade Julia](https://discourse.julialang.org)\n",
                "  * Se a pergunta estiver relacionada ao JuMP, pergunte na seção [Optimization (Mathematical)](https://discourse.julialang.org/c/domain/opt/13)\n",
                "    ou marque sua pergunta com \"jump\"\n",
                "* Diretamente no REPL"
            ]
        },
        {
            "cell_type": "markdown",
            "metadata": {},
            "source": [
                "Para acessar a ajuda da própria linguagem, no REPL ou num notebook,\n",
                "digite `?` para ativar o _help-mode_, seguido da função a ser pesquisada.\n",
                "Por exemplo, ao pesquisar a função `print`, você obterá:\n",
                "```julia\n",
                "help?> print\n",
                "search: print println printstyled sprint isprint prevind parentindices precision escape_string\n",
                "\n",
                "  print([io::IO], xs...)\n",
                "\n",
                "  Write to io (or to the default output stream stdout if io is not given) a canonical\n",
                "  (un-decorated) text representation. The representation used by print includes minimal\n",
                "  formatting and tries to avoid Julia-specific details.\n",
                "\n",
                "  print falls back to calling show, so most types should just define show. Define print\n",
                "  if your type has a separate \"plain\" representation. For example, show displays strings\n",
                "  with quotes, and print displays strings without quotes.\n",
                "\n",
                "  See also println, string, printstyled.\n",
                "\n",
                "  Examples\n",
                "  ≡≡≡≡≡≡≡≡≡≡\n",
                "\n",
                "  julia> print(\"Hello World!\")\n",
                "  Hello World!\n",
                "  julia> io = IOBuffer();\n",
                "\n",
                "  julia> print(io, \"Hello\", ' ', :World!)\n",
                "\n",
                "  julia> String(take!(io))\n",
                "  \"Hello World!\"\n",
                "```"
            ]
        },
        {
            "cell_type": "markdown",
            "metadata": {},
            "source": [
                "**Obs:** Em geral, ao utilizar a ajuda da linguagem, haverá muito mais informações do que você precisa."
            ]
        },
        {
            "cell_type": "markdown",
            "metadata": {},
            "source": [
                "## Números"
            ]
        },
        {
            "cell_type": "markdown",
            "metadata": {},
            "source": [
                "Como queremos resolver problemas de otimização, vamos usar muita\n",
                "matemática. Felizmente, o Julia é ótimo para matemática, com todos\n",
                "os operadores usuais:"
            ]
        },
        {
            "cell_type": "code",
            "execution_count": 2,
            "metadata": {},
            "outputs": [
                {
                    "data": {
                        "text/plain": [
                            "9"
                        ]
                    },
                    "metadata": {},
                    "output_type": "display_data"
                }
            ],
            "source": [
                "1 + 1\n",
                "1 - 2\n",
                "2 * 2\n",
                "4 / 5\n",
                "3^2"
            ]
        },
        {
            "cell_type": "markdown",
            "metadata": {},
            "source": [
                "O REPL do Julia não imprimiu `.0` após alguns dos números.\n",
                "Como Julia é uma linguagem dinâmica, você não precisa declarar explicitamente o tipo de uma variável.\n",
                "No entanto, nos bastidores, o Julia está atribuindo a cada variável um tipo.\n",
                "O tipo de qualquer valor em Julia pode ser obtido usando a função `typeof`:"
            ]
        },
        {
            "cell_type": "code",
            "execution_count": 3,
            "metadata": {},
            "outputs": [
                {
                    "data": {
                        "text/plain": [
                            "Float64"
                        ]
                    },
                    "metadata": {},
                    "output_type": "display_data"
                }
            ],
            "source": [
                "typeof(1)\n",
                "typeof(1.0)"
            ]
        },
        {
            "cell_type": "markdown",
            "metadata": {},
            "source": [
                "Aqui, `1` é um `Int64`, que é um número inteiro que ocupa 64 bits de memória,\n",
                "e `1.0` é um `Float64`, que é um número de ponto flutuante que ocupa 64 bits de memória."
            ]
        },
        {
            "cell_type": "markdown",
            "metadata": {},
            "source": [
                "**Dica**\n",
                "    Se você não está familiarizado com números de ponto flutuante, leia a seção Números de ponto flutuante logo abaixo."
            ]
        },
        {
            "cell_type": "markdown",
            "metadata": {},
            "source": [
                "Criamos números complexos usando `im`:"
            ]
        },
        {
            "cell_type": "code",
            "execution_count": 4,
            "metadata": {},
            "outputs": [
                {
                    "data": {
                        "text/plain": [
                            "4 - 3im"
                        ]
                    },
                    "metadata": {},
                    "output_type": "display_data"
                }
            ],
            "source": [
                "x = 2 + 1im\n",
                "real(x)\n",
                "imag(x)\n",
                "typeof(x)\n",
                "x * (1 - 2im)"
            ]
        },
        {
            "cell_type": "markdown",
            "metadata": {},
            "source": [
                "**Informação**\n",
                "    As chaves envolvem o que chamamos de _parâmetros_ de um tipo. Você pode\n",
                "    ler `Complex{Int64}` como \"um número complexo, onde as partes real e\n",
                "    imaginária são representadas por `Int64`.\"\n",
                "    Por outro lado, `typeof(1.0 + 2.0im)`, será `Complex{Float64}`,\n",
                "    o que quer dizer que `1.0 + 2.0im` é um número complexo\n",
                "    cujas as partes real e imaginária são representadas por `Float64`."
            ]
        },
        {
            "cell_type": "markdown",
            "metadata": {},
            "source": [
                "Existem também coisas interessantes, como uma representação irracional (\"abstrata\") de π."
            ]
        },
        {
            "cell_type": "code",
            "execution_count": 5,
            "metadata": {},
            "outputs": [
                {
                    "data": {
                        "text/plain": [
                            "π = 3.1415926535897..."
                        ]
                    },
                    "metadata": {},
                    "output_type": "display_data"
                }
            ],
            "source": [
                "π"
            ]
        },
        {
            "cell_type": "markdown",
            "metadata": {},
            "source": [
                "**Dica**\n",
                "    Para obter π (e a maioria das outras letras gregas), digite `\\pi` e\n",
                "    pressione `[TAB]`."
            ]
        },
        {
            "cell_type": "code",
            "execution_count": 6,
            "metadata": {},
            "outputs": [
                {
                    "data": {
                        "text/plain": [
                            "Irrational{:π}"
                        ]
                    },
                    "metadata": {},
                    "output_type": "display_data"
                }
            ],
            "source": [
                "typeof(π)"
            ]
        },
        {
            "cell_type": "markdown",
            "metadata": {},
            "source": [
                "No entanto, se fizermos cálculos com números irracionais, eles são\n",
                "convertidos para `Float64`:"
            ]
        },
        {
            "cell_type": "code",
            "execution_count": 7,
            "metadata": {},
            "outputs": [
                {
                    "data": {
                        "text/plain": [
                            "Float64"
                        ]
                    },
                    "metadata": {},
                    "output_type": "display_data"
                }
            ],
            "source": [
                "typeof(2π / 3)"
            ]
        },
        {
            "cell_type": "markdown",
            "metadata": {},
            "source": [
                "### Números de ponto flutuante"
            ]
        },
        {
            "cell_type": "markdown",
            "metadata": {},
            "source": [
                "**Aviso**\n",
                "    Se você não está familiarizado com números de ponto flutuante, leia esta seção com atenção."
            ]
        },
        {
            "cell_type": "markdown",
            "metadata": {},
            "source": [
                "Um `Float64` é uma [representação de ponto flutuante](https://en.wikipedia.org/wiki/Floating-point_arithmetic)\n",
                "de um número real usando 64 bits de informação."
            ]
        },
        {
            "cell_type": "markdown",
            "metadata": {},
            "source": [
                "Por ser uma aproximação, coisas que sabemos serem verdadeiras na matemática não\n",
                "são necessariamente verdadeiras em um computador. Por exemplo:"
            ]
        },
        {
            "cell_type": "code",
            "execution_count": 8,
            "metadata": {},
            "outputs": [
                {
                    "data": {
                        "text/plain": [
                            "false"
                        ]
                    },
                    "metadata": {},
                    "output_type": "display_data"
                }
            ],
            "source": [
                "# O operador \"==\" testa se dois valores são iguais\n",
                "0.1 * 3 == 0.3"
            ]
        },
        {
            "cell_type": "markdown",
            "metadata": {},
            "source": [
                "Um exemplo mais complicado é:"
            ]
        },
        {
            "cell_type": "code",
            "execution_count": 9,
            "metadata": {},
            "outputs": [
                {
                    "data": {
                        "text/plain": [
                            "false"
                        ]
                    },
                    "metadata": {},
                    "output_type": "display_data"
                }
            ],
            "source": [
                "sin(2π / 3) == √3 / 2"
            ]
        },
        {
            "cell_type": "markdown",
            "metadata": {},
            "source": [
                "**Dica**\n",
                "    A raiz `√` é obtida digitando `\\sqrt` e depois `[TAB]`."
            ]
        },
        {
            "cell_type": "markdown",
            "metadata": {},
            "source": [
                "Vamos ver quais são as diferenças:"
            ]
        },
        {
            "cell_type": "code",
            "execution_count": 10,
            "metadata": {},
            "outputs": [
                {
                    "data": {
                        "text/plain": [
                            "1.1102230246251565e-16"
                        ]
                    },
                    "metadata": {},
                    "output_type": "display_data"
                }
            ],
            "source": [
                "0.1 * 3 - 0.3\n",
                "sin(2π / 3) - √3 / 2"
            ]
        },
        {
            "cell_type": "markdown",
            "metadata": {},
            "source": [
                "Elas são pequenas, mas não são zero."
            ]
        },
        {
            "cell_type": "markdown",
            "metadata": {},
            "source": [
                "Uma maneira de explicar essa diferença é considerar como escreveríamos\n",
                "`1 / 3` e `2 / 3` usando apenas quatro dígitos após o ponto decimal. Escreveríamos\n",
                "`1 / 3` como `0.3333` e `2 / 3` como `0.6667`. Assim, apesar do fato de\n",
                "`2 * (1 / 3) == 2 / 3`, `2 * 0.3333 == 0.6666 != 0.6667`."
            ]
        },
        {
            "cell_type": "markdown",
            "metadata": {},
            "source": [
                "Vamos tentar novamente usando ≈ (`\\approx + [TAB]`) em vez de `==`:"
            ]
        },
        {
            "cell_type": "code",
            "execution_count": 11,
            "metadata": {},
            "outputs": [
                {
                    "data": {
                        "text/plain": [
                            "true"
                        ]
                    },
                    "metadata": {},
                    "output_type": "display_data"
                }
            ],
            "source": [
                "0.1 * 3 ≈ 0.3\n",
                "sin(2π / 3) ≈ √3 / 2"
            ]
        },
        {
            "cell_type": "markdown",
            "metadata": {},
            "source": [
                "`≈` é uma forma conveniente de chamar a função `isapprox`:"
            ]
        },
        {
            "cell_type": "code",
            "execution_count": 12,
            "metadata": {},
            "outputs": [
                {
                    "data": {
                        "text/plain": [
                            "true"
                        ]
                    },
                    "metadata": {},
                    "output_type": "display_data"
                }
            ],
            "source": [
                "isapprox(sin(2π / 3), √3 / 2; atol = 1e-8)"
            ]
        },
        {
            "cell_type": "markdown",
            "metadata": {},
            "source": [
                "**Atenção**\n",
                "\n",
                "O uso praticamente universal de ponto flutuante em computação é uma razão pela qual **algoritmos de otimização** (também conhecidos como \"_solvers_\") têm **tolerâncias** para resolver problemas de otimização.\n",
                "Um erro comum que é verificar se uma variável binária é igual a 0 usando `value(z) == 0`.\n",
                "Lembre-se de usar algo como `isapprox` ao comparar números de ponto flutuante."
            ]
        },
        {
            "cell_type": "markdown",
            "metadata": {},
            "source": [
                "Observe que `isapprox` sempre retornará `false` se um dos números sendo\n",
                "comparados for `0` e `atol` for zero (seu valor padrão)."
            ]
        },
        {
            "cell_type": "code",
            "execution_count": 13,
            "metadata": {},
            "outputs": [
                {
                    "data": {
                        "text/plain": [
                            "false"
                        ]
                    },
                    "metadata": {},
                    "output_type": "display_data"
                }
            ],
            "source": [
                "1e-300 ≈ 0.0"
            ]
        },
        {
            "cell_type": "markdown",
            "metadata": {},
            "source": [
                "Portanto, sempre defina um valor não nulo para `atol` se um dos argumentos puder ser zero."
            ]
        },
        {
            "cell_type": "code",
            "execution_count": 14,
            "metadata": {},
            "outputs": [
                {
                    "data": {
                        "text/plain": [
                            "true"
                        ]
                    },
                    "metadata": {},
                    "output_type": "display_data"
                }
            ],
            "source": [
                "isapprox(1e-9, 0.0; atol = 1e-8)"
            ]
        },
        {
            "cell_type": "markdown",
            "metadata": {},
            "source": [
                "**Dica**\n",
                "    Se você quiser ler mais sobre este tema, o Gurobi tem uma\n",
                "    [série de artigos](https://www.gurobi.com/documentation/9.0/refman/num_grb_guidelines_for_num.html)\n",
                "    discutindo as implicações do uso de ponto flutuante em otimização."
            ]
        },
        {
            "cell_type": "markdown",
            "metadata": {},
            "source": [
                "Se você não tiver cuidado, a aritmética de ponto flutuante pode causar uma série de problemas, por exemplo"
            ]
        },
        {
            "cell_type": "code",
            "execution_count": 15,
            "metadata": {},
            "outputs": [
                {
                    "data": {
                        "text/plain": [
                            "true"
                        ]
                    },
                    "metadata": {},
                    "output_type": "display_data"
                }
            ],
            "source": [
                "1 + 1e-16 == 1"
            ]
        },
        {
            "cell_type": "markdown",
            "metadata": {},
            "source": [
                "Surpreendentemente, os números de ponto flutuante não são associativos:"
            ]
        },
        {
            "cell_type": "code",
            "execution_count": 16,
            "metadata": {},
            "outputs": [
                {
                    "data": {
                        "text/plain": [
                            "false"
                        ]
                    },
                    "metadata": {},
                    "output_type": "display_data"
                }
            ],
            "source": [
                "(1 + 1e-16) - 1e-16 == 1 + (1e-16 - 1e-16)"
            ]
        },
        {
            "cell_type": "markdown",
            "metadata": {},
            "source": [
                "É importante observar que esse problema não é específico do Julia. Isso ocorre em\n",
                "todas as linguagens de programação (experimente em Python, por exemplo)."
            ]
        },
        {
            "cell_type": "markdown",
            "metadata": {},
            "source": [
                "## Vetores, matrizes e arrays"
            ]
        },
        {
            "cell_type": "markdown",
            "metadata": {},
            "source": [
                "Como em MATLAB, Julia tem suporte nativo para vetores, matrizes e tensores;\n",
                "todos são representados por `arrays` de diferentes dimensões.\n",
                "Vetores são construídos por elementos separados por vírgulas entre colchetes:"
            ]
        },
        {
            "cell_type": "code",
            "execution_count": 17,
            "metadata": {},
            "outputs": [
                {
                    "data": {
                        "text/plain": [
                            "2-element Vector{Int64}:\n",
                            " 5\n",
                            " 6"
                        ]
                    },
                    "metadata": {},
                    "output_type": "display_data"
                }
            ],
            "source": [
                "b = [5, 6]"
            ]
        },
        {
            "cell_type": "markdown",
            "metadata": {},
            "source": [
                "Vetores podem ser acessados por índices, que começam em 1:"
            ]
        },
        {
            "cell_type": "code",
            "execution_count": 18,
            "metadata": {},
            "outputs": [
                {
                    "data": {
                        "text/plain": [
                            "5"
                        ]
                    },
                    "metadata": {},
                    "output_type": "display_data"
                }
            ],
            "source": [
                "b[1]"
            ]
        },
        {
            "cell_type": "markdown",
            "metadata": {},
            "source": [
                "Também podemos acessar \"do fim\" usando a sintaxe `end`:"
            ]
        },
        {
            "cell_type": "code",
            "execution_count": 19,
            "metadata": {},
            "outputs": [
                {
                    "data": {
                        "text/plain": [
                            "5"
                        ]
                    },
                    "metadata": {},
                    "output_type": "display_data"
                }
            ],
            "source": [
                "b[end-1]"
            ]
        },
        {
            "cell_type": "markdown",
            "metadata": {},
            "source": [
                "Matrizes podem ser construídas com espaços separando as colunas e ponto e vírgula\n",
                "separando as linhas:"
            ]
        },
        {
            "cell_type": "code",
            "execution_count": 20,
            "metadata": {},
            "outputs": [
                {
                    "data": {
                        "text/plain": [
                            "2×2 Matrix{Float64}:\n",
                            " 1.0  2.0\n",
                            " 3.0  4.0"
                        ]
                    },
                    "metadata": {},
                    "output_type": "display_data"
                }
            ],
            "source": [
                "A = [1.0 2.0; 3.0 4.0]"
            ]
        },
        {
            "cell_type": "markdown",
            "metadata": {},
            "source": [
                "Temos álgebra linear básica: por exemplo, podemos calcular a solução do sistema $Ax = b$ usando"
            ]
        },
        {
            "cell_type": "code",
            "execution_count": 21,
            "metadata": {},
            "outputs": [
                {
                    "data": {
                        "text/plain": [
                            "2-element Vector{Float64}:\n",
                            " -3.9999999999999987\n",
                            "  4.499999999999999"
                        ]
                    },
                    "metadata": {},
                    "output_type": "display_data"
                }
            ],
            "source": [
                "x = A \\ b"
            ]
        },
        {
            "cell_type": "markdown",
            "metadata": {},
            "source": [
                "**Info**\n",
                "    Aqui novamente vemos o efeito de pontos flutuantes: `x` é aproximadamente `[-4, 4.5]`."
            ]
        },
        {
            "cell_type": "code",
            "execution_count": 22,
            "metadata": {},
            "outputs": [
                {
                    "data": {
                        "text/plain": [
                            "2-element Vector{Float64}:\n",
                            " 5.0\n",
                            " 6.0"
                        ]
                    },
                    "metadata": {},
                    "output_type": "display_data"
                }
            ],
            "source": [
                "A * x"
            ]
        },
        {
            "cell_type": "code",
            "execution_count": 23,
            "metadata": {},
            "outputs": [
                {
                    "data": {
                        "text/plain": [
                            "true"
                        ]
                    },
                    "metadata": {},
                    "output_type": "display_data"
                }
            ],
            "source": [
                "A * x ≈ b"
            ]
        },
        {
            "cell_type": "markdown",
            "metadata": {},
            "source": [
                "Observe que, ao multiplicar vetores e matrizes, as dimensões importam. Por\n",
                "exemplo, você não pode multiplicar um vetor por outro:"
            ]
        },
        {
            "cell_type": "code",
            "execution_count": 24,
            "metadata": {},
            "outputs": [
                {
                    "name": "stderr",
                    "output_type": "stream",
                    "text": [
                        "MethodError: no method matching *(::Vector{Int64}, ::Vector{Int64})\n",
                        "\n",
                        "\u001b[0mClosest candidates are:\n",
                        "\u001b[0m  *(::Any, ::Any, \u001b[91m::Any\u001b[39m, \u001b[91m::Any...\u001b[39m)\n",
                        "\u001b[0m\u001b[90m   @\u001b[39m \u001b[90mBase\u001b[39m \u001b[90m\u001b[4moperators.jl:587\u001b[24m\u001b[39m\n",
                        "\u001b[0m  *(\u001b[91m::LinearAlgebra.AbstractQ\u001b[39m, ::AbstractVector)\n",
                        "\u001b[0m\u001b[90m   @\u001b[39m \u001b[35mLinearAlgebra\u001b[39m \u001b[90mC:\\Users\\bernardo.paulo\\AppData\\Local\\Programs\\Julia-1.10.5\\share\\julia\\stdlib\\v1.10\\LinearAlgebra\\src\\\u001b[39m\u001b[90m\u001b[4mabstractq.jl:172\u001b[24m\u001b[39m\n",
                        "\u001b[0m  *(\u001b[91m::LinearAlgebra.AbstractRotation\u001b[39m, ::AbstractVector)\n",
                        "\u001b[0m\u001b[90m   @\u001b[39m \u001b[35mLinearAlgebra\u001b[39m \u001b[90mC:\\Users\\bernardo.paulo\\AppData\\Local\\Programs\\Julia-1.10.5\\share\\julia\\stdlib\\v1.10\\LinearAlgebra\\src\\\u001b[39m\u001b[90m\u001b[4mgivens.jl:12\u001b[24m\u001b[39m\n",
                        "\u001b[0m  ...\n"
                    ]
                }
            ],
            "source": [
                "try\n",
                "    b * b\n",
                "catch err\n",
                "    showerror(stderr, err)\n",
                "end"
            ]
        },
        {
            "cell_type": "markdown",
            "metadata": {},
            "source": [
                "Já a multiplicação pelo vetor transposto funciona (e o resultado e significado depende da ordem, como esperado):"
            ]
        },
        {
            "cell_type": "code",
            "execution_count": 25,
            "metadata": {},
            "outputs": [
                {
                    "data": {
                        "text/plain": [
                            "61"
                        ]
                    },
                    "metadata": {},
                    "output_type": "display_data"
                }
            ],
            "source": [
                "b' * b"
            ]
        },
        {
            "cell_type": "code",
            "execution_count": 26,
            "metadata": {},
            "outputs": [
                {
                    "data": {
                        "text/plain": [
                            "2×2 Matrix{Int64}:\n",
                            " 25  30\n",
                            " 30  36"
                        ]
                    },
                    "metadata": {},
                    "output_type": "display_data"
                }
            ],
            "source": [
                "b * b'"
            ]
        },
        {
            "cell_type": "markdown",
            "metadata": {},
            "source": [
                "## Outros tipos comuns"
            ]
        },
        {
            "cell_type": "markdown",
            "metadata": {},
            "source": [
                "### Comentários"
            ]
        },
        {
            "cell_type": "markdown",
            "metadata": {},
            "source": [
                "Embora tecnicamente não seja um tipo, comentários de código começam com o caractere `#`:"
            ]
        },
        {
            "cell_type": "code",
            "execution_count": 27,
            "metadata": {},
            "outputs": [
                {
                    "data": {
                        "text/plain": [
                            "2"
                        ]
                    },
                    "metadata": {},
                    "output_type": "display_data"
                }
            ],
            "source": [
                "1 + 1  # Este é um comentário"
            ]
        },
        {
            "cell_type": "markdown",
            "metadata": {},
            "source": [
                "Comentários de várias linhas começam com `#=` e terminam com `=#`:\n",
                "```julia\n",
                "#=\n",
                "Um comentário\n",
                "de várias linhas\n",
                "=#\n",
                "```"
            ]
        },
        {
            "cell_type": "markdown",
            "metadata": {},
            "source": [
                "Comentários podem até ser aninhados dentro de expressões. Isso é às vezes útil ao\n",
                "documentar entradas de funções:"
            ]
        },
        {
            "cell_type": "code",
            "execution_count": 28,
            "metadata": {},
            "outputs": [
                {
                    "data": {
                        "text/plain": [
                            "true"
                        ]
                    },
                    "metadata": {},
                    "output_type": "display_data"
                }
            ],
            "source": [
                "isapprox(\n",
                "    sin(π),\n",
                "    0.0;\n",
                "    #= Precisamos de um atol explícito porque estamos comparando com 0 =#\n",
                "    atol = 0.001,\n",
                ")"
            ]
        },
        {
            "cell_type": "markdown",
            "metadata": {},
            "source": [
                "### Strings"
            ]
        },
        {
            "cell_type": "markdown",
            "metadata": {},
            "source": [
                "Strings são delimitadas por aspas duplas:"
            ]
        },
        {
            "cell_type": "code",
            "execution_count": 29,
            "metadata": {},
            "outputs": [
                {
                    "data": {
                        "text/plain": [
                            "String"
                        ]
                    },
                    "metadata": {},
                    "output_type": "display_data"
                }
            ],
            "source": [
                "typeof(\"Isso é Julia\")"
            ]
        },
        {
            "cell_type": "markdown",
            "metadata": {},
            "source": [
                "Unicode é permitido em strings:"
            ]
        },
        {
            "cell_type": "code",
            "execution_count": 30,
            "metadata": {},
            "outputs": [
                {
                    "data": {
                        "text/plain": [
                            "String"
                        ]
                    },
                    "metadata": {},
                    "output_type": "display_data"
                }
            ],
            "source": [
                "typeof(\"π é aproximadamente 3.1415\")"
            ]
        },
        {
            "cell_type": "markdown",
            "metadata": {},
            "source": [
                "Use `println` para imprimir uma string:"
            ]
        },
        {
            "cell_type": "code",
            "execution_count": 31,
            "metadata": {},
            "outputs": [
                {
                    "name": "stdout",
                    "output_type": "stream",
                    "text": [
                        "1\n",
                        "0.6666666666666666\n"
                    ]
                }
            ],
            "source": [
                "println(1)\n",
                "println(2/3)"
            ]
        },
        {
            "cell_type": "code",
            "execution_count": 32,
            "metadata": {},
            "outputs": [
                {
                    "name": "stdout",
                    "output_type": "stream",
                    "text": [
                        "Olá, Mundo!\n"
                    ]
                }
            ],
            "source": [
                "println(\"Olá, Mundo!\")"
            ]
        },
        {
            "cell_type": "markdown",
            "metadata": {},
            "source": [
                "Use `$()` para **interpolar** valores em uma string:"
            ]
        },
        {
            "cell_type": "code",
            "execution_count": 33,
            "metadata": {},
            "outputs": [
                {
                    "name": "stdout",
                    "output_type": "stream",
                    "text": [
                        "O valor de x é: 123\n"
                    ]
                }
            ],
            "source": [
                "x = 123\n",
                "println(\"O valor de x é: $(x)\")"
            ]
        },
        {
            "cell_type": "markdown",
            "metadata": {},
            "source": [
                "Use três aspas (como em Python) para criar strings de várias linhas:"
            ]
        },
        {
            "cell_type": "code",
            "execution_count": 34,
            "metadata": {},
            "outputs": [
                {
                    "name": "stdout",
                    "output_type": "stream",
                    "text": [
                        "Uma string\n",
                        "com\n",
                        "quatro(!) linhas\n",
                        "\n"
                    ]
                }
            ],
            "source": [
                "s = \"\"\"\n",
                "Uma string\n",
                "com\n",
                "quatro(!) linhas\n",
                "\"\"\"\n",
                "\n",
                "println(s)"
            ]
        },
        {
            "cell_type": "code",
            "execution_count": 35,
            "metadata": {},
            "outputs": [
                {
                    "name": "stdout",
                    "output_type": "stream",
                    "text": [
                        "\"Uma string\\ncom\\nquatro(!) linhas\\n\""
                    ]
                }
            ],
            "source": [
                "# Vejamos exatamente onde está a quarta linha\n",
                "# A função `show`, às vezes, dá mais detalhes do que `print`\n",
                "show(s)"
            ]
        },
        {
            "cell_type": "markdown",
            "metadata": {},
            "source": [
                "### Símbolos"
            ]
        },
        {
            "cell_type": "markdown",
            "metadata": {},
            "source": [
                "Os `Symbol`s do Julia são uma estrutura de dados do compilador que representam identificadores Julia (ou seja, nomes de variáveis).\n",
                "A biblioteca `JuMP`, que permite construir problemas de otimização, usa `Symbol`s para representar variáveis e restrições.\n",
                "\n",
                "Podemos usar `:` para construir um `Symbol`:"
            ]
        },
        {
            "cell_type": "code",
            "execution_count": 36,
            "metadata": {},
            "outputs": [
                {
                    "data": {
                        "text/plain": [
                            "Symbol"
                        ]
                    },
                    "metadata": {},
                    "output_type": "display_data"
                }
            ],
            "source": [
                "typeof(:x)"
            ]
        },
        {
            "cell_type": "markdown",
            "metadata": {},
            "source": [
                "Você pode pensar em um `Symbol` como uma `String` que ocupa menos memória e que não\n",
                "pode ser modificada."
            ]
        },
        {
            "cell_type": "code",
            "execution_count": 37,
            "metadata": {},
            "outputs": [
                {
                    "name": "stdout",
                    "output_type": "stream",
                    "text": [
                        "O valor de x é: 123\n"
                    ]
                }
            ],
            "source": [
                "println(\"O valor de x é: $(eval(:x))\")"
            ]
        },
        {
            "cell_type": "markdown",
            "metadata": {},
            "source": [
                "**Aviso**\n",
                "    Usamos `eval` aqui apenas para demonstrar como Julia vincula `Symbol`s a variáveis.\n",
                "    No entanto, evite chamar `eval` em seu código. Geralmente, é um sinal de que seu\n",
                "    código está fazendo algo que poderia ser mais facilmente alcançado de uma maneira diferente.\n",
                "    O [Fórum do JuMP](https://jump.dev/forum) é um bom lugar para pedir conselhos sobre\n",
                "    abordagens alternativas."
            ]
        },
        {
            "cell_type": "markdown",
            "metadata": {},
            "source": [
                "É fácil converter entre `String` e `Symbol`:"
            ]
        },
        {
            "cell_type": "code",
            "execution_count": 38,
            "metadata": {},
            "outputs": [
                {
                    "data": {
                        "text/plain": [
                            ":abc"
                        ]
                    },
                    "metadata": {},
                    "output_type": "display_data"
                }
            ],
            "source": [
                "String(:abc)\n",
                "Symbol(\"abc\")"
            ]
        },
        {
            "cell_type": "markdown",
            "metadata": {},
            "source": [
                "**Dica**\n",
                "    `Symbol`s são frequentemente (ab)usados para representar uma `String` ou um `Enum`,\n",
                "    mas estes dois são, em geral, uma melhor escolha.\n",
                "    O guia de estilo JuMP recomenda reservar `Symbol`s para identificadores.\n",
                "    Veja [@enum vs. Symbol](https://jump.dev/JuMP.jl/stable/developers/style/#@enum-vs.-Symbol)\n",
                "    para mais informações."
            ]
        },
        {
            "cell_type": "markdown",
            "metadata": {},
            "source": [
                "### Tuplas"
            ]
        },
        {
            "cell_type": "markdown",
            "metadata": {},
            "source": [
                "Julia usa muito uma estrutura de dados simples chamada **Tuplas**.\n",
                "Tuplas são coleções **imutáveis** de valores.\n",
                "Por exemplo:"
            ]
        },
        {
            "cell_type": "code",
            "execution_count": 39,
            "metadata": {},
            "outputs": [
                {
                    "data": {
                        "text/plain": [
                            "Tuple{String, Float64, Symbol}"
                        ]
                    },
                    "metadata": {},
                    "output_type": "display_data"
                }
            ],
            "source": [
                "t = (\"hello\", 1.2, :foo)\n",
                "typeof(t)"
            ]
        },
        {
            "cell_type": "markdown",
            "metadata": {},
            "source": [
                "Tuplas podem ser acessadas por índice, como vetores:"
            ]
        },
        {
            "cell_type": "code",
            "execution_count": 40,
            "metadata": {},
            "outputs": [
                {
                    "data": {
                        "text/plain": [
                            "1.2"
                        ]
                    },
                    "metadata": {},
                    "output_type": "display_data"
                }
            ],
            "source": [
                "t[2]"
            ]
        },
        {
            "cell_type": "code",
            "execution_count": 41,
            "metadata": {},
            "outputs": [
                {
                    "data": {
                        "text/plain": [
                            ":foo"
                        ]
                    },
                    "metadata": {},
                    "output_type": "display_data"
                }
            ],
            "source": [
                "t[end]"
            ]
        },
        {
            "cell_type": "markdown",
            "metadata": {},
            "source": [
                "E podem ser \"desempacotadas\" também:"
            ]
        },
        {
            "cell_type": "code",
            "execution_count": 42,
            "metadata": {},
            "outputs": [
                {
                    "data": {
                        "text/plain": [
                            "1.2"
                        ]
                    },
                    "metadata": {},
                    "output_type": "display_data"
                }
            ],
            "source": [
                "a, b, c = t\n",
                "b"
            ]
        },
        {
            "cell_type": "markdown",
            "metadata": {},
            "source": [
                "Tuplas são parecidas com Vetores, mas como são imutáveis, elas podem ter elementos de tipos diferentes, e cada posição tem o seu tipo.\n",
                "Ao contrário, se criássemos um Vetor com os elementos da tupla, ele teria o tipo `Vector{Any}`:"
            ]
        },
        {
            "cell_type": "code",
            "execution_count": 43,
            "metadata": {},
            "outputs": [
                {
                    "data": {
                        "text/plain": [
                            "Vector{Any}\u001b[90m (alias for \u001b[39m\u001b[90mArray{Any, 1}\u001b[39m\u001b[90m)\u001b[39m"
                        ]
                    },
                    "metadata": {},
                    "output_type": "display_data"
                }
            ],
            "source": [
                "v = [\"hello\", 1.2, :foo]\n",
                "typeof(v)"
            ]
        },
        {
            "cell_type": "markdown",
            "metadata": {},
            "source": [
                "Os valores também podem receber nomes, o que é uma maneira conveniente de criar\n",
                "estruturas de dados leves.\n",
                "Isto cria uma `NamedTuple`"
            ]
        },
        {
            "cell_type": "code",
            "execution_count": 44,
            "metadata": {},
            "outputs": [
                {
                    "data": {
                        "text/plain": [
                            "(word = \"hello\", num = 1.2, sym = :foo)"
                        ]
                    },
                    "metadata": {},
                    "output_type": "display_data"
                }
            ],
            "source": [
                "t = (word = \"hello\", num = 1.2, sym = :foo)"
            ]
        },
        {
            "cell_type": "markdown",
            "metadata": {},
            "source": [
                "Os valores podem ser acessados como se fossem \"campos\", usando um ponto:"
            ]
        },
        {
            "cell_type": "code",
            "execution_count": 45,
            "metadata": {},
            "outputs": [
                {
                    "data": {
                        "text/plain": [
                            "\"hello\""
                        ]
                    },
                    "metadata": {},
                    "output_type": "display_data"
                }
            ],
            "source": [
                "t.word"
            ]
        },
        {
            "cell_type": "markdown",
            "metadata": {},
            "source": [
                "## Dicionários"
            ]
        },
        {
            "cell_type": "markdown",
            "metadata": {},
            "source": [
                "Semelhante ao Python, Julia tem suporte nativo para dicionários.\n",
                "Dicionários são uma maneira genérica de mapear chaves para valores.\n",
                "Por exemplo, um mapa de números inteiros para strings:"
            ]
        },
        {
            "cell_type": "code",
            "execution_count": 46,
            "metadata": {},
            "outputs": [
                {
                    "data": {
                        "text/plain": [
                            "Dict{Int64, String} with 3 entries:\n",
                            "  4 => \"D\"\n",
                            "  2 => \"B\"\n",
                            "  1 => \"A\""
                        ]
                    },
                    "metadata": {},
                    "output_type": "display_data"
                }
            ],
            "source": [
                "d1 = Dict(1 => \"A\", 2 => \"B\", 4 => \"D\")"
            ]
        },
        {
            "cell_type": "markdown",
            "metadata": {},
            "source": [
                "**Info**\n",
                "    Mais tipos!\n",
                "    `Dict{Int64,String}` é um dicionário com chaves `Int64` e valores `String`."
            ]
        },
        {
            "cell_type": "markdown",
            "metadata": {},
            "source": [
                "Acessamos um valor usando a chave dentro de colchetes:"
            ]
        },
        {
            "cell_type": "code",
            "execution_count": 47,
            "metadata": {},
            "outputs": [
                {
                    "data": {
                        "text/plain": [
                            "\"B\""
                        ]
                    },
                    "metadata": {},
                    "output_type": "display_data"
                }
            ],
            "source": [
                "d1[2]"
            ]
        },
        {
            "cell_type": "markdown",
            "metadata": {},
            "source": [
                "Dicionários podem usar chaves de vários tipos, inclusive misturando tipos de dados:"
            ]
        },
        {
            "cell_type": "code",
            "execution_count": 48,
            "metadata": {},
            "outputs": [
                {
                    "data": {
                        "text/plain": [
                            "Dict{String, Number} with 3 entries:\n",
                            "  \"B\" => 2.5\n",
                            "  \"A\" => 1\n",
                            "  \"D\" => 2-3im"
                        ]
                    },
                    "metadata": {},
                    "output_type": "display_data"
                }
            ],
            "source": [
                "Dict(\"A\" => 1, \"B\" => 2.5, \"D\" => 2 - 3im)"
            ]
        },
        {
            "cell_type": "markdown",
            "metadata": {},
            "source": [
                "**Info**\n",
                "    Os tipos em Julia formam uma hierarquia. Aqui, o tipo de valor do dicionário é\n",
                "    `Number`, que é uma generalização de `Int64`, `Float64` e\n",
                "    `Complex{Int}`. Os nós folha nesta hierarquia são chamados de tipos \"concretos\",\n",
                "    e todos os outros são chamados de \"Abstratos\". Em geral, ter variáveis com\n",
                "    tipos abstratos como `Number` pode levar a código mais lento, então você deve tentar\n",
                "    garantir que cada elemento em um dicionário ou vetor seja do mesmo tipo. Por exemplo,\n",
                "    neste caso, poderíamos representar cada elemento como um\n",
                "    `Complex{Float64}`:"
            ]
        },
        {
            "cell_type": "code",
            "execution_count": 49,
            "metadata": {},
            "outputs": [
                {
                    "data": {
                        "text/plain": [
                            "Dict{String, ComplexF64} with 3 entries:\n",
                            "  \"B\" => 2.5+0.0im\n",
                            "  \"A\" => 1.0+0.0im\n",
                            "  \"D\" => 2.0-3.0im"
                        ]
                    },
                    "metadata": {},
                    "output_type": "display_data"
                }
            ],
            "source": [
                "Dict(\"A\" => 1.0 + 0.0im, \"B\" => 2.5 + 0.0im, \"D\" => 2.0 - 3.0im)"
            ]
        },
        {
            "cell_type": "markdown",
            "metadata": {},
            "source": [
                "Dicionários podem ser aninhados:"
            ]
        },
        {
            "cell_type": "code",
            "execution_count": 50,
            "metadata": {},
            "outputs": [
                {
                    "data": {
                        "text/plain": [
                            "3"
                        ]
                    },
                    "metadata": {},
                    "output_type": "display_data"
                }
            ],
            "source": [
                "d2 = Dict(\"A\" => 1, \"B\" => 2, \"D\" => Dict(:foo => 3, :bar => 4))\n",
                "d2[\"B\"]\n",
                "d2[\"D\"][:foo]"
            ]
        },
        {
            "cell_type": "markdown",
            "metadata": {},
            "source": [
                "## Estruturas"
            ]
        },
        {
            "cell_type": "markdown",
            "metadata": {},
            "source": [
                "Você pode definir estruturas de dados personalizadas com `struct`:"
            ]
        },
        {
            "cell_type": "code",
            "execution_count": 51,
            "metadata": {},
            "outputs": [],
            "source": [
                "struct MinhaStruct\n",
                "    x::Int\n",
                "    y::String\n",
                "    z::Dict{Int,Int}\n",
                "end"
            ]
        },
        {
            "cell_type": "markdown",
            "metadata": {},
            "source": [
                "Podemos construir uma instância da estrutura usando o nome da estrutura como uma função,\n",
                "e passando os valores dos campos, em ordem.\n",
                "Os campos podem ser acessados usando um ponto:"
            ]
        },
        {
            "cell_type": "code",
            "execution_count": 52,
            "metadata": {},
            "outputs": [
                {
                    "data": {
                        "text/plain": [
                            "1"
                        ]
                    },
                    "metadata": {},
                    "output_type": "display_data"
                }
            ],
            "source": [
                "a = MinhaStruct(1, \"a\", Dict(2 => 3))\n",
                "a.x"
            ]
        },
        {
            "cell_type": "code",
            "execution_count": 53,
            "metadata": {},
            "outputs": [
                {
                    "data": {
                        "text/plain": [
                            "MinhaStruct"
                        ]
                    },
                    "metadata": {},
                    "output_type": "display_data"
                }
            ],
            "source": [
                "typeof(a)"
            ]
        },
        {
            "cell_type": "markdown",
            "metadata": {},
            "source": [
                "Por default, essas estruturas não são mutáveis, ou seja, os campos não podem ser alterados:"
            ]
        },
        {
            "cell_type": "code",
            "execution_count": 54,
            "metadata": {},
            "outputs": [
                {
                    "name": "stderr",
                    "output_type": "stream",
                    "text": [
                        "setfield!: immutable struct of type MinhaStruct cannot be changed"
                    ]
                }
            ],
            "source": [
                "try\n",
                "    a.x = 2\n",
                "catch err\n",
                "    showerror(stderr, err)\n",
                "end"
            ]
        },
        {
            "cell_type": "markdown",
            "metadata": {},
            "source": [
                "No entanto, você pode declarar uma `mutable struct` que é mutável:"
            ]
        },
        {
            "cell_type": "code",
            "execution_count": 55,
            "metadata": {},
            "outputs": [
                {
                    "data": {
                        "text/plain": [
                            "MinhaStructMutavel(2, \"a\", Dict(2 => 3))"
                        ]
                    },
                    "metadata": {},
                    "output_type": "display_data"
                }
            ],
            "source": [
                "mutable struct MinhaStructMutavel\n",
                "    x::Int\n",
                "    y::String\n",
                "    z::Dict{Int,Int}\n",
                "end\n",
                "\n",
                "a = MinhaStructMutavel(1, \"a\", Dict(2 => 3))\n",
                "a.x\n",
                "a.x = 2\n",
                "a"
            ]
        },
        {
            "cell_type": "markdown",
            "metadata": {},
            "source": [
                "## Repetição"
            ]
        },
        {
            "cell_type": "markdown",
            "metadata": {},
            "source": [
                "Julia tem suporte nativo para iteração no estilo _for-each_ com a sintaxe\n",
                "`for <valor> in <coleção> end`:"
            ]
        },
        {
            "cell_type": "code",
            "execution_count": 56,
            "metadata": {},
            "outputs": [
                {
                    "name": "stdout",
                    "output_type": "stream",
                    "text": [
                        "1\n",
                        "2\n",
                        "3\n",
                        "4\n",
                        "5\n"
                    ]
                }
            ],
            "source": [
                "for i in 1:5\n",
                "    println(i)\n",
                "end"
            ]
        },
        {
            "cell_type": "markdown",
            "metadata": {},
            "source": [
                "**Info**\n",
                "    Os intervalos são construídos como `início:fim` ou `início:passo:fim`."
            ]
        },
        {
            "cell_type": "code",
            "execution_count": 57,
            "metadata": {},
            "outputs": [
                {
                    "name": "stdout",
                    "output_type": "stream",
                    "text": [
                        "1.2\n",
                        "2.3\n",
                        "3.4\n",
                        "4.5\n",
                        "5.6\n"
                    ]
                }
            ],
            "source": [
                "for i in 1.2:1.1:5.8\n",
                "    println(i)\n",
                "end"
            ]
        },
        {
            "cell_type": "markdown",
            "metadata": {},
            "source": [
                "Isto também funciona com dicionários:"
            ]
        },
        {
            "cell_type": "code",
            "execution_count": 58,
            "metadata": {},
            "outputs": [
                {
                    "name": "stdout",
                    "output_type": "stream",
                    "text": [
                        "B: 2.5\n",
                        "A: 1\n",
                        "D: 2 - 3im\n"
                    ]
                }
            ],
            "source": [
                "for (chave, valor) in Dict(\"A\" => 1, \"B\" => 2.5, \"D\" => 2 - 3im)\n",
                "    println(\"$(chave): $(valor)\")\n",
                "end"
            ]
        },
        {
            "cell_type": "markdown",
            "metadata": {},
            "source": [
                "Observe que, ao contrário de linguagens baseadas em vetores como MATLAB e R, loops não\n",
                "resultam necessariamente em uma degradação significativa de desempenho em Julia."
            ]
        },
        {
            "cell_type": "markdown",
            "metadata": {},
            "source": [
                "## Controle de Fluxo"
            ]
        },
        {
            "cell_type": "markdown",
            "metadata": {},
            "source": [
                "O controle de fluxo de execução em Julia é semelhante ao MATLAB,\n",
                "usando as palavras-chave `if-elseif-else-end`\n",
                "e os operadores lógicos `||` e `&&` para **ou** e **e**, respectivamente:"
            ]
        },
        {
            "cell_type": "code",
            "execution_count": 59,
            "metadata": {},
            "outputs": [
                {
                    "name": "stdout",
                    "output_type": "stream",
                    "text": [
                        "0 é menor que 5\n",
                        "5 é menor que 10\n",
                        "o valor é 10\n",
                        "15 é maior que 10\n"
                    ]
                }
            ],
            "source": [
                "for i in 0:5:15\n",
                "    if i < 5\n",
                "        println(\"$(i) é menor que 5\")\n",
                "    elseif i < 10\n",
                "        println(\"$(i) é menor que 10\")\n",
                "    else\n",
                "        if i == 10\n",
                "            println(\"o valor é 10\")\n",
                "        else\n",
                "            println(\"$(i) é maior que 10\")\n",
                "        end\n",
                "    end\n",
                "end"
            ]
        },
        {
            "cell_type": "markdown",
            "metadata": {},
            "source": [
                "## Compreensões"
            ]
        },
        {
            "cell_type": "markdown",
            "metadata": {},
            "source": [
                "Similar a linguagens como Haskell e Python,\n",
                "Julia suporta o uso de iteradores simples na construção de arrays e dicionários, chamados de compreensões.\n",
                "\n",
                "Uma lista de inteiros:"
            ]
        },
        {
            "cell_type": "code",
            "execution_count": 60,
            "metadata": {},
            "outputs": [
                {
                    "data": {
                        "text/plain": [
                            "5-element Vector{Int64}:\n",
                            " 1\n",
                            " 2\n",
                            " 3\n",
                            " 4\n",
                            " 5"
                        ]
                    },
                    "metadata": {},
                    "output_type": "display_data"
                }
            ],
            "source": [
                "[i for i in 1:5]"
            ]
        },
        {
            "cell_type": "markdown",
            "metadata": {},
            "source": [
                "Matrizes podem ser construídas ao usar índices múltiplos:"
            ]
        },
        {
            "cell_type": "code",
            "execution_count": 61,
            "metadata": {},
            "outputs": [
                {
                    "data": {
                        "text/plain": [
                            "5×3 Matrix{Tuple{Int64, Int64}}:\n",
                            " (1, 1)  (1, 2)  (1, 3)\n",
                            " (2, 1)  (2, 2)  (2, 3)\n",
                            " (3, 1)  (3, 2)  (3, 3)\n",
                            " (4, 1)  (4, 2)  (4, 3)\n",
                            " (5, 1)  (5, 2)  (5, 3)"
                        ]
                    },
                    "metadata": {},
                    "output_type": "display_data"
                }
            ],
            "source": [
                "[(i, j) for i in 1:5, j in 1:3]"
            ]
        },
        {
            "cell_type": "code",
            "execution_count": 62,
            "metadata": {},
            "outputs": [
                {
                    "data": {
                        "text/plain": [
                            "5×6 Matrix{Int64}:\n",
                            "  5   6   7   8   9  10\n",
                            " 10  12  14  16  18  20\n",
                            " 15  18  21  24  27  30\n",
                            " 20  24  28  32  36  40\n",
                            " 25  30  35  40  45  50"
                        ]
                    },
                    "metadata": {},
                    "output_type": "display_data"
                }
            ],
            "source": [
                "[i * j for i in 1:5, j in 5:10]"
            ]
        },
        {
            "cell_type": "markdown",
            "metadata": {},
            "source": [
                "É possível filtrar os valores usando expressões condicionais:"
            ]
        },
        {
            "cell_type": "code",
            "execution_count": 63,
            "metadata": {},
            "outputs": [
                {
                    "data": {
                        "text/plain": [
                            "5-element Vector{Int64}:\n",
                            " 1\n",
                            " 3\n",
                            " 5\n",
                            " 7\n",
                            " 9"
                        ]
                    },
                    "metadata": {},
                    "output_type": "display_data"
                }
            ],
            "source": [
                "[i for i in 1:10 if i % 2 == 1]"
            ]
        },
        {
            "cell_type": "markdown",
            "metadata": {},
            "source": [
                "Uma sintaxe semelhante pode ser usada para construir dicionários:"
            ]
        },
        {
            "cell_type": "code",
            "execution_count": 64,
            "metadata": {},
            "outputs": [
                {
                    "data": {
                        "text/plain": [
                            "Dict{String, Int64} with 5 entries:\n",
                            "  \"1\" => 1\n",
                            "  \"5\" => 5\n",
                            "  \"7\" => 7\n",
                            "  \"9\" => 9\n",
                            "  \"3\" => 3"
                        ]
                    },
                    "metadata": {},
                    "output_type": "display_data"
                }
            ],
            "source": [
                "Dict(\"$(i)\" => i for i in 1:10 if i % 2 == 1)"
            ]
        },
        {
            "cell_type": "markdown",
            "metadata": {},
            "source": [
                "## Funções"
            ]
        },
        {
            "cell_type": "markdown",
            "metadata": {},
            "source": [
                "Uma função simples é definida usando `function` e `end`:"
            ]
        },
        {
            "cell_type": "code",
            "execution_count": 65,
            "metadata": {},
            "outputs": [
                {
                    "name": "stdout",
                    "output_type": "stream",
                    "text": [
                        "olá\n"
                    ]
                }
            ],
            "source": [
                "function print_hello()\n",
                "    return println(\"olá\")\n",
                "end\n",
                "print_hello()"
            ]
        },
        {
            "cell_type": "markdown",
            "metadata": {},
            "source": [
                "Uma função pode ter argumentos, declarados entre parênteses:"
            ]
        },
        {
            "cell_type": "code",
            "execution_count": 66,
            "metadata": {},
            "outputs": [
                {
                    "name": "stdout",
                    "output_type": "stream",
                    "text": [
                        "olá\n",
                        "1.234\n",
                        "meu_id\n"
                    ]
                }
            ],
            "source": [
                "function print_it(x)\n",
                "    return println(x)\n",
                "end\n",
                "print_it(\"olá\")\n",
                "print_it(1.234)\n",
                "print_it(:meu_id)"
            ]
        },
        {
            "cell_type": "markdown",
            "metadata": {},
            "source": [
                "Argumentos opcionais, identificados por um nome de variável, são separados por um `;` dos outros argumentos:"
            ]
        },
        {
            "cell_type": "code",
            "execution_count": 67,
            "metadata": {},
            "outputs": [
                {
                    "name": "stdout",
                    "output_type": "stream",
                    "text": [
                        "valor: 1.234\n",
                        "val: 1.234\n"
                    ]
                }
            ],
            "source": [
                "function print_it(x; prefixo = \"valor:\")\n",
                "    return println(\"$(prefixo) $(x)\")\n",
                "end\n",
                "print_it(1.234)\n",
                "print_it(1.234; prefixo = \"val:\")"
            ]
        },
        {
            "cell_type": "code",
            "execution_count": 68,
            "metadata": {},
            "outputs": [
                {
                    "name": "stdout",
                    "output_type": "stream",
                    "text": [
                        "hahaha 1.234\n"
                    ]
                }
            ],
            "source": [
                "print_it(1.234; prefixo = :hahaha)"
            ]
        },
        {
            "cell_type": "markdown",
            "metadata": {},
            "source": [
                "A palavra-chave `return` é usada para especificar os valores de retorno de uma função:"
            ]
        },
        {
            "cell_type": "code",
            "execution_count": 69,
            "metadata": {},
            "outputs": [
                {
                    "data": {
                        "text/plain": [
                            "20.0"
                        ]
                    },
                    "metadata": {},
                    "output_type": "display_data"
                }
            ],
            "source": [
                "function mult(x; y = 2.0)\n",
                "    return x * y\n",
                "end\n",
                "\n",
                "mult(4.0)\n",
                "mult(4.0; y = 5.0)"
            ]
        },
        {
            "cell_type": "markdown",
            "metadata": {},
            "source": [
                "### Funções anônimas"
            ]
        },
        {
            "cell_type": "markdown",
            "metadata": {},
            "source": [
                "A sintaxe `input -> output` cria uma função anônima. Essas são mais\n",
                "úteis quando passadas para outras funções. Por exemplo:"
            ]
        },
        {
            "cell_type": "code",
            "execution_count": 70,
            "metadata": {},
            "outputs": [
                {
                    "data": {
                        "text/plain": [
                            "4-element Vector{Int64}:\n",
                            "  1\n",
                            "  4\n",
                            "  9\n",
                            " 16"
                        ]
                    },
                    "metadata": {},
                    "output_type": "display_data"
                }
            ],
            "source": [
                "f = x -> x^2\n",
                "f(2)\n",
                "map(x -> x^2, 1:4)"
            ]
        },
        {
            "cell_type": "markdown",
            "metadata": {},
            "source": [
                "### Parâmetros de tipo"
            ]
        },
        {
            "cell_type": "markdown",
            "metadata": {},
            "source": [
                "Podemos restringir as entradas de uma função usando parâmetros de tipo, que são\n",
                "`::` seguido pelo tipo da entrada desejada. Por exemplo:"
            ]
        },
        {
            "cell_type": "code",
            "execution_count": 71,
            "metadata": {},
            "outputs": [
                {
                    "data": {
                        "text/plain": [
                            "2 + 1im"
                        ]
                    },
                    "metadata": {},
                    "output_type": "display_data"
                }
            ],
            "source": [
                "function foo(x::Int)\n",
                "    return x^2\n",
                "end\n",
                "\n",
                "function foo(x::Float64)\n",
                "    return exp(x)\n",
                "end\n",
                "\n",
                "function foo(x::Number)\n",
                "    return x + 1\n",
                "end\n",
                "\n",
                "foo(2)\n",
                "foo(2.0)\n",
                "foo(1 + 1im)"
            ]
        },
        {
            "cell_type": "markdown",
            "metadata": {},
            "source": [
                "Mas o que acontece se chamarmos `foo` com algo para o qual não o definimos?"
            ]
        },
        {
            "cell_type": "code",
            "execution_count": 72,
            "metadata": {},
            "outputs": [
                {
                    "name": "stderr",
                    "output_type": "stream",
                    "text": [
                        "MethodError: no method matching foo(::Vector{Int64})\n",
                        "\n",
                        "\u001b[0mClosest candidates are:\n",
                        "\u001b[0m  foo(\u001b[91m::Float64\u001b[39m)\n",
                        "\u001b[0m\u001b[90m   @\u001b[39m \u001b[32mMain\u001b[39m \u001b[90mc:\\Users\\bernardo.paulo\\OneDrive - FGV\\Cursos\\JuliaOpt\\notebooks\\\u001b[39m\u001b[90m\u001b[4mjl_notebook_cell_df34fa98e69747e1a8f8a730347b8e2f_Y351sZmlsZQ==.jl:5\u001b[24m\u001b[39m\n",
                        "\u001b[0m  foo(\u001b[91m::Int64\u001b[39m)\n",
                        "\u001b[0m\u001b[90m   @\u001b[39m \u001b[32mMain\u001b[39m \u001b[90mc:\\Users\\bernardo.paulo\\OneDrive - FGV\\Cursos\\JuliaOpt\\notebooks\\\u001b[39m\u001b[90m\u001b[4mjl_notebook_cell_df34fa98e69747e1a8f8a730347b8e2f_Y351sZmlsZQ==.jl:1\u001b[24m\u001b[39m\n",
                        "\u001b[0m  foo(\u001b[91m::Number\u001b[39m)\n",
                        "\u001b[0m\u001b[90m   @\u001b[39m \u001b[32mMain\u001b[39m \u001b[90mc:\\Users\\bernardo.paulo\\OneDrive - FGV\\Cursos\\JuliaOpt\\notebooks\\\u001b[39m\u001b[90m\u001b[4mjl_notebook_cell_df34fa98e69747e1a8f8a730347b8e2f_Y351sZmlsZQ==.jl:9\u001b[24m\u001b[39m\n"
                    ]
                }
            ],
            "source": [
                "try\n",
                "    foo([1, 2, 3])\n",
                "catch err\n",
                "    showerror(stderr, err)\n",
                "end"
            ]
        },
        {
            "cell_type": "markdown",
            "metadata": {},
            "source": [
                "Um `MethodError` significa que você passou para uma função\n",
                "um argumento que não corresponde ao tipo que ela estava esperando.\n",
                "Neste caso, a mensagem de erro diz que não sabe como lidar com um\n",
                "`Vector{Int64}`, mas sabe como lidar com `Float64`, `Int64` e\n",
                "`Number`.\n",
                "\n",
                "**Dica**\n",
                "    A parte \"Candidatos mais próximos\" da mensagem de erro pode dar uma\n",
                "    dica do que era esperado."
            ]
        },
        {
            "cell_type": "markdown",
            "metadata": {},
            "source": [
                "### _Broadcasting_"
            ]
        },
        {
            "cell_type": "markdown",
            "metadata": {},
            "source": [
                "No exemplo acima, não definimos o que fazer se `f` receber um `Vector`.\n",
                "Julia fornece uma sintaxe conveniente para aplicar `f` em cada elemento de um `array`:\n",
                "Basta adicionar um `.` entre o nome da função e o parêntese de abertura `(`.\n",
                "Isso funciona para _qualquer_ função, incluindo funções com múltiplos argumentos.\n",
                "Por exemplo:"
            ]
        },
        {
            "cell_type": "code",
            "execution_count": 73,
            "metadata": {},
            "outputs": [
                {
                    "data": {
                        "text/plain": [
                            "3-element Vector{Int64}:\n",
                            " 1\n",
                            " 4\n",
                            " 9"
                        ]
                    },
                    "metadata": {},
                    "output_type": "display_data"
                }
            ],
            "source": [
                "f.([1, 2, 3])"
            ]
        },
        {
            "cell_type": "markdown",
            "metadata": {},
            "source": [
                "**Dica**\n",
                "    Usar _broadcasting_ pode permitir chamar uma função com um argumento de tipo `Vector`, `Matrix` ou `Array`."
            ]
        },
        {
            "cell_type": "markdown",
            "metadata": {},
            "source": [
                "## Objetos mutáveis vs imutáveis"
            ]
        },
        {
            "cell_type": "markdown",
            "metadata": {},
            "source": [
                "Alguns tipos em Julia são *mutáveis*, o que significa que você pode alterar os valores\n",
                "dentro deles. Um bom exemplo é um array. Você pode modificar o conteúdo de um\n",
                "array sem precisar criar um novo array."
            ]
        },
        {
            "cell_type": "markdown",
            "metadata": {},
            "source": [
                "Em contraste, tipos como `Float64` são *imutáveis*. Você não pode modificar o\n",
                "conteúdo de um `Float64`."
            ]
        },
        {
            "cell_type": "markdown",
            "metadata": {},
            "source": [
                "Isso é algo a se ter em mente ao passar tipos para funções. Por exemplo:"
            ]
        },
        {
            "cell_type": "code",
            "execution_count": 74,
            "metadata": {},
            "outputs": [
                {
                    "name": "stdout",
                    "output_type": "stream",
                    "text": [
                        "[11, 2, 3]\n",
                        "11\n",
                        "tipo_mutavel: [11, 2, 3]\n",
                        "tipo_imutavel: 1\n"
                    ]
                }
            ],
            "source": [
                "function exemplo_mutabilidade(tipo_mutavel::Vector{Int}, tipo_imutavel::Int)\n",
                "    tipo_mutavel[1] += 10\n",
                "    tipo_imutavel   += 10\n",
                "    println(tipo_mutavel)\n",
                "    println(tipo_imutavel)\n",
                "    return\n",
                "end\n",
                "\n",
                "tipo_mutavel = [1, 2, 3]\n",
                "tipo_imutavel = 1\n",
                "\n",
                "exemplo_mutabilidade(tipo_mutavel, tipo_imutavel)\n",
                "\n",
                "println(\"tipo_mutavel: $(tipo_mutavel)\")\n",
                "println(\"tipo_imutavel: $(tipo_imutavel)\")"
            ]
        },
        {
            "cell_type": "markdown",
            "metadata": {},
            "source": [
                "Como `Vector{Int}` é um tipo mutável, modificar a variável dentro da\n",
                "função alterou o valor fora da função. Em contraste, a alteração\n",
                "em `tipo_imutavel` não modificou o valor fora da função."
            ]
        },
        {
            "cell_type": "markdown",
            "metadata": {},
            "source": [
                "Você pode verificar a mutabilidade com a função `isimmutable`:"
            ]
        },
        {
            "cell_type": "code",
            "execution_count": 75,
            "metadata": {},
            "outputs": [
                {
                    "data": {
                        "text/plain": [
                            "true"
                        ]
                    },
                    "metadata": {},
                    "output_type": "display_data"
                }
            ],
            "source": [
                "isimmutable([1, 2, 3])\n",
                "isimmutable(1)"
            ]
        },
        {
            "cell_type": "markdown",
            "metadata": {},
            "source": [
                "## `Pkg`, o gerenciador de pacotes"
            ]
        },
        {
            "cell_type": "markdown",
            "metadata": {},
            "source": [
                "### Instalando pacotes"
            ]
        },
        {
            "cell_type": "markdown",
            "metadata": {},
            "source": [
                "Não importa quão maravilhosa seja a linguagem Julia, em algum momento você vai querer usar um pacote.\n",
                "Alguns desses estão integrados, por exemplo, a geração de\n",
                "números aleatórios está disponível no pacote `Random` da biblioteca padrão.\n",
                "Esses pacotes são carregados com os comandos `using` e `import`."
            ]
        },
        {
            "cell_type": "code",
            "execution_count": 76,
            "metadata": {},
            "outputs": [
                {
                    "data": {
                        "text/plain": [
                            "10-element Vector{Float64}:\n",
                            " 0.4745319377345316\n",
                            " 0.9650392357070774\n",
                            " 0.8194019096093067\n",
                            " 0.9297749959069098\n",
                            " 0.3127122336048005\n",
                            " 0.9684448191382753\n",
                            " 0.9063743823581542\n",
                            " 0.8386731983150535\n",
                            " 0.5103924401614957\n",
                            " 0.9296414851080324"
                        ]
                    },
                    "metadata": {},
                    "output_type": "display_data"
                }
            ],
            "source": [
                "using Random  # Equivalente a `from Random import *` em python\n",
                "import Random  # Equivalente a `import Random` em python\n",
                "\n",
                "Random.seed!(33)\n",
                "\n",
                "[rand() for i in 1:10]"
            ]
        },
        {
            "cell_type": "markdown",
            "metadata": {},
            "source": [
                "O Gerenciador de Pacotes é usado para instalar pacotes que não fazem parte da\n",
                "biblioteca padrão da Julia."
            ]
        },
        {
            "cell_type": "markdown",
            "metadata": {},
            "source": [
                "Por exemplo, é assim que instalamos o pacote `JuMP`:\n",
                "```julia\n",
                "using Pkg\n",
                "Pkg.add(\"JuMP\")\n",
                "```"
            ]
        },
        {
            "cell_type": "markdown",
            "metadata": {},
            "source": [
                "O [JuliaHub](https://juliahub.com) tem uma lista completa dos pacotes Julia registrados."
            ]
        },
        {
            "cell_type": "markdown",
            "metadata": {},
            "source": [
                "De vez em quando, você pode desejar usar um pacote Julia que não está registrado. Nesse\n",
                "caso, uma URL do repositório git pode ser usada para instalar o pacote.\n",
                "```julia\n",
                "using Pkg\n",
                "Pkg.add(\"https://github.com/user-name/MyPackage.jl.git\")\n",
                "```"
            ]
        },
        {
            "cell_type": "markdown",
            "metadata": {},
            "source": [
                "### Ambientes de pacotes"
            ]
        },
        {
            "cell_type": "markdown",
            "metadata": {},
            "source": [
                "O comando `Pkg.add` adicionará pacotes ao ambiente \"corrente\" do Julia.\n",
                "No entanto, Julia também tem suporte integrado para ambientes virtuais (um pouco como `virtualenv` em python)."
            ]
        },
        {
            "cell_type": "markdown",
            "metadata": {},
            "source": [
                "Ative um ambiente virtual com:\n",
                "```julia\n",
                "import Pkg; Pkg.activate(\"/caminho/para/ambiente\")\n",
                "```"
            ]
        },
        {
            "cell_type": "markdown",
            "metadata": {},
            "source": [
                "Você pode ver quais pacotes estão instalados no ambiente atual com\n",
                "`Pkg.status()`."
            ]
        },
        {
            "cell_type": "markdown",
            "metadata": {},
            "source": [
                "**Dica**\n",
                "    Recomendamos _fortemente_ que você crie um ambiente Pkg para cada projeto\n",
                "    que criar em Julia, e adicione apenas os pacotes que precisa, em vez de adicionar\n",
                "    muitos pacotes ao ambiente global. A [documentação do gerenciador de pacotes](https://julialang.github.io/Pkg.jl/v1/environments/)\n",
                "    possui mais informações sobre esse tópico."
            ]
        }
    ],
    "metadata": {
        "kernelspec": {
            "display_name": "Julia 1.10.5",
            "language": "julia",
            "name": "julia-1.10"
        },
        "language_info": {
            "file_extension": ".jl",
            "mimetype": "application/julia",
            "name": "julia",
            "version": "1.10.5"
        }
    },
    "nbformat": 4,
    "nbformat_minor": 3
}
