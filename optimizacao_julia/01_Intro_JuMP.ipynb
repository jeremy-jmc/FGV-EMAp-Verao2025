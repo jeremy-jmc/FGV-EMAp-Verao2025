{
 "cells": [
  {
   "cell_type": "markdown",
   "metadata": {},
   "source": [
    "# O Problema da Mochila"
   ]
  },
  {
   "cell_type": "markdown",
   "metadata": {},
   "source": [
    "O objetivo deste tutorial é demonstrar como formular e resolver um\n",
    "problema de otimização simples em JuMP, introduzindo as notações para variáveis, restrições, objetivos."
   ]
  },
  {
   "cell_type": "markdown",
   "metadata": {},
   "source": [
    "## Pacotes necessários"
   ]
  },
  {
   "cell_type": "markdown",
   "metadata": {},
   "source": [
    "Este tutorial requer os seguintes pacotes:"
   ]
  },
  {
   "cell_type": "code",
   "execution_count": 1,
   "metadata": {},
   "outputs": [],
   "source": [
    "using JuMP\n",
    "import HiGHS"
   ]
  },
  {
   "cell_type": "markdown",
   "metadata": {},
   "source": [
    "## Formulação"
   ]
  },
  {
   "cell_type": "markdown",
   "metadata": {},
   "source": [
    "O [problema da mochila](https://en.wikipedia.org/wiki/Knapsack_problem)\n",
    "é um problema clássico de otimização: dado um conjunto de itens e uma mochila com\n",
    "uma capacidade fixa, temos que escolher um subconjunto de itens que caiba na mochila\n",
    "e que tenha o maior valor total possível."
   ]
  },
  {
   "cell_type": "markdown",
   "metadata": {},
   "source": [
    "O nome do problema sugere uma analogia com o ato de fazer as malas para uma viagem,\n",
    "onde o limite de peso da bagagem é a capacidade, e o objetivo é empacotar a melhor\n",
    "combinação de pertences."
   ]
  },
  {
   "cell_type": "markdown",
   "metadata": {},
   "source": [
    "Podemos formular o problema da mochila como um programa linear com variáveis inteiras:\n",
    "$$\n",
    "\\begin{aligned}\n",
    "\\max \\; & \\sum_{i=1}^n c_i x_i      \\\\\n",
    "\\text{s.a} \\; & \\sum_{i=1}^n w_i x_i \\le C, \\\\\n",
    "        & x_i \\in \\{0,1\\},\\quad \\forall i=1,\\ldots,n,\n",
    "\\end{aligned}\n",
    "$$\n",
    "onde $C$ é a capacidade, e há uma escolha entre $n$ itens, com\n",
    "o item $i$ tendo peso $w_i$ e lucro $c_i$.\n",
    "A variável de decisão $x_i$ é igual a 1 se o item for escolhido e 0 se não for."
   ]
  },
  {
   "cell_type": "markdown",
   "metadata": {},
   "source": [
    "Esta formulação pode ser escrita de forma mais compacta como:\n",
    "$$\n",
    "\\begin{aligned}\n",
    "\\max \\; & c^\\top x       \\\\\n",
    "\\text{s.a} \\; & w^\\top x \\le C \\\\\n",
    "        & x \\text{ binária }.\n",
    "\\end{aligned}\n",
    "$$"
   ]
  },
  {
   "cell_type": "markdown",
   "metadata": {},
   "source": [
    "## Dados"
   ]
  },
  {
   "cell_type": "markdown",
   "metadata": {},
   "source": [
    "Os dados para o problema consistem em\n",
    "- dois vetores (um para os lucros e outro para os pesos)\n",
    "- a capacidade da mochila."
   ]
  },
  {
   "cell_type": "markdown",
   "metadata": {},
   "source": [
    "Temos cinco objetos:"
   ]
  },
  {
   "cell_type": "code",
   "execution_count": 2,
   "metadata": {},
   "outputs": [],
   "source": [
    "n = 5;"
   ]
  },
  {
   "cell_type": "markdown",
   "metadata": {},
   "source": [
    "Para nosso exemplo, usamos uma capacidade de 10 unidades:"
   ]
  },
  {
   "cell_type": "code",
   "execution_count": 3,
   "metadata": {},
   "outputs": [],
   "source": [
    "capacidade = 10.0;"
   ]
  },
  {
   "cell_type": "markdown",
   "metadata": {},
   "source": [
    "e os dados de lucro e peso:"
   ]
  },
  {
   "cell_type": "code",
   "execution_count": 4,
   "metadata": {},
   "outputs": [],
   "source": [
    "lucro = [5.0, 3.0, 2.0, 7.0, 4.0];\n",
    "peso = [2.0, 8.0, 4.0, 2.0, 5.0];"
   ]
  },
  {
   "cell_type": "markdown",
   "metadata": {},
   "source": [
    "## Formulação JuMP"
   ]
  },
  {
   "cell_type": "markdown",
   "metadata": {},
   "source": [
    "Vamos começar construindo o modelo JuMP para o problema da mochila."
   ]
  },
  {
   "cell_type": "markdown",
   "metadata": {},
   "source": [
    "Primeiro, vamos criar um objeto `Model` para armazenar os elementos do modelo enquanto\n",
    "construímos cada parte.\n",
    "\n",
    "Também definimos o _solver_ que será chamado para resolver o modelo."
   ]
  },
  {
   "cell_type": "code",
   "execution_count": 5,
   "metadata": {},
   "outputs": [
    {
     "data": {
      "text/plain": [
       "A JuMP Model\n",
       "├ solver: HiGHS\n",
       "├ objective_sense: FEASIBILITY_SENSE\n",
       "├ num_variables: 0\n",
       "├ num_constraints: 0\n",
       "└ Names registered in the model: none"
      ]
     },
     "execution_count": 5,
     "metadata": {},
     "output_type": "execute_result"
    }
   ],
   "source": [
    "modelo = Model(HiGHS.Optimizer)"
   ]
  },
  {
   "cell_type": "markdown",
   "metadata": {},
   "source": [
    "Em seguida, precisamos das variáveis de decisão que representam quais itens são escolhidos:"
   ]
  },
  {
   "cell_type": "code",
   "execution_count": 6,
   "metadata": {},
   "outputs": [
    {
     "data": {
      "text/plain": [
       "5-element Vector{VariableRef}:\n",
       " x[1]\n",
       " x[2]\n",
       " x[3]\n",
       " x[4]\n",
       " x[5]"
      ]
     },
     "execution_count": 6,
     "metadata": {},
     "output_type": "execute_result"
    }
   ],
   "source": [
    "# [1:n] indica que o vetor x tem tamanho n\n",
    "# Bin indica que x será uma variável binária\n",
    "@variable(modelo, x[1:n], Bin)"
   ]
  },
  {
   "cell_type": "markdown",
   "metadata": {},
   "source": [
    "Vamos construir a restrição que limita o peso total a ser menor ou igual à capacidade dada:"
   ]
  },
  {
   "cell_type": "code",
   "execution_count": 7,
   "metadata": {},
   "outputs": [
    {
     "data": {
      "text/latex": [
       "$$ 2 x_{1} + 8 x_{2} + 4 x_{3} + 2 x_{4} + 5 x_{5} \\leq 10 $$"
      ],
      "text/plain": [
       "2 x[1] + 8 x[2] + 4 x[3] + 2 x[4] + 5 x[5] <= 10"
      ]
     },
     "execution_count": 7,
     "metadata": {},
     "output_type": "execute_result"
    }
   ],
   "source": [
    "@constraint(modelo, sum(peso[i] * x[i] for i in 1:n) <= capacidade)"
   ]
  },
  {
   "cell_type": "markdown",
   "metadata": {},
   "source": [
    "Finalmente, o objetivo é maximizar o lucro total dos itens escolhidos:"
   ]
  },
  {
   "cell_type": "code",
   "execution_count": 8,
   "metadata": {},
   "outputs": [
    {
     "data": {
      "text/latex": [
       "$ 5 x_{1} + 3 x_{2} + 2 x_{3} + 7 x_{4} + 4 x_{5} $"
      ],
      "text/plain": [
       "5 x[1] + 3 x[2] + 2 x[3] + 7 x[4] + 4 x[5]"
      ]
     },
     "execution_count": 8,
     "metadata": {},
     "output_type": "execute_result"
    }
   ],
   "source": [
    "@objective(modelo, Max, sum(lucro[i] * x[i] for i in 1:n))"
   ]
  },
  {
   "cell_type": "markdown",
   "metadata": {},
   "source": [
    "Vamos imprimir uma descrição legível do modelo e verificar se ele\n",
    "está conforme o esperado:"
   ]
  },
  {
   "cell_type": "code",
   "execution_count": 9,
   "metadata": {},
   "outputs": [
    {
     "data": {
      "text/latex": [
       "$$ \\begin{aligned}\n",
       "\\max\\quad & 5 x_{1} + 3 x_{2} + 2 x_{3} + 7 x_{4} + 4 x_{5}\\\\\n",
       "\\text{Subject to} \\quad & 2 x_{1} + 8 x_{2} + 4 x_{3} + 2 x_{4} + 5 x_{5} \\leq 10\\\\\n",
       " & x_{1} \\in \\{0, 1\\}\\\\\n",
       " & x_{2} \\in \\{0, 1\\}\\\\\n",
       " & x_{3} \\in \\{0, 1\\}\\\\\n",
       " & x_{4} \\in \\{0, 1\\}\\\\\n",
       " & x_{5} \\in \\{0, 1\\}\\\\\n",
       "\\end{aligned} $$"
      ]
     },
     "metadata": {},
     "output_type": "display_data"
    }
   ],
   "source": [
    "print(modelo)"
   ]
  },
  {
   "cell_type": "markdown",
   "metadata": {},
   "source": [
    "Agora podemos resolver o problema de otimização:"
   ]
  },
  {
   "cell_type": "code",
   "execution_count": 10,
   "metadata": {},
   "outputs": [
    {
     "name": "stdout",
     "output_type": "stream",
     "text": [
      "Running HiGHS 1.8.1 (git hash: 4a7f24ac6): Copyright (c) 2024 HiGHS under MIT licence terms\n",
      "Coefficient ranges:\n",
      "  Matrix [2e+00, 8e+00]\n",
      "  Cost   [2e+00, 7e+00]\n",
      "  Bound  [1e+00, 1e+00]\n",
      "  RHS    [1e+01, 1e+01]\n",
      "Presolving model\n",
      "1 rows, 5 cols, 5 nonzeros  0s\n",
      "1 rows, 4 cols, 4 nonzeros  0s\n",
      "Objective function is integral with scale 1\n",
      "\n",
      "Solving MIP model with:\n",
      "   1 rows\n",
      "   4 cols (4 binary, 0 integer, 0 implied int., 0 continuous)\n",
      "   4 nonzeros\n",
      "\n",
      "Src: B => Branching; C => Central rounding; F => Feasibility pump; H => Heuristic; L => Sub-MIP;\n",
      "     P => Empty MIP; R => Randomized rounding; S => Solve LP; T => Evaluate node; U => Unbounded;\n",
      "     z => Trivial zero; l => Trivial lower; u => Trivial upper; p => Trivial point\n",
      "\n",
      "        Nodes      |    B&B Tree     |            Objective Bounds              |  Dynamic Constraints |       Work      \n",
      "Src  Proc. InQueue |  Leaves   Expl. | BestBound       BestSol              Gap |   Cuts   InLp Confl. | LpIters     Time\n",
      "\n",
      " z       0       0         0   0.00%   inf             -0                 Large        0     -1      0         0     0.0s\n",
      "MIP-Timing:       0.016 - starting analytic centre calculation\n",
      " T       0       0         0 100.00%   18              16                12.50%        0      0      0         1     0.0s\n",
      "         1       0         1 100.00%   16              16                 0.00%        0      0      0         1     0.0s\n",
      "\n",
      "Solving report\n",
      "  Status            Optimal\n",
      "  Primal bound      16\n",
      "  Dual bound        16\n",
      "  Gap               0% (tolerance: 0.01%)\n",
      "  P-D integral      4.97698783875e-06\n",
      "  Solution status   feasible\n",
      "                    16 (objective)\n",
      "                    0 (bound viol.)\n",
      "                    0 (int. viol.)\n",
      "                    0 (row viol.)\n",
      "  Timing            0.04 (total)\n",
      "                    0.00 (presolve)\n",
      "                    0.00 (solve)\n",
      "                    0.00 (postsolve)\n",
      "  Max sub-MIP depth 0\n",
      "  Nodes             1\n",
      "  Repair LPs        0 (0 feasible; 0 iterations)\n",
      "  LP iterations     1 (total)\n",
      "                    0 (strong br.)\n",
      "                    0 (separation)\n",
      "                    0 (heuristics)\n"
     ]
    }
   ],
   "source": [
    "# Aqui, veremos as mensagens do solver\n",
    "# Isto pode ser desativado com set_silent(modelo)\n",
    "optimize!(modelo)"
   ]
  },
  {
   "cell_type": "markdown",
   "metadata": {},
   "source": [
    "E ver algumas informações mais gerais sobre a solução:"
   ]
  },
  {
   "cell_type": "code",
   "execution_count": 11,
   "metadata": {},
   "outputs": [
    {
     "data": {
      "text/plain": [
       "* Solver : HiGHS\n",
       "\n",
       "* Status\n",
       "  Result count       : 1\n",
       "  Termination status : OPTIMAL\n",
       "  Message from the solver:\n",
       "  \"kHighsModelStatusOptimal\"\n",
       "\n",
       "* Candidate solution (result #1)\n",
       "  Primal status      : FEASIBLE_POINT\n",
       "  Dual status        : NO_SOLUTION\n",
       "  Objective value    : 1.60000e+01\n",
       "  Objective bound    : 1.60000e+01\n",
       "  Relative gap       : 0.00000e+00\n",
       "  Dual objective value : NaN\n",
       "\n",
       "* Work counters\n",
       "  Solve time (sec)   : 3.87073e-02\n",
       "  Simplex iterations : 1\n",
       "  Barrier iterations : -1\n",
       "  Node count         : 1\n"
      ]
     },
     "execution_count": 11,
     "metadata": {},
     "output_type": "execute_result"
    }
   ],
   "source": [
    "solution_summary(modelo)"
   ]
  },
  {
   "cell_type": "markdown",
   "metadata": {},
   "source": [
    "Os itens escolhidos são"
   ]
  },
  {
   "cell_type": "code",
   "execution_count": 12,
   "metadata": {},
   "outputs": [
    {
     "data": {
      "text/plain": [
       "3-element Vector{Int64}:\n",
       " 1\n",
       " 4\n",
       " 5"
      ]
     },
     "execution_count": 12,
     "metadata": {},
     "output_type": "execute_result"
    }
   ],
   "source": [
    "itens_escolhidos = [i for i in 1:n if value(x[i]) > 0.5]"
   ]
  },
  {
   "cell_type": "markdown",
   "metadata": {},
   "source": [
    "Note que não comparamos com $1$, nem com $0$, mas com $0.5$.\n",
    "\n",
    "Em um problema de maior porte, o _solver_ poderia não retornar exatamente $0$ e $1$, mas valores próximos."
   ]
  },
  {
   "cell_type": "code",
   "execution_count": 13,
   "metadata": {},
   "outputs": [
    {
     "data": {
      "text/plain": [
       "5-element Vector{Float64}:\n",
       "  1.0\n",
       "  0.0\n",
       " -0.0\n",
       "  1.0\n",
       "  1.0"
      ]
     },
     "execution_count": 13,
     "metadata": {},
     "output_type": "execute_result"
    }
   ],
   "source": [
    "value.(x)"
   ]
  },
  {
   "cell_type": "markdown",
   "metadata": {},
   "source": [
    "## Escrevendo uma função"
   ]
  },
  {
   "cell_type": "markdown",
   "metadata": {},
   "source": [
    "Após trabalhar interativamente, é uma boa ideia implementar o modelo em uma função.\n",
    "Assim, podemos\n",
    "1. garantir que o modelo receberá dados de entrada com tipos bem definidos;\n",
    "2. realizar a validação dos dados;\n",
    "3. certificar que o processo de solução ocorreu conforme o esperado;\n",
    "4. retornar os resultados de forma organizada;\n",
    "5. reutilizar o modelo sem repetir código."
   ]
  },
  {
   "cell_type": "code",
   "execution_count": 14,
   "metadata": {},
   "outputs": [
    {
     "name": "stdout",
     "output_type": "stream",
     "text": [
      "O valor ótimo é 16.0\n",
      "A solução é:\n",
      "  x[1] = 1, c[1] / w[1] = 2.5\n",
      "  x[2] = 0, c[2] / w[2] = 0.375\n",
      "  x[3] = 0, c[3] / w[3] = 0.5\n",
      "  x[4] = 1, c[4] / w[4] = 3.5\n",
      "  x[5] = 1, c[5] / w[5] = 0.8\n"
     ]
    },
    {
     "data": {
      "text/plain": [
       "3-element Vector{Int64}:\n",
       " 1\n",
       " 4\n",
       " 5"
      ]
     },
     "execution_count": 14,
     "metadata": {},
     "output_type": "execute_result"
    }
   ],
   "source": [
    "function resolver_problema_mochila(;\n",
    "    lucro::Vector{Float64},\n",
    "    peso::Vector{Float64},\n",
    "    capacidade::Float64,\n",
    ")\n",
    "    n = length(peso)\n",
    "    # Os vetores de lucro e peso devem ter o mesmo comprimento.\n",
    "    @assert length(lucro) == n\n",
    "    \n",
    "    modelo = Model(HiGHS.Optimizer)\n",
    "    set_silent(modelo)\n",
    "    @variable(modelo, x[1:n], Bin)\n",
    "    @objective(modelo, Max, lucro' * x)\n",
    "    @constraint(modelo, peso' * x <= capacidade)\n",
    "    \n",
    "    optimize!(modelo)\n",
    "    @assert termination_status(modelo) == OPTIMAL\n",
    "    @assert primal_status(modelo) == FEASIBLE_POINT\n",
    "    \n",
    "    println(\"O valor ótimo é \", objective_value(modelo))\n",
    "    println(\"A solução é:\")\n",
    "    for i in 1:n\n",
    "        print(\"  x[$i] = \", round(Int, value(x[i])))\n",
    "        println(\", c[$i] / w[$i] = \", lucro[i] / peso[i])\n",
    "    end\n",
    "    \n",
    "    itens_escolhidos = [i for i in 1:n if value(x[i]) > 0.5]\n",
    "    return itens_escolhidos\n",
    "end\n",
    "\n",
    "itens = resolver_problema_mochila(; lucro = lucro, peso = peso, capacidade = capacidade)"
   ]
  },
  {
   "cell_type": "markdown",
   "metadata": {},
   "source": [
    "Note que, neste exemplo, os itens escolhidos (1, 4, e 5) são os que têm o maior \"lucro por quilo\".\n",
    "\n",
    "A mochila ficou ao todo com 9 quilos: abaixo da capacidade de 10 quilos, mas sem espaço para mais um item."
   ]
  },
  {
   "cell_type": "code",
   "execution_count": 15,
   "metadata": {},
   "outputs": [
    {
     "data": {
      "text/plain": [
       "9.0"
      ]
     },
     "execution_count": 15,
     "metadata": {},
     "output_type": "execute_result"
    }
   ],
   "source": [
    "sum(peso[itens])"
   ]
  },
  {
   "cell_type": "markdown",
   "metadata": {},
   "source": [
    "## Exercícios"
   ]
  },
  {
   "cell_type": "markdown",
   "metadata": {},
   "source": [
    "* Use dados diferentes\n",
    "  - O que acontece ao aumentar a capacidade?\n",
    "  - Será que você consegue construir um exemplo onde um item de \"alto lucro por quilo\" não é escolhido (mas que caberia na mochila sozinho)?\n",
    "* Em vez de criar uma variável binária com `Bin`, poderíamos ter usado\n",
    "  `@variable(model, 0 <= x[1:n] <= 1, Int)`.\n",
    "  Veja que esta formulação dá a mesma solução.\n",
    "  - O que acontece se deixamos usar 2 de cada item?\n",
    "  - E se não houver limite para o número de itens? (Dica: basta não dar um limite superior para as variáveis `x`.)"
   ]
  }
 ],
 "metadata": {
  "kernelspec": {
   "display_name": "Julia 1.10.5",
   "language": "julia",
   "name": "julia-1.10"
  },
  "language_info": {
   "file_extension": ".jl",
   "mimetype": "application/julia",
   "name": "julia",
   "version": "1.10.5"
  }
 },
 "nbformat": 4,
 "nbformat_minor": 3
}
