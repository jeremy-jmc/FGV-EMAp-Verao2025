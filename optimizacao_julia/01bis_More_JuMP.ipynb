{
 "cells": [
  {
   "cell_type": "markdown",
   "metadata": {},
   "source": [
    "# Mais detalhes sobre a biblioteca JuMP"
   ]
  },
  {
   "cell_type": "markdown",
   "metadata": {},
   "source": [
    "O objetivo deste tutorial é demonstrar alguns recursos extras da biblioteca JuMP:\n",
    "- A descrição (e solução) de problemas não-lineares\n",
    "- O uso de valores iniciais como \"dica\" para o solver\n",
    "- A construção de um modelo sem solver"
   ]
  },
  {
   "cell_type": "markdown",
   "metadata": {},
   "source": [
    "## Pacotes necessários"
   ]
  },
  {
   "cell_type": "markdown",
   "metadata": {},
   "source": [
    "Este tutorial requer os seguintes pacotes:"
   ]
  },
  {
   "cell_type": "code",
   "execution_count": 1,
   "metadata": {},
   "outputs": [],
   "source": [
    "using JuMP\n",
    "import HiGHS\n",
    "import Ipopt"
   ]
  },
  {
   "cell_type": "markdown",
   "metadata": {},
   "source": [
    "## Valores iniciais para as variáveis"
   ]
  },
  {
   "cell_type": "markdown",
   "metadata": {},
   "source": [
    "Vamos continuar o problema da mochila:\n",
    "$$\n",
    "\\begin{aligned}\n",
    "\\max \\; & c^\\top x       \\\\\n",
    "\\text{s.t.} \\; & w^\\top x \\le C \\\\\n",
    "        & x \\text{ binária }.\n",
    "\\end{aligned}\n",
    "$$\n",
    "\n",
    "Agora, iremos usar uma formulação alternativa para a restrição binária: Vamos usar que $x^2 = x \\Leftrightarrow x \\in \\{0,1\\}$.\n",
    "Também incluiremos a restrição $0 \\leq x \\leq 1$."
   ]
  },
  {
   "cell_type": "markdown",
   "metadata": {},
   "source": [
    "### Dados"
   ]
  },
  {
   "cell_type": "code",
   "execution_count": 2,
   "metadata": {},
   "outputs": [],
   "source": [
    "n = 5;\n",
    "capacidade = 10.0;\n",
    "lucro = [5.0, 3.0, 2.0, 7.0, 4.0];\n",
    "peso = [2.0, 8.0, 4.0, 2.0, 5.0];"
   ]
  },
  {
   "cell_type": "markdown",
   "metadata": {},
   "source": [
    "### Formulação JuMP\n",
    "\n",
    "Podemos, diretamente na construção do modelo, dar um valor inicial para as variáveis, usando a sintaxe `start = VALOR`."
   ]
  },
  {
   "cell_type": "code",
   "execution_count": 3,
   "metadata": {},
   "outputs": [],
   "source": [
    "modelo = Model(Ipopt.Optimizer)\n",
    "@variable(modelo, 0 <= x[1:n] <= 1, start=1.0)\n",
    "@constraint(modelo, sum(peso[i] * x[i] for i in 1:n) <= capacidade)\n",
    "@constraint(modelo, x.^2 .== x)\n",
    "@objective(modelo, Max, sum(lucro[i] * x[i] for i in 1:n));"
   ]
  },
  {
   "cell_type": "markdown",
   "metadata": {},
   "source": [
    "No caso de uma variável vetorial, como feito acima, demos o mesmo valor inicial para todas as coordenadas.\n",
    "\n",
    "Também seria possível dar valores iniciais diferentes, por exemplo usando\n",
    "\n",
    "```julia\n",
    "x_start = [1, 0, 1, 0, 1]\n",
    "@variable(modelo, 0 <= x[i=1:n] <= 1, start=x_start[i])\n",
    "```\n",
    "\n",
    "Note que também indicamos um índice (o `i`) para a variável, o que é necessário para que o JuMP possa gerar valores diferentes para cada coordenada na expressão depois de `start`."
   ]
  },
  {
   "cell_type": "code",
   "execution_count": 4,
   "metadata": {},
   "outputs": [
    {
     "data": {
      "text/latex": [
       "$$ \\begin{aligned}\n",
       "\\max\\quad & 5 x_{1} + 3 x_{2} + 2 x_{3} + 7 x_{4} + 4 x_{5}\\\\\n",
       "\\text{Subject to} \\quad & 2 x_{1} + 8 x_{2} + 4 x_{3} + 2 x_{4} + 5 x_{5} \\leq 10\\\\\n",
       " & x_{1}^2 - x_{1} = 0\\\\\n",
       " & x_{2}^2 - x_{2} = 0\\\\\n",
       " & x_{3}^2 - x_{3} = 0\\\\\n",
       " & x_{4}^2 - x_{4} = 0\\\\\n",
       " & x_{5}^2 - x_{5} = 0\\\\\n",
       " & x_{1} \\geq 0\\\\\n",
       " & x_{2} \\geq 0\\\\\n",
       " & x_{3} \\geq 0\\\\\n",
       " & x_{4} \\geq 0\\\\\n",
       " & x_{5} \\geq 0\\\\\n",
       " & x_{1} \\leq 1\\\\\n",
       " & x_{2} \\leq 1\\\\\n",
       " & x_{3} \\leq 1\\\\\n",
       " & x_{4} \\leq 1\\\\\n",
       " & x_{5} \\leq 1\\\\\n",
       "\\end{aligned} $$"
      ]
     },
     "metadata": {},
     "output_type": "display_data"
    }
   ],
   "source": [
    "print(modelo)"
   ]
  },
  {
   "cell_type": "markdown",
   "metadata": {},
   "source": [
    "Vamos resolver com este ponto inicial:"
   ]
  },
  {
   "cell_type": "code",
   "execution_count": 5,
   "metadata": {},
   "outputs": [
    {
     "name": "stdout",
     "output_type": "stream",
     "text": [
      "\n",
      "******************************************************************************\n",
      "This program contains Ipopt, a library for large-scale nonlinear optimization.\n",
      " Ipopt is released as open source code under the Eclipse Public License (EPL).\n",
      "         For more information visit https://github.com/coin-or/Ipopt\n",
      "******************************************************************************\n",
      "\n",
      "This is Ipopt version 3.14.17, running with linear solver MUMPS 5.7.3.\n",
      "\n",
      "Number of nonzeros in equality constraint Jacobian...:       10\n",
      "Number of nonzeros in inequality constraint Jacobian.:        5\n",
      "Number of nonzeros in Lagrangian Hessian.............:        5\n",
      "\n",
      "Total number of variables............................:        5\n",
      "                     variables with only lower bounds:        0\n",
      "                variables with lower and upper bounds:        5\n",
      "                     variables with only upper bounds:        0\n",
      "Total number of equality constraints.................:        5\n",
      "Total number of inequality constraints...............:        1\n",
      "        inequality constraints with only lower bounds:        0\n",
      "   inequality constraints with lower and upper bounds:        0\n",
      "        inequality constraints with only upper bounds:        1\n",
      "\n",
      "iter    objective    inf_pr   inf_du lg(mu)  ||d||  lg(rg) alpha_du alpha_pr  ls\n",
      "   0  2.0790000e+01 1.08e+01 7.00e+00  -1.0 0.00e+00    -  0.00e+00 0.00e+00   0\n",
      "   1  2.0791892e+01 1.08e+01 1.11e+02  -1.0 1.11e+01    -  1.00e+00 8.92e-03h  1\n",
      "   2  2.0791911e+01 1.08e+01 1.23e+06  -1.0 1.10e+01    -  1.00e+00 9.00e-05h  1\n",
      "   3r 2.0791911e+01 1.08e+01 1.00e+03   1.0 0.00e+00    -  0.00e+00 4.50e-07R  2\n",
      "   4r 2.0291161e+01 1.01e+01 8.33e+02   1.0 4.22e+00    -  7.38e-02 1.67e-01f  1\n",
      "   5r 2.0086634e+01 9.16e+00 8.71e+02   1.0 1.42e+01   2.0 2.59e-02 6.55e-02f  1\n",
      "   6r 1.8488607e+01 5.10e+00 2.59e+03   1.0 4.04e+00   2.4 1.12e-01 1.00e+00f  1\n",
      "   7r 1.8345977e+01 4.92e+00 1.25e+03   1.0 2.20e-01   3.8 1.00e+00 1.00e+00f  1\n",
      "   8r 1.7419749e+01 2.54e+00 1.20e+03   1.0 9.10e+01    -  6.34e-02 2.62e-02f  1\n",
      "   9r 1.7238132e+01 2.31e+00 1.17e+03   1.0 9.97e+00    -  3.03e-02 2.33e-02f  1\n",
      "iter    objective    inf_pr   inf_du lg(mu)  ||d||  lg(rg) alpha_du alpha_pr  ls\n",
      "  10r 1.6763603e+01 1.84e+00 8.23e+02   1.0 4.34e-01   3.3 1.00e+00 1.00e+00f  1\n",
      "  11r 1.5902766e+01 7.17e-01 9.05e+02   1.0 1.47e+00   2.8 4.46e-01 7.49e-01f  1\n",
      "  12r 1.5272188e+01 2.27e-01 9.68e+02   1.0 7.56e+00   2.3 2.13e-01 1.05e-01f  1\n",
      "  13r 1.5059016e+01 2.04e-01 1.63e+02   1.0 2.91e-01   2.7 1.00e+00 1.00e+00f  1\n",
      "  14r 1.4341965e+01 1.38e-01 4.05e+02   0.3 1.01e+01    -  1.45e-02 3.99e-02f  1\n",
      "  15r 1.3999775e+01 2.38e-02 2.97e+02   0.3 3.03e+00    -  1.82e-01 3.77e-01f  1\n",
      "  16r 1.3949643e+01 1.57e-02 4.67e+02   0.3 3.39e-01   3.2 2.86e-01 8.08e-02f  1\n",
      "  17r 1.3983632e+01 1.80e-02 9.77e+02   0.3 1.00e-01    -  1.00e+00 2.55e-01f  1\n",
      "  18r 1.3955954e+01 3.97e-03 2.60e+00   0.3 5.57e-02    -  1.00e+00 1.00e+00f  1\n",
      "  19r 1.3999673e+01 6.45e-05 1.39e+00  -1.8 1.15e-02    -  9.94e-01 9.88e-01f  1\n",
      "iter    objective    inf_pr   inf_du lg(mu)  ||d||  lg(rg) alpha_du alpha_pr  ls\n",
      "  20r 1.3999775e+01 3.04e-05 9.40e-03  -1.8 2.15e-04    -  1.00e+00 1.00e+00f  1\n",
      "  21r 1.3999999e+01 1.80e-07 1.20e-01  -4.0 1.26e-04    -  1.00e+00 1.00e+00f  1\n",
      "  22r 1.3999999e+01 1.81e-07 6.59e-07  -4.0 2.81e-09    -  1.00e+00 1.00e+00h  1\n",
      "  23r 1.4000000e+01 2.08e-09 1.47e-01  -5.9 9.23e-07    -  1.00e+00 9.87e-01f  1\n",
      "\n",
      "Number of Iterations....: 23\n",
      "\n",
      "                                   (scaled)                 (unscaled)\n",
      "Objective...............:  -1.4000000014499996e+01    1.4000000014499996e+01\n",
      "Dual infeasibility......:   4.9151668314315541e-15    4.9151668314315541e-15\n",
      "Constraint violation....:   2.0755482200358097e-09    2.0755482200358097e-09\n",
      "Variable bound violation:   2.0755482157279094e-09    2.0755482157279094e-09\n",
      "Complementarity.........:   0.0000000000000000e+00    0.0000000000000000e+00\n",
      "Overall NLP error.......:   2.0755482200358097e-09    2.0755482200358097e-09\n",
      "\n",
      "\n",
      "Number of objective function evaluations             = 26\n",
      "Number of objective gradient evaluations             = 5\n",
      "Number of equality constraint evaluations            = 26\n",
      "Number of inequality constraint evaluations          = 26\n",
      "Number of equality constraint Jacobian evaluations   = 25\n",
      "Number of inequality constraint Jacobian evaluations = 25\n",
      "Number of Lagrangian Hessian evaluations             = 23\n",
      "Total seconds in IPOPT                               = 0.030\n",
      "\n",
      "EXIT: Optimal Solution Found.\n"
     ]
    }
   ],
   "source": [
    "optimize!(modelo)"
   ]
  },
  {
   "cell_type": "markdown",
   "metadata": {},
   "source": [
    "E ver algumas informações mais gerais sobre a solução:"
   ]
  },
  {
   "cell_type": "code",
   "execution_count": 6,
   "metadata": {},
   "outputs": [
    {
     "data": {
      "text/plain": [
       "* Solver : Ipopt\n",
       "\n",
       "* Status\n",
       "  Result count       : 1\n",
       "  Termination status : LOCALLY_SOLVED\n",
       "  Message from the solver:\n",
       "  \"Solve_Succeeded\"\n",
       "\n",
       "* Candidate solution (result #1)\n",
       "  Primal status      : FEASIBLE_POINT\n",
       "  Dual status        : FEASIBLE_POINT\n",
       "  Objective value    : 1.40000e+01\n",
       "  Dual objective value : 4.91517e-14\n",
       "\n",
       "* Work counters\n",
       "  Solve time (sec)   : 3.09999e-02\n",
       "  Barrier iterations : 23\n"
      ]
     },
     "execution_count": 6,
     "metadata": {},
     "output_type": "execute_result"
    }
   ],
   "source": [
    "solution_summary(modelo)"
   ]
  },
  {
   "cell_type": "markdown",
   "metadata": {},
   "source": [
    "Os itens escolhidos são"
   ]
  },
  {
   "cell_type": "code",
   "execution_count": 7,
   "metadata": {},
   "outputs": [
    {
     "data": {
      "text/plain": [
       "3-element Vector{Int64}:\n",
       " 1\n",
       " 3\n",
       " 4"
      ]
     },
     "execution_count": 7,
     "metadata": {},
     "output_type": "execute_result"
    }
   ],
   "source": [
    "itens_escolhidos = [i for i in 1:n if value(x[i]) > 0.5]"
   ]
  },
  {
   "cell_type": "markdown",
   "metadata": {},
   "source": [
    "Também é possível modificar o valor inicial das variáveis de decisão, o que pode mudar a solução do problema:"
   ]
  },
  {
   "cell_type": "code",
   "execution_count": 8,
   "metadata": {},
   "outputs": [
    {
     "data": {
      "text/plain": [
       "5-element Vector{Nothing}:\n",
       " nothing\n",
       " nothing\n",
       " nothing\n",
       " nothing\n",
       " nothing"
      ]
     },
     "execution_count": 8,
     "metadata": {},
     "output_type": "execute_result"
    }
   ],
   "source": [
    "set_start_value.(x, 0.5)"
   ]
  },
  {
   "cell_type": "code",
   "execution_count": 9,
   "metadata": {},
   "outputs": [
    {
     "name": "stdout",
     "output_type": "stream",
     "text": [
      "This is Ipopt version 3.14.17, running with linear solver MUMPS 5.7.3.\n",
      "\n",
      "Number of nonzeros in equality constraint Jacobian...:       10\n",
      "Number of nonzeros in inequality constraint Jacobian.:        5\n",
      "Number of nonzeros in Lagrangian Hessian.............:        5\n",
      "\n",
      "Total number of variables............................:        5\n",
      "                     variables with only lower bounds:        0\n",
      "                variables with lower and upper bounds:        5\n",
      "                     variables with only upper bounds:        0\n",
      "Total number of equality constraints.................:        5\n",
      "Total number of inequality constraints...............:        1\n",
      "        inequality constraints with only lower bounds:        0\n",
      "   inequality constraints with lower and upper bounds:        0\n",
      "        inequality constraints with only upper bounds:        1\n",
      "\n",
      "iter    objective    inf_pr   inf_du lg(mu)  ||d||  lg(rg) alpha_du alpha_pr  ls\n",
      "   0  1.0500000e+01 5.00e-01 7.00e+00  -1.0 0.00e+00    -  0.00e+00 0.00e+00   0\n",
      "   1  1.4928235e+01 2.77e-01 1.55e+07  -1.0 1.40e+00    -  2.75e-01 3.53e-01f  1\n",
      "   2  1.5143395e+01 3.75e-01 1.51e+07  -1.0 3.57e+00    -  1.76e-01 3.07e-02h  1\n",
      "   3  1.5796975e+01 9.22e-02 2.64e+07  -1.0 1.65e+00    -  6.71e-04 3.92e-01f  1\n",
      "   4  1.5981696e+01 2.64e-03 2.60e+06  -1.0 4.38e-01    -  1.00e+00 8.77e-01h  1\n",
      "   5  1.5999812e+01 2.64e-05 2.44e+04  -1.0 3.24e-02    -  1.00e+00 9.87e-01h  1\n",
      "   6  1.5999998e+01 2.54e-07 2.61e+02  -1.0 3.91e-04    -  1.00e+00 9.90e-01h  1\n",
      "   7  1.6000000e+01 6.46e-14 8.88e-16  -1.0 3.77e-06    -  1.00e+00 1.00e+00h  1\n",
      "\n",
      "Number of Iterations....: 7\n",
      "\n",
      "                                   (scaled)                 (unscaled)\n",
      "Objective...............:  -1.6000000000000412e+01    1.6000000000000412e+01\n",
      "Dual infeasibility......:   8.8817841970012523e-16    8.8817841970012523e-16\n",
      "Constraint violation....:   6.4614980033184111e-14    6.4614980033184111e-14\n",
      "Variable bound violation:   6.4614980033184111e-14    6.4614980033184111e-14\n",
      "Complementarity.........:   0.0000000000000000e+00    0.0000000000000000e+00\n",
      "Overall NLP error.......:   6.4614980033184111e-14    6.4614980033184111e-14\n",
      "\n",
      "\n",
      "Number of objective function evaluations             = 8\n",
      "Number of objective gradient evaluations             = 8\n",
      "Number of equality constraint evaluations            = 8\n",
      "Number of inequality constraint evaluations          = 8\n",
      "Number of equality constraint Jacobian evaluations   = 8\n",
      "Number of inequality constraint Jacobian evaluations = 8\n",
      "Number of Lagrangian Hessian evaluations             = 7\n",
      "Total seconds in IPOPT                               = 0.004\n",
      "\n",
      "EXIT: Optimal Solution Found.\n"
     ]
    }
   ],
   "source": [
    "optimize!(modelo)"
   ]
  },
  {
   "cell_type": "code",
   "execution_count": 10,
   "metadata": {},
   "outputs": [
    {
     "data": {
      "text/plain": [
       "3-element Vector{Int64}:\n",
       " 1\n",
       " 4\n",
       " 5"
      ]
     },
     "execution_count": 10,
     "metadata": {},
     "output_type": "execute_result"
    }
   ],
   "source": [
    "itens_escolhidos = [i for i in 1:n if value(x[i]) > 0.5]"
   ]
  },
  {
   "cell_type": "markdown",
   "metadata": {},
   "source": [
    "## Exercícios\n",
    "\n",
    "* Teste outros valores iniciais, como por exemplo $0$, ou um vetor de condições iniciais como [0, 1, 1, 0, 0]. O que você observa?"
   ]
  },
  {
   "cell_type": "markdown",
   "metadata": {},
   "source": [
    "## A função de Rosenbrock\n",
    "\n",
    "O problema de Rosenbrock é um problema clássico de otimização não-linear:\n",
    "$$\n",
    "\\min\\limits_{x,y} \\quad (1-x)^2 + 100(y-x^2)^2\n",
    "$$\n"
   ]
  },
  {
   "cell_type": "code",
   "execution_count": 11,
   "metadata": {},
   "outputs": [
    {
     "data": {
      "text/latex": [
       "$$ \\begin{aligned}\n",
       "\\min\\quad & {\\left(x^2 - 2 x + 1\\right)} + {\\left({\\left(-x^2 + y\\right)} ^ {2.0}\\right)}\\\\\n",
       "\\end{aligned} $$"
      ]
     },
     "metadata": {},
     "output_type": "display_data"
    }
   ],
   "source": [
    "m = JuMP.Model()\n",
    "@variable(m, x)\n",
    "@variable(m, y)\n",
    "@objective(m, Min, (x - 1)^2 + 100*(y - x^2)^2)\n",
    "print(m)"
   ]
  },
  {
   "cell_type": "code",
   "execution_count": 12,
   "metadata": {},
   "outputs": [
    {
     "name": "stdout",
     "output_type": "stream",
     "text": [
      "Running HiGHS 1.8.1 (git hash: 4a7f24ac6): Copyright (c) 2024 HiGHS under MIT licence terms\n"
     ]
    },
    {
     "name": "stderr",
     "output_type": "stream",
     "text": [
      "MathOptInterface.UnsupportedAttribute{MathOptInterface.ObjectiveFunction{MathOptInterface.ScalarNonlinearFunction}}: Attribute MathOptInterface.ObjectiveFunction{MathOptInterface.ScalarNonlinearFunction}() is not supported by the model."
     ]
    }
   ],
   "source": [
    "# A função objetivo é não-linear, e, mais, não quadrática, e o HiGHS não suporta isso\n",
    "try\n",
    "    set_optimizer(m, HiGHS.Optimizer)\n",
    "    optimize!(m)\n",
    "catch err\n",
    "    showerror(stderr, err)\n",
    "end\n"
   ]
  },
  {
   "cell_type": "code",
   "execution_count": 13,
   "metadata": {},
   "outputs": [
    {
     "name": "stdout",
     "output_type": "stream",
     "text": [
      "This is Ipopt version 3.14.17, running with linear solver MUMPS 5.7.3.\n",
      "\n",
      "Number of nonzeros in equality constraint Jacobian...:        0\n",
      "Number of nonzeros in inequality constraint Jacobian.:        0\n",
      "Number of nonzeros in Lagrangian Hessian.............:        3\n",
      "\n",
      "Total number of variables............................:        2\n",
      "                     variables with only lower bounds:        0\n",
      "                variables with lower and upper bounds:        0\n",
      "                     variables with only upper bounds:        0\n",
      "Total number of equality constraints.................:        0\n",
      "Total number of inequality constraints...............:        0\n",
      "        inequality constraints with only lower bounds:        0\n",
      "   inequality constraints with lower and upper bounds:        0\n",
      "        inequality constraints with only upper bounds:        0\n",
      "\n",
      "iter    objective    inf_pr   inf_du lg(mu)  ||d||  lg(rg) alpha_du alpha_pr  ls\n",
      "   0  1.0000000e+00 0.00e+00 2.00e+00  -1.0 0.00e+00    -  0.00e+00 0.00e+00   0\n",
      "   1  3.1250000e-01 0.00e+00 5.00e-01  -1.0 1.00e+00    -  1.00e+00 5.00e-01f  2\n",
      "   2  4.0123457e-02 0.00e+00 2.22e-01  -1.7 5.83e-01    -  1.00e+00 1.00e+00f  1\n",
      "   3  1.2640492e-03 0.00e+00 3.72e-02  -1.7 3.38e-01    -  1.00e+00 1.00e+00f  1\n",
      "   4  1.9092551e-06 0.00e+00 1.71e-03  -2.5 7.53e-02    -  1.00e+00 1.00e+00f  1\n",
      "   5  4.8136397e-12 0.00e+00 2.35e-06  -3.8 3.02e-03    -  1.00e+00 1.00e+00f  1\n",
      "   6  1.1759041e-23 0.00e+00 6.86e-12  -8.6 4.88e-06    -  1.00e+00 1.00e+00f  1\n",
      "\n",
      "Number of Iterations....: 6\n",
      "\n",
      "                                   (scaled)                 (unscaled)\n",
      "Objective...............:   1.1759041302817386e-23    1.1759041302817386e-23\n",
      "Dual infeasibility......:   6.8582917123194420e-12    6.8582917123194420e-12\n",
      "Constraint violation....:   0.0000000000000000e+00    0.0000000000000000e+00\n",
      "Variable bound violation:   0.0000000000000000e+00    0.0000000000000000e+00\n",
      "Complementarity.........:   0.0000000000000000e+00    0.0000000000000000e+00\n",
      "Overall NLP error.......:   6.8582917123194420e-12    6.8582917123194420e-12\n",
      "\n",
      "\n",
      "Number of objective function evaluations             = 12\n",
      "Number of objective gradient evaluations             = 7\n",
      "Number of equality constraint evaluations            = 0\n",
      "Number of inequality constraint evaluations          = 0\n",
      "Number of equality constraint Jacobian evaluations   = 0\n",
      "Number of inequality constraint Jacobian evaluations = 0\n",
      "Number of Lagrangian Hessian evaluations             = 6\n",
      "Total seconds in IPOPT                               = 1.931\n",
      "\n",
      "EXIT: Optimal Solution Found.\n"
     ]
    }
   ],
   "source": [
    "set_optimizer(m, Ipopt.Optimizer)\n",
    "optimize!(m)"
   ]
  },
  {
   "cell_type": "code",
   "execution_count": 14,
   "metadata": {},
   "outputs": [
    {
     "data": {
      "text/plain": [
       "2-element Vector{Float64}:\n",
       " 0.9999999999956423\n",
       " 0.9999999999878554"
      ]
     },
     "execution_count": 14,
     "metadata": {},
     "output_type": "execute_result"
    }
   ],
   "source": [
    "value.([x, y])"
   ]
  },
  {
   "cell_type": "markdown",
   "metadata": {},
   "source": [
    "## Exercícios\n",
    "\n",
    "* A função de Rosenbrock pode ser difícil de otimizar numericamente.\n",
    "  Tente resolver o problema com diferentes valores iniciais, e veja se algum converge para diferentes mínimos locais."
   ]
  }
 ],
 "metadata": {
  "kernelspec": {
   "display_name": "Julia 1.10.5",
   "language": "julia",
   "name": "julia-1.10"
  },
  "language_info": {
   "file_extension": ".jl",
   "mimetype": "application/julia",
   "name": "julia",
   "version": "1.10.5"
  }
 },
 "nbformat": 4,
 "nbformat_minor": 3
}
